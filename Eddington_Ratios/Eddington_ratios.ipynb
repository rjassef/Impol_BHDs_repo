{
 "cells": [
  {
   "cell_type": "code",
   "execution_count": 1,
   "metadata": {},
   "outputs": [],
   "source": [
    "import numpy as np\n",
    "from astropy.table import Table\n",
    "from astropy.constants import G, c, m_p, sigma_T, M_sun, L_sun\n",
    "import astropy.units as u"
   ]
  },
  {
   "cell_type": "code",
   "execution_count": 2,
   "metadata": {},
   "outputs": [],
   "source": [
    "tab = Table.read(\"SMBH_masses_and_Lbol_from_Guodong.txt\", format='ascii')"
   ]
  },
  {
   "cell_type": "code",
   "execution_count": 3,
   "metadata": {},
   "outputs": [
    {
     "name": "stdout",
     "output_type": "stream",
     "text": [
      "32838.69330843236\n"
     ]
    }
   ],
   "source": [
    "L_edd_fact = 4*np.pi*G*M_sun*m_p*c/sigma_T/L_sun\n",
    "log_Ledd_fact = np.log10(L_edd_fact)\n",
    "print((L_edd_fact).to(u.dimensionless_unscaled))"
   ]
  },
  {
   "cell_type": "code",
   "execution_count": 4,
   "metadata": {},
   "outputs": [
    {
     "name": "stdout",
     "output_type": "stream",
     "text": [
      "0.447213595499958\n"
     ]
    }
   ],
   "source": [
    "#Get the Eddington luminosities in L_sun units.\n",
    "tab['log_Ledd/Lsun'] = tab['log_MBH/M_sun'] + log_Ledd_fact\n",
    "\n",
    "#Now, get the Eddington ratio. \n",
    "tab['ledd_rat'] = 10**(tab['log_Lbol/L_sun'] - tab['log_Ledd/Lsun'])\n",
    "log_ledd_rat = tab['log_Lbol/L_sun'] - tab['log_Ledd/Lsun']\n",
    "\n",
    "#The Eddington ratio error in log should just be the addition of the 0.4 and 0.2 dex of the MBH and Lbol. \n",
    "log_ledd_rat_err = (0.4**2+0.2**2)**0.5\n",
    "print(log_ledd_rat_err)\n",
    "tab['ledd_rat_err_low'] = tab['ledd_rat'] - 10**(log_ledd_rat-log_ledd_rat_err)\n",
    "tab['ledd_rat_err_hig'] = 10**(log_ledd_rat+log_ledd_rat_err) - tab['ledd_rat']\n"
   ]
  },
  {
   "cell_type": "code",
   "execution_count": 5,
   "metadata": {},
   "outputs": [],
   "source": [
    "tab['log_Ledd/Lsun'].format = '%.1f'\n",
    "tab['ledd_rat'].format = '%.3f'\n",
    "tab['ledd_rat_err_low'].format = '%.3f'\n",
    "tab['ledd_rat_err_hig'].format = '%.3f'"
   ]
  },
  {
   "cell_type": "code",
   "execution_count": 6,
   "metadata": {},
   "outputs": [
    {
     "data": {
      "text/html": [
       "<i>Table length=5</i>\n",
       "<table id=\"table4690686544-204133\" class=\"table-striped table-bordered table-condensed\">\n",
       "<thead><tr><th>idx</th><th>ID</th><th>log_MBH/M_sun</th><th>log_MBH_err</th><th>log_Lbol/L_sun</th><th>log_Lbol_err</th><th>log_Ledd/Lsun</th><th>ledd_rat</th><th>ledd_rat_err_low</th><th>ledd_rat_err_hig</th></tr></thead>\n",
       "<thead><tr><th></th><th></th><th></th><th></th><th></th><th></th><th></th><th></th><th></th><th></th></tr></thead>\n",
       "<tr><td>0</td><td>W0019-1046</td><td>9.8</td><td>0.4</td><td>13.3</td><td>0.2</td><td>14.3</td><td>0.096</td><td>0.062</td><td>0.173</td></tr>\n",
       "<tr><td>1</td><td>W0116-0505</td><td>9.4</td><td>0.4</td><td>14.1</td><td>0.2</td><td>13.9</td><td>1.526</td><td>0.981</td><td>2.748</td></tr>\n",
       "<tr><td>2</td><td>W0204-0506</td><td>8.8</td><td>0.4</td><td>13.7</td><td>0.2</td><td>13.3</td><td>2.419</td><td>1.555</td><td>4.355</td></tr>\n",
       "<tr><td>3</td><td>W0220+0137</td><td>9.3</td><td>0.4</td><td>13.9</td><td>0.2</td><td>13.8</td><td>1.212</td><td>0.779</td><td>2.183</td></tr>\n",
       "<tr><td>4</td><td>W0831+0140</td><td>9.4</td><td>0.4</td><td>14.4</td><td>0.2</td><td>13.9</td><td>3.045</td><td>1.958</td><td>5.482</td></tr>\n",
       "</table><style>table.dataTable {clear: both; width: auto !important; margin: 0 !important;}\n",
       ".dataTables_info, .dataTables_length, .dataTables_filter, .dataTables_paginate{\n",
       "display: inline-block; margin-right: 1em; }\n",
       ".paginate_button { margin-right: 5px; }\n",
       "</style>\n",
       "<script>\n",
       "\n",
       "var astropy_sort_num = function(a, b) {\n",
       "    var a_num = parseFloat(a);\n",
       "    var b_num = parseFloat(b);\n",
       "\n",
       "    if (isNaN(a_num) && isNaN(b_num))\n",
       "        return ((a < b) ? -1 : ((a > b) ? 1 : 0));\n",
       "    else if (!isNaN(a_num) && !isNaN(b_num))\n",
       "        return ((a_num < b_num) ? -1 : ((a_num > b_num) ? 1 : 0));\n",
       "    else\n",
       "        return isNaN(a_num) ? -1 : 1;\n",
       "}\n",
       "\n",
       "require.config({paths: {\n",
       "    datatables: 'https://cdn.datatables.net/1.10.12/js/jquery.dataTables.min'\n",
       "}});\n",
       "require([\"datatables\"], function(){\n",
       "    console.log(\"$('#table4690686544-204133').dataTable()\");\n",
       "    \n",
       "jQuery.extend( jQuery.fn.dataTableExt.oSort, {\n",
       "    \"optionalnum-asc\": astropy_sort_num,\n",
       "    \"optionalnum-desc\": function (a,b) { return -astropy_sort_num(a, b); }\n",
       "});\n",
       "\n",
       "    $('#table4690686544-204133').dataTable({\n",
       "        order: [],\n",
       "        pageLength: 50,\n",
       "        lengthMenu: [[10, 25, 50, 100, 500, 1000, -1], [10, 25, 50, 100, 500, 1000, 'All']],\n",
       "        pagingType: \"full_numbers\",\n",
       "        columnDefs: [{targets: [0, 2, 3, 4, 5, 6, 7, 8, 9], type: \"optionalnum\"}]\n",
       "    });\n",
       "});\n",
       "</script>\n"
      ],
      "text/plain": [
       "<IPython.core.display.HTML object>"
      ]
     },
     "execution_count": 6,
     "metadata": {},
     "output_type": "execute_result"
    }
   ],
   "source": [
    "tab.show_in_notebook()"
   ]
  },
  {
   "cell_type": "code",
   "execution_count": 7,
   "metadata": {},
   "outputs": [
    {
     "data": {
      "text/plain": [
       "array([13.3, 14.1, 13.7, 13.9, 14.4])"
      ]
     },
     "execution_count": 7,
     "metadata": {},
     "output_type": "execute_result"
    }
   ],
   "source": [
    "tab['log_Lbol/L_sun'].data"
   ]
  },
  {
   "cell_type": "markdown",
   "metadata": {},
   "source": [
    "## W0019-1046"
   ]
  },
  {
   "cell_type": "code",
   "execution_count": 8,
   "metadata": {},
   "outputs": [],
   "source": [
    "#Let's figure out what CIV line-width we would need to make all the numbers for W0019-1046 match. \n",
    "alpha = 4.7\n",
    "Lbol = 10**tab['log_Lbol/L_sun'] * L_sun\n",
    "L5100 = alpha * Lbol"
   ]
  },
  {
   "cell_type": "code",
   "execution_count": 9,
   "metadata": {},
   "outputs": [
    {
     "name": "stdout",
     "output_type": "stream",
     "text": [
      "[1.53615328e+40 9.69247197e+40 3.85864259e+40 6.11553638e+40\n",
      " 1.93390241e+41] W\n"
     ]
    }
   ],
   "source": [
    "#Conversion taken from my SED template. \n",
    "L1450 = (2.366959e-01/1.572620e-01) * L5100 * 1450/5100.\n",
    "print(L1450)"
   ]
  },
  {
   "cell_type": "code",
   "execution_count": 13,
   "metadata": {},
   "outputs": [
    {
     "name": "stdout",
     "output_type": "stream",
     "text": [
      "[5877.09689755 2135.8111584  1410.46674501 2185.05740524 1736.65220116] km / s\n",
      "[1.         2.75169313 4.16677452 2.6896762  3.38415308]\n"
     ]
    }
   ],
   "source": [
    "log_FWHM_CIV = (tab['log_MBH/M_sun'] - 6.353 - 0.599 * np.log10(L1450/(1e44 * u.erg/u.s)))/2\n",
    "FWHM_CIV = 1e3 * u.km/u.s * 10**(log_FWHM_CIV)\n",
    "print(FWHM_CIV)\n",
    "print(FWHM_CIV[0]/FWHM_CIV)"
   ]
  },
  {
   "cell_type": "code",
   "execution_count": 11,
   "metadata": {},
   "outputs": [
    {
     "data": {
      "text/plain": [
       "(-0.5010532437451097, 0.16186665919255397)"
      ]
     },
     "execution_count": 11,
     "metadata": {},
     "output_type": "execute_result"
    }
   ],
   "source": [
    "#The actual measurement is 6844 +1402 -3028. \n",
    "2 * np.log10((6844.-3000.)/6844.), 2 * np.log10((6844.+1402)/6844.)"
   ]
  }
 ],
 "metadata": {
  "kernelspec": {
   "display_name": "stenv",
   "language": "python",
   "name": "python3"
  },
  "language_info": {
   "codemirror_mode": {
    "name": "ipython",
    "version": 3
   },
   "file_extension": ".py",
   "mimetype": "text/x-python",
   "name": "python",
   "nbconvert_exporter": "python",
   "pygments_lexer": "ipython3",
   "version": "3.11.3"
  }
 },
 "nbformat": 4,
 "nbformat_minor": 2
}
