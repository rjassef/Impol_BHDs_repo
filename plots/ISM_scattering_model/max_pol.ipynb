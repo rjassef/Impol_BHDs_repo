{
 "cells": [
  {
   "cell_type": "code",
   "execution_count": 17,
   "metadata": {},
   "outputs": [],
   "source": [
    "import numpy as np\n",
    "from scipy.signal import savgol_filter\n",
    "import matplotlib.pyplot as plt\n",
    "import matplotlib\n",
    "import matplotlib.transforms as transforms\n",
    "import subprocess\n",
    "import astropy.units as u\n",
    "from astropy.table import Table\n",
    "from synphot import SpectralElement, Empirical1D, SourceSpectrum, Observation\n",
    "import re\n",
    "\n",
    "import os\n",
    "gd_folder = os.getcwd()+\"/../../Calculations/Gas_and_dust/\"\n",
    "\n",
    "import sys \n",
    "sys.path.append(gd_folder)\n",
    "from polWaveDust import PolWaveDust\n",
    "from polWaveGas import PolWaveGas\n",
    "\n",
    "sys.path.append(\"../utility_functions/\")\n",
    "from objectProperties import ObjectProperties\n",
    "from readExtrapolatedSpectra import ReadExtrapolatedSpectra\n",
    "\n",
    "sys.path.append(\"../../Filter_Curves/\")\n",
    "from readBands import ReadBands"
   ]
  },
  {
   "cell_type": "code",
   "execution_count": 2,
   "metadata": {},
   "outputs": [],
   "source": [
    "#Use the latex font when plotting. \n",
    "matplotlib.rcParams['mathtext.fontset'] = 'stix'\n",
    "matplotlib.rcParams['font.family'] = 'STIXGeneral'"
   ]
  },
  {
   "cell_type": "code",
   "execution_count": 3,
   "metadata": {},
   "outputs": [],
   "source": [
    "#Load the properties of the BHDs\n",
    "op = ObjectProperties()"
   ]
  },
  {
   "cell_type": "code",
   "execution_count": 4,
   "metadata": {},
   "outputs": [
    {
     "name": "stdout",
     "output_type": "stream",
     "text": [
      "R_SPECIAL 6501.229535920617 Angstrom 1159.881393925198 Angstrom 1624.9974574790472 Angstrom\n",
      "I_BESS 7925.773360798338 Angstrom 1080.5202412457434 Angstrom 1433.1539789444323 Angstrom\n",
      "v_HIGH 5531.691038305597 Angstrom 850.6231300284223 Angstrom 1195.0838113345558 Angstrom\n"
     ]
    }
   ],
   "source": [
    "#Load the bands.\n",
    "bands = ReadBands()\n",
    "for bname in bands.bandnames:\n",
    "    print(bname, bands.bp[bname].barlam(), bands.bp[bname].fwhm(), bands.bp[bname].rectwidth())"
   ]
  },
  {
   "cell_type": "code",
   "execution_count": 5,
   "metadata": {},
   "outputs": [
    {
     "name": "stdout",
     "output_type": "stream",
     "text": [
      "Wavelength range for object W0019-1046 limited because of sky template\n",
      "Spec-range: 3001.5 Angstrom - 5423.93 Angstrom\n",
      "Sky-range: 3199.4 Angstrom - 6724.06 Angstrom\n",
      "Wavelength range for object W0204-0506 limited because of sky template\n",
      "Spec-range: 3786.2 Angstrom - 6672.70 Angstrom\n",
      "Sky-range: 3789.3 Angstrom - 6682.76 Angstrom\n",
      "Warning, 2 of 3161 bins contained negative fluxes; they have been set to zero.\n",
      "Wavelength range for object W0831+0140 limited because of sky template\n",
      "Spec-range: 3786.2 Angstrom - 6672.45 Angstrom\n",
      "Sky-range: 3789.3 Angstrom - 6682.76 Angstrom\n",
      "Warning, 2 of 3161 bins contained negative fluxes; they have been set to zero.\n"
     ]
    }
   ],
   "source": [
    "#Load the spectra for each BHD, extended using the best-fit SED.\n",
    "specs = ReadExtrapolatedSpectra()"
   ]
  },
  {
   "cell_type": "code",
   "execution_count": 6,
   "metadata": {},
   "outputs": [],
   "source": [
    "theta_angles = np.arange(0., 90., 2.5)\n",
    "psi_angles = np.arange(0., 90., 2.5)"
   ]
  },
  {
   "cell_type": "code",
   "execution_count": 7,
   "metadata": {},
   "outputs": [
    {
     "name": "stdout",
     "output_type": "stream",
     "text": [
      "[True, True]\n",
      "[False, True]\n"
     ]
    }
   ],
   "source": [
    "#Calculate the max polarization for every combination of parameters, for FWBW and just BW.\n",
    "for fwbw in ([True, True], [False, True]):\n",
    "\n",
    "    print(fwbw)\n",
    "    fw, bw = fwbw\n",
    "\n",
    "    prefix = \"\"\n",
    "    if fw:\n",
    "        prefix += \"FW\"\n",
    "    if bw: \n",
    "        prefix += \"BW\"\n",
    "    fname = \"table_max_pols.{}.fits\".format(prefix)\n",
    "    if not os.path.exists(fname):\n",
    "        max_pols = Table()\n",
    "        max_pols.meta['comments'] = \"fw: {} bw: {}\".format(fw, bw)\n",
    "        for wid in op.wids:\n",
    "            for band in op.filters[wid]:\n",
    "                for medium_type in [\"SMC\", \"LMC\", \"MW\"]:\n",
    "                    pw = PolWaveDust(medium_type,fw=fw,bw=bw)\n",
    "                    p_bb = pw.p_bb(bands.bp[band], theta_angles, psi_angles, specs.lam_obs[wid], specs.flam[wid], specs.specs.sp[wid].zspec)\n",
    "\n",
    "                    i, j = np.unravel_index(np.argmax(p_bb, axis=None), p_bb.shape)\n",
    "                    if \"wid\" not in max_pols.colnames:\n",
    "                        max_pols[\"wid\"]   = [wid]\n",
    "                        max_pols[\"band\"]  = [band]\n",
    "                        max_pols[\"dust\"]  = [medium_type]\n",
    "                        max_pols[\"theta\"] = theta_angles[i]\n",
    "                        max_pols[\"psi\"]   = psi_angles[j]\n",
    "                        max_pols[\"pmax\"]  = 100*np.max(p_bb)\n",
    "                    else:\n",
    "                        max_pols.add_row((wid, band, medium_type, theta_angles[i], psi_angles[j], 100*np.max(p_bb)))\n",
    "\n",
    "                    \n",
    "                    #print(wid, band, medium_type, theta_angles[i], psi_angles[j], 100*np.max(p_bb))\n",
    "\n",
    "        max_pols.write(\"table_max_pols.{}.fits\".format(prefix))"
   ]
  },
  {
   "cell_type": "code",
   "execution_count": 27,
   "metadata": {},
   "outputs": [
    {
     "data": {
      "image/png": "[encoded data removed]",
      "text/plain": [
       "<Figure size 400x800 with 1 Axes>"
      ]
     },
     "metadata": {},
     "output_type": "display_data"
    }
   ],
   "source": [
    "max_pols = Table.read(\"table_max_pols.fwbw.fits\")\n",
    "\n",
    "band_latex_name = {\n",
    "    \"R_SPECIAL\": r\"$R_{\\rm Special}$\",\n",
    "    \"I_BESS\": r\"$I_{\\rm Bessel}$\",\n",
    "    \"v_HIGH\": r\"$v_{\\rm High}$\",\n",
    "}\n",
    "\n",
    "fig, ax = plt.subplots(1, figsize=(4,8))\n",
    "ax.tick_params(axis=\"both\", direction=\"in\", labelsize=12, bottom=True, top=True, left=False, right=False)\n",
    "ax.set_yticks([])\n",
    "\n",
    "ax.set_xlim([0, 60.])\n",
    "ax.set_ylim(ax.get_xlim())\n",
    "\n",
    "dust_colors = {\n",
    "    \"SMC\": \"black\",\n",
    "    \"LMC\": \"gray\",\n",
    "    \"MW\" : \"lightgray\",\n",
    "}\n",
    "\n",
    "colors = {\"W0116-0505\":\"xkcd:green\", \"W0019-1046\":\"magenta\", \"W0204-0506\":\"blue\", \"W0220+0137\":\"red\", \"W0831+0140\":\"cyan\"}\n",
    "\n",
    "#Draw the measured polarization fractions. There are 5 objects, 4 in 1 band and 1 in 3 bands. So a total of 7 measurements. \n",
    "dy = (ax.get_ylim()[1]-ax.get_ylim()[0])/7.\n",
    "y = ax.get_ylim()[1] - dy/2.\n",
    "for wid in op.wids:\n",
    "    obj_name = re.sub(\"-\",\"$-$\",wid)\n",
    "    #ax.text(ax.get_xlim()[1]-16, y+dy/2-1.0, wid, ha='left', va='top', fontsize=10)#, color=colors[wid])\n",
    "    ax.text(ax.get_xlim()[1]-1, y+dy/2-1.0, r\"{}\".format(obj_name), ha='right', va='top', fontsize=10, color=colors[wid])\n",
    "    #ax.text(ax.get_xlim()[0]+1, y+dy/2-1.0, r\"{}\".format(obj_name), ha='left', va='top', fontsize=10)#, color=colors[wid])\n",
    "    for band in [\"v_HIGH\", \"R_SPECIAL\", \"I_BESS\"]:\n",
    "        if band not in op.filters[wid]:\n",
    "            continue\n",
    "        ax.errorbar([op.pfrac[wid][band]], [y], xerr=[op.epfrac[wid][band]], marker='o', mfc='none', color=colors[wid])\n",
    "\n",
    "        #label = r\"{} {}\".format(wid, band_latex_name[band])\n",
    "        #ax.text(op.pfrac[wid][band], y-dy/4, label, color=colors[wid])\n",
    "        ax.text(ax.get_xlim()[1]-1, y-dy/2+2.0, band_latex_name[band], ha='right', va='top', fontsize=10)#, color=colors[wid])\n",
    "\n",
    "        offset = -0.8\n",
    "        for dust in [\"SMC\",\"LMC\",\"MW\"]:\n",
    "            mxp = max_pols[(max_pols[\"wid\"]==wid) & (max_pols[\"band\"]==band) & (max_pols[\"dust\"]==dust)]\n",
    "            #ax.arrow(mxp['pmax'],y,-2.5,0,color=color[dust], head_width=1.0)\n",
    "            ax.errorbar(mxp['pmax'],y+offset,xerr=[1.5], xuplims=True, color=dust_colors[dust], symbol=None, capsize=2.0)\n",
    "            offset += 0.8\n",
    "\n",
    "\n",
    "        ax.plot(ax.get_xlim(), [y-dy/2,y-dy/2], 'k-', lw=0.5, color='xkcd:gray')\n",
    "\n",
    "        y -= dy\n",
    "\n",
    "ax.set_xlabel(\"Polarization Fraction $P~(\\%)$\")\n",
    "\n",
    "plt.show()"
   ]
  },
  {
   "cell_type": "code",
   "execution_count": 31,
   "metadata": {},
   "outputs": [
    {
     "data": {
      "text/html": [
       "<i>Table length=21</i>\n",
       "<table id=\"table6000234576-899955\" class=\"table-striped table-bordered table-condensed\">\n",
       "<thead><tr><th>idx</th><th>wid</th><th>band</th><th>dust</th><th>theta</th><th>psi</th><th>pmax</th></tr></thead>\n",
       "<tr><td>0</td><td>W0019-1046</td><td>R_SPECIAL</td><td>SMC</td><td>87.5</td><td>0.0</td><td>13.08</td></tr>\n",
       "<tr><td>1</td><td>W0019-1046</td><td>R_SPECIAL</td><td>LMC</td><td>55.0</td><td>0.0</td><td>1.44</td></tr>\n",
       "<tr><td>2</td><td>W0019-1046</td><td>R_SPECIAL</td><td>MW</td><td>87.5</td><td>0.0</td><td>10.49</td></tr>\n",
       "<tr><td>3</td><td>W0204-0506</td><td>R_SPECIAL</td><td>SMC</td><td>87.5</td><td>0.0</td><td>10.97</td></tr>\n",
       "<tr><td>4</td><td>W0204-0506</td><td>R_SPECIAL</td><td>LMC</td><td>82.5</td><td>0.0</td><td>1.61</td></tr>\n",
       "<tr><td>5</td><td>W0204-0506</td><td>R_SPECIAL</td><td>MW</td><td>80.0</td><td>0.0</td><td>9.29</td></tr>\n",
       "<tr><td>6</td><td>W0220+0137</td><td>R_SPECIAL</td><td>SMC</td><td>87.5</td><td>0.0</td><td>35.35</td></tr>\n",
       "<tr><td>7</td><td>W0220+0137</td><td>R_SPECIAL</td><td>LMC</td><td>87.5</td><td>0.0</td><td>34.35</td></tr>\n",
       "<tr><td>8</td><td>W0220+0137</td><td>R_SPECIAL</td><td>MW</td><td>87.5</td><td>0.0</td><td>31.13</td></tr>\n",
       "<tr><td>9</td><td>W0831+0140</td><td>R_SPECIAL</td><td>SMC</td><td>87.5</td><td>0.0</td><td>55.67</td></tr>\n",
       "<tr><td>10</td><td>W0831+0140</td><td>R_SPECIAL</td><td>LMC</td><td>87.5</td><td>0.0</td><td>55.98</td></tr>\n",
       "<tr><td>11</td><td>W0831+0140</td><td>R_SPECIAL</td><td>MW</td><td>87.5</td><td>0.0</td><td>48.07</td></tr>\n",
       "<tr><td>12</td><td>W0116-0505</td><td>R_SPECIAL</td><td>SMC</td><td>87.5</td><td>0.0</td><td>34.65</td></tr>\n",
       "<tr><td>13</td><td>W0116-0505</td><td>R_SPECIAL</td><td>LMC</td><td>87.5</td><td>0.0</td><td>33.63</td></tr>\n",
       "<tr><td>14</td><td>W0116-0505</td><td>R_SPECIAL</td><td>MW</td><td>87.5</td><td>0.0</td><td>30.52</td></tr>\n",
       "<tr><td>15</td><td>W0116-0505</td><td>I_BESS</td><td>SMC</td><td>87.5</td><td>0.0</td><td>13.54</td></tr>\n",
       "<tr><td>16</td><td>W0116-0505</td><td>I_BESS</td><td>LMC</td><td>85.0</td><td>0.0</td><td>8.00</td></tr>\n",
       "<tr><td>17</td><td>W0116-0505</td><td>I_BESS</td><td>MW</td><td>80.0</td><td>0.0</td><td>11.14</td></tr>\n",
       "<tr><td>18</td><td>W0116-0505</td><td>v_HIGH</td><td>SMC</td><td>87.5</td><td>0.0</td><td>55.44</td></tr>\n",
       "<tr><td>19</td><td>W0116-0505</td><td>v_HIGH</td><td>LMC</td><td>87.5</td><td>0.0</td><td>55.71</td></tr>\n",
       "<tr><td>20</td><td>W0116-0505</td><td>v_HIGH</td><td>MW</td><td>87.5</td><td>0.0</td><td>47.92</td></tr>\n",
       "</table><style>table.dataTable {clear: both; width: auto !important; margin: 0 !important;}\n",
       ".dataTables_info, .dataTables_length, .dataTables_filter, .dataTables_paginate{\n",
       "display: inline-block; margin-right: 1em; }\n",
       ".paginate_button { margin-right: 5px; }\n",
       "</style>\n",
       "<script>\n",
       "\n",
       "var astropy_sort_num = function(a, b) {\n",
       "    var a_num = parseFloat(a);\n",
       "    var b_num = parseFloat(b);\n",
       "\n",
       "    if (isNaN(a_num) && isNaN(b_num))\n",
       "        return ((a < b) ? -1 : ((a > b) ? 1 : 0));\n",
       "    else if (!isNaN(a_num) && !isNaN(b_num))\n",
       "        return ((a_num < b_num) ? -1 : ((a_num > b_num) ? 1 : 0));\n",
       "    else\n",
       "        return isNaN(a_num) ? -1 : 1;\n",
       "}\n",
       "\n",
       "require.config({paths: {\n",
       "    datatables: 'https://cdn.datatables.net/1.10.12/js/jquery.dataTables.min'\n",
       "}});\n",
       "require([\"datatables\"], function(){\n",
       "    console.log(\"$('#table6000234576-899955').dataTable()\");\n",
       "    \n",
       "jQuery.extend( jQuery.fn.dataTableExt.oSort, {\n",
       "    \"optionalnum-asc\": astropy_sort_num,\n",
       "    \"optionalnum-desc\": function (a,b) { return -astropy_sort_num(a, b); }\n",
       "});\n",
       "\n",
       "    $('#table6000234576-899955').dataTable({\n",
       "        order: [],\n",
       "        pageLength: 50,\n",
       "        lengthMenu: [[10, 25, 50, 100, 500, 1000, -1], [10, 25, 50, 100, 500, 1000, 'All']],\n",
       "        pagingType: \"full_numbers\",\n",
       "        columnDefs: [{targets: [0, 4, 5, 6], type: \"optionalnum\"}]\n",
       "    });\n",
       "});\n",
       "</script>\n"
      ],
      "text/plain": [
       "<IPython.core.display.HTML object>"
      ]
     },
     "execution_count": 31,
     "metadata": {},
     "output_type": "execute_result"
    }
   ],
   "source": [
    "max_pols = Table.read(\"table_max_pols.fwbw.fits\")\n",
    "max_pols['pmax'].format = '%.2f'\n",
    "max_pols.show_in_notebook()"
   ]
  },
  {
   "cell_type": "code",
   "execution_count": 32,
   "metadata": {},
   "outputs": [
    {
     "data": {
      "text/html": [
       "<i>Table length=21</i>\n",
       "<table id=\"table5998135504-789281\" class=\"table-striped table-bordered table-condensed\">\n",
       "<thead><tr><th>idx</th><th>wid</th><th>band</th><th>dust</th><th>theta</th><th>psi</th><th>pmax</th></tr></thead>\n",
       "<tr><td>0</td><td>W0019-1046</td><td>R_SPECIAL</td><td>SMC</td><td>35.0</td><td>0.0</td><td>14.73</td></tr>\n",
       "<tr><td>1</td><td>W0019-1046</td><td>R_SPECIAL</td><td>LMC</td><td>37.5</td><td>0.0</td><td>24.00</td></tr>\n",
       "<tr><td>2</td><td>W0019-1046</td><td>R_SPECIAL</td><td>MW</td><td>37.5</td><td>0.0</td><td>14.07</td></tr>\n",
       "<tr><td>3</td><td>W0204-0506</td><td>R_SPECIAL</td><td>SMC</td><td>37.5</td><td>0.0</td><td>12.33</td></tr>\n",
       "<tr><td>4</td><td>W0204-0506</td><td>R_SPECIAL</td><td>LMC</td><td>40.0</td><td>0.0</td><td>20.06</td></tr>\n",
       "<tr><td>5</td><td>W0204-0506</td><td>R_SPECIAL</td><td>MW</td><td>40.0</td><td>0.0</td><td>11.94</td></tr>\n",
       "<tr><td>6</td><td>W0220+0137</td><td>R_SPECIAL</td><td>SMC</td><td>82.5</td><td>0.0</td><td>36.09</td></tr>\n",
       "<tr><td>7</td><td>W0220+0137</td><td>R_SPECIAL</td><td>LMC</td><td>87.5</td><td>0.0</td><td>34.58</td></tr>\n",
       "<tr><td>8</td><td>W0220+0137</td><td>R_SPECIAL</td><td>MW</td><td>87.5</td><td>0.0</td><td>31.11</td></tr>\n",
       "<tr><td>9</td><td>W0831+0140</td><td>R_SPECIAL</td><td>SMC</td><td>87.5</td><td>0.0</td><td>55.89</td></tr>\n",
       "<tr><td>10</td><td>W0831+0140</td><td>R_SPECIAL</td><td>LMC</td><td>87.5</td><td>0.0</td><td>55.85</td></tr>\n",
       "<tr><td>11</td><td>W0831+0140</td><td>R_SPECIAL</td><td>MW</td><td>87.5</td><td>0.0</td><td>47.81</td></tr>\n",
       "<tr><td>12</td><td>W0116-0505</td><td>R_SPECIAL</td><td>SMC</td><td>82.5</td><td>0.0</td><td>35.30</td></tr>\n",
       "<tr><td>13</td><td>W0116-0505</td><td>R_SPECIAL</td><td>LMC</td><td>87.5</td><td>0.0</td><td>33.84</td></tr>\n",
       "<tr><td>14</td><td>W0116-0505</td><td>R_SPECIAL</td><td>MW</td><td>87.5</td><td>0.0</td><td>30.49</td></tr>\n",
       "<tr><td>15</td><td>W0116-0505</td><td>I_BESS</td><td>SMC</td><td>87.5</td><td>0.0</td><td>13.34</td></tr>\n",
       "<tr><td>16</td><td>W0116-0505</td><td>I_BESS</td><td>LMC</td><td>87.5</td><td>12.5</td><td>7.49</td></tr>\n",
       "<tr><td>17</td><td>W0116-0505</td><td>I_BESS</td><td>MW</td><td>87.5</td><td>12.5</td><td>10.22</td></tr>\n",
       "<tr><td>18</td><td>W0116-0505</td><td>v_HIGH</td><td>SMC</td><td>87.5</td><td>0.0</td><td>55.68</td></tr>\n",
       "<tr><td>19</td><td>W0116-0505</td><td>v_HIGH</td><td>LMC</td><td>87.5</td><td>0.0</td><td>55.59</td></tr>\n",
       "<tr><td>20</td><td>W0116-0505</td><td>v_HIGH</td><td>MW</td><td>87.5</td><td>0.0</td><td>47.67</td></tr>\n",
       "</table><style>table.dataTable {clear: both; width: auto !important; margin: 0 !important;}\n",
       ".dataTables_info, .dataTables_length, .dataTables_filter, .dataTables_paginate{\n",
       "display: inline-block; margin-right: 1em; }\n",
       ".paginate_button { margin-right: 5px; }\n",
       "</style>\n",
       "<script>\n",
       "\n",
       "var astropy_sort_num = function(a, b) {\n",
       "    var a_num = parseFloat(a);\n",
       "    var b_num = parseFloat(b);\n",
       "\n",
       "    if (isNaN(a_num) && isNaN(b_num))\n",
       "        return ((a < b) ? -1 : ((a > b) ? 1 : 0));\n",
       "    else if (!isNaN(a_num) && !isNaN(b_num))\n",
       "        return ((a_num < b_num) ? -1 : ((a_num > b_num) ? 1 : 0));\n",
       "    else\n",
       "        return isNaN(a_num) ? -1 : 1;\n",
       "}\n",
       "\n",
       "require.config({paths: {\n",
       "    datatables: 'https://cdn.datatables.net/1.10.12/js/jquery.dataTables.min'\n",
       "}});\n",
       "require([\"datatables\"], function(){\n",
       "    console.log(\"$('#table5998135504-789281').dataTable()\");\n",
       "    \n",
       "jQuery.extend( jQuery.fn.dataTableExt.oSort, {\n",
       "    \"optionalnum-asc\": astropy_sort_num,\n",
       "    \"optionalnum-desc\": function (a,b) { return -astropy_sort_num(a, b); }\n",
       "});\n",
       "\n",
       "    $('#table5998135504-789281').dataTable({\n",
       "        order: [],\n",
       "        pageLength: 50,\n",
       "        lengthMenu: [[10, 25, 50, 100, 500, 1000, -1], [10, 25, 50, 100, 500, 1000, 'All']],\n",
       "        pagingType: \"full_numbers\",\n",
       "        columnDefs: [{targets: [0, 4, 5, 6], type: \"optionalnum\"}]\n",
       "    });\n",
       "});\n",
       "</script>\n"
      ],
      "text/plain": [
       "<IPython.core.display.HTML object>"
      ]
     },
     "execution_count": 32,
     "metadata": {},
     "output_type": "execute_result"
    }
   ],
   "source": [
    "max_pols = Table.read(\"table_max_pols.bw.fits\")\n",
    "max_pols['pmax'].format = '%.2f'\n",
    "max_pols.show_in_notebook()"
   ]
  },
  {
   "cell_type": "code",
   "execution_count": 56,
   "metadata": {},
   "outputs": [
    {
     "data": {
      "text/plain": [
       "(<Quantity [1.19805382e+22]>,\n",
       " <Quantity 1899.29867261 Angstrom>,\n",
       " array([0.11318621]))"
      ]
     },
     "execution_count": 56,
     "metadata": {},
     "output_type": "execute_result"
    }
   ],
   "source": [
    "medium_type = \"SMC\"\n",
    "fw = True\n",
    "bw = True\n",
    "wid = \"W0116-0505\"\n",
    "lam = bands.bp['I_BESS'].barlam()/(1+specs.specs.sp[wid].zspec)\n",
    "pw = PolWaveDust(medium_type,fw=fw,bw=bw)\n",
    "#lam  = 1800.*u.AA\n",
    "psi = 10.\n",
    "eta = 90.\n",
    "s1 = pw.s1(([lam.value], [eta], [psi]))\n",
    "eps = 0.006\n",
    "2 * eps * np.cos(psi*u.deg)/s1, lam, pw.p(([lam.value], [eta], [psi]))\n",
    "\n",
    "#self.s1 = RegularGridInterpolator((self.wave_grid, self.theta_grid, self.psi_grid), self.s1_grid, bounds_error=False, fill_value=None, method=interp_method)"
   ]
  },
  {
   "cell_type": "code",
   "execution_count": 59,
   "metadata": {},
   "outputs": [
    {
     "data": {
      "text/plain": [
       "(<Quantity [2.36109341e+22]>,\n",
       " <Quantity 2097.63974202 Angstrom>,\n",
       " array([0.00346736]))"
      ]
     },
     "execution_count": 59,
     "metadata": {},
     "output_type": "execute_result"
    }
   ],
   "source": [
    "medium_type = \"LMC\"\n",
    "fw = True\n",
    "bw = True\n",
    "wid = \"W0204-0506\"\n",
    "lam = bands.bp['R_SPECIAL'].barlam()/(1+specs.specs.sp[wid].zspec)\n",
    "pw = PolWaveDust(medium_type,fw=fw,bw=bw)\n",
    "#lam  = 1800.*u.AA\n",
    "psi = 10.\n",
    "eta = 90.\n",
    "s1 = pw.s1(([lam.value], [eta], [psi]))\n",
    "eps = 0.013\n",
    "2 * eps * np.cos(psi*u.deg)/s1, lam, pw.p(([lam.value], [eta], [psi]))"
   ]
  },
  {
   "cell_type": "code",
   "execution_count": 64,
   "metadata": {},
   "outputs": [
    {
     "data": {
      "text/plain": [
       "(<Quantity [8.44385967e+22]>,\n",
       " <Quantity 2097.63974202 Angstrom>,\n",
       " array([-0.20941798]))"
      ]
     },
     "execution_count": 64,
     "metadata": {},
     "output_type": "execute_result"
    }
   ],
   "source": [
    "medium_type = \"LMC\"\n",
    "fw = False\n",
    "bw = True\n",
    "wid = \"W0204-0506\"\n",
    "lam = bands.bp['R_SPECIAL'].barlam()/(1+specs.specs.sp[wid].zspec)\n",
    "pw = PolWaveDust(medium_type,fw=fw,bw=bw)\n",
    "#lam  = 1800.*u.AA\n",
    "psi = 10.\n",
    "eta = 40.\n",
    "s1 = pw.s1(([lam.value], [eta], [psi]))\n",
    "eps = 0.013\n",
    "2 * eps * np.cos(psi*u.deg)/s1, lam, pw.p(([lam.value], [eta], [psi]))"
   ]
  }
 ],
 "metadata": {
  "kernelspec": {
   "display_name": "stenv",
   "language": "python",
   "name": "python3"
  },
  "language_info": {
   "codemirror_mode": {
    "name": "ipython",
    "version": 3
   },
   "file_extension": ".py",
   "mimetype": "text/x-python",
   "name": "python",
   "nbconvert_exporter": "python",
   "pygments_lexer": "ipython3",
   "version": "3.11.3"
  }
 },
 "nbformat": 4,
 "nbformat_minor": 2
}
