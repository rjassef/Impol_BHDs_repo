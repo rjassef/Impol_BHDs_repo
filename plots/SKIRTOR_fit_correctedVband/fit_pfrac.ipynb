{
 "cells": [
  {
   "cell_type": "code",
   "execution_count": 1,
   "metadata": {},
   "outputs": [],
   "source": [
    "import numpy as np\n",
    "import re\n",
    "import subprocess\n",
    "import matplotlib.pyplot as plt\n",
    "import matplotlib as mpl\n",
    "import astropy.units as u\n",
    "from astropy.io import fits\n",
    "from synphot import SpectralElement, SourceSpectrum, Observation\n",
    "from synphot.models import Empirical1D\n",
    "\n",
    "import os\n",
    "gd_folder = os.getcwd()+\"/../../Calculations/SKIRTOR/\"\n",
    "\n",
    "import sys \n",
    "sys.path.append(gd_folder)\n",
    "#from loadSKIRTOR_MRN77 import LoadSKIRTOR_MRN77\n",
    "#from loadSKIRTOR_MRN77_old import LoadSKIRTOR_MRN77\n",
    "from loadSKIRTOR_MRN77_force_reg import LoadSKIRTOR_MRN77\n",
    "from loadSKIRTOR_General import LoadSKIRTOR_General\n",
    "\n",
    "sys.path.append(\"../utility_functions/\")\n",
    "from objectProperties import ObjectProperties\n",
    "from readExtrapolatedSpectra import ReadExtrapolatedSpectra\n",
    "\n",
    "sys.path.append(\"../../Filter_Curves/\")\n",
    "from readBands import ReadBands\n",
    "\n",
    "sys.path.append(\"../../spec_modeling/\")\n",
    "from model_W0116_spec import model_W0116_spec"
   ]
  },
  {
   "cell_type": "code",
   "execution_count": 2,
   "metadata": {},
   "outputs": [],
   "source": [
    "#Load the properties of the BHDs\n",
    "op = ObjectProperties()"
   ]
  },
  {
   "cell_type": "code",
   "execution_count": 3,
   "metadata": {},
   "outputs": [
    {
     "name": "stdout",
     "output_type": "stream",
     "text": [
      "R_SPECIAL 6501.229535920617 Angstrom 1159.881393925198 Angstrom 1624.9974574790472 Angstrom\n",
      "I_BESS 7925.773360798338 Angstrom 1080.5202412457434 Angstrom 1433.1539789444323 Angstrom\n",
      "v_HIGH 5531.691038305597 Angstrom 850.6231300284223 Angstrom 1195.0838113345558 Angstrom\n"
     ]
    }
   ],
   "source": [
    "#Load the bands.\n",
    "bands = ReadBands()\n",
    "for bname in bands.bandnames:\n",
    "    print(bname, bands.bp[bname].barlam(), bands.bp[bname].fwhm(), bands.bp[bname].rectwidth())"
   ]
  },
  {
   "cell_type": "code",
   "execution_count": 4,
   "metadata": {},
   "outputs": [
    {
     "name": "stdout",
     "output_type": "stream",
     "text": [
      "Wavelength range for object W0019-1046 limited because of sky template\n",
      "Spec-range: 3001.5 Angstrom - 5423.93 Angstrom\n",
      "Sky-range: 3199.4 Angstrom - 6724.06 Angstrom\n",
      "Wavelength range for object W0204-0506 limited because of sky template\n",
      "Spec-range: 3786.2 Angstrom - 6672.70 Angstrom\n",
      "Sky-range: 3789.3 Angstrom - 6682.76 Angstrom\n",
      "Warning, 2 of 3161 bins contained negative fluxes; they have been set to zero.\n",
      "Wavelength range for object W0831+0140 limited because of sky template\n",
      "Spec-range: 3786.2 Angstrom - 6672.45 Angstrom\n",
      "Sky-range: 3789.3 Angstrom - 6682.76 Angstrom\n",
      "Warning, 2 of 3161 bins contained negative fluxes; they have been set to zero.\n"
     ]
    }
   ],
   "source": [
    "#Load the spectra for each BHD, extended using the best-fit SED.\n",
    "specs = ReadExtrapolatedSpectra()"
   ]
  },
  {
   "cell_type": "code",
   "execution_count": 5,
   "metadata": {},
   "outputs": [],
   "source": [
    "#Load the spectrum and model. \n",
    "spec, spec_model = model_W0116_spec(specs)"
   ]
  },
  {
   "cell_type": "code",
   "execution_count": 6,
   "metadata": {},
   "outputs": [
    {
     "data": {
      "text/plain": [
       "{'line_name': 'Lyalpha',\n",
       " 'default_spec': <Spec_pipeline.Spec_Reader.SDSS_Spec.SDSS_Spec at 0x162b506d0>,\n",
       " 'x0': None,\n",
       " 'xopt': None,\n",
       " 'nlines': 1,\n",
       " 'chi2': None,\n",
       " 'chi2_no_line': None,\n",
       " 'F': None,\n",
       " 'p': None,\n",
       " 'MC_chain': None,\n",
       " 'flamunit': Unit(\"erg / (Angstrom s cm2)\"),\n",
       " 'waveunit': Unit(\"Angstrom\"),\n",
       " 'vunit': Unit(\"km / s\"),\n",
       " 'flux_unit': Unit(\"erg / (s cm2)\"),\n",
       " 'sigma_v_0': <Quantity 1000. km / s>,\n",
       " 'joint_dv': None,\n",
       " 'joint_sigma': None,\n",
       " 'fixed_ratio': None,\n",
       " 'line_center': <Quantity [1220.] Angstrom>,\n",
       " 'line_velocity_region': <Quantity 10000. km / s>,\n",
       " 'ncont_reg': 1,\n",
       " 'continuum_regions': <Quantity [[1260., 1360.]] Angstrom>,\n",
       " 'dv_max': <Quantity [500.] km / s>,\n",
       " 'sigma_v_max': <Quantity [5000.] km / s>,\n",
       " 'sigma_v_min': <Quantity [62.73918943] km / s>,\n",
       " 'width_type': None,\n",
       " 'flam_cont_model': <bound method Powc_Line_fit.flam_cont_model of <Spec_pipeline.Line_Fitter.Powc_Line_fit.Powc_Line_fit object at 0x16250c910>>,\n",
       " 'pol': False,\n",
       " 'dv_fit': <Quantity [0.00126329] km / s>,\n",
       " 'flam_line_fit': <Quantity [6.44745001e-17] erg / (Angstrom s cm2)>,\n",
       " 'sigma_v_fit': <Quantity [291.86929416] km / s>,\n",
       " 'a': <Quantity -1.22497642 erg / (s Angstrom2 cm2)>,\n",
       " 'b': <Quantity 6.24328151e-19 erg / (Angstrom s cm2)>}"
      ]
     },
     "execution_count": 6,
     "metadata": {},
     "output_type": "execute_result"
    }
   ],
   "source": [
    "spec_model.multi_line[0].__dict__"
   ]
  },
  {
   "cell_type": "code",
   "execution_count": 7,
   "metadata": {},
   "outputs": [
    {
     "name": "stdout",
     "output_type": "stream",
     "text": [
      "7.200782738082011e-18 FLAM\n",
      "Lyalpha [291.86929416] km / s\n",
      "5.579409155612361e-19 FLAM\n",
      "Lyalpha [2426.20014816] km / s\n",
      "1.5424631099479074e-18 FLAM\n",
      "CIV [1219.75353704] km / s\n",
      "1.0739375074598772e-21 FLAM\n",
      "NV [1220.14467318] km / s\n",
      "1.4680971969592787e-18 FLAM\n",
      "SiIV-OIV] [1696.10687919] km / s\n",
      "3.939085758670339e-19 FLAM\n"
     ]
    }
   ],
   "source": [
    "spec_full = SourceSpectrum(Empirical1D, points=spec.lam_obs, lookup_table=spec.flam, keep_neg=True)\n",
    "obs_full = Observation(spec_full, bands.bp['v_HIGH'])\n",
    "print(obs_full.effstim(flux_unit='flam'))\n",
    "for line in spec_model.multi_line:\n",
    "    print(line.line_name, line.sigma_v_fit)\n",
    "    spec_line = SourceSpectrum(Empirical1D, points=spec.lam_obs, lookup_table=line.flam_line_model(spec.lam_rest), keep_neg=True)\n",
    "    obs_line = Observation(spec_line, bands.bp['v_HIGH'])\n",
    "    print(obs_line.effstim(flux_unit='flam'))\n"
   ]
  },
  {
   "cell_type": "code",
   "execution_count": 8,
   "metadata": {},
   "outputs": [
    {
     "name": "stdout",
     "output_type": "stream",
     "text": [
      "9.59 13.539289991933106\n"
     ]
    }
   ],
   "source": [
    "#Let's assume that all of the Lyalpha flux is unpolarized, which may well be the case as Lyman alpha may be coming from much larger physical scales. Then we need to scale by the total flux. \n",
    "I_tot = 7.200782738082011e-18\n",
    "I_unpol = 5.579409155612361e-19 + 1.5424631099479074e-18\n",
    "I_pol = I_tot - I_unpol\n",
    "pv = op.pfrac['W0116-0505']['v_HIGH']\n",
    "print(pv, pv*I_tot/I_pol)\n",
    "op.pfrac['W0116-0505']['v_HIGH'] *= I_tot/I_pol\n",
    "op.epfrac['W0116-0505']['v_HIGH'] *= I_tot/I_pol"
   ]
  },
  {
   "cell_type": "code",
   "execution_count": 9,
   "metadata": {},
   "outputs": [
    {
     "name": "stdout",
     "output_type": "stream",
     "text": [
      "13.539289991933106 0.5647253385582109\n"
     ]
    }
   ],
   "source": [
    "print(op.pfrac['W0116-0505']['v_HIGH'], op.epfrac['W0116-0505']['v_HIGH'])"
   ]
  },
  {
   "cell_type": "code",
   "execution_count": 10,
   "metadata": {},
   "outputs": [],
   "source": [
    "def get_p_chi2_map_bb(p_meas, p_unc, bands, specs, wid, pw):\n",
    "\n",
    "    #Set the grid of values for the calculation. \n",
    "    tang_grid = np.arange(25., 60.+0.01, 0.5)*u.deg\n",
    "    cang_grid = np.arange(20., 55.+0.01, 0.5)*u.deg\n",
    "    iang_grid = np.arange(25., 90.+0.01, 0.5)*u.deg\n",
    "    #tang_grid = np.arange(20., 70., 2.5)*u.deg\n",
    "    #cang_grid = np.arange(10., 60., 2.5)*u.deg\n",
    "    #iang_grid = np.arange(20., 85., 2.5)*u.deg\n",
    "    # tang_grid = np.arange(20., 70., 5)*u.deg\n",
    "    # cang_grid = np.arange(10., 60., 5)*u.deg\n",
    "    # iang_grid = np.arange(20., 85., 5)*u.deg\n",
    "\n",
    "\n",
    "    #Create the output array. We'll mask certain regions that are not technically allowed by the model. \n",
    "    p_map = np.ma.zeros((len(bands), len(tang_grid), len(cang_grid), len(iang_grid)))\n",
    "    p_map.mask = np.zeros(p_map.shape, dtype=bool)\n",
    "\n",
    "    for j, band in enumerate(bands):\n",
    "        #p_map[j,:,:,:] = pw.p_bb(band, tang_grid, cang_grid, iang_grid, specs.lam_obs[wid], specs.flam[wid], specs.specs.sp[wid].zspec)\n",
    "        p_map[j,:,:,:] = pw.p_bb(band, tang_grid, cang_grid, iang_grid, specs.lam_obs[wid], specs.flam[wid], specs.specs.sp[wid].zspec)\n",
    "\n",
    "    #Turn into percentages. \n",
    "    p_map *= 100\n",
    "    \n",
    "    #Remove angles were we would directly see the accretion disk. \n",
    "    #p_map[th_2d_grid<psi_2d_grid] = np.nan\n",
    "    #p_map.mask[th_2d_grid<psi_2d_grid] = True\n",
    "\n",
    "    #Transform it into a chi-squared map\n",
    "    chi2_map = np.ma.zeros(p_map.shape[1:])\n",
    "    chi2_map.mask = np.zeros(chi2_map.shape, dtype=bool)\n",
    "    for j in range(len(bands)):\n",
    "        chi2_map += ((p_map[j]-p_meas[j])/p_unc[j])**2\n",
    "\n",
    "    return p_map, chi2_map, tang_grid, cang_grid, iang_grid\n"
   ]
  },
  {
   "cell_type": "code",
   "execution_count": 11,
   "metadata": {},
   "outputs": [],
   "source": [
    "def save_p_chi2(chi2_map, tang_grid, cang_grid, iang_grid, wid, folder=\"maps\"):\n",
    "\n",
    "    if not os.path.exists(folder):\n",
    "        subprocess.call([\"mkdir\",folder])\n",
    "    \n",
    "    fname = \"{}/chi2_map_{}.fits\".format(folder, wid)\n",
    "\n",
    "    chi2_hdr = fits.Header()\n",
    "\n",
    "    chi2_hdr['TANGGRID'] = \" \".join(tang_grid.value.astype(str))\n",
    "    chi2_hdr['TANGUNIT'] = tang_grid.unit._short_names[0]\n",
    "    chi2_hdr['CANGGRID'] = \" \".join(cang_grid.value.astype(str))\n",
    "    chi2_hdr['CANGUNIT'] = cang_grid.unit._short_names[0]\n",
    "    chi2_hdr['IANGGRID'] = \" \".join(iang_grid.value.astype(str))\n",
    "    chi2_hdr['IANGUNIT'] = iang_grid.unit._short_names[0]\n",
    "\n",
    "    chi2_data_hdu = fits.PrimaryHDU(data=chi2_map.data)\n",
    "    chi2_data_hdu.header.update(chi2_hdr)\n",
    "    chi2_mask_hdu = fits.ImageHDU(data=chi2_map.mask.astype(int))\n",
    "\n",
    "    hdul = fits.HDUList([chi2_data_hdu, chi2_mask_hdu])\n",
    "    hdul.writeto(fname, overwrite=True)\n",
    "\n",
    "    return"
   ]
  },
  {
   "cell_type": "code",
   "execution_count": 12,
   "metadata": {},
   "outputs": [
    {
     "name": "stdout",
     "output_type": "stream",
     "text": [
      "W0019-1046 70.03047091412742\n",
      "W0204-0506 1406.8097571842277\n",
      "W0220+0137 1297.895429362881\n",
      "W0831+0140 325.75847709696615\n",
      "W0116-0505 3909.544609690424\n"
     ]
    }
   ],
   "source": [
    "#Calculate the chi2 maps for each model. \n",
    "force_new=False\n",
    "#force_new=True\n",
    "p_map = dict()\n",
    "chi2_map = dict()\n",
    "pw = LoadSKIRTOR_MRN77()\n",
    "for wid in op.wids:\n",
    "    bands_use = list()\n",
    "    p_meas = list()\n",
    "    p_unc = list()\n",
    "    for band in op.pfrac[wid].keys():\n",
    "        bands_use.append(bands.bp[band])\n",
    "        p_meas.append(op.pfrac[wid][band])\n",
    "        p_unc.append(op.epfrac[wid][band])\n",
    "\n",
    "    fname = \"maps/chi2_map_{}.fits\".format(wid)\n",
    "    if os.path.exists(fname) and not force_new:\n",
    "        h = fits.open(fname)\n",
    "        tang_grid = np.array(h[0].header['TANGGRID'].split()).astype(float)\n",
    "        tang_grid = tang_grid * u.Unit(h[0].header['TANGUNIT'])\n",
    "        cang_grid = np.array(h[0].header['CANGGRID'].split()).astype(float)\n",
    "        cang_grid = cang_grid * u.Unit(h[0].header['CANGUNIT'])\n",
    "        iang_grid = np.array(h[0].header['IANGGRID'].split()).astype(float)\n",
    "        iang_grid = iang_grid * u.Unit(h[0].header['IANGUNIT'])\n",
    "        chi2_map[wid] = np.ma.zeros((len(tang_grid), len(cang_grid), len(iang_grid)))\n",
    "        chi2_map[wid][:,:,:] = h[0].data\n",
    "        chi2_map[wid].mask = h[1].data.astype(bool)\n",
    "        print(wid, chi2_map[wid][0,0,0])\n",
    "    else:\n",
    "        p_map[wid], chi2_map[wid], tang_grid, cang_grid, iang_grid = get_p_chi2_map_bb(p_meas, p_unc, bands_use, specs, wid, pw)\n",
    "        print(wid, chi2_map[wid][0,0,0])\n",
    "        save_p_chi2(chi2_map[wid], tang_grid, cang_grid, iang_grid, wid)"
   ]
  },
  {
   "cell_type": "code",
   "execution_count": 13,
   "metadata": {},
   "outputs": [
    {
     "name": "stdout",
     "output_type": "stream",
     "text": [
      "55.5 deg 46.0 deg 90.0 deg 0.011751527079971583\n"
     ]
    }
   ],
   "source": [
    "#Find the best solution for W0116-0505\n",
    "i, j, k = np.unravel_index(np.argmin(chi2_map['W0116-0505'], axis=None), chi2_map['W0116-0505'].shape)\n",
    "print(tang_grid[i], cang_grid[j], iang_grid[k], chi2_map['W0116-0505'].min())"
   ]
  },
  {
   "cell_type": "code",
   "execution_count": 14,
   "metadata": {},
   "outputs": [
    {
     "name": "stdout",
     "output_type": "stream",
     "text": [
      "35.0 deg 55.5 deg\n",
      "20.0 deg 46.5 deg\n",
      "46.0 deg 90.0 deg\n"
     ]
    }
   ],
   "source": [
    "#Find the uncertainty as well. \n",
    "wid = 'W0116-0505'\n",
    "indices = np.argwhere(chi2_map[wid]<=np.min(chi2_map[wid])+1.0)\n",
    "#indices = np.argwhere(chi2_map[wid]<=2.0 * np.min(chi2_map[wid]))\n",
    "print(np.min(tang_grid[indices[:,0]]), np.max(tang_grid[indices[:,0]]))\n",
    "print(np.min(cang_grid[indices[:,1]]), np.max(cang_grid[indices[:,1]]))\n",
    "print(np.min(iang_grid[indices[:,2]]), np.max(iang_grid[indices[:,2]]))"
   ]
  },
  {
   "cell_type": "code",
   "execution_count": 15,
   "metadata": {},
   "outputs": [
    {
     "data": {
      "image/png": "[encoded data removed]",
      "text/plain": [
       "<Figure size 640x480 with 1 Axes>"
      ]
     },
     "metadata": {},
     "output_type": "display_data"
    }
   ],
   "source": [
    "lam_grid = np.arange(1200., 3000., 20.)*u.AA\n",
    "\n",
    "#Plot the range of models. \n",
    "indices = np.argwhere(chi2_map[wid]<=np.min(chi2_map[wid])+1.0)\n",
    "#indices = np.argwhere(chi2_map[wid]<=np.min(2.0*chi2_map[wid]))\n",
    "curve_min = np.zeros(len(lam_grid)) + 1e32\n",
    "curve_max = np.zeros(curve_min.shape)\n",
    "for ind in indices:\n",
    "    i, j, k = ind\n",
    "    paux = 100*pw.p((tang_grid[i]*np.ones(lam_grid.shape), cang_grid[j]*np.ones(lam_grid.shape), iang_grid[k]*np.ones(lam_grid.shape), lam_grid.value))\n",
    "    curve_min = np.where(paux < curve_min, paux, curve_min)\n",
    "    curve_max = np.where(paux > curve_max, paux, curve_max)\n",
    "plt.fill_between(lam_grid.value, curve_min, curve_max, color='cyan', alpha=0.5)\n",
    "\n",
    "#Now plot the best fit. \n",
    "i, j, k = np.unravel_index(np.argmin(chi2_map[wid], axis=None), chi2_map[wid].shape)\n",
    "plt.plot(lam_grid, 100*pw.p((tang_grid[i]*np.ones(lam_grid.shape), cang_grid[j]*np.ones(lam_grid.shape), iang_grid[k]*np.ones(lam_grid.shape), lam_grid)))\n",
    "\n",
    "wid = \"W0116-0505\"\n",
    "for bname in op.pfrac[wid].keys():\n",
    "    plt.errorbar([bands.bp[bname].barlam().value/(1+op.z[wid])], [op.pfrac[wid][bname]], xerr=[bands.bp[bname].rectwidth().value/2./(1+op.z[wid])], yerr=[op.epfrac[wid][bname]], marker='o', color='k')\n",
    "\n",
    "    #p_mod = pw.p_bb(bands.bp[bname], [tang_grid[i]], [cang_grid[j]], [iang_grid[k]], specs.lam_obs[wid], specs.flam[wid], op.z[wid])\n",
    "    p_mod = pw.p_bb(bands.bp[bname], tang_grid[i:i+1], cang_grid[j:j+1], iang_grid[k:k+1], specs.lam_obs[wid], specs.flam[wid], op.z[wid])\n",
    "    plt.plot([bands.bp[bname].barlam().value/(1+op.z[wid])], [p_mod[0,0,0]*100], 'bx')\n",
    "    "
   ]
  },
  {
   "cell_type": "code",
   "execution_count": 16,
   "metadata": {},
   "outputs": [],
   "source": [
    "#Obtained the combined chi2 of the fit. Specifically, we optimize the fit for every objects for a fixed combination of torus and cone openings and generate a chi2 map in this way. \n",
    "chi2_all = np.zeros(chi2_map[op.wids[0]].shape[:2])\n",
    "for wid in op.wids:\n",
    "    chi2_all += np.min(chi2_map[wid], axis=2)"
   ]
  },
  {
   "cell_type": "code",
   "execution_count": 17,
   "metadata": {},
   "outputs": [
    {
     "name": "stdout",
     "output_type": "stream",
     "text": [
      "53.0 deg 33.0 deg 3.0293995158864\n",
      "W0019-1046 53.5 deg 1.7874482511516792\n",
      "W0204-0506 71.0 deg 0.05712978441225381\n",
      "W0220+0137 70.5 deg 0.06746016279134529\n",
      "W0831+0140 54.0 deg 0.42920663573007195\n",
      "W0116-0505 64.0 deg 0.6881546818010496\n"
     ]
    }
   ],
   "source": [
    "i, j = np.unravel_index(np.argmin(chi2_all, axis=None), chi2_all.shape)\n",
    "print(tang_grid[i], cang_grid[j], chi2_all.min())\n",
    "for wid in op.wids:\n",
    "    print(wid, iang_grid[np.argmin(chi2_map[wid][i,j])], np.min(chi2_map[wid][i,j]))"
   ]
  },
  {
   "cell_type": "code",
   "execution_count": 18,
   "metadata": {},
   "outputs": [],
   "source": [
    "chi2_all_masked = np.zeros(chi2_map[op.wids[0]].shape[:2])\n",
    "for wid in op.wids:\n",
    "    for i, tang in enumerate(tang_grid):\n",
    "        for j, cang in enumerate(cang_grid):\n",
    "            if tang>cang:\n",
    "                cond = iang_grid>tang\n",
    "                chi2_all_masked[i,j] += np.min(chi2_map[wid][i,j,cond])\n",
    "            else:\n",
    "                chi2_all_masked[i,j] = np.inf"
   ]
  },
  {
   "cell_type": "code",
   "execution_count": 19,
   "metadata": {},
   "outputs": [
    {
     "name": "stdout",
     "output_type": "stream",
     "text": [
      "53.0 deg 33.0 deg 3.0293995158864\n",
      "W0019-1046 53.5 deg 1.7874482511516792\n",
      "W0204-0506 71.0 deg 0.05712978441225381\n",
      "W0220+0137 70.5 deg 0.06746016279134529\n",
      "W0831+0140 54.0 deg 0.42920663573007195\n",
      "W0116-0505 64.0 deg 0.6881546818010496\n"
     ]
    }
   ],
   "source": [
    "i, j = np.unravel_index(np.argmin(chi2_all_masked, axis=None), chi2_all.shape)\n",
    "print(tang_grid[i], cang_grid[j], chi2_all_masked.min())\n",
    "for wid in op.wids:\n",
    "    print(wid, iang_grid[np.argmin(chi2_map[wid][i,j])], np.min(chi2_map[wid][i,j]))"
   ]
  },
  {
   "cell_type": "code",
   "execution_count": 20,
   "metadata": {},
   "outputs": [],
   "source": [
    "#Set the additional SKIRTOR models we want to plot for W0116-0505. \n",
    "wid = \"W0116-0505\"\n",
    "other_sk_models = [\n",
    "    {\"d03_mod\":\"MW\"},\n",
    "    {\"d03_mod\":\"LMC\"},\n",
    "    {\"d03_mod\":\"SMC\"},\n",
    "    #{\"gs_min\":0.005, \"gs_max\":0.25, \"a\":3.5},\n",
    "    {\"gs_min\":1, \"gs_max\":10, \"a\":3.5, \"sil\":True},\n",
    "    #{\"gs_min\":0.1, \"gs_max\":1, \"a\":0.0},\n",
    "    #{\"gs_min\":0.1, \"gs_max\":1, \"a\":3.5},\n",
    "    {\"gs_min\":0.1, \"gs_max\":1, \"a\":3.5, \"sil\":True},\n",
    "]\n",
    "other_sk = list()\n",
    "other_chi2 = list()\n",
    "for oskm in other_sk_models:\n",
    "    other_sk.append(LoadSKIRTOR_General(**oskm))\n",
    "    chi2_aux = np.zeros(len(iang_grid))\n",
    "    for bname in op.pfrac[wid].keys():\n",
    "        p_aux = other_sk[-1].p_bb(bands.bp[bname], iang_grid, specs.lam_obs[wid], specs.flam[wid], specs.specs.sp[wid].zspec)\n",
    "        chi2_aux += ((p_aux*100 - op.pfrac[wid][bname])/op.epfrac[wid][bname])**2\n",
    "    other_chi2.append(chi2_aux)\n"
   ]
  },
  {
   "cell_type": "code",
   "execution_count": 21,
   "metadata": {},
   "outputs": [
    {
     "data": {
      "text/plain": [
       "('W0116-0505', <Quantity 55.5 deg>, <Quantity 46. deg>, <Quantity 90. deg>)"
      ]
     },
     "execution_count": 21,
     "metadata": {},
     "output_type": "execute_result"
    }
   ],
   "source": [
    "i1, j1, k1 = np.unravel_index(np.argmin(chi2_map[wid], axis=None), chi2_map[wid].shape)\n",
    "wid, tang_grid[i1], cang_grid[j1], iang_grid[k1]"
   ]
  },
  {
   "cell_type": "code",
   "execution_count": 22,
   "metadata": {},
   "outputs": [
    {
     "name": "stdout",
     "output_type": "stream",
     "text": [
      "35.0 deg 55.5 deg 55.5 deg\n",
      "20.0 deg 46.5 deg 46.0 deg\n",
      "46.0 deg 90.0 deg 90.0 deg\n",
      "0.011751527079971583\n"
     ]
    }
   ],
   "source": [
    "wid = \"W0116-0505\"\n",
    "indices = np.argwhere(chi2_map[wid]<1.0+np.min(chi2_map[wid]))\n",
    "#indices = np.argwhere(chi2_map[wid]<2.0*np.min(chi2_map[wid]))\n",
    "index_min = np.unravel_index(np.argmin(chi2_map[wid], axis=None), chi2_map[wid].shape)\n",
    "print(np.min(tang_grid[indices[:,0]]), np.max(tang_grid[indices[:,0]]), tang_grid[index_min[0]])\n",
    "print(np.min(cang_grid[indices[:,1]]), np.max(cang_grid[indices[:,1]]), cang_grid[index_min[1]])\n",
    "print(np.min(iang_grid[indices[:,2]]), np.max(iang_grid[indices[:,2]]), iang_grid[index_min[2]])\n",
    "print(np.min(chi2_map[wid]))"
   ]
  },
  {
   "cell_type": "code",
   "execution_count": 23,
   "metadata": {},
   "outputs": [
    {
     "name": "stdout",
     "output_type": "stream",
     "text": [
      "53.0 deg 58.0 deg 53.0 deg\n",
      "31.0 deg 39.5 deg 33.0 deg\n",
      "3.0293995158864\n"
     ]
    }
   ],
   "source": [
    "indices = np.argwhere(chi2_all_masked<1.0+np.min(chi2_all_masked))\n",
    "#indices = np.argwhere(chi2_all_masked<2.0*np.min(chi2_all_masked))\n",
    "index_min = np.unravel_index(np.argmin(chi2_all_masked, axis=None), chi2_all_masked.shape)\n",
    "print(np.min(tang_grid[indices[:,0]]), np.max(tang_grid[indices[:,0]]), tang_grid[index_min[0]])\n",
    "print(np.min(cang_grid[indices[:,1]]), np.max(cang_grid[indices[:,1]]), cang_grid[index_min[1]])\n",
    "print(np.min(chi2_all))"
   ]
  },
  {
   "cell_type": "code",
   "execution_count": 24,
   "metadata": {},
   "outputs": [
    {
     "name": "stdout",
     "output_type": "stream",
     "text": [
      "53.0 deg 58.0 deg 53.0 deg\n",
      "31.0 deg 39.5 deg 33.0 deg\n",
      "3.0293995158864\n"
     ]
    }
   ],
   "source": [
    "indices = np.argwhere(chi2_all_masked<1.0+np.min(chi2_all_masked))\n",
    "index_min = np.unravel_index(np.argmin(chi2_all_masked, axis=None), chi2_all_masked.shape)\n",
    "print(np.min(tang_grid[indices[:,0]]), np.max(tang_grid[indices[:,0]]), tang_grid[index_min[0]])\n",
    "print(np.min(cang_grid[indices[:,1]]), np.max(cang_grid[indices[:,1]]), cang_grid[index_min[1]])\n",
    "print(np.min(chi2_all))"
   ]
  },
  {
   "cell_type": "code",
   "execution_count": 25,
   "metadata": {},
   "outputs": [
    {
     "name": "stdout",
     "output_type": "stream",
     "text": [
      "53.0 deg 58.0 deg\n",
      "31.0 deg 39.5 deg\n"
     ]
    }
   ],
   "source": [
    "indices = np.argwhere(chi2_all<1.0+np.min(chi2_all))\n",
    "print(np.min(tang_grid[indices[:,0]]), np.max(tang_grid[indices[:,0]]))\n",
    "print(np.min(cang_grid[indices[:,1]]), np.max(cang_grid[indices[:,1]]))"
   ]
  },
  {
   "cell_type": "code",
   "execution_count": 27,
   "metadata": {},
   "outputs": [
    {
     "data": {
      "image/png": "[encoded data removed]",
      "text/plain": [
       "<Figure size 1000x400 with 2 Axes>"
      ]
     },
     "metadata": {},
     "output_type": "display_data"
    }
   ],
   "source": [
    "colors = {\"W0116-0505\":\"xkcd:green\", \"W0019-1046\":\"magenta\", \"W0204-0506\":\"blue\", \"W0220+0137\":\"red\", \"W0831+0140\":\"cyan\"}\n",
    "\n",
    "fig, axs = plt.subplots(1,2, figsize=(10,4), sharey=True, sharex=True)\n",
    "plt.subplots_adjust(wspace=0., hspace=0.)\n",
    "\n",
    "for ax in axs:\n",
    "    ax.tick_params(axis=\"both\", direction=\"in\", labelsize=12, bottom=True, top=True, left=True, right=True)\n",
    "\n",
    "#On one plot, we show the best solution for W0116-0505. \n",
    "lam_grid = np.arange(1200., 3000., 20.)*u.AA\n",
    "wid = \"W0116-0505\"\n",
    "\n",
    "#First plot the range of plaussible models. \n",
    "indices = np.argwhere(chi2_map[wid]<=np.min(chi2_map[wid])+1.0)\n",
    "#indices = np.argwhere(chi2_map[wid]<=2.0*np.min(chi2_map[wid]))\n",
    "curve_min = np.zeros(len(lam_grid)) + 1e32\n",
    "curve_max = np.zeros(curve_min.shape)\n",
    "for ind in indices:\n",
    "    i, j, k = ind\n",
    "    paux = 100*pw.p((tang_grid[i]*np.ones(lam_grid.shape), cang_grid[j]*np.ones(lam_grid.shape), iang_grid[k]*np.ones(lam_grid.shape), lam_grid.value))\n",
    "    curve_min = np.where(paux < curve_min, paux, curve_min)\n",
    "    curve_max = np.where(paux > curve_max, paux, curve_max)\n",
    "axs[0].fill_between(lam_grid.value, curve_min, curve_max, color=colors[wid], alpha=0.2)\n",
    "\n",
    "#labels = ['Draine (2003) Mixtures', None, None, 'Small grains graphite only', 'Large grains', 'MRN77 + silicate']\n",
    "labels = ['Draine (2003) Mixtures', None, None, 'Large grains', 'MRN77 + silicate']\n",
    "for mm, osk in enumerate(other_sk):\n",
    "    kk = np.argmin(other_chi2[mm])\n",
    "    ls = 'dashed'\n",
    "    if mm==3:\n",
    "        ls = 'dashdot'\n",
    "    elif mm==4:\n",
    "        ls = (5, (10,3))\n",
    "    # if mm>2 and mm<5:\n",
    "    #     ls = 'dashdot'\n",
    "    elif mm==5:\n",
    "        ls = 'dotted'\n",
    "    axs[0].plot(lam_grid, 100*osk.p((iang_grid[kk]*np.ones(lam_grid.shape), lam_grid)), c='xkcd:grey',ls=ls, label=labels[mm])\n",
    "i1, j1, k1 = np.unravel_index(np.argmin(chi2_map[wid], axis=None), chi2_map[wid].shape)\n",
    "axs[0].plot(lam_grid, 100*pw.p((tang_grid[i1]*np.ones(lam_grid.shape), cang_grid[j1]*np.ones(lam_grid.shape), iang_grid[k1]*np.ones(lam_grid.shape), lam_grid)), c=colors[wid],ls='solid', label='MRN77')\n",
    "\n",
    "for bname in op.pfrac[wid].keys():\n",
    "\n",
    "    axs[0].errorbar([bands.bp[bname].barlam().value/(1+op.z[wid])], [op.pfrac[wid][bname]], xerr=[bands.bp[bname].rectwidth().value/2./(1+op.z[wid])], yerr=[op.epfrac[wid][bname]], marker='o', c=colors[wid], markeredgecolor='black')\n",
    "\n",
    "    #p_mod = pw.p_bb(bands.bp[bname], [tang_grid[i1]], [cang_grid[j1]], [iang_grid[k1]], specs.lam_obs[wid], specs.flam[wid], op.z[wid])\n",
    "    p_mod = pw.p_bb(bands.bp[bname], tang_grid[i1:i1+1], cang_grid[j1:j1+1], iang_grid[k1:k1+1], specs.lam_obs[wid], specs.flam[wid], op.z[wid])\n",
    "    axs[0].plot([bands.bp[bname].barlam().value/(1+op.z[wid])], [p_mod[0,0,0]*100], c=colors[wid], marker='x')\n",
    "\n",
    "axs[0].text(0.05, 0.9, \"W0116-0505\", transform=axs[0].transAxes, fontsize=16, weight='bold')\n",
    "axs[0].text(0.05, 0.82, r\"$\\psi_{{\\rm Torus}} = {:.0f}^{{\\circ}}$\".format(tang_grid[i1].value), transform=axs[0].transAxes, fontsize=14)\n",
    "axs[0].text(0.05, 0.74, r\"$\\psi_{{\\rm Cone}}  = {:.0f}^{{\\circ}}$\".format(cang_grid[j1].value), transform=axs[0].transAxes, fontsize=14)\n",
    "axs[0].text(0.05, 0.66, r\"$\\eta = {:.0f}^{{\\circ}}$\".format(iang_grid[k1].value), transform=axs[0].transAxes, fontsize=14)\n",
    "\n",
    "axs[0].legend()#loc=(0.45, 0.55))\n",
    "\n",
    "#On the other, we will show the combined best fit.  \n",
    "lam_grid = np.arange(1200., 3000., 20.)*u.AA\n",
    "for wid in op.wids:\n",
    "    i2, j2 = np.unravel_index(np.argmin(chi2_all_masked, axis=None), chi2_all.shape)\n",
    "    for bname in op.pfrac[wid].keys():\n",
    "\n",
    "        k2 = np.argmin(chi2_map[wid][i2,j2,:])\n",
    "\n",
    "        if bname == \"R_SPECIAL\":\n",
    "            label = r\"{} $\\eta$=${}^{{\\circ}}$\".format(re.sub(\"-\",\"$-$\",wid), iang_grid[k2].value)\n",
    "        else:\n",
    "            label = None\n",
    "\n",
    "        axs[1].plot(lam_grid, 100*pw.p((tang_grid[i2]*np.ones(lam_grid.shape), cang_grid[j2]*np.ones(lam_grid.shape), iang_grid[k2]*np.ones(lam_grid.shape), lam_grid)), c=colors[wid],ls='solid')\n",
    "\n",
    "        axs[1].errorbar([bands.bp[bname].barlam().value/(1+op.z[wid])], [op.pfrac[wid][bname]], xerr=[bands.bp[bname].rectwidth().value/2./(1+op.z[wid])], yerr=[op.epfrac[wid][bname]], marker='o', color=colors[wid], markeredgecolor='black', label=label)\n",
    "\n",
    "        #p_mod = pw.p_bb(bands.bp[bname], [tang_grid[i2]], [cang_grid[j2]], [iang_grid[k2]], specs.lam_obs[wid], specs.flam[wid], op.z[wid])\n",
    "        p_mod = pw.p_bb(bands.bp[bname], tang_grid[i2:i2+1], cang_grid[j2:j2+1], iang_grid[k2:k2+1], specs.lam_obs[wid], specs.flam[wid], op.z[wid])\n",
    "        axs[1].plot([bands.bp[bname].barlam().value/(1+op.z[wid])], [p_mod[0,0,0]*100], c=colors[wid], marker='x')\n",
    "\n",
    "axs[1].text(0.05, 0.9, \"Combined Best-fit\", transform=axs[1].transAxes, fontsize=16, weight='bold')\n",
    "axs[1].text(0.05, 0.82, r\"$\\psi_{{\\rm Torus}} = {:.0f}^{{\\circ}}$\".format(tang_grid[i2].value), transform=axs[1].transAxes, fontsize=14)\n",
    "axs[1].text(0.05, 0.74, r\"$\\psi_{{\\rm Cone}}  = {:.0f}^{{\\circ}}$\".format(cang_grid[j2].value), transform=axs[1].transAxes, fontsize=14)\n",
    "#axs[1].text(0.05, 0.66, r\"$\\eta = {:.0f}^{{\\circ}}$\".format(iang_grid[k1].value), transform=axs[1].transAxes, fontsize=14)\n",
    "axs[1].legend()\n",
    "\n",
    "axs[0].set_ylim([0., 45.])\n",
    "\n",
    "axs[0].set_ylabel(r\"$P (\\%)$\", fontsize=16)\n",
    "fig.text(0.5, 0., r\"Rest-frame Wavelength $(\\rm \\AA)$\", ha='center', fontsize=16)\n",
    "\n",
    "fig.savefig(\"SKIRTOR_MRN77_best-fit.png\", dpi=100, bbox_inches='tight')\n"
   ]
  }
 ],
 "metadata": {
  "kernelspec": {
   "display_name": "stenv",
   "language": "python",
   "name": "python3"
  },
  "language_info": {
   "codemirror_mode": {
    "name": "ipython",
    "version": 3
   },
   "file_extension": ".py",
   "mimetype": "text/x-python",
   "name": "python",
   "nbconvert_exporter": "python",
   "pygments_lexer": "ipython3",
   "version": "3.11.3"
  }
 },
 "nbformat": 4,
 "nbformat_minor": 2
}
