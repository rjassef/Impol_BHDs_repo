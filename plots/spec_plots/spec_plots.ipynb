{
 "cells": [
  {
   "cell_type": "code",
   "execution_count": 4,
   "metadata": {},
   "outputs": [],
   "source": [
    "import numpy as np\n",
    "import matplotlib.pyplot as plt\n",
    "import os\n",
    "import sys"
   ]
  },
  {
   "cell_type": "code",
   "execution_count": 5,
   "metadata": {},
   "outputs": [],
   "source": [
    "SPEC_PIPE_LOC = \"{}/JPL/W12_Drops/spec_paper/Spec_pipeline\".format(os.path.expanduser(\"~\"))\n",
    "sys.path.append(SPEC_PIPE_LOC)\n",
    "os.environ['SPEC_PIPE_LOC'] = SPEC_PIPE_LOC\n",
    "from Spec_pipeline import SDSS_Spec, GMOS_Spec, DBSP_Spec"
   ]
  },
  {
   "cell_type": "code",
   "execution_count": 2,
   "metadata": {},
   "outputs": [],
   "source": [
    "objects = [\n",
    "    \"W0019-1046\",\n",
    "    \"W0116-0505\",\n",
    "    \"W0204-0506\",\n",
    "    \"W0220+0137\",\n",
    "    \"W0831+0140\"\n",
    "]"
   ]
  },
  {
   "cell_type": "code",
   "execution_count": null,
   "metadata": {},
   "outputs": [],
   "source": [
    "sp = SDSS_Spec(\"W0116-0505\",3.173,)"
   ]
  }
 ],
 "metadata": {
  "kernelspec": {
   "display_name": "stenv",
   "language": "python",
   "name": "python3"
  },
  "language_info": {
   "codemirror_mode": {
    "name": "ipython",
    "version": 3
   },
   "file_extension": ".py",
   "mimetype": "text/x-python",
   "name": "python",
   "nbconvert_exporter": "python",
   "pygments_lexer": "ipython3",
   "version": "3.11.3"
  }
 },
 "nbformat": 4,
 "nbformat_minor": 2
}
