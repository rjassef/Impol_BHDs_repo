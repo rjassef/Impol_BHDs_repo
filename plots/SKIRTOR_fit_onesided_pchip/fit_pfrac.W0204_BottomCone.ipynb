{
 "cells": [
  {
   "cell_type": "code",
   "execution_count": null,
   "metadata": {},
   "outputs": [],
   "source": [
    "import numpy as np\n",
    "import re\n",
    "import subprocess\n",
    "import matplotlib.pyplot as plt\n",
    "import matplotlib \n",
    "import astropy.units as u\n",
    "from astropy.io import fits\n",
    "from astropy.constants import m_p, M_sun\n",
    "\n",
    "import os\n",
    "gd_folder = os.getcwd()+\"/../../Calculations/SKIRTOR/\"\n",
    "\n",
    "import sys \n",
    "sys.path.append(gd_folder)\n",
    "#from loadSKIRTOR_MRN77 import LoadSKIRTOR_MRN77\n",
    "from loadSKIRTOR_MRN77_force_reg import LoadSKIRTOR_MRN77\n",
    "from loadSKIRTOR_General import LoadSKIRTOR_General\n",
    "\n",
    "sys.path.append(\"../utility_functions/\")\n",
    "from objectProperties import ObjectProperties\n",
    "from readExtrapolatedSpectra import ReadExtrapolatedSpectra\n",
    "\n",
    "sys.path.append(\"../../Filter_Curves/\")\n",
    "from readBands import ReadBands"
   ]
  },
  {
   "cell_type": "code",
   "execution_count": null,
   "metadata": {},
   "outputs": [],
   "source": [
    "#Use the latex font when plotting. \n",
    "matplotlib.rcParams['mathtext.fontset'] = 'stix'\n",
    "matplotlib.rcParams['font.family'] = 'STIXGeneral'"
   ]
  },
  {
   "cell_type": "code",
   "execution_count": null,
   "metadata": {},
   "outputs": [],
   "source": [
    "wid = \"W0204-0506\""
   ]
  },
  {
   "cell_type": "code",
   "execution_count": null,
   "metadata": {},
   "outputs": [],
   "source": [
    "#Load the properties of the BHDs\n",
    "op = ObjectProperties([wid])"
   ]
  },
  {
   "cell_type": "code",
   "execution_count": null,
   "metadata": {},
   "outputs": [],
   "source": [
    "#Load the bands.\n",
    "bands = ReadBands()\n",
    "for bname in bands.bandnames:\n",
    "    print(bname, bands.bp[bname].barlam(), bands.bp[bname].fwhm(), bands.bp[bname].rectwidth())"
   ]
  },
  {
   "cell_type": "code",
   "execution_count": null,
   "metadata": {},
   "outputs": [],
   "source": [
    "#Load the spectra for each BHD, extended using the best-fit SED.\n",
    "specs = ReadExtrapolatedSpectra([wid])"
   ]
  },
  {
   "cell_type": "code",
   "execution_count": null,
   "metadata": {},
   "outputs": [],
   "source": [
    "#Read the MRN77 chi2 map. \n",
    "p_map = dict()\n",
    "chi2_map = dict()\n",
    "pw = LoadSKIRTOR_MRN77(cone_type='Bottom', interp_method='pchip')\n",
    "\n",
    "bands_use = list()\n",
    "p_meas = list()\n",
    "p_unc = list()\n",
    "for band in op.pfrac[wid].keys():\n",
    "    bands_use.append(bands.bp[band])\n",
    "    p_meas.append(op.pfrac[wid][band])\n",
    "    p_unc.append(op.epfrac[wid][band])\n",
    "\n",
    "fname = \"maps_BottomCone/chi2_map_{}.fits\".format(wid)\n",
    "h = fits.open(fname)\n",
    "tang_grid = np.array(h[0].header['TANGGRID'].split()).astype(float)\n",
    "tang_grid = tang_grid * u.Unit(h[0].header['TANGUNIT'])\n",
    "cang_grid = np.array(h[0].header['CANGGRID'].split()).astype(float)\n",
    "cang_grid = cang_grid * u.Unit(h[0].header['CANGUNIT'])\n",
    "iang_grid = np.array(h[0].header['IANGGRID'].split()).astype(float)\n",
    "iang_grid = iang_grid * u.Unit(h[0].header['IANGUNIT'])\n",
    "chi2_map[wid] = np.ma.zeros((len(tang_grid), len(cang_grid), len(iang_grid)))\n",
    "chi2_map[wid][:,:,:] = h[0].data\n",
    "chi2_map[wid].mask = h[1].data.astype(bool)\n",
    "print(wid, chi2_map[wid][0,0,0])"
   ]
  },
  {
   "cell_type": "code",
   "execution_count": null,
   "metadata": {},
   "outputs": [],
   "source": [
    "#Find the best solution for W0204-0506\n",
    "i, j, k = np.unravel_index(np.argmin(chi2_map[wid], axis=None), chi2_map[wid].shape)\n",
    "print(tang_grid[i], cang_grid[j], iang_grid[k], chi2_map[wid].min())"
   ]
  },
  {
   "cell_type": "code",
   "execution_count": null,
   "metadata": {},
   "outputs": [],
   "source": [
    "lam_grid = np.arange(1200., 3000., 20.)*u.AA\n",
    "plt.plot(lam_grid, 100*pw.p((tang_grid[i]*np.ones(lam_grid.shape), cang_grid[j]*np.ones(lam_grid.shape), iang_grid[k]*np.ones(lam_grid.shape), lam_grid)))\n",
    "\n",
    "for bname in op.pfrac[wid].keys():\n",
    "    plt.errorbar([bands.bp[bname].barlam().value/(1+op.z[wid])], [op.pfrac[wid][bname]], xerr=[bands.bp[bname].rectwidth().value/2./(1+op.z[wid])], yerr=[op.epfrac[wid][bname]], marker='o', color='k')\n",
    "\n",
    "    #p_mod = pw.p_bb(bands.bp[bname], [tang_grid[i]], [cang_grid[j]], [iang_grid[k]], specs.lam_obs[wid], specs.flam[wid], op.z[wid])\n",
    "    #plt.plot([bands.bp[bname].barlam().value/(1+op.z[wid])], [p_mod[0,0,0]*100], 'bx')\n",
    "    p_mod = pw.p_bb(bands.bp[bname], tang_grid[i:i+1], cang_grid[j:j+1], iang_grid[k:k+1], specs.lam_obs[wid], specs.flam[wid], op.z[wid])\n",
    "    plt.plot([bands.bp[bname].barlam().value/(1+op.z[wid])], [p_mod[0,0,0]*100], 'bx')"
   ]
  },
  {
   "cell_type": "code",
   "execution_count": null,
   "metadata": {},
   "outputs": [],
   "source": [
    "#Set the additional SKIRTOR models we want to plot for W0204-0506\n",
    "other_sk_models = [\n",
    "    {\"d03_mod\":\"MW\"},\n",
    "    {\"d03_mod\":\"LMC\"},\n",
    "    {\"d03_mod\":\"SMC\"},\n",
    "    #{\"gs_min\":0.005, \"gs_max\":0.25, \"a\":3.5},\n",
    "    {\"gs_min\":1, \"gs_max\":10, \"a\":3.5, \"sil\":True},\n",
    "    #{\"gs_min\":0.1, \"gs_max\":1, \"a\":0.0},\n",
    "    #{\"gs_min\":0.1, \"gs_max\":1, \"a\":3.5},\n",
    "    #{\"gs_min\":0.1, \"gs_max\":1, \"a\":3.5, \"sil\":True},\n",
    "    {\"gs_min\":0.005, \"gs_max\":0.25, \"a\":3.5, \"sil\":True},\n",
    "]\n",
    "other_sk = list()\n",
    "other_chi2 = list()\n",
    "for oskm in other_sk_models:\n",
    "    other_sk.append(LoadSKIRTOR_General(**oskm))\n",
    "    chi2_aux = np.zeros(len(iang_grid))\n",
    "    for bname in op.pfrac[wid].keys():\n",
    "        p_aux = other_sk[-1].p_bb(bands.bp[bname], iang_grid, specs.lam_obs[wid], specs.flam[wid], specs.specs.sp[wid].zspec)\n",
    "        chi2_aux += ((p_aux*100 - op.pfrac[wid][bname])/op.epfrac[wid][bname])**2\n",
    "    other_chi2.append(chi2_aux)\n"
   ]
  },
  {
   "cell_type": "code",
   "execution_count": null,
   "metadata": {},
   "outputs": [],
   "source": [
    "np.argwhere(chi2_map[wid]<3.).shape, chi2_map[wid].shape"
   ]
  },
  {
   "cell_type": "code",
   "execution_count": null,
   "metadata": {},
   "outputs": [],
   "source": [
    "fig, ax = plt.subplots(1)#, figsize=(10,4))\n",
    "plt.subplots_adjust(wspace=0., hspace=0.)\n",
    "\n",
    "ax.tick_params(axis='both', which='both', direction='in', labelsize=14)\n",
    "\n",
    "lam_grid = np.arange(1200., 3000., 20.)*u.AA\n",
    "\n",
    "#labels = ['Draine (2003) Mixtures', None, None, 'Small grains graphite only', 'Large grains', 'MRN77 + silicate']\n",
    "labels = ['Draine (2003) Mixtures', None, None, 'Large grains', 'MRN77 + silicate']\n",
    "for mm, osk in enumerate(other_sk):\n",
    "    kk = np.argmin(other_chi2[mm])\n",
    "    ls = 'dashed'\n",
    "    if mm==3:\n",
    "        ls = 'dashdot'\n",
    "    #elif mm==4:\n",
    "    #    ls = (5, (10,3))\n",
    "    # if mm>2 and mm<5:\n",
    "    #     ls = 'dashdot'\n",
    "    elif mm==4:\n",
    "        ls = 'dotted'\n",
    "    ax.plot(lam_grid, 100*osk.p((iang_grid[kk]*np.ones(lam_grid.shape), lam_grid)), c='xkcd:grey',ls=ls, label=labels[mm])\n",
    "    \n",
    "#i1, j1, k1 = np.unravel_index(np.argmin(chi2_map[wid], axis=None), chi2_map[wid].shape)\n",
    "#ax.plot(lam_grid, 100*pw.p((tang_grid[i1]*np.ones(lam_grid.shape), cang_grid[j1]*np.ones(lam_grid.shape), iang_grid[k1]*np.ones(lam_grid.shape), lam_grid)), c='xkcd:green',ls='solid', label='MRN77')\n",
    "\n",
    "min_curve = np.zeros(len(lam_grid)) + 1e32\n",
    "max_curve = np.zeros(len(lam_grid))\n",
    "for ind in np.argwhere(chi2_map[wid]<1.0):\n",
    "    i1, j1, k1 = ind\n",
    "    curve = 100*pw.p((tang_grid[i1]*np.ones(lam_grid.shape), cang_grid[j1]*np.ones(lam_grid.shape), iang_grid[k1]*np.ones(lam_grid.shape), lam_grid))\n",
    "    min_curve = np.where(curve<min_curve, curve, min_curve)\n",
    "    max_curve = np.where(curve>max_curve, curve, max_curve)\n",
    "    #ax.plot(lam_grid, 100*pw.p((tang_grid[i1]*np.ones(lam_grid.shape), cang_grid[j1]*np.ones(lam_grid.shape), iang_grid[k1]*np.ones(lam_grid.shape), lam_grid)), c='xkcd:green',ls='solid', alpha=0.1)#, label='MRN77')\n",
    "ax.fill_between(lam_grid.value, min_curve, max_curve, color='xkcd:green', alpha=0.3, label='MRN77')\n",
    "\n",
    "for bname in op.pfrac[wid].keys():\n",
    "\n",
    "    ax.errorbar([bands.bp[bname].barlam().value/(1+op.z[wid])], [op.pfrac[wid][bname]], xerr=[bands.bp[bname].rectwidth().value/2./(1+op.z[wid])], yerr=[op.epfrac[wid][bname]], marker='o', c='blue', markeredgecolor='black')\n",
    "\n",
    "    #p_mod = pw.p_bb(bands.bp[bname], [tang_grid[i1]], [cang_grid[j1]], [iang_grid[k1]], specs.lam_obs[wid], specs.flam[wid], op.z[wid])\n",
    "    #ax.plot([bands.bp[bname].barlam().value/(1+op.z[wid])], [p_mod[0,0,0]*100], c='blue', marker='x')\n",
    "\n",
    "# ax.text(0.05, 0.9, \"{} Best-fit\".format(wid), transform=ax.transAxes, fontsize=16, weight='bold')\n",
    "# ax.text(0.05, 0.82, r\"$\\psi_{{\\rm Torus}} = {:.0f}^{{\\circ}}$\".format(tang_grid[i1].value), transform=ax.transAxes, fontsize=14)\n",
    "# ax.text(0.05, 0.74, r\"$\\psi_{{\\rm Cone}}  = {:.0f}^{{\\circ}}$\".format(cang_grid[j1].value), transform=ax.transAxes, fontsize=14)\n",
    "# ax.text(0.05, 0.66, r\"$\\eta = {:.0f}^{{\\circ}}$\".format(iang_grid[k1].value), transform=ax.transAxes, fontsize=14)\n",
    "\n",
    "ax.legend()#loc=(0.67, 0.7))\n",
    "\n",
    "ax.set_ylim([0., 45.])\n",
    "\n",
    "ax.set_ylabel(r\"$P (\\%)$\", fontsize=16)\n",
    "ax.set_xlabel(r\"Rest-frame Wavelength $(\\rm \\AA)$\", fontsize=16)\n",
    "\n",
    "fig.savefig(\"SKIRTOR_W0204.png\", dpi=200, bbox_inches='tight')\n"
   ]
  },
  {
   "cell_type": "code",
   "execution_count": null,
   "metadata": {},
   "outputs": [],
   "source": [
    "chi2_aux = np.min(chi2_map[wid], axis=2)\n",
    "for i, tang in enumerate(tang_grid):\n",
    "    for j, cang in enumerate(cang_grid):\n",
    "        if cang+5*u.deg > tang:\n",
    "            chi2_aux[i,j] = np.nan\n",
    "cmap = 'YlGnBu_r'\n",
    "#cmap = 'gray'\n",
    "cb = plt.imshow(chi2_aux, origin='lower', vmax=5., cmap=cmap, extent=[np.min(cang_grid.value), np.max(cang_grid.value), np.min(tang_grid.value), np.max(tang_grid.value)])\n",
    "plt.xlim(plt.xlim())\n",
    "plt.ylim(plt.ylim())\n",
    "plt.plot(plt.xlim(), np.array(plt.xlim())+5, 'k--') \n",
    "plt.xlabel(\"Cone half-opening angle\")\n",
    "plt.ylabel(\"Torus half-opening angle\")\n",
    "plt.colorbar(cb)"
   ]
  },
  {
   "cell_type": "code",
   "execution_count": null,
   "metadata": {},
   "outputs": [],
   "source": [
    "cb = plt.imshow(np.min(chi2_map[wid], axis=1), origin='lower', vmax=3., cmap='YlGnBu_r', extent=[np.min(iang_grid.value), np.max(iang_grid.value), np.min(tang_grid.value), np.max(tang_grid.value)])\n",
    "plt.xlabel(\"Inclination angle\")\n",
    "plt.ylabel(\"Torus half-opening angle\")\n",
    "plt.colorbar(cb)"
   ]
  },
  {
   "cell_type": "code",
   "execution_count": null,
   "metadata": {},
   "outputs": [],
   "source": [
    "cb = plt.imshow(np.min(chi2_map[wid], axis=0), origin='lower', vmin=1.0, vmax=3., cmap='YlGnBu_r', extent=[np.min(iang_grid.value), np.max(iang_grid.value), np.min(cang_grid.value), np.max(cang_grid.value)])\n",
    "plt.xlabel(\"Inclination angle\")\n",
    "plt.ylabel(\"Cone half-opening angle\")\n",
    "plt.colorbar(cb)"
   ]
  },
  {
   "cell_type": "code",
   "execution_count": null,
   "metadata": {},
   "outputs": [],
   "source": [
    "chi2_use = np.sum(chi2_map[wid], axis=0)\n",
    "chi2_use -= np.min(chi2_use)\n",
    "cb = plt.imshow(chi2_use, origin='lower', cmap='YlGnBu_r', extent=[np.min(iang_grid.value), np.max(iang_grid.value), np.min(cang_grid.value), np.max(cang_grid.value)])\n",
    "plt.xlabel(\"Inclination angle\")\n",
    "plt.ylabel(\"Cone half-opening angle\")\n",
    "plt.colorbar(cb)"
   ]
  },
  {
   "cell_type": "code",
   "execution_count": null,
   "metadata": {},
   "outputs": [],
   "source": [
    "cb = plt.imshow(np.log10(np.min(chi2_map[wid], axis=0)), origin='lower', vmin=np.log10(6e-5), vmax=np.log10(5.), cmap='YlGnBu_r', extent=[np.min(iang_grid.value), np.max(iang_grid.value), np.min(cang_grid.value), np.max(cang_grid.value)])\n",
    "plt.xlabel(\"Inclination angle\")\n",
    "plt.ylabel(\"Cone half-opening angle\")\n",
    "plt.colorbar(cb)"
   ]
  },
  {
   "cell_type": "code",
   "execution_count": null,
   "metadata": {},
   "outputs": [],
   "source": [
    "fig, axs = plt.subplots(1, 3, figsize=(12,6), layout='constrained')\n",
    "for ax in axs.flatten():\n",
    "   #ax.tick_params(axis='both', which='major', labelsize=14)\n",
    "   #ax.tick_params(axis='both', which='minor', labelsize=12)\n",
    "   ax.tick_params(axis='both', direction='in', labelsize=14, bottom=True, top=True, left=True, right=True)\n",
    "#    ax.set_aspect('auto')\n",
    "\n",
    "vmin = np.min(chi2_map[wid])\n",
    "vmax = 3.0\n",
    "cmap = 'YlGnBu_r'\n",
    "#cmap = 'gray'\n",
    "\n",
    "axis_label_fontsize = 14\n",
    "\n",
    "chi2_use = np.ma.zeros(chi2_map[wid].shape)\n",
    "chi2_use.mask = np.zeros(chi2_use.shape, dtype=bool)\n",
    "chi2_use[:,:,:] = np.copy(chi2_map[wid])\n",
    "II, JJ, KK = np.meshgrid(tang_grid.value, cang_grid.value, iang_grid.value, indexing='ij')\n",
    "chi2_use.mask[(JJ+5>II) | (KK<II)] = True\n",
    "#chi2_use.mask[(JJ+10>II) | (II>KK)] = True\n",
    "#chi2_use.mask[(JJ+15>II) | (II>KK)] = True\n",
    "chi2_use.mask[chi2_use>vmax] = True\n",
    "\n",
    "#Torus - Cone\n",
    "ax = axs[0]\n",
    "chi2_aux = np.min(chi2_use, axis=2)\n",
    "cb = ax.imshow(chi2_aux, origin='lower', vmin=vmin, vmax=vmax, cmap=cmap, extent=[np.min(cang_grid.value), np.max(cang_grid.value), np.min(tang_grid.value), np.max(tang_grid.value)])\n",
    "ax.set_xlim(ax.get_xlim())\n",
    "ax.set_ylim(ax.get_ylim())\n",
    "ax.plot(ax.get_xlim(), np.array(ax.get_xlim())+5, 'k--') \n",
    "ax.fill_between(ax.get_xlim(), np.array(ax.get_xlim())+5, ax.get_ylim()[0], color=\"none\", hatch=\"xx\", edgecolor=\"xkcd:gray\", linewidth=0.0, alpha=0.7)\n",
    "ax.set_xlabel(r\"Cone half-opening angle $\\psi_{\\rm Cone}$ (deg)\", fontsize=axis_label_fontsize)\n",
    "ax.set_ylabel(r\"Torus half-opening angle $\\psi_{\\rm Torus}$ (deg)\", fontsize=axis_label_fontsize)\n",
    "x0,x1 = ax.get_xlim()\n",
    "y0,y1 = ax.get_ylim()\n",
    "ax.set_aspect(abs(x1-x0)/abs(y1-y0))\n",
    "ax.text(33, 35, \"Cone Illumination Limit\", rotation=np.arctan2(abs(x1-x0), abs(y1-y0))*180/np.pi, fontsize=12, weight='extra bold', fontfamily='sans-serif')\n",
    "\n",
    "#Torus - Inclination\n",
    "ax = axs[1]\n",
    "chi2_aux = np.min(chi2_use, axis=1)\n",
    "ax.imshow(chi2_aux, origin='lower', vmin=vmin, vmax=vmax, cmap=cmap, extent=[np.min(iang_grid.value), np.max(iang_grid.value), np.min(tang_grid.value), np.max(tang_grid.value)])\n",
    "ax.set_xlim(ax.get_xlim())\n",
    "ax.set_ylim(ax.get_ylim())\n",
    "ax.plot(ax.get_xlim(), ax.get_xlim(), 'k--') \n",
    "ax.fill_between(ax.get_xlim(), np.array(ax.get_xlim()), ax.get_ylim()[1], color=\"none\", hatch=\"xx\", edgecolor=\"xkcd:gray\", linewidth=0.0, alpha=0.7)\n",
    "ax.set_xlabel(r\"Inclination angle $\\eta$ (deg)\", fontsize=axis_label_fontsize)\n",
    "ax.set_ylabel(r\"Torus half-opening angle $\\psi_{\\rm Torus}$ (deg)\", fontsize=axis_label_fontsize)\n",
    "x0,x1 = ax.get_xlim()\n",
    "y0,y1 = ax.get_ylim()\n",
    "ax.set_aspect(abs(x1-x0)/abs(y1-y0))\n",
    "ax.text(28, 33, \"Direct line of sight to accretion disk\", rotation=np.arctan2(abs(x1-x0), abs(y1-y0))*180/np.pi, fontsize=12, weight='extra bold', fontfamily='sans-serif')\n",
    "\n",
    "#Cone - Inclination\n",
    "ax = axs[2]\n",
    "chi2_aux = np.min(chi2_use, axis=0)\n",
    "cb = plt.imshow(chi2_aux, origin='lower', vmin=vmin, vmax=vmax, cmap=cmap, extent=[np.min(iang_grid.value), np.max(iang_grid.value), np.min(cang_grid.value), np.max(cang_grid.value)])\n",
    "ax.set_xlim(ax.get_xlim())\n",
    "ax.set_ylim(ax.get_ylim())\n",
    "ax.plot(ax.get_xlim(), np.array(ax.get_xlim())-5, 'k--') \n",
    "ax.fill_between(ax.get_xlim(), np.array(ax.get_xlim())-5, ax.get_ylim()[1], color=\"none\", hatch=\"xx\", edgecolor=\"xkcd:gray\", linewidth=0.0, alpha=0.7)\n",
    "plt.xlabel(r\"Inclination angle $\\eta$ (deg)\", fontsize=axis_label_fontsize)\n",
    "plt.ylabel(r\"Cone half-opening angle $\\psi_{\\rm Cone}$ (deg)\", fontsize=axis_label_fontsize)\n",
    "x0,x1 = ax.get_xlim()\n",
    "y0,y1 = ax.get_ylim()\n",
    "ax.set_aspect(abs(x1-x0)/abs(y1-y0))\n",
    "ax.text(27, 27, \"Direct line of sight to accretion disk\", rotation=np.arctan2(abs(x1-x0), abs(y1-y0))*180/np.pi, fontsize=12, weight='extra bold', fontfamily='sans-serif')\n",
    "\n",
    "fig.colorbar(cb, fraction=0.05).set_label(label=r'Min $\\chi^2$',size=18)\n",
    "\n",
    "plt.show()\n",
    "fig.savefig(\"W0204_chi2maps.png\", dpi=200, bbox_inches='tight')"
   ]
  },
  {
   "cell_type": "code",
   "execution_count": null,
   "metadata": {},
   "outputs": [],
   "source": [
    "#Gas mass estimate for the best-fit cone with the MRN77 dust. \n",
    "i, j, k = np.unravel_index(np.argmin(chi2_map[wid], axis=None), chi2_map[wid].shape)\n",
    "print(tang_grid[i], cang_grid[j], iang_grid[k], chi2_map[wid].min())\n",
    "\n",
    "tau_V = 0.1\n",
    "delta_psi_c = 10*u.deg #10*u.deg\n",
    "psi_c = np.array([10, 38, 40])*u.deg #cang_grid[j]\n",
    "X = 1.5e-23*u.cm**2\n",
    "L = 10*u.kpc\n",
    "Rv = 3.1\n",
    "\n",
    "Mg = (2.5/np.log(10.)) * np.pi/3. * m_p * tau_V/(X*Rv) * L**2 * np.cos(psi_c-delta_psi_c/2.)*(np.tan(psi_c))**2\n",
    "print((Mg/M_sun).to(u.dimensionless_unscaled)/1e9)\n",
    "\n",
    "#Now the obscuration of a light ray going through the dusty section of the cone at mid-height\n",
    "d = 0.5*L*(np.tan(psi_c)-np.tan(psi_c-delta_psi_c))\n",
    "n_H = (2.5/np.log(10.)) * tau_V/(X*Rv) * np.cos(psi_c-delta_psi_c/2.)/L\n",
    "print(d, n_H.to(u.cm**-3), X*n_H*d)\n"
   ]
  },
  {
   "cell_type": "code",
   "execution_count": null,
   "metadata": {},
   "outputs": [],
   "source": [
    "m_p.__dict__"
   ]
  },
  {
   "cell_type": "code",
   "execution_count": null,
   "metadata": {},
   "outputs": [],
   "source": [
    "616. / np.cos(60*u.deg), 616. / np.cos(80*u.deg)"
   ]
  }
 ],
 "metadata": {
  "kernelspec": {
   "display_name": "stenv",
   "language": "python",
   "name": "python3"
  },
  "language_info": {
   "codemirror_mode": {
    "name": "ipython",
    "version": 3
   },
   "file_extension": ".py",
   "mimetype": "text/x-python",
   "name": "python",
   "nbconvert_exporter": "python",
   "pygments_lexer": "ipython3",
   "version": "3.11.3"
  }
 },
 "nbformat": 4,
 "nbformat_minor": 2
}
