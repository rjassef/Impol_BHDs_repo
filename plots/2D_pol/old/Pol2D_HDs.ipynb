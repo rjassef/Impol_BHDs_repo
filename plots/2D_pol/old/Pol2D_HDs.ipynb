{
 "cells": [
  {
   "cell_type": "code",
   "execution_count": 1,
   "metadata": {},
   "outputs": [],
   "source": [
    "import numpy as np\n",
    "import matplotlib.pyplot as plt\n",
    "from mpl_toolkits.axes_grid1.inset_locator import inset_axes\n",
    "from astropy.io import fits\n",
    "from astropy.stats import sigma_clipped_stats\n",
    "from astropy.cosmology import FlatLambdaCDM \n",
    "from astropy.table import Table\n",
    "import astropy.units as u\n",
    "\n",
    "import sys\n",
    "sys.path.append(\"../utility_functions/\")\n",
    "from objectProperties import ObjectProperties"
   ]
  },
  {
   "cell_type": "code",
   "execution_count": 2,
   "metadata": {},
   "outputs": [],
   "source": [
    "cosmo = FlatLambdaCDM(H0=70., Om0=0.3)"
   ]
  },
  {
   "cell_type": "code",
   "execution_count": 3,
   "metadata": {},
   "outputs": [],
   "source": [
    "#Load the properties of the BHDs\n",
    "op = ObjectProperties()"
   ]
  },
  {
   "cell_type": "code",
   "execution_count": null,
   "metadata": {},
   "outputs": [],
   "source": [
    "#Find the redshift of each object. \n",
    "z = dict()\n",
    "d20 = open(\"../SED_models/double.20\")\n",
    "d22 = open(\"../SED_models/double.22\")\n",
    "for line in d20:\n",
    "    x = line.split()\n",
    "    y = d22.readline().split()\n",
    "    z[y[-1]] = float(x[1])\n",
    "d20.close()\n",
    "d22.close()"
   ]
  },
  {
   "cell_type": "code",
   "execution_count": null,
   "metadata": {},
   "outputs": [],
   "source": [
    "#Load the seeing values. \n",
    "seeing = Table.read(\"../../Resolved_Polarization_v3/All_seeing_values.txt\", format='ascii')\n",
    "seeing.rename_column(\"col1\", \"WID\")\n",
    "seeing.rename_column(\"col2\", \"Band\")\n",
    "seeing.rename_column(\"col3\", \"FWHM\")\n",
    "seeing.rename_column(\"col4\", \"filename\")"
   ]
  },
  {
   "cell_type": "code",
   "execution_count": null,
   "metadata": {},
   "outputs": [],
   "source": [
    "#Set the angle and pfrac limits for each object. \n",
    "plot_lims = dict()\n",
    "plot_lims['W0019-1046'] = {'R_SPECIAL':{'pfrac':{'min': 3.,'max':10.},'pangle':{'min':0,'max':180}}}\n",
    "plot_lims['W0204-0506'] = {'R_SPECIAL':{'pfrac':{'min':15.,'max':35.},'pangle':{'min':0,'max':180}}}\n",
    "plot_lims['W0220+0137'] = {'R_SPECIAL':{'pfrac':{'min':10.,'max':20.},'pangle':{'min':0,'max':180}}}\n",
    "plot_lims['W0831+0140'] = {'R_SPECIAL':{'pfrac':{'min': 5.,'max':15.},'pangle':{'min':0,'max':180}}}\n",
    "plot_lims['W0116-0505'] = {\n",
    "    'R_SPECIAL':{'pfrac':{'min': 8.,'max':18.},'pangle':{'min':0,'max':180}},\n",
    "    'I_BESS'   :{'pfrac':{'min':10.,'max':20.},'pangle':{'min':0,'max':180}},\n",
    "    'v_HIGH'   :{'pfrac':{'min': 5.,'max':15.},'pangle':{'min':0,'max':180}}\n",
    "}"
   ]
  },
  {
   "cell_type": "code",
   "execution_count": null,
   "metadata": {},
   "outputs": [],
   "source": [
    "texify_band = {'R_SPECIAL': r'$R_{\\rm Special}$', 'I_BESS': r'$I_{\\rm Bessel}$', 'v_HIGH': r'$v_{\\rm High}$'}"
   ]
  },
  {
   "cell_type": "code",
   "execution_count": null,
   "metadata": {},
   "outputs": [],
   "source": [
    "def make_plot(objects, blurr_PSF_FWHM=None, snr_stack_lim=5.0, size=20, bands=[\"R_SPECIAL\"], output_fname=None, figsize=(40,18)):\n",
    "\n",
    "    #folder = \"../../Resolved_Polarization_v3/stamps_blurred_1.0\"\n",
    "    #blurr_PSF_FWHM = 1.0\n",
    "    # if blurr_PSF_FWHM is None:\n",
    "    #     folder = \"../../Resolved_Polarization_v3/stamps\"\n",
    "    # else:\n",
    "    #     folder = \"../../Resolved_Polarization_v3/stamps_blurred_{:.1f}\".format(blurr_PSF_FWHM)\n",
    "    if blurr_PSF_FWHM is None:\n",
    "        folder = \"../../Resolved_Polarization_v5/stamps\"\n",
    "    else:\n",
    "        folder = \"../../Resolved_Polarization_v5/stamps_blurred_{:.1f}\".format(blurr_PSF_FWHM)\n",
    "\n",
    "    #Load the pol images. \n",
    "    ims = dict()\n",
    "    for obj in objects:\n",
    "        ims[obj] = dict()\n",
    "        for band in bands:\n",
    "            ims[obj][band] = dict()\n",
    "            for imtype in [\"pfrac\",\"pangle\",\"stack\"]:\n",
    "                if obj!=\"W0116-0505\" or band!=\"v_HIGH\":\n",
    "                    ims[obj][band][imtype] = fits.open(\"{}/{}.{}.All.{}.fits\".format(folder,obj,band,imtype))\n",
    "                else:\n",
    "                    ims[obj][band][imtype] = fits.open(\"{}/{}.{}.3564847.60143.{}.fits\".format(folder,obj,band,imtype))\n",
    "                if imtype=='pfrac':\n",
    "                    ims[obj][band][imtype][0].data *= 100\n",
    "\n",
    "    #Mask based on the stack image. \n",
    "    for obj in objects:\n",
    "        for band in bands:\n",
    "            _, _, rms = sigma_clipped_stats(ims[obj][band]['stack'][0].data, sigma=3.0)\n",
    "            pmask = np.where(ims[obj][band]['stack'][0].data<snr_stack_lim*rms, True, False)\n",
    "            ims[obj][band]['pfrac'][0].data[pmask] = np.nan\n",
    "            ims[obj][band]['pangle'][0].data[pmask] = np.nan\n",
    "\n",
    "    #Make the plot  \n",
    "    pixscale = 0.126*2\n",
    "\n",
    "    fig, axs = plt.subplots(2, len(objects)*len(bands), figsize=figsize, sharex=True, sharey=True, squeeze=False)\n",
    "    plt.subplots_adjust(wspace=0., hspace=0.)\n",
    "    for ax in axs.flat:\n",
    "        ax.set_yticklabels([])\n",
    "        ax.set_xticklabels([])\n",
    "        ax.set_yticks([])\n",
    "        ax.set_xticks([])\n",
    "\n",
    "    ix1 = int(ims[objects[0]][bands[0]]['pfrac'][0].data.shape[1]/2 - size/2)\n",
    "    ix2 = int(ims[objects[0]][bands[0]]['pfrac'][0].data.shape[1]/2 + size/2 * 1.3)\n",
    "    iy1 = int(ims[objects[0]][bands[0]]['pfrac'][0].data.shape[0]/2 + size/2)\n",
    "    iy2 = int(ims[objects[0]][bands[0]]['pfrac'][0].data.shape[0]/2 - size/2)\n",
    "\n",
    "    cmaps = {'pfrac':'plasma_r', 'pangle':'hsv'}\n",
    "\n",
    "    for i, obj in enumerate(objects):\n",
    "        for j, band in enumerate(bands):\n",
    "            for k, imtype in enumerate(['pfrac','pangle']):\n",
    "                cm = axs[k,i+j].imshow(ims[obj][bands[0]][imtype][0].data[iy1:iy2:-1,ix1:ix2], vmin=plot_lims[obj][band][imtype]['min'], vmax=plot_lims[obj][band][imtype]['max'], cmap=cmaps[imtype])\n",
    "\n",
    "                cax = inset_axes(axs[k,i+j], width=\"5%\", height=\"90%\", loc='right') \n",
    "                cbar = fig.colorbar(cm, cax=cax, orientation='vertical')\n",
    "                cbar.ax.tick_params(labelsize=20)\n",
    "                if imtype=='pfrac':\n",
    "                    cbar.set_label(label=r'Polarization Fraction $P~(\\%)$', fontsize=28)\n",
    "                else:\n",
    "                    cbar.set_label(label=r'Polarization Angle $\\chi~(\\rm deg)$', fontsize=28)\n",
    "                cax.yaxis.set_ticks_position('left')\n",
    "                cax.yaxis.set_label_position('left')\n",
    "\n",
    "            #Object label\n",
    "            axs[0,i+j].text(0.05, 0.9, obj, transform=axs[0,i+j].transAxes, fontsize=40, weight='bold')\n",
    "            axs[0,i+j].text(0.05, 0.75, texify_band[band], transform=axs[0,i+j].transAxes, fontsize=36, weight='bold')\n",
    "\n",
    "            #Add a label about the smoothing if any has been used.\n",
    "            if blurr_PSF_FWHM is None:\n",
    "                blurr_label = \"No smoothing\"\n",
    "            else:\n",
    "                blurr_label = \"{:.1f}\\\" smoothing\".format(blurr_PSF_FWHM)\n",
    "            axs[0,i+j].text(0.05, 0.83, blurr_label, transform=axs[0,i+j].transAxes, fontsize=28)\n",
    "\n",
    "            #Beam size\n",
    "            beam_FWHM = np.max(seeing['FWHM'][(seeing['WID']==obj) & (seeing['Band']==band)])\n",
    "            if blurr_PSF_FWHM is not None:\n",
    "                beam_FWHM = (beam_FWHM**2 + blurr_PSF_FWHM**2)**0.5\n",
    "            for k in [0,1]:\n",
    "                beam  = plt.Circle((size*0.15,size*0.8),beam_FWHM/2/pixscale, color='k', fill=False)\n",
    "                axs[k,i+j].add_patch(beam)\n",
    "\n",
    "            # #10kpc bar\n",
    "            # bar_size = (10*u.kpc/cosmo.angular_diameter_distance(z[obj]))*u.rad\n",
    "            # bar_size_pix = bar_size.to(u.arcsec).value / pixscale\n",
    "            # for k in [0,1]:\n",
    "            #     axs[k,i+j].errorbar([size*0.75],[size*0.9],xerr=[bar_size_pix/2.], fmt='none', capsize=10.0)\n",
    "            #     axs[k,i+j].text(size*0.75,size*0.9,\"10 kpc\",ha='center',va='bottom', fontsize=26)\n",
    "\n",
    "            #1\" bar\n",
    "            bar_size = 1.0*u.arcsec\n",
    "            bar_size_pix = bar_size.to(u.arcsec).value / pixscale\n",
    "            for k in [0,1]:\n",
    "                axs[k,i+j].errorbar([size*0.75],[size*0.9],xerr=[bar_size_pix/2.], fmt='none', capsize=10.0)\n",
    "                axs[k,i+j].text(size*0.75,size*0.9,\"1\\\"\",ha='center',va='bottom', fontsize=26)\n",
    "\n",
    "    #fig.tight_layout()\n",
    "    plt.show()\n",
    "    if output_fname is not None:\n",
    "        fig.savefig(output_fname, dpi=200, bbox_inches='tight')\n",
    "    return "
   ]
  },
  {
   "cell_type": "markdown",
   "metadata": {},
   "source": [
    "## New HDs\n",
    "\n",
    "These are all the HDs without previous R_Special observations"
   ]
  },
  {
   "cell_type": "code",
   "execution_count": null,
   "metadata": {},
   "outputs": [],
   "source": [
    "objects = [\n",
    "    \"W0019-1046\",\n",
    "    \"W0204-0506\",\n",
    "    \"W0220+0137\",\n",
    "    \"W0831+0140\",\n",
    "]\n",
    "bands = [\"R_SPECIAL\"]"
   ]
  },
  {
   "cell_type": "code",
   "execution_count": null,
   "metadata": {},
   "outputs": [],
   "source": [
    "make_plot(objects, size=22, output_fname=\"Original_Resolution_new_HDs_2D_pol.png\", bands=bands)"
   ]
  },
  {
   "cell_type": "code",
   "execution_count": null,
   "metadata": {},
   "outputs": [],
   "source": [
    "make_plot(objects, blurr_PSF_FWHM=0.5, size=22, output_fname=\"Blurred_0.5_Resolution_new_HDs_2D_pol.png\", bands=bands)"
   ]
  },
  {
   "cell_type": "code",
   "execution_count": null,
   "metadata": {},
   "outputs": [],
   "source": [
    "make_plot(objects, blurr_PSF_FWHM=1.0, size=22, output_fname=\"Blurred_1.0_Resolution_new_HDs_2D_pol.png\", bands=bands)"
   ]
  },
  {
   "cell_type": "code",
   "execution_count": null,
   "metadata": {},
   "outputs": [],
   "source": [
    "make_plot(objects, blurr_PSF_FWHM=1.5, size=22, output_fname=\"Blurred_1.5_Resolution_new_HDs_2D_pol.png\", bands=bands)"
   ]
  },
  {
   "cell_type": "markdown",
   "metadata": {},
   "source": [
    "## W0116-0505"
   ]
  },
  {
   "cell_type": "code",
   "execution_count": null,
   "metadata": {},
   "outputs": [],
   "source": [
    "objects = [\n",
    "    \"W0116-0505\",\n",
    "]\n",
    "bands = [\"I_BESS\", \"R_SPECIAL\", \"v_HIGH\"]"
   ]
  },
  {
   "cell_type": "code",
   "execution_count": null,
   "metadata": {},
   "outputs": [],
   "source": [
    "make_plot(objects, size=22, output_fname=\"Original_Resolution_W0116-0505_2D_pol.png\", bands=bands, figsize=(30,18))"
   ]
  },
  {
   "cell_type": "code",
   "execution_count": null,
   "metadata": {},
   "outputs": [],
   "source": [
    "make_plot(objects, blurr_PSF_FWHM=0.5, size=22, output_fname=\"Blurred_0.5_Resolution_W0116-0505_2D_pol.png\", bands=bands, figsize=(30,18))"
   ]
  },
  {
   "cell_type": "code",
   "execution_count": null,
   "metadata": {},
   "outputs": [],
   "source": [
    "make_plot(objects, blurr_PSF_FWHM=1.0, size=22, output_fname=\"Blurred_1.0_Resolution_W0116-0505_2D_pol.png\", bands=bands, figsize=(30,18))"
   ]
  },
  {
   "cell_type": "code",
   "execution_count": null,
   "metadata": {},
   "outputs": [],
   "source": [
    "make_plot(objects, blurr_PSF_FWHM=1.5, size=22, output_fname=\"Blurred_1.5_Resolution_W0116-0505_2D_pol.png\", bands=bands, figsize=(30,18))"
   ]
  }
 ],
 "metadata": {
  "kernelspec": {
   "display_name": "stenv",
   "language": "python",
   "name": "python3"
  },
  "language_info": {
   "codemirror_mode": {
    "name": "ipython",
    "version": 3
   },
   "file_extension": ".py",
   "mimetype": "text/x-python",
   "name": "python",
   "nbconvert_exporter": "python",
   "pygments_lexer": "ipython3",
   "version": "3.11.3"
  }
 },
 "nbformat": 4,
 "nbformat_minor": 2
}
