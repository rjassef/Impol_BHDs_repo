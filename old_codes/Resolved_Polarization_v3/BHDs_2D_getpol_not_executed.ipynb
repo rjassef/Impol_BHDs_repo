{
 "cells": [
  {
   "cell_type": "code",
   "execution_count": null,
   "metadata": {},
   "outputs": [],
   "source": [
    "import numpy as np\n",
    "from resolved_pol import ResolvedPol"
   ]
  },
  {
   "cell_type": "code",
   "execution_count": null,
   "metadata": {},
   "outputs": [],
   "source": [
    "#no_processing = True\n",
    "no_processing = False"
   ]
  },
  {
   "cell_type": "markdown",
   "metadata": {},
   "source": [
    "## W0019-1046"
   ]
  },
  {
   "cell_type": "code",
   "execution_count": null,
   "metadata": {},
   "outputs": [],
   "source": [
    "bhd = ResolvedPol(\"W0019-1046\", \"R_SPECIAL\", star_coords=(1470.5, 84))#star_coords=(1145,37.5))\n",
    "bhd.get_pol(no_processing=no_processing)"
   ]
  },
  {
   "cell_type": "markdown",
   "metadata": {},
   "source": [
    "## W0204-0506"
   ]
  },
  {
   "cell_type": "code",
   "execution_count": null,
   "metadata": {},
   "outputs": [],
   "source": [
    "bhd = ResolvedPol(\"W0204-0506\", \"R_SPECIAL\", star_coords=(1086.5, 222.5))#star_coords=(1012.7, 54.8))\n",
    "bhd.get_pol(no_processing=no_processing)"
   ]
  },
  {
   "cell_type": "markdown",
   "metadata": {},
   "source": [
    "## W0220+0137"
   ]
  },
  {
   "cell_type": "code",
   "execution_count": null,
   "metadata": {},
   "outputs": [],
   "source": [
    "bhd = ResolvedPol(\"W0220+0137\", \"R_SPECIAL\", star_coords=(1600, 262))\n",
    "bhd.get_pol(no_processing=no_processing)"
   ]
  },
  {
   "cell_type": "markdown",
   "metadata": {},
   "source": [
    "## W0831+0140"
   ]
  },
  {
   "cell_type": "code",
   "execution_count": null,
   "metadata": {},
   "outputs": [],
   "source": [
    "bhd = ResolvedPol(\"W0831+0140\", \"R_SPECIAL\", star_coords=(1010, 404))\n",
    "bhd.get_pol(no_processing=no_processing)"
   ]
  },
  {
   "cell_type": "markdown",
   "metadata": {},
   "source": [
    "## W0116-0505"
   ]
  },
  {
   "cell_type": "markdown",
   "metadata": {},
   "source": [
    "#### $R_{\\rm SPECIAL}$"
   ]
  },
  {
   "cell_type": "code",
   "execution_count": null,
   "metadata": {},
   "outputs": [],
   "source": [
    "bhd = ResolvedPol(\"W0116-0505\", \"R_SPECIAL\", star_coords=(1398, 413))\n",
    "bhd.get_pol(no_processing=no_processing)"
   ]
  },
  {
   "cell_type": "markdown",
   "metadata": {},
   "source": [
    "#### $I_{\\rm BESS}$"
   ]
  },
  {
   "cell_type": "code",
   "execution_count": null,
   "metadata": {},
   "outputs": [],
   "source": [
    "bhd = ResolvedPol(\"W0116-0505\", \"I_BESS\", star_coords=(1398, 413))\n",
    "bhd.get_pol(no_processing=no_processing)"
   ]
  },
  {
   "cell_type": "markdown",
   "metadata": {},
   "source": [
    "#### $v_{\\rm High}$"
   ]
  },
  {
   "cell_type": "code",
   "execution_count": null,
   "metadata": {},
   "outputs": [],
   "source": [
    "bhd = ResolvedPol(\"W0116-0505\", \"v_HIGH\", star_coords=(1398, 413))\n",
    "bhd.get_pol(no_processing=no_processing)"
   ]
  }
 ],
 "metadata": {
  "kernelspec": {
   "display_name": "stenv",
   "language": "python",
   "name": "python3"
  },
  "language_info": {
   "codemirror_mode": {
    "name": "ipython",
    "version": 3
   },
   "file_extension": ".py",
   "mimetype": "text/x-python",
   "name": "python",
   "nbconvert_exporter": "python",
   "pygments_lexer": "ipython3",
   "version": "3.11.3"
  }
 },
 "nbformat": 4,
 "nbformat_minor": 2
}
