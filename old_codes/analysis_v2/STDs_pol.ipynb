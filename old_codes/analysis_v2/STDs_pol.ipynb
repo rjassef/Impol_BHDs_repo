{
 "cells": [
  {
   "cell_type": "code",
   "execution_count": 1,
   "metadata": {},
   "outputs": [],
   "source": [
    "import numpy as np\n",
    "import re\n",
    "\n",
    "from astropy.table import Table\n",
    "\n",
    "from pol_analysis.polData import PolData\n",
    "from pol_analysis.runPhot import RunPhot\n",
    "from pol_analysis.getStokes import GetStokes"
   ]
  },
  {
   "cell_type": "code",
   "execution_count": 2,
   "metadata": {},
   "outputs": [],
   "source": [
    "def run_all(obj, band, star_coords, stddev_0_vals=None, bhd_coords=(1021.5, 70.), show_seeing_plots=False, pdata_force_new=False, phot_force_new=False, only_seeing_fit=False, centroid_box_size=5, pdata_filenames_for_masks=None, r_ap=1.0):\n",
    "\n",
    "    #Star coords for PSF measurements\n",
    "    star_ex_ref, star_ey_ref = star_coords\n",
    "\n",
    "    #BHD coords\n",
    "    bhd_ex_ref, bhd_ey_ref = bhd_coords\n",
    "\n",
    "    #Create the data object. This will run the mask creation and the cosmic ray rejection.  \n",
    "    bhd = PolData(obj, band, filenames_for_mask_creation=pdata_filenames_for_masks, force_new=pdata_force_new)\n",
    "\n",
    "    #Create the photometry object and run the common steps. \n",
    "    phot = RunPhot(bhd, force_new=phot_force_new)\n",
    "    phot.subtract_background(box_size=(25,25))\n",
    "    phot.get_source_positions(box_size=centroid_box_size)\n",
    "\n",
    "    #Now, go through all the OB pairs.\n",
    "    #Now, go through all the OB pairs.\n",
    "    ob_combs = list()\n",
    "    for ob_pair in bhd.ob_pairs:\n",
    "        ob_combs.append([[ob_pair[0]],[ob_pair[1]]])\n",
    "\n",
    "    cato = open(\"{}_pol_{}.dat\".format(obj,  band), \"w\")\n",
    "    for k, ob_comb in enumerate(ob_combs):\n",
    "        ob_ids = ob_comb[0]\n",
    "        mjds = ob_comb[1]\n",
    "\n",
    "        #Get the seeing. \n",
    "        fnames = bhd.list_of_filenames(ob_ids=ob_ids, mjds=mjds)\n",
    "        if stddev_0_vals is not None:\n",
    "            stddev_0 = stddev_0_vals[k]\n",
    "        else:\n",
    "            stddev_0 = np.ones(len(fnames))*1.1\n",
    "        phot.find_seeing(star_ex_ref, star_ey_ref, stddev_0=stddev_0, show_plots=show_seeing_plots, ob_ids=ob_ids, mjds=mjds)\n",
    "        #print(phot.seeing)\n",
    "        if only_seeing_fit:\n",
    "            print(phot.seeing)\n",
    "            continue\n",
    "\n",
    "        #Get the photometry convolving to a common PSF. \n",
    "        phot.get_phot(r_ap=r_ap, force_new=True, apply_convolution=True, ob_ids=ob_ids, mjds=mjds)\n",
    "\n",
    "        #Measure the stokes and polarization parameters. \n",
    "        stk_obj = GetStokes(bhd)\n",
    "        stk_obj.get_pol(ob_ids=ob_ids, mjds=mjds)\n",
    "\n",
    "        #Get the polarization values for the BHD. \n",
    "        epos_ref = np.loadtxt(\"{}/{}\".format(bhd.phot_folder, re.sub(\".fits\", \".epos\", fnames[0])))\n",
    "        dist2 = (epos_ref[:,0]-bhd_ex_ref)**2 + (epos_ref[:,1]-bhd_ey_ref)**2\n",
    "        k = np.argmin(dist2)\n",
    "        #print(\"{:5.2f} {:5.2f} {:6.1f} {:6.1f}\".format(stk_obj.pol_frac[k]*100, stk_obj.epol_frac[k]*100, stk_obj.pol_angle[k], stk_obj.epol_angle[k]))\n",
    "\n",
    "        str = \"{:5.2f} {:5.2f} {:6.1f} {:6.1f}\".format(stk_obj.pol_frac[k]*100, stk_obj.epol_frac[k]*100, stk_obj.pol_angle[k], stk_obj.epol_angle[k])\n",
    "        str += \" {:5.1f} {:5.1f} {:5.1f}\".format(np.min(phot.seeing), np.mean(phot.seeing), np.max(phot.seeing))\n",
    "        if ob_ids is None:\n",
    "            str += \" All\"\n",
    "        else:\n",
    "            for i, ob_id in enumerate(ob_ids):\n",
    "                str += \" {:10d} {:10d}\".format(ob_id, mjds[i])\n",
    "        print(str)\n",
    "        cato.write(str+\"\\n\")\n",
    "    cato.close()\n",
    "\n"
   ]
  },
  {
   "cell_type": "code",
   "execution_count": 3,
   "metadata": {},
   "outputs": [],
   "source": [
    " #Load the log. \n",
    "log = Table.read(\"../proc/log.fits\")\n",
    "\n",
    "#Separate the standards from the science targets. The standards all have the same program ID. \n",
    "stds_log = log[log['Program_ID']=='60.A-9203(E)']\n",
    "\n",
    "#Get the target names. \n",
    "obj_names = np.unique(stds_log['Target'])\n",
    "\n",
    "#Set the reference location to find them. They should all be around the sample place. \n",
    "ex_ref = 1022.5\n",
    "ey_ref = 70."
   ]
  },
  {
   "cell_type": "code",
   "execution_count": 4,
   "metadata": {},
   "outputs": [
    {
     "data": {
      "text/html": [
       "<div><i>Table length=15</i>\n",
       "<table id=\"table5027458832\" class=\"table-striped table-bordered table-condensed\">\n",
       "<thead><tr><th>Target</th><th>Filter</th><th>MJD_folder</th></tr></thead>\n",
       "<thead><tr><th>bytes11</th><th>bytes9</th><th>int64</th></tr></thead>\n",
       "<tr><td>BD-12 5133</td><td>R_SPECIAL</td><td>59134</td></tr>\n",
       "<tr><td>BD-12 5133</td><td>R_SPECIAL</td><td>59134</td></tr>\n",
       "<tr><td>BD-12 5133</td><td>v_HIGH</td><td>60148</td></tr>\n",
       "<tr><td>BD-14 4922</td><td>I_BESS</td><td>60238</td></tr>\n",
       "<tr><td>Vela1</td><td>I_BESS</td><td>60238</td></tr>\n",
       "<tr><td>Vela1</td><td>I_BESS</td><td>60238</td></tr>\n",
       "<tr><td>Vela1</td><td>R_SPECIAL</td><td>60238</td></tr>\n",
       "<tr><td>WD 0310-688</td><td>R_SPECIAL</td><td>59117</td></tr>\n",
       "<tr><td>WD 1344+106</td><td>I_BESS</td><td>60148</td></tr>\n",
       "<tr><td>WD 1344+106</td><td>v_HIGH</td><td>60148</td></tr>\n",
       "<tr><td>WD 2039-202</td><td>R_SPECIAL</td><td>59134</td></tr>\n",
       "<tr><td>WD 2039-202</td><td>R_SPECIAL</td><td>60201</td></tr>\n",
       "<tr><td>WD 2359-434</td><td>I_BESS</td><td>60201</td></tr>\n",
       "<tr><td>WD 2359-434</td><td>R_SPECIAL</td><td>60201</td></tr>\n",
       "<tr><td>WD 2359-434</td><td>R_SPECIAL</td><td>60293</td></tr>\n",
       "</table></div>"
      ],
      "text/plain": [
       "<Table length=15>\n",
       "   Target     Filter  MJD_folder\n",
       "  bytes11     bytes9    int64   \n",
       "----------- --------- ----------\n",
       " BD-12 5133 R_SPECIAL      59134\n",
       " BD-12 5133 R_SPECIAL      59134\n",
       " BD-12 5133    v_HIGH      60148\n",
       " BD-14 4922    I_BESS      60238\n",
       "      Vela1    I_BESS      60238\n",
       "      Vela1    I_BESS      60238\n",
       "      Vela1 R_SPECIAL      60238\n",
       "WD 0310-688 R_SPECIAL      59117\n",
       "WD 1344+106    I_BESS      60148\n",
       "WD 1344+106    v_HIGH      60148\n",
       "WD 2039-202 R_SPECIAL      59134\n",
       "WD 2039-202 R_SPECIAL      60201\n",
       "WD 2359-434    I_BESS      60201\n",
       "WD 2359-434 R_SPECIAL      60201\n",
       "WD 2359-434 R_SPECIAL      60293"
      ]
     },
     "execution_count": 4,
     "metadata": {},
     "output_type": "execute_result"
    }
   ],
   "source": [
    "cond = (stds_log[\"Ret Angle\"]==0)\n",
    "aux_log = stds_log['Target','Filter','MJD_folder'][cond]\n",
    "aux_log.sort('Target')\n",
    "aux_log"
   ]
  },
  {
   "cell_type": "markdown",
   "metadata": {},
   "source": [
    "## BD-12 5133"
   ]
  },
  {
   "cell_type": "code",
   "execution_count": 5,
   "metadata": {},
   "outputs": [],
   "source": [
    "obj_name = \"BD-12 5133\""
   ]
  },
  {
   "cell_type": "markdown",
   "metadata": {},
   "source": [
    "#### $R_{\\rm SPECIAL}$"
   ]
  },
  {
   "cell_type": "code",
   "execution_count": 6,
   "metadata": {},
   "outputs": [
    {
     "name": "stdout",
     "output_type": "stream",
     "text": [
      " 4.18  0.04  146.3    0.2   0.9   1.1   1.2  200277970      59134\n"
     ]
    }
   ],
   "source": [
    "band = \"R_SPECIAL\"\n",
    "aux = PolData(\"W0116-0505\",bband=band)\n",
    "filenames_for_masks = aux.list_of_filenames(ob_ids=[2886768],mjds=[59135])\n",
    "\n",
    "run_all(obj_name, band, star_coords=(ex_ref, ey_ref), pdata_filenames_for_masks=filenames_for_masks, r_ap=1.5)#, show_seeing_plots=True, only_seeing_fit=True)#, pdata_force_new=True, phot_force_new=True)"
   ]
  },
  {
   "cell_type": "markdown",
   "metadata": {},
   "source": [
    "#### $v_{\\rm HIGH}$"
   ]
  },
  {
   "cell_type": "code",
   "execution_count": 7,
   "metadata": {},
   "outputs": [
    {
     "name": "stdout",
     "output_type": "stream",
     "text": [
      " 4.16  0.06  145.6    0.4   1.0   1.1   1.2  200277970      60148\n"
     ]
    }
   ],
   "source": [
    "band = \"v_HIGH\"\n",
    "aux = PolData(\"W0116-0505\",bband=\"I_BESS\")\n",
    "filenames_for_masks = aux.list_of_filenames(ob_ids=[3564862],mjds=[60146])\n",
    "\n",
    "run_all(obj_name, band, star_coords=(ex_ref, ey_ref), pdata_filenames_for_masks=filenames_for_masks, r_ap=1.5)#, show_seeing_plots=True, only_seeing_fit=True, pdata_force_new=True, phot_force_new=True)"
   ]
  },
  {
   "cell_type": "markdown",
   "metadata": {},
   "source": [
    "## BD-14 4922"
   ]
  },
  {
   "cell_type": "code",
   "execution_count": 8,
   "metadata": {},
   "outputs": [],
   "source": [
    "obj_name = \"BD-14 4922\""
   ]
  },
  {
   "cell_type": "markdown",
   "metadata": {},
   "source": [
    "#### $I_{\\rm BESS}$\n",
    "\n",
    "Skip, images are completely out of focus."
   ]
  },
  {
   "cell_type": "code",
   "execution_count": 9,
   "metadata": {},
   "outputs": [],
   "source": [
    "# band = \"I_BESS\"\n",
    "# aux = PolData(\"W0116-0505\",bband=\"I_BESS\")\n",
    "# filenames_for_masks = aux.list_of_filenames(ob_ids=[3564862],mjds=[60201])\n",
    "\n",
    "# run_all(obj_name, band, star_coords=(ex_ref, ey_ref), pdata_filenames_for_masks=filenames_for_masks)#, show_seeing_plots=True, only_seeing_fit=True, pdata_force_new=True, phot_force_new=True)"
   ]
  },
  {
   "cell_type": "markdown",
   "metadata": {},
   "source": [
    "## Vela 1"
   ]
  },
  {
   "cell_type": "code",
   "execution_count": 24,
   "metadata": {},
   "outputs": [],
   "source": [
    "obj_name = \"Vela1\""
   ]
  },
  {
   "cell_type": "markdown",
   "metadata": {},
   "source": [
    "#### $R_{\\rm Special}$"
   ]
  },
  {
   "cell_type": "code",
   "execution_count": 33,
   "metadata": {},
   "outputs": [
    {
     "name": "stdout",
     "output_type": "stream",
     "text": [
      " 7.67  0.07  171.9    0.2   0.8   0.9   1.0  200277985      60238\n"
     ]
    }
   ],
   "source": [
    "band = \"R_SPECIAL\"\n",
    "aux = PolData(\"W0116-0505\",bband=band)\n",
    "filenames_for_masks = aux.list_of_filenames(ob_ids=[2886768],mjds=[59135])\n",
    "\n",
    "run_all(obj_name, band, star_coords=(ex_ref, ey_ref), pdata_filenames_for_masks=filenames_for_masks, r_ap=1.5)#, show_seeing_plots=True, only_seeing_fit=True)#, pdata_force_new=True, phot_force_new=True)"
   ]
  },
  {
   "cell_type": "markdown",
   "metadata": {},
   "source": [
    "#### $I_{\\rm BESS}$"
   ]
  },
  {
   "cell_type": "code",
   "execution_count": 12,
   "metadata": {},
   "outputs": [
    {
     "name": "stdout",
     "output_type": "stream",
     "text": [
      " 7.09  0.03  171.7    0.1   0.8   1.1   1.7  200277985      60238\n"
     ]
    }
   ],
   "source": [
    "band = \"I_BESS\"\n",
    "aux = PolData(\"W0116-0505\",bband=\"I_BESS\")\n",
    "filenames_for_masks = aux.list_of_filenames(ob_ids=[3564862],mjds=[60201])\n",
    "\n",
    "run_all(obj_name, band, star_coords=(ex_ref, ey_ref), pdata_filenames_for_masks=filenames_for_masks, r_ap=2.5)#, show_seeing_plots=True, only_seeing_fit=True, pdata_force_new=True, phot_force_new=True)"
   ]
  },
  {
   "cell_type": "markdown",
   "metadata": {},
   "source": [
    "## WD 0310-688"
   ]
  },
  {
   "cell_type": "code",
   "execution_count": 13,
   "metadata": {},
   "outputs": [],
   "source": [
    "obj_name = \"WD 0310-688\""
   ]
  },
  {
   "cell_type": "markdown",
   "metadata": {},
   "source": [
    "#### $R_{\\rm SPECIAL}$"
   ]
  },
  {
   "cell_type": "code",
   "execution_count": 14,
   "metadata": {},
   "outputs": [
    {
     "name": "stdout",
     "output_type": "stream",
     "text": [
      " 0.07  0.04  132.1   17.9   1.4   1.5   1.7  200277988      59117\n"
     ]
    }
   ],
   "source": [
    "band = \"R_SPECIAL\"\n",
    "aux = PolData(\"W0116-0505\",bband=band)\n",
    "filenames_for_masks = aux.list_of_filenames(ob_ids=[2886768],mjds=[59135])\n",
    "\n",
    "run_all(obj_name, band, star_coords=(ex_ref, ey_ref), pdata_filenames_for_masks=filenames_for_masks, r_ap=2.5)#, show_seeing_plots=True, only_seeing_fit=True)#, pdata_force_new=True, phot_force_new=True)"
   ]
  },
  {
   "cell_type": "markdown",
   "metadata": {},
   "source": [
    "## WD 1344+106"
   ]
  },
  {
   "cell_type": "code",
   "execution_count": 15,
   "metadata": {},
   "outputs": [],
   "source": [
    "obj_name = \"WD 1344+106\""
   ]
  },
  {
   "cell_type": "markdown",
   "metadata": {},
   "source": [
    "#### $v_{\\rm HIGH}$"
   ]
  },
  {
   "cell_type": "code",
   "execution_count": 16,
   "metadata": {},
   "outputs": [
    {
     "name": "stdout",
     "output_type": "stream",
     "text": [
      " 0.09  0.09  144.8   40.3   0.9   0.9   0.9  200277994      60148\n"
     ]
    }
   ],
   "source": [
    "band = \"v_HIGH\"\n",
    "aux = PolData(\"W0116-0505\",bband=\"I_BESS\")\n",
    "filenames_for_masks = aux.list_of_filenames(ob_ids=[3564862],mjds=[60146])\n",
    "\n",
    "run_all(obj_name, band, star_coords=(ex_ref, ey_ref), pdata_filenames_for_masks=filenames_for_masks, r_ap=1.5)#, show_seeing_plots=True, only_seeing_fit=True)#, pdata_force_new=True, phot_force_new=True)\n"
   ]
  },
  {
   "cell_type": "markdown",
   "metadata": {},
   "source": [
    "#### $I_{\\rm BESS}$"
   ]
  },
  {
   "cell_type": "code",
   "execution_count": 17,
   "metadata": {},
   "outputs": [
    {
     "name": "stdout",
     "output_type": "stream",
     "text": [
      " 0.13  0.09   85.9   69.3   0.9   1.0   1.2  200277994      60148\n"
     ]
    }
   ],
   "source": [
    "band = \"I_BESS\"\n",
    "aux = PolData(\"W0116-0505\",bband=\"I_BESS\")\n",
    "filenames_for_masks = aux.list_of_filenames(ob_ids=[3564862],mjds=[60146])\n",
    "\n",
    "run_all(obj_name, band, star_coords=(ex_ref, ey_ref), pdata_filenames_for_masks=filenames_for_masks, r_ap=1.5)#, show_seeing_plots=True, only_seeing_fit=True)#, pdata_force_new=True, phot_force_new=True)"
   ]
  },
  {
   "cell_type": "markdown",
   "metadata": {},
   "source": [
    "## WD 2039-202"
   ]
  },
  {
   "cell_type": "code",
   "execution_count": 34,
   "metadata": {},
   "outputs": [],
   "source": [
    "obj_name = \"WD 2039-202\""
   ]
  },
  {
   "cell_type": "markdown",
   "metadata": {},
   "source": [
    "#### $R_{\\rm SPECIAL}$"
   ]
  },
  {
   "cell_type": "code",
   "execution_count": 35,
   "metadata": {},
   "outputs": [
    {
     "name": "stdout",
     "output_type": "stream",
     "text": [
      " 0.11  0.07  116.6   51.3   0.6   0.7   0.7  200278006      59134\n",
      " 0.14  0.05   62.7    9.8   1.0   1.0   1.0  200278006      60201\n"
     ]
    }
   ],
   "source": [
    "band = \"R_SPECIAL\"\n",
    "aux = PolData(\"W0116-0505\",bband=band)\n",
    "filenames_for_masks = aux.list_of_filenames(ob_ids=[2886768],mjds=[59135])\n",
    "\n",
    "run_all(obj_name, band, star_coords=(ex_ref, ey_ref), pdata_filenames_for_masks=filenames_for_masks, r_ap=1.5)#, show_seeing_plots=True, only_seeing_fit=True)#, pdata_force_new=True, phot_force_new=True)"
   ]
  },
  {
   "cell_type": "markdown",
   "metadata": {},
   "source": [
    "## WD 2359-434"
   ]
  },
  {
   "cell_type": "code",
   "execution_count": 20,
   "metadata": {},
   "outputs": [],
   "source": [
    "obj_name = \"WD 2359-434\""
   ]
  },
  {
   "cell_type": "markdown",
   "metadata": {},
   "source": [
    "#### $I_{\\rm BESS}$"
   ]
  },
  {
   "cell_type": "code",
   "execution_count": 21,
   "metadata": {},
   "outputs": [
    {
     "name": "stdout",
     "output_type": "stream",
     "text": [
      " 0.21  0.12   23.6   19.9   0.8   0.9   1.0  200278012      60201\n"
     ]
    }
   ],
   "source": [
    "band = \"I_BESS\"\n",
    "aux = PolData(\"W0116-0505\",bband=\"I_BESS\")\n",
    "filenames_for_masks = aux.list_of_filenames(ob_ids=[3564862],mjds=[60201])\n",
    "\n",
    "run_all(obj_name, band, star_coords=(ex_ref, ey_ref), pdata_filenames_for_masks=filenames_for_masks, r_ap=1.5)#, show_seeing_plots=True, only_seeing_fit=True)#, pdata_force_new=True, phot_force_new=True)"
   ]
  },
  {
   "cell_type": "markdown",
   "metadata": {},
   "source": [
    "#### $R_{\\rm SPECIAL}$"
   ]
  },
  {
   "cell_type": "code",
   "execution_count": 22,
   "metadata": {},
   "outputs": [
    {
     "name": "stdout",
     "output_type": "stream",
     "text": [
      " 0.15  0.11   37.4   27.8   0.9   1.0   1.0  200278012      60201\n",
      " 0.09  0.11   27.6   42.1   1.2   1.3   1.4  200278012      60293\n"
     ]
    }
   ],
   "source": [
    "band = \"R_SPECIAL\"\n",
    "aux = PolData(\"W0831+0140\",bband=band)\n",
    "filenames_for_masks = aux.list_of_filenames(ob_ids=[3565639],mjds=[60291])\n",
    "\n",
    "run_all(obj_name, band, star_coords=(ex_ref, ey_ref), pdata_filenames_for_masks=filenames_for_masks, r_ap=2.0)#, show_seeing_plots=True, only_seeing_fit=True)#, pdata_force_new=True, phot_force_new=True)"
   ]
  }
 ],
 "metadata": {
  "kernelspec": {
   "display_name": "stenv",
   "language": "python",
   "name": "python3"
  },
  "language_info": {
   "codemirror_mode": {
    "name": "ipython",
    "version": 3
   },
   "file_extension": ".py",
   "mimetype": "text/x-python",
   "name": "python",
   "nbconvert_exporter": "python",
   "pygments_lexer": "ipython3",
   "version": "3.11.3"
  }
 },
 "nbformat": 4,
 "nbformat_minor": 2
}
