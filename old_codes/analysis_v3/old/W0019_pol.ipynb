{
 "cells": [
  {
   "cell_type": "code",
   "execution_count": 1,
   "metadata": {},
   "outputs": [],
   "source": [
    "import numpy as np\n",
    "import re\n",
    "\n",
    "from pol_analysis.polData import PolData\n",
    "from pol_analysis.runPhot import RunPhot\n",
    "from pol_analysis.getStokes import GetStokes"
   ]
  },
  {
   "cell_type": "code",
   "execution_count": 2,
   "metadata": {},
   "outputs": [],
   "source": [
    "#Position of the star we will use to measure the PSF. Ideally, we'll upgrade this to use more than one star, but one is ok for now. \n",
    "star_ex_ref = 1145\n",
    "star_ey_ref = 37.5"
   ]
  },
  {
   "cell_type": "code",
   "execution_count": 3,
   "metadata": {},
   "outputs": [],
   "source": [
    "#Position of the BHD. \n",
    "bhd_ex_ref = 1021.5\n",
    "bhd_ey_ref = 70.0"
   ]
  },
  {
   "cell_type": "code",
   "execution_count": 4,
   "metadata": {},
   "outputs": [],
   "source": [
    "#Create the data object. This will run the mask creation and the cosmic ray rejection.  \n",
    "bhd = PolData(\"W0019-1046\",\"R_SPECIAL\")#, force_new=True)"
   ]
  },
  {
   "cell_type": "code",
   "execution_count": 5,
   "metadata": {},
   "outputs": [],
   "source": [
    "#Create the photometry object and run the common steps. \n",
    "phot = RunPhot(bhd)#, force_new=True)\n",
    "phot.subtract_background(box_size=(25,25))\n",
    "phot.get_source_positions(box_size=11)"
   ]
  },
  {
   "cell_type": "code",
   "execution_count": 6,
   "metadata": {},
   "outputs": [
    {
     "data": {
      "text/plain": [
       "[[[3565057], [60201]], [[3565577], [60202]], [[None], [None]]]"
      ]
     },
     "execution_count": 6,
     "metadata": {},
     "output_type": "execute_result"
    }
   ],
   "source": [
    "ob_combs = list()\n",
    "for ob_pair in bhd.ob_pairs:\n",
    "    ob_combs.append([[ob_pair[0]],[ob_pair[1]]])\n",
    "ob_combs.append([[None], [None]])\n",
    "\n",
    "ob_combs"
   ]
  },
  {
   "cell_type": "markdown",
   "metadata": {},
   "source": [
    "### First OB MJD pair. "
   ]
  },
  {
   "cell_type": "code",
   "execution_count": 7,
   "metadata": {},
   "outputs": [
    {
     "name": "stdout",
     "output_type": "stream",
     "text": [
      "[1.11919084 1.0490138  1.06496564 1.25594511 1.21634144 1.15884546\n",
      " 1.05958439 1.49308463]\n",
      " 7.09  1.03  166.7    4.4\n"
     ]
    }
   ],
   "source": [
    "#Set the pair values.\n",
    "ob_id, mjd = bhd.ob_pairs[0]\n",
    "ob_ids = [ob_id]\n",
    "mjds = [mjd]\n",
    "\n",
    "#Get the seeing. \n",
    "fnames = bhd.list_of_filenames(ob_ids=ob_ids, mjds=mjds)\n",
    "stddev_0 = np.ones(len(fnames)) * 1.4 / 2.355\n",
    "phot.find_seeing(star_ex_ref, star_ey_ref, stddev_0=stddev_0, show_plots=False, ob_ids=ob_ids, mjds=mjds)\n",
    "print(phot.seeing)\n",
    "\n",
    "#Get the photometry convolving to a common PSF. \n",
    "phot.get_phot(r_ap=1.0, force_new=True, apply_convolution=True, ob_ids=ob_ids, mjds=mjds)\n",
    "\n",
    "#Measure the stokes and polarization parameters. \n",
    "stk_obj = GetStokes(bhd)\n",
    "stk_obj.get_pol(ob_ids=ob_ids, mjds=mjds)\n",
    "\n",
    "#Get the polarization values for the BHD. \n",
    "epos_ref = np.loadtxt(\"{}/{}\".format(bhd.phot_folder, re.sub(\".fits\", \".epos\", fnames[0])))\n",
    "dist2 = (epos_ref[:,0]-bhd_ex_ref)**2 + (epos_ref[:,1]-bhd_ey_ref)**2\n",
    "k = np.argmin(dist2)\n",
    "print(\"{:5.2f} {:5.2f} {:6.1f} {:6.1f}\".format(stk_obj.pol_frac[k]*100, stk_obj.epol_frac[k]*100, stk_obj.pol_angle[k], stk_obj.epol_angle[k]))"
   ]
  },
  {
   "cell_type": "markdown",
   "metadata": {},
   "source": [
    "### Second Pair"
   ]
  },
  {
   "cell_type": "code",
   "execution_count": 8,
   "metadata": {},
   "outputs": [
    {
     "name": "stdout",
     "output_type": "stream",
     "text": [
      "[0.92754894 0.94732953 0.70921153 0.77163514 0.82352423 0.7942171\n",
      " 0.79172375 0.823943  ]\n",
      " 5.31  0.81  162.0    4.9\n"
     ]
    }
   ],
   "source": [
    "#Set the pair values.\n",
    "ob_id, mjd = bhd.ob_pairs[1]\n",
    "ob_ids = [ob_id]\n",
    "mjds = [mjd]\n",
    "\n",
    "#Get the seeing. \n",
    "fnames = bhd.list_of_filenames(ob_ids=ob_ids, mjds=mjds)\n",
    "stddev_0 = np.ones(len(fnames)) * 3.0 #1.4 / 2.355\n",
    "phot.find_seeing(star_ex_ref, star_ey_ref, stddev_0=stddev_0, show_plots=False, ob_ids=ob_ids, mjds=mjds)\n",
    "print(phot.seeing)\n",
    "\n",
    "#Get the photometry convolving to a common PSF. \n",
    "phot.get_phot(r_ap=1.0, force_new=True, apply_convolution=True, ob_ids=ob_ids, mjds=mjds)\n",
    "\n",
    "#Measure the stokes and polarization parameters. \n",
    "stk_obj = GetStokes(bhd)\n",
    "stk_obj.get_pol(ob_ids=ob_ids, mjds=mjds)\n",
    "\n",
    "#Get the polarization values for the BHD. \n",
    "epos_ref = np.loadtxt(\"{}/{}\".format(bhd.phot_folder, re.sub(\".fits\", \".epos\", fnames[0])))\n",
    "dist2 = (epos_ref[:,0]-bhd_ex_ref)**2 + (epos_ref[:,1]-bhd_ey_ref)**2\n",
    "k = np.argmin(dist2)\n",
    "print(\"{:5.2f} {:5.2f} {:6.1f} {:6.1f}\".format(stk_obj.pol_frac[k]*100, stk_obj.epol_frac[k]*100, stk_obj.pol_angle[k], stk_obj.epol_angle[k]))"
   ]
  },
  {
   "cell_type": "markdown",
   "metadata": {},
   "source": [
    "### Combined"
   ]
  },
  {
   "cell_type": "code",
   "execution_count": 9,
   "metadata": {},
   "outputs": [
    {
     "name": "stdout",
     "output_type": "stream",
     "text": [
      "[1.11919084 1.0490138  1.06496564 1.25594511 1.21634144 1.15884546\n",
      " 1.05958439 1.49308463 0.92754894 0.94732953 0.70921153 0.77163514\n",
      " 0.82352423 0.7942171  0.79172375 0.823943  ]\n",
      " 6.29  0.77  164.6    3.4\n"
     ]
    }
   ],
   "source": [
    "#Set the pair values.\n",
    "ob_ids = None\n",
    "mjds = None\n",
    "\n",
    "#Get the seeing. \n",
    "fnames = bhd.list_of_filenames(ob_ids=ob_ids, mjds=mjds)\n",
    "stddev_0 = np.ones(len(fnames)) * 1.4 / 2.355\n",
    "stddev_0[8:] = 3.0\n",
    "phot.find_seeing(star_ex_ref, star_ey_ref, stddev_0=stddev_0, show_plots=False, ob_ids=ob_ids, mjds=mjds)\n",
    "print(phot.seeing)\n",
    "\n",
    "#Get the photometry convolving to a common PSF. \n",
    "phot.get_phot(r_ap=1.0, force_new=True, apply_convolution=True, ob_ids=ob_ids, mjds=mjds)\n",
    "\n",
    "#Measure the stokes and polarization parameters. \n",
    "stk_obj = GetStokes(bhd)\n",
    "stk_obj.get_pol(ob_ids=ob_ids, mjds=mjds)\n",
    "\n",
    "#Get the polarization values for the BHD. \n",
    "epos_ref = np.loadtxt(\"{}/{}\".format(bhd.phot_folder, re.sub(\".fits\", \".epos\", fnames[0])))\n",
    "dist2 = (epos_ref[:,0]-bhd_ex_ref)**2 + (epos_ref[:,1]-bhd_ey_ref)**2\n",
    "k = np.argmin(dist2)\n",
    "print(\"{:5.2f} {:5.2f} {:6.1f} {:6.1f}\".format(stk_obj.pol_frac[k]*100, stk_obj.epol_frac[k]*100, stk_obj.pol_angle[k], stk_obj.epol_angle[k]))"
   ]
  }
 ],
 "metadata": {
  "kernelspec": {
   "display_name": "stenv",
   "language": "python",
   "name": "python3"
  },
  "language_info": {
   "codemirror_mode": {
    "name": "ipython",
    "version": 3
   },
   "file_extension": ".py",
   "mimetype": "text/x-python",
   "name": "python",
   "nbconvert_exporter": "python",
   "pygments_lexer": "ipython3",
   "version": "3.11.3"
  }
 },
 "nbformat": 4,
 "nbformat_minor": 2
}
