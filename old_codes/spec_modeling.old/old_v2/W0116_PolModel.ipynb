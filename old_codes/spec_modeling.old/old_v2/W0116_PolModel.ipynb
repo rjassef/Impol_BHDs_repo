{
 "cells": [
  {
   "cell_type": "code",
   "execution_count": 1,
   "metadata": {},
   "outputs": [],
   "source": [
    "import numpy as np\n",
    "import astropy.units as u\n",
    "import matplotlib.pyplot as plt\n",
    "\n",
    "from polModel import PolModel\n",
    "from draine_dust_2D import draine_dust\n",
    "from model_spec import model_spec"
   ]
  },
  {
   "cell_type": "code",
   "execution_count": 2,
   "metadata": {},
   "outputs": [],
   "source": [
    "#General plotting function\n",
    "def pol_plot(mod_p, spec):\n",
    "\n",
    "    data = np.loadtxt(\"pol_measurements.dat\", usecols=[1,2])\n",
    "    p_measured = data[:,0]\n",
    "    p_unc = data[:,1]\n",
    "\n",
    "    wave = np.array([5500., 6500., 8000.]) / spec.zspec\n",
    "\n",
    "    fig, ax = plt.subplots(1)\n",
    "\n",
    "    ax.errorbar(wave, p_measured, yerr=p_unc, fmt='ko', label='Measurements')\n",
    "    for scat_type in mod_p.keys():\n",
    "        ax.plot(wave, mod_p[scat_type], 's', label=scat_type)\n",
    "\n",
    "    ax.legend()\n",
    "    ax.set_xlabel('Wavelength (Angstroms)')\n",
    "    ax.set_ylabel('Polarization fraction')\n",
    "    plt.show()"
   ]
  },
  {
   "cell_type": "markdown",
   "metadata": {},
   "source": [
    "## Model the SDSS Spectrum"
   ]
  },
  {
   "cell_type": "code",
   "execution_count": 3,
   "metadata": {},
   "outputs": [],
   "source": [
    "spec, model = model_spec()"
   ]
  },
  {
   "cell_type": "markdown",
   "metadata": {},
   "source": [
    "### Pure Gas Models."
   ]
  },
  {
   "cell_type": "code",
   "execution_count": 6,
   "metadata": {},
   "outputs": [],
   "source": [
    "#Define the object\n",
    "class Gas_Gas(object):\n",
    "    def get_pfrac(self, lam_rest):\n",
    "        return np.ones(len(lam_rest))\n",
    "    def get_pfrac_A(self, x, lam_rest):\n",
    "        return self.get_pfrac(lam_rest)\n",
    "    def get_pfrac_B(self, x, lam_rest):\n",
    "        return self.get_pfrac(lam_rest)"
   ]
  },
  {
   "cell_type": "code",
   "execution_count": 7,
   "metadata": {},
   "outputs": [
    {
     "name": "stdout",
     "output_type": "stream",
     "text": [
      " message: Optimization terminated successfully\n",
      " success: True\n",
      "  status: 0\n",
      "     fun: 2.1129775751895208e-08\n",
      "       x: [ 1.148e-01  3.204e-01  4.478e+01]\n",
      "     nit: 15\n",
      "     jac: [-7.613e-02 -2.179e-04  5.111e-05]\n",
      "    nfev: 68\n",
      "    njev: 15\n"
     ]
    }
   ],
   "source": [
    "#Set the objects\n",
    "scat_obj = Gas_Gas()\n",
    "pol_model = PolModel(spec, model)\n",
    "\n",
    "#Run the fits\n",
    "x0 = np.array([0.15, 0.15, 45.])\n",
    "min_vals = np.array([0., 0., 0.])\n",
    "max_vals = np.array([1., 1., 90.])\n",
    "pol_model.fit_pol(scat_obj, x0, min_vals, max_vals)\n",
    "print(pol_model.xopt)"
   ]
  },
  {
   "cell_type": "code",
   "execution_count": 8,
   "metadata": {},
   "outputs": [],
   "source": [
    "xopt_all = dict()\n",
    "mod_p_all = dict()\n",
    "xopt_all[\"Gas\"] = pol_model.xopt\n",
    "mod_p_all[\"Gas\"] = pol_model.mod_p"
   ]
  },
  {
   "cell_type": "code",
   "execution_count": 9,
   "metadata": {},
   "outputs": [
    {
     "data": {
      "image/png": "[encoded data removed]",
      "text/plain": [
       "<Figure size 640x480 with 1 Axes>"
      ]
     },
     "metadata": {},
     "output_type": "display_data"
    }
   ],
   "source": [
    "pol_plot(mod_p_all, spec)"
   ]
  },
  {
   "cell_type": "markdown",
   "metadata": {},
   "source": [
    "### Pure Dust Models."
   ]
  },
  {
   "cell_type": "code",
   "execution_count": 10,
   "metadata": {},
   "outputs": [],
   "source": [
    "#Define the object.\n",
    "class Dust_Dust(object):\n",
    "\n",
    "    def __init__(self, dust_type):\n",
    "        #Load the dust model. \n",
    "        self.dust = draine_dust(dust_type)\n",
    "        return\n",
    "\n",
    "    def get_pfrac(self, x, lam_rest):\n",
    "        phi = x[3]\n",
    "        return self.dust.pfrac(lam_rest.to(u.um).value, phi).flatten()\n",
    "    \n",
    "    def get_pfrac_A(self, x, lam_rest):\n",
    "        return self.get_pfrac(x, lam_rest)\n",
    "    \n",
    "    def get_pfrac_B(self, x, lam_rest):\n",
    "        return self.get_pfrac(x, lam_rest)\n",
    "\n"
   ]
  },
  {
   "cell_type": "code",
   "execution_count": 11,
   "metadata": {},
   "outputs": [],
   "source": [
    "dust_types = [\"SMC\", \"LMC\", \"MW\"]"
   ]
  },
  {
   "cell_type": "code",
   "execution_count": 12,
   "metadata": {},
   "outputs": [
    {
     "name": "stdout",
     "output_type": "stream",
     "text": [
      " message: Optimization terminated successfully\n",
      " success: True\n",
      "  status: 0\n",
      "     fun: 1.5732654549947114e-09\n",
      "       x: [ 8.783e-01  9.921e-01  7.557e+01  7.870e+01]\n",
      "     nit: 48\n",
      "     jac: [ 6.766e-03 -1.305e-03 -8.795e-05  6.339e-05]\n",
      "    nfev: 265\n",
      "    njev: 48\n",
      " message: Optimization terminated successfully\n",
      " success: True\n",
      "  status: 0\n",
      "     fun: 164.85736893519032\n",
      "       x: [ 1.000e+00  6.947e-01  9.000e+01  6.331e+01]\n",
      "     nit: 18\n",
      "     jac: [-5.320e+02 -2.439e-03 -1.335e-05  5.722e-05]\n",
      "    nfev: 98\n",
      "    njev: 18\n",
      " message: Optimization terminated successfully\n",
      " success: True\n",
      "  status: 0\n",
      "     fun: 2.0178225940890143e-08\n",
      "       x: [ 9.588e-01  5.092e-01  9.000e+01  6.063e+01]\n",
      "     nit: 24\n",
      "     jac: [-1.482e-03  2.228e-04  0.000e+00 -7.317e-05]\n",
      "    nfev: 128\n",
      "    njev: 24\n"
     ]
    }
   ],
   "source": [
    "for dust_type in dust_types:\n",
    "    #Set the objects\n",
    "    scat_obj = Dust_Dust(dust_type)\n",
    "\n",
    "    #Run the fits. Attempt a start with scattering angle < 90. and > 90.\n",
    "    x0 = np.array([0.9, 0.3, 45., 90.])\n",
    "    min_vals = np.array([0., 0., 0., 0.])\n",
    "    max_vals = np.array([1., 1., 90., 180.])\n",
    "    for i in range(2):\n",
    "        if i==0:\n",
    "            x0[-1] = 60.\n",
    "        else:\n",
    "            x0[-1] = 170.\n",
    "        pol_model_aux = PolModel(spec, model)\n",
    "        pol_model_aux.fit_pol(scat_obj, x0, min_vals, max_vals)\n",
    "        if i==0 or pol_model_aux.xopt.fun < pol_model.xopt.fun:\n",
    "            pol_model = pol_model_aux\n",
    "\n",
    "    print(pol_model.xopt)\n",
    "\n",
    "    #Save the results.\n",
    "    xopt_all[\"DD_\"+dust_type] = pol_model.xopt\n",
    "    mod_p_all[\"DD_\"+dust_type] = pol_model.mod_p\n",
    "\n"
   ]
  },
  {
   "cell_type": "code",
   "execution_count": 13,
   "metadata": {},
   "outputs": [
    {
     "data": {
      "image/png": "[encoded data removed]",
      "text/plain": [
       "<Figure size 640x480 with 1 Axes>"
      ]
     },
     "metadata": {},
     "output_type": "display_data"
    }
   ],
   "source": [
    "pol_plot(mod_p_all, spec)"
   ]
  },
  {
   "cell_type": "markdown",
   "metadata": {},
   "source": [
    "### Dust for continuum, Gas for emission lines."
   ]
  },
  {
   "cell_type": "code",
   "execution_count": 14,
   "metadata": {},
   "outputs": [],
   "source": [
    "class Dust_Gas(Dust_Dust):\n",
    "\n",
    "    def __init__(self, dust_type):\n",
    "        #Load the dust model. \n",
    "        self.dust = draine_dust(dust_type)\n",
    "        return\n",
    "\n",
    "    def get_pfrac_A(self, x, lam_rest):\n",
    "        phi = x[3]\n",
    "        return self.dust.pfrac(lam_rest.to(u.um).value, phi).flatten()\n",
    "    \n",
    "    def get_pfrac_B(self, x, lam_rest):\n",
    "        return np.ones(len(spec.lam_rest))"
   ]
  },
  {
   "cell_type": "code",
   "execution_count": 15,
   "metadata": {},
   "outputs": [
    {
     "name": "stdout",
     "output_type": "stream",
     "text": [
      " message: Optimization terminated successfully\n",
      " success: True\n",
      "  status: 0\n",
      "     fun: 9.207360351326956\n",
      "       x: [ 1.000e+00  4.304e-01  9.000e+01  1.075e+02]\n",
      "     nit: 38\n",
      "     jac: [-1.518e+01 -4.170e-02  0.000e+00 -8.357e-05]\n",
      "    nfev: 208\n",
      "    njev: 38\n",
      " message: Optimization terminated successfully\n",
      " success: True\n",
      "  status: 0\n",
      "     fun: 102.70432201209668\n",
      "       x: [ 1.000e+00  5.631e-01  7.714e+01  8.331e+01]\n",
      "     nit: 47\n",
      "     jac: [-3.788e+02 -9.381e-03 -3.815e-04  1.535e-04]\n",
      "    nfev: 260\n",
      "    njev: 45\n",
      " message: Optimization terminated successfully\n",
      " success: True\n",
      "  status: 0\n",
      "     fun: 11.251755271716334\n",
      "       x: [ 1.000e+00  7.596e-02  8.995e+01  5.289e+01]\n",
      "     nit: 75\n",
      "     jac: [-7.584e+00 -2.284e-01 -8.464e-06  2.981e-03]\n",
      "    nfev: 399\n",
      "    njev: 75\n"
     ]
    }
   ],
   "source": [
    "for dust_type in dust_types:\n",
    "    #Set the objects\n",
    "    scat_obj = Dust_Gas(dust_type)\n",
    "\n",
    "    #Run the fits. Attempt a start with scattering angle < 90. and > 90.\n",
    "    x0 = np.array([0.9, 0.5, 45., 90.])\n",
    "    min_vals = np.array([0., 0., 0., 0.])\n",
    "    max_vals = np.array([1., 1., 90., 180.])\n",
    "    for i in range(2):\n",
    "        if i==0:\n",
    "            x0[-1] = 60.\n",
    "        else:\n",
    "            x0[-1] = 170.\n",
    "        pol_model_aux = PolModel(spec, model)\n",
    "        pol_model_aux.fit_pol(scat_obj, x0, min_vals, max_vals)\n",
    "        if i==0 or pol_model_aux.xopt.fun < pol_model.xopt.fun:\n",
    "            pol_model = pol_model_aux\n",
    "\n",
    "    print(pol_model.xopt)\n",
    "\n",
    "    #Save the results.\n",
    "    xopt_all[\"DG_\"+dust_type] = pol_model.xopt\n",
    "    mod_p_all[\"DG_\"+dust_type] = pol_model.mod_p\n",
    "\n"
   ]
  },
  {
   "cell_type": "code",
   "execution_count": 16,
   "metadata": {},
   "outputs": [
    {
     "data": {
      "image/png": "[encoded data removed]",
      "text/plain": [
       "<Figure size 640x480 with 1 Axes>"
      ]
     },
     "metadata": {},
     "output_type": "display_data"
    }
   ],
   "source": [
    "pol_plot(mod_p_all, spec)"
   ]
  }
 ],
 "metadata": {
  "kernelspec": {
   "display_name": "stenv",
   "language": "python",
   "name": "python3"
  },
  "language_info": {
   "codemirror_mode": {
    "name": "ipython",
    "version": 3
   },
   "file_extension": ".py",
   "mimetype": "text/x-python",
   "name": "python",
   "nbconvert_exporter": "python",
   "pygments_lexer": "ipython3",
   "version": "3.11.3"
  }
 },
 "nbformat": 4,
 "nbformat_minor": 2
}
