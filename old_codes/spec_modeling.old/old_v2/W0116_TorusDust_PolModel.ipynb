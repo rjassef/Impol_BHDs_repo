{
 "cells": [
  {
   "cell_type": "code",
   "execution_count": 1,
   "metadata": {},
   "outputs": [],
   "source": [
    "import numpy as np\n",
    "import astropy.units as u\n",
    "import matplotlib.pyplot as plt\n",
    "\n",
    "from polModel import PolModel\n",
    "from draine_dust_torus_model import ddust_torus\n",
    "from model_spec import model_spec"
   ]
  },
  {
   "cell_type": "code",
   "execution_count": 2,
   "metadata": {},
   "outputs": [],
   "source": [
    "#General plotting function\n",
    "def pol_plot(mod_p, spec):\n",
    "\n",
    "    data = np.loadtxt(\"pol_measurements.dat\", usecols=[1,2])\n",
    "    p_measured = data[:,0]\n",
    "    p_unc = data[:,1]\n",
    "\n",
    "    wave = np.array([5500., 6500., 8000.]) / spec.zspec\n",
    "\n",
    "    fig, ax = plt.subplots(1)\n",
    "\n",
    "    ax.errorbar(wave, p_measured, yerr=p_unc, fmt='ko', label='Measurements')\n",
    "    for scat_type in mod_p.keys():\n",
    "        ax.plot(wave, mod_p[scat_type], 's', label=scat_type)\n",
    "\n",
    "    ax.legend()\n",
    "    ax.set_xlabel('Wavelength (Angstroms)')\n",
    "    ax.set_ylabel('Polarization fraction')\n",
    "    plt.show()"
   ]
  },
  {
   "cell_type": "markdown",
   "metadata": {},
   "source": [
    "## Model the SDSS Spectrum"
   ]
  },
  {
   "cell_type": "code",
   "execution_count": 3,
   "metadata": {},
   "outputs": [],
   "source": [
    "spec, model = model_spec()"
   ]
  },
  {
   "cell_type": "code",
   "execution_count": 4,
   "metadata": {},
   "outputs": [],
   "source": [
    "#Assume that Lyman alpha is also polarized in the same manner as all the other emission lines. \n",
    "model.multi_line[0].pol = True\n",
    "model.multi_line[1].pol = True"
   ]
  },
  {
   "cell_type": "markdown",
   "metadata": {},
   "source": [
    "### Pure Dust Models with both forward and backward scattering."
   ]
  },
  {
   "cell_type": "code",
   "execution_count": null,
   "metadata": {},
   "outputs": [],
   "source": [
    "#Define the object.\n",
    "class Dust_Dust(object):\n",
    "\n",
    "    def __init__(self, dust_type, fw=True, bw=True):\n",
    "        #Load the dust model. \n",
    "        self.dust = ddust_torus(dust_type, fw=fw, bw=bw)\n",
    "        return\n",
    "\n",
    "    def get_theta(self, x, lam_rest):\n",
    "        phi = x[3]\n",
    "        return self.dust.pfrac(lam_rest.to(u.um).value, phi).flatten()\n",
    "    \n",
    "    def get_theta_A(self, x, lam_rest):\n",
    "        return self.get_theta(x, lam_rest)\n",
    "    \n",
    "    def get_theta_B(self, x, lam_rest):\n",
    "        return self.get_theta(x, lam_rest)\n",
    "\n"
   ]
  }
 ],
 "metadata": {
  "kernelspec": {
   "display_name": "stenv",
   "language": "python",
   "name": "python3"
  },
  "language_info": {
   "codemirror_mode": {
    "name": "ipython",
    "version": 3
   },
   "file_extension": ".py",
   "mimetype": "text/x-python",
   "name": "python",
   "nbconvert_exporter": "python",
   "pygments_lexer": "ipython3",
   "version": "3.11.3"
  }
 },
 "nbformat": 4,
 "nbformat_minor": 2
}
