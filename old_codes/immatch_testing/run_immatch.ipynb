{
 "cells": [
  {
   "cell_type": "code",
   "execution_count": 1,
   "metadata": {},
   "outputs": [],
   "source": [
    "import numpy as np\n",
    "from astropy.io import fits\n",
    "\n",
    "import subprocess"
   ]
  },
  {
   "cell_type": "code",
   "execution_count": 2,
   "metadata": {},
   "outputs": [],
   "source": [
    "#First, separate the images. \n",
    "\n",
    "reg = (slice(40,900), slice(300,1700))\n",
    "\n",
    "#Image with the better seeing. \n",
    "h = fits.open(\"science_reduced_img.W0116-0505.60148.I_BESS.chip1.9.bkg.fits\")\n",
    "fits.writeto(\"work/t.fits\"   , h[0].data[reg], overwrite=True)\n",
    "fits.writeto(\"work/terr.fits\", h[1].data[reg], overwrite=True)\n",
    "h.close()\n",
    "\n",
    "#Now the image with the worse seeing. \n",
    "h = fits.open(\"science_reduced_img.W0116-0505.60201.I_BESS.chip1.2.bkg.fits\")\n",
    "fits.writeto(\"work/im.fits\"   , h[0].data[reg], overwrite=True)\n",
    "fits.writeto(\"work/imerr.fits\", h[1].data[reg], overwrite=True)\n",
    "h.close()"
   ]
  },
  {
   "cell_type": "markdown",
   "metadata": {},
   "source": [
    "We need to run Imagematch in the forwards mode, not reverse. The reason is that if ran into reverse mode (-R option), the registered convolved image is not saved, only the convolved image before registration is. To create the 2D maps, we need the images to be properly registered. \n",
    "\n",
    "Because of this, our \"science\" image is the one with the worse seeing (im.fits, the one we are trying to match to), and our \"reference\" image is the one with the better seeing (t.fits, the one we are trying to blur and register to match im.fits). "
   ]
  },
  {
   "cell_type": "code",
   "execution_count": 3,
   "metadata": {},
   "outputs": [
    {
     "name": "stdout",
     "output_type": "stream",
     "text": [
      "ImageMatch -v -preserve -cfg sample.cfg -m work/t.fits -sig err work/im.fits\n"
     ]
    },
    {
     "name": "stderr",
     "output_type": "stream",
     "text": [
      "/Users/rjassef/miniconda3/envs/stenv/lib/python3.11/site-packages/imagematch/ImageMatching_scalerot.py:1471: RuntimeWarning: invalid value encountered in sqrt\n",
      "  self.csigma = np.sqrt(self.csigma)\n"
     ]
    },
    {
     "data": {
      "text/plain": [
       "0"
      ]
     },
     "execution_count": 3,
     "metadata": {},
     "output_type": "execute_result"
    }
   ],
   "source": [
    "command = \"ImageMatch -v -preserve -cfg sample.cfg -m work/t.fits -sig err work/im.fits\"\n",
    "print(command)\n",
    "subprocess.call(command, shell=True, executable='/bin/zsh', stdout=subprocess.DEVNULL)"
   ]
  },
  {
   "cell_type": "markdown",
   "metadata": {},
   "source": [
    "Now, we need to recover the noise image. We have that imdiff_sigma.fits is the error in the difference image, and is its the combination in quadrature of the error in imerr.fits (the \"science\" image) and the error in the convolved and registered \"reference\" image, which is what we are trying to recover."
   ]
  },
  {
   "cell_type": "code",
   "execution_count": 4,
   "metadata": {},
   "outputs": [],
   "source": [
    "imerr = fits.getdata(\"work/imerr.fits\")\n",
    "imdifferr = fits.getdata(\"work/imdiff_sigma.fits\")\n",
    "\n",
    "terr_blurred = (imdifferr**2 - imerr**2)**0.5\n",
    "fits.writeto(\"work/terr_blurred.fits\", terr_blurred, overwrite=True)"
   ]
  }
 ],
 "metadata": {
  "kernelspec": {
   "display_name": "stenv",
   "language": "python",
   "name": "python3"
  },
  "language_info": {
   "codemirror_mode": {
    "name": "ipython",
    "version": 3
   },
   "file_extension": ".py",
   "mimetype": "text/x-python",
   "name": "python",
   "nbconvert_exporter": "python",
   "pygments_lexer": "ipython3",
   "version": "3.11.3"
  }
 },
 "nbformat": 4,
 "nbformat_minor": 2
}
