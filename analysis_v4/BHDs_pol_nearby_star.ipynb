{
 "cells": [
  {
   "cell_type": "code",
   "execution_count": 1,
   "metadata": {},
   "outputs": [],
   "source": [
    "import numpy as np\n",
    "import re\n",
    "\n",
    "from pol_analysis.polData import PolData\n",
    "from pol_analysis.runPhot import RunPhot\n",
    "from pol_analysis.getStokes import GetStokes"
   ]
  },
  {
   "cell_type": "code",
   "execution_count": 2,
   "metadata": {},
   "outputs": [],
   "source": [
    "def run_all(obj, band, star_coords, stddev_0_vals=None, bhd_coords=(1021.5, 70.), show_seeing_plots=False, pdata_force_new=False, phot_force_new=False, special_ob_pairs=None, only_seeing_fit=False, centroid_box_size=5, pdata_filenames_for_masks=None, append_output=False):\n",
    "\n",
    "    #Star coords for PSF measurements\n",
    "    star_ex_ref, star_ey_ref = star_coords\n",
    "\n",
    "    #BHD coords\n",
    "    bhd_ex_ref, bhd_ey_ref = bhd_coords\n",
    "\n",
    "    #Create the data object. This will run the mask creation and the cosmic ray rejection.  \n",
    "    bhd = PolData(obj, band, filenames_for_mask_creation=pdata_filenames_for_masks, force_new=pdata_force_new)\n",
    "\n",
    "    #Create the photometry object and run the common steps. \n",
    "    phot = RunPhot(bhd, force_new=phot_force_new)\n",
    "    phot.subtract_background(box_size=(25,25))\n",
    "    phot.get_source_positions(box_size=centroid_box_size)\n",
    "\n",
    "    #Now, go through all the OB pairs.\n",
    "    ob_combs = list()\n",
    "    for ob_pair in bhd.ob_pairs:\n",
    "        ob_combs.append([[ob_pair[0]],[ob_pair[1]]])\n",
    "    if len(bhd.ob_pairs)>1:\n",
    "        ob_combs.append([None, None])\n",
    "\n",
    "    #Add special combinations if provided. \n",
    "    if special_ob_pairs is not None:\n",
    "        ob_combs.extend(special_ob_pairs)\n",
    "\n",
    "    if append_output: \n",
    "        cato = open(\"nearby_star_{}_pol_{}.dat\".format(obj,  band), \"a\")\n",
    "    else:\n",
    "        cato = open(\"nearby_star_{}_pol_{}.dat\".format(obj,  band), \"w\")\n",
    "    for k, ob_comb in enumerate(ob_combs):\n",
    "        ob_ids = ob_comb[0]\n",
    "        mjds = ob_comb[1]\n",
    "        #print(ob_ids, mjds)\n",
    "        #continue\n",
    "\n",
    "        #Get the seeing. \n",
    "        fnames = bhd.list_of_filenames(ob_ids=ob_ids, mjds=mjds)\n",
    "        if stddev_0_vals is not None:\n",
    "            stddev_0 = stddev_0_vals[k]\n",
    "        else:\n",
    "            stddev_0 = np.ones(len(fnames))*1.1\n",
    "        phot.find_seeing(star_ex_ref, star_ey_ref, stddev_0=stddev_0, show_plots=show_seeing_plots, ob_ids=ob_ids, mjds=mjds)\n",
    "        #print(phot.seeing)\n",
    "        if only_seeing_fit:\n",
    "            continue\n",
    "\n",
    "        #Get the photometry convolving to a common PSF. \n",
    "        phot.get_phot(r_ap=1.0, force_new=True, apply_convolution=True, ob_ids=ob_ids, mjds=mjds)\n",
    "\n",
    "        #Measure the stokes and polarization parameters. \n",
    "        stk_obj = GetStokes(bhd)\n",
    "        stk_obj.get_pol(ob_ids=ob_ids, mjds=mjds)\n",
    "\n",
    "        #Get the polarization values for the BHD. \n",
    "        epos_ref = np.loadtxt(\"{}/{}\".format(bhd.phot_folder, re.sub(\".fits\", \".epos\", fnames[0])))\n",
    "        dist2 = (epos_ref[:,0]-bhd_ex_ref)**2 + (epos_ref[:,1]-bhd_ey_ref)**2\n",
    "        k = np.argmin(dist2)\n",
    "        #print(\"{:5.2f} {:5.2f} {:6.1f} {:6.1f}\".format(stk_obj.pol_frac[k]*100, stk_obj.epol_frac[k]*100, stk_obj.pol_angle[k], stk_obj.epol_angle[k]))\n",
    "\n",
    "        str = \"{:5.1f} {:5.1f}\".format(epos_ref[k,0], epos_ref[k,1])\n",
    "        str += \" {:5.2f} {:5.2f} {:6.1f} {:6.1f}\".format(stk_obj.pol_frac[k]*100, stk_obj.epol_frac[k]*100, stk_obj.pol_angle[k], stk_obj.epol_angle[k])\n",
    "        str += \" {:5.1f} {:5.1f} {:5.1f}\".format(np.min(phot.seeing), np.mean(phot.seeing), np.max(phot.seeing))\n",
    "        if ob_ids is None:\n",
    "            str += \" All\"\n",
    "        else:\n",
    "            for i, ob_id in enumerate(ob_ids):\n",
    "                str += \" {:10d} {:10d}\".format(ob_id, mjds[i])\n",
    "        print(str)\n",
    "        cato.write(str+\"\\n\")\n",
    "    cato.close()"
   ]
  },
  {
   "cell_type": "code",
   "execution_count": 3,
   "metadata": {},
   "outputs": [],
   "source": [
    "#Read the coordinates of the reference stars.\n",
    "star_coords = dict()\n",
    "cat = open(\"reference_stars.txt\")\n",
    "for line in cat:\n",
    "    x = line.split()\n",
    "    star_coords[x[0]] = (float(x[1]), float(x[2]))\n",
    "cat.close()"
   ]
  },
  {
   "cell_type": "markdown",
   "metadata": {},
   "source": [
    "## W0019-1046"
   ]
  },
  {
   "cell_type": "code",
   "execution_count": 4,
   "metadata": {},
   "outputs": [],
   "source": [
    "# wid = \"W0019-1046\"\n",
    "# run_all(wid, \"R_SPECIAL\", star_coords=star_coords[wid])"
   ]
  },
  {
   "cell_type": "markdown",
   "metadata": {},
   "source": [
    "## W0204-0506"
   ]
  },
  {
   "cell_type": "code",
   "execution_count": null,
   "metadata": {},
   "outputs": [
    {
     "name": "stderr",
     "output_type": "stream",
     "text": [
      "mkdir: work: File exists\n"
     ]
    },
    {
     "name": "stdout",
     "output_type": "stream",
     "text": [
      "1086.1 222.8  0.07  0.07   87.2   64.0   0.7   0.8   0.9    3565504      60209\n",
      "1086.1 222.9  0.15  0.08  127.7   16.6   0.5   0.6   0.7    3565580      60207\n",
      "1086.1 222.8  0.11  0.06  113.1   50.8   0.5   0.7   0.9 All\n"
     ]
    }
   ],
   "source": [
    "wid = \"W0204-0506\"\n",
    "#This is a bright star in the field.\n",
    "run_all(wid, \"R_SPECIAL\", star_coords=star_coords[wid], bhd_coords=(1086., 223.))"
   ]
  },
  {
   "cell_type": "code",
   "execution_count": null,
   "metadata": {},
   "outputs": [
    {
     "name": "stderr",
     "output_type": "stream",
     "text": [
      "mkdir: work: File exists\n"
     ]
    },
    {
     "name": "stdout",
     "output_type": "stream",
     "text": [
      "1011.9  53.8  1.26  0.79  139.6   21.7   0.7   0.8   0.9    3565504      60209\n",
      "1011.8  53.7  0.89  0.67   67.3   52.0   0.5   0.6   0.7    3565580      60207\n",
      "1011.9  53.8  0.38  0.46  120.4   55.1   0.5   0.7   0.9 All\n"
     ]
    }
   ],
   "source": [
    "#This is a nearby star. \n",
    "run_all(wid, \"R_SPECIAL\", star_coords=star_coords[wid], bhd_coords=(1013., 55.), append_output=True)"
   ]
  },
  {
   "cell_type": "code",
   "execution_count": null,
   "metadata": {},
   "outputs": [
    {
     "name": "stderr",
     "output_type": "stream",
     "text": [
      "mkdir: work: File exists\n"
     ]
    },
    {
     "name": "stdout",
     "output_type": "stream",
     "text": [
      "1020.2  69.8 25.20  1.00   12.4    1.2   0.7   0.8   0.9    3565504      60209\n",
      "1020.2  69.8 24.30  0.85   13.0    1.0   0.5   0.6   0.7    3565580      60207\n",
      "1020.2  69.8 24.72  0.67   12.7    0.7   0.5   0.7   0.9 All\n"
     ]
    }
   ],
   "source": [
    "#This is the BHD\n",
    "run_all(wid, \"R_SPECIAL\", star_coords=star_coords[wid], append_output=True)"
   ]
  },
  {
   "cell_type": "markdown",
   "metadata": {},
   "source": [
    "## W0220+0137"
   ]
  },
  {
   "cell_type": "code",
   "execution_count": 7,
   "metadata": {},
   "outputs": [],
   "source": [
    "# wid = \"W0220+0137\"\n",
    "# run_all(wid, \"R_SPECIAL\", star_coords=star_coords[wid])"
   ]
  },
  {
   "cell_type": "markdown",
   "metadata": {},
   "source": [
    "## W0831+0140"
   ]
  },
  {
   "cell_type": "code",
   "execution_count": 8,
   "metadata": {},
   "outputs": [],
   "source": [
    "# wid = \"W0831+0140\"\n",
    "# run_all(wid, \"R_SPECIAL\", star_coords=star_coords[wid])"
   ]
  },
  {
   "cell_type": "markdown",
   "metadata": {},
   "source": [
    "## W0116-0505"
   ]
  },
  {
   "cell_type": "markdown",
   "metadata": {},
   "source": [
    "#### $R_{\\rm SPECIAL}$"
   ]
  },
  {
   "cell_type": "code",
   "execution_count": 9,
   "metadata": {},
   "outputs": [],
   "source": [
    "# wid = \"W0116-0505\"\n",
    "# run_all(wid, \"R_SPECIAL\", star_coords=star_coords[wid])#, only_seeing_fit=True, show_seeing_plots=True)#, centroid_box_size=5, phot_force_new=True)#, pdata_force_new=True)"
   ]
  },
  {
   "cell_type": "markdown",
   "metadata": {},
   "source": [
    "#### $I_{\\rm BESS}$"
   ]
  },
  {
   "cell_type": "code",
   "execution_count": 10,
   "metadata": {},
   "outputs": [],
   "source": [
    "# special_ob_pairs = list()\n",
    "# special_ob_pairs.append([[3564862, 3565005],[60201, 60148]])\n",
    "# special_ob_pairs.append([[3564862, 3565005, 3564862], [60201, 60148, 60148]])\n",
    "\n",
    "# run_all(wid, \"I_BESS\", star_coords=star_coords[wid], special_ob_pairs=special_ob_pairs)#, only_seeing_fit=True, show_seeing_plots=True)#"
   ]
  },
  {
   "cell_type": "markdown",
   "metadata": {},
   "source": [
    "#### $v_{\\rm HIGH}$"
   ]
  },
  {
   "cell_type": "code",
   "execution_count": 11,
   "metadata": {},
   "outputs": [],
   "source": [
    "# #The images are not good for creating the masks. Instead, we will use the i-band images obtained closest in time to generate the masks. \n",
    "# aux = PolData(\"W0116-0505\",bband=\"I_BESS\")\n",
    "# filenames_for_masks = aux.list_of_filenames(ob_ids=[3564862],mjds=[60146])\n",
    "\n",
    "# run_all(wid, \"v_HIGH\", star_coords=star_coords[wid], pdata_filenames_for_masks=filenames_for_masks)#, only_seeing_fit=True, show_seeing_plots=True, phot_force_new=True, pdata_force_new=True)#"
   ]
  }
 ],
 "metadata": {
  "kernelspec": {
   "display_name": "stenv",
   "language": "python",
   "name": "python3"
  },
  "language_info": {
   "codemirror_mode": {
    "name": "ipython",
    "version": 3
   },
   "file_extension": ".py",
   "mimetype": "text/x-python",
   "name": "python",
   "nbconvert_exporter": "python",
   "pygments_lexer": "ipython3",
   "version": "3.11.3"
  }
 },
 "nbformat": 4,
 "nbformat_minor": 2
}
