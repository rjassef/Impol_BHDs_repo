{
 "cells": [
  {
   "cell_type": "code",
   "execution_count": 1,
   "metadata": {},
   "outputs": [],
   "source": [
    "import numpy as np\n",
    "import re\n",
    "\n",
    "from pol_analysis.polData import PolData\n",
    "from pol_analysis.runPhot import RunPhot\n",
    "from pol_analysis.getStokes import GetStokes"
   ]
  },
  {
   "cell_type": "code",
   "execution_count": 2,
   "metadata": {},
   "outputs": [],
   "source": [
    "def run_all(obj, band, star_coords, stddev_0_vals=None, bhd_coords=(1021.5, 70.), show_seeing_plots=False, pdata_force_new=False, phot_force_new=False, special_ob_pairs=None, only_seeing_fit=False, centroid_box_size=5, pdata_filenames_for_masks=None):\n",
    "\n",
    "    #Star coords for PSF measurements\n",
    "    star_ex_ref, star_ey_ref = star_coords\n",
    "\n",
    "    #BHD coords\n",
    "    bhd_ex_ref, bhd_ey_ref = bhd_coords\n",
    "\n",
    "    #Create the data object. This will run the mask creation and the cosmic ray rejection.  \n",
    "    bhd = PolData(obj, band, filenames_for_mask_creation=pdata_filenames_for_masks, force_new=pdata_force_new)\n",
    "\n",
    "    #Create the photometry object and run the common steps. \n",
    "    phot = RunPhot(bhd, force_new=phot_force_new)\n",
    "    phot.subtract_background(box_size=(25,25))\n",
    "    phot.get_source_positions(box_size=centroid_box_size)\n",
    "\n",
    "    #Now, go through all the OB pairs.\n",
    "    ob_combs = list()\n",
    "    for ob_pair in bhd.ob_pairs:\n",
    "        ob_combs.append([[ob_pair[0]],[ob_pair[1]]])\n",
    "    if len(bhd.ob_pairs)>1:\n",
    "        ob_combs.append([None, None])\n",
    "\n",
    "    #Add special combinations if provided. \n",
    "    if special_ob_pairs is not None:\n",
    "        ob_combs.extend(special_ob_pairs)\n",
    "\n",
    "    cato = open(\"{}_pol_{}.dat\".format(obj,  band), \"w\")\n",
    "    for k, ob_comb in enumerate(ob_combs):\n",
    "        ob_ids = ob_comb[0]\n",
    "        mjds = ob_comb[1]\n",
    "        #print(ob_ids, mjds)\n",
    "        #continue\n",
    "\n",
    "        #Get the seeing. \n",
    "        fnames = bhd.list_of_filenames(ob_ids=ob_ids, mjds=mjds)\n",
    "        if stddev_0_vals is not None:\n",
    "            stddev_0 = stddev_0_vals[k]\n",
    "        else:\n",
    "            stddev_0 = np.ones(len(fnames))*1.1\n",
    "        phot.find_seeing(star_ex_ref, star_ey_ref, stddev_0=stddev_0, show_plots=show_seeing_plots, ob_ids=ob_ids, mjds=mjds)\n",
    "        #print(phot.seeing)\n",
    "        if only_seeing_fit:\n",
    "            continue\n",
    "\n",
    "        #Get the photometry convolving to a common PSF. \n",
    "        phot.get_phot(r_ap=1.0, force_new=True, apply_convolution=True, ob_ids=ob_ids, mjds=mjds)\n",
    "\n",
    "        #Measure the stokes and polarization parameters. \n",
    "        stk_obj = GetStokes(bhd)\n",
    "        stk_obj.get_pol(ob_ids=ob_ids, mjds=mjds)\n",
    "\n",
    "        #Get the polarization values for the BHD. \n",
    "        epos_ref = np.loadtxt(\"{}/{}\".format(bhd.phot_folder, re.sub(\".fits\", \".epos\", fnames[0])))\n",
    "        dist2 = (epos_ref[:,0]-bhd_ex_ref)**2 + (epos_ref[:,1]-bhd_ey_ref)**2\n",
    "        k = np.argmin(dist2)\n",
    "        #print(\"{:5.2f} {:5.2f} {:6.1f} {:6.1f}\".format(stk_obj.pol_frac[k]*100, stk_obj.epol_frac[k]*100, stk_obj.pol_angle[k], stk_obj.epol_angle[k]))\n",
    "\n",
    "        str = \"{:5.2f} {:5.2f} {:6.1f} {:6.1f}\".format(stk_obj.pol_frac[k]*100, stk_obj.epol_frac[k]*100, stk_obj.pol_angle[k], stk_obj.epol_angle[k])\n",
    "        str += \" {:5.1f} {:5.1f} {:5.1f}\".format(np.min(phot.seeing), np.mean(phot.seeing), np.max(phot.seeing))\n",
    "        if ob_ids is None:\n",
    "            str += \" All\"\n",
    "        else:\n",
    "            for i, ob_id in enumerate(ob_ids):\n",
    "                str += \" {:10d} {:10d}\".format(ob_id, mjds[i])\n",
    "        print(str)\n",
    "        cato.write(str+\"\\n\")\n",
    "    cato.close()"
   ]
  },
  {
   "cell_type": "markdown",
   "metadata": {},
   "source": [
    "## W0019-1046"
   ]
  },
  {
   "cell_type": "code",
   "execution_count": 4,
   "metadata": {},
   "outputs": [
    {
     "name": "stderr",
     "output_type": "stream",
     "text": [
      "mkdir: work: File exists\n"
     ]
    },
    {
     "name": "stdout",
     "output_type": "stream",
     "text": [
      " 7.14  1.11  166.6    4.5   1.1   1.2   1.5    3565057      60201\n",
      " 5.40  0.85  161.8    4.7   0.7   0.8   1.0    3565577      60202\n",
      " 6.35  0.80  164.5    3.5   0.7   1.0   1.5 All\n"
     ]
    }
   ],
   "source": [
    "run_all(\"W0019-1046\", \"R_SPECIAL\", star_coords=(1145, 37.5))"
   ]
  },
  {
   "cell_type": "markdown",
   "metadata": {},
   "source": [
    "## W0204-0506"
   ]
  },
  {
   "cell_type": "code",
   "execution_count": 6,
   "metadata": {},
   "outputs": [
    {
     "name": "stderr",
     "output_type": "stream",
     "text": [
      "mkdir: work: File exists\n"
     ]
    },
    {
     "name": "stdout",
     "output_type": "stream",
     "text": [
      "25.20  1.02   12.4    1.0   0.6   0.7   0.8    3565504      60209\n",
      "24.26  0.86   13.1    1.0   0.5   0.6   0.7    3565580      60207\n",
      "24.72  0.64   12.7    0.8   0.5   0.7   0.8 All\n"
     ]
    }
   ],
   "source": [
    "run_all(\"W0204-0506\", \"R_SPECIAL\", star_coords=(1012.7, 53.8))"
   ]
  },
  {
   "cell_type": "markdown",
   "metadata": {},
   "source": [
    "## W0220+0137"
   ]
  },
  {
   "cell_type": "code",
   "execution_count": 7,
   "metadata": {},
   "outputs": [
    {
     "name": "stderr",
     "output_type": "stream",
     "text": [
      "mkdir: work: File exists\n"
     ]
    },
    {
     "name": "stdout",
     "output_type": "stream",
     "text": [
      "Finding sources for image science_reduced_img.W0220+0137.60207.R_SPECIAL.chip1.8.fits\n"
     ]
    },
    {
     "name": "stderr",
     "output_type": "stream",
     "text": [
      "WARNING: nan_treatment='interpolate', however, NaN values detected post convolution. A contiguous region of NaN values, larger than the kernel size, are present in the input array. Increase the kernel size to avoid this. [astropy.convolution.convolve]\n"
     ]
    },
    {
     "name": "stdout",
     "output_type": "stream",
     "text": [
      "Could not recenter o-beam position for source 53 in file science_reduced_img.W0220+0137.60201.R_SPECIAL.chip1.1.fits. Reverting to reference position.\n",
      "Could not recenter o-beam position for source 81 in file science_reduced_img.W0220+0137.60201.R_SPECIAL.chip1.1.fits. Reverting to reference position.\n",
      "Could not recenter o-beam position for source 81 in file science_reduced_img.W0220+0137.60201.R_SPECIAL.chip1.3.fits. Reverting to reference position.\n",
      "Could not recenter o-beam position for source 53 in file science_reduced_img.W0220+0137.60201.R_SPECIAL.chip1.4.fits. Reverting to reference position.\n",
      "Could not recenter o-beam position for source 53 in file science_reduced_img.W0220+0137.60201.R_SPECIAL.chip1.5.fits. Reverting to reference position.\n",
      "Could not recenter o-beam position for source 81 in file science_reduced_img.W0220+0137.60201.R_SPECIAL.chip1.5.fits. Reverting to reference position.\n",
      "Could not recenter o-beam position for source 55 in file science_reduced_img.W0220+0137.60201.R_SPECIAL.chip1.7.fits. Reverting to reference position.\n",
      "Could not recenter o-beam position for source 53 in file science_reduced_img.W0220+0137.60201.R_SPECIAL.chip1.8.fits. Reverting to reference position.\n",
      "Could not recenter o-beam position for source 81 in file science_reduced_img.W0220+0137.60207.R_SPECIAL.chip1.1.fits. Reverting to reference position.\n",
      "Could not recenter o-beam position for source 1 in file science_reduced_img.W0220+0137.60207.R_SPECIAL.chip1.4.fits. Reverting to reference position.\n",
      "Could not recenter e-beam position for source 1 in file science_reduced_img.W0220+0137.60207.R_SPECIAL.chip1.6.fits. Reverting to reference position.\n"
     ]
    },
    {
     "name": "stderr",
     "output_type": "stream",
     "text": [
      "/Users/rjassef/miniconda3/envs/stenv/lib/python3.11/site-packages/imagematch/ImageMatching_scalerot.py:1471: RuntimeWarning: invalid value encountered in sqrt\n",
      "  self.csigma = np.sqrt(self.csigma)\n",
      "/Users/rjassef/miniconda3/envs/stenv/lib/python3.11/site-packages/imagematch/ImageMatching_scalerot.py:1471: RuntimeWarning: invalid value encountered in sqrt\n",
      "  self.csigma = np.sqrt(self.csigma)\n"
     ]
    },
    {
     "name": "stdout",
     "output_type": "stream",
     "text": [
      "13.70  0.51  150.6    1.1   0.9   0.9   1.1    3565583      60201\n"
     ]
    },
    {
     "name": "stderr",
     "output_type": "stream",
     "text": [
      "/Users/rjassef/miniconda3/envs/stenv/lib/python3.11/site-packages/imagematch/ImageMatching_scalerot.py:1471: RuntimeWarning: invalid value encountered in sqrt\n",
      "  self.csigma = np.sqrt(self.csigma)\n",
      "/Users/rjassef/miniconda3/envs/stenv/lib/python3.11/site-packages/imagematch/ImageMatching_scalerot.py:1471: RuntimeWarning: invalid value encountered in sqrt\n",
      "  self.csigma = np.sqrt(self.csigma)\n",
      "/Users/rjassef/miniconda3/envs/stenv/lib/python3.11/site-packages/imagematch/ImageMatching_scalerot.py:1471: RuntimeWarning: invalid value encountered in sqrt\n",
      "  self.csigma = np.sqrt(self.csigma)\n",
      "/Users/rjassef/miniconda3/envs/stenv/lib/python3.11/site-packages/imagematch/ImageMatching_scalerot.py:1471: RuntimeWarning: invalid value encountered in sqrt\n",
      "  self.csigma = np.sqrt(self.csigma)\n"
     ]
    },
    {
     "name": "stdout",
     "output_type": "stream",
     "text": [
      "13.60  0.44  150.2    0.9   0.5   0.6   0.7    3565623      60207\n",
      "13.66  0.36  150.4    0.8   0.5   0.8   1.1 All\n"
     ]
    }
   ],
   "source": [
    "run_all(\"W0220+0137\", \"R_SPECIAL\", star_coords=(1600, 262))"
   ]
  },
  {
   "cell_type": "markdown",
   "metadata": {},
   "source": [
    "## W0831+0140"
   ]
  },
  {
   "cell_type": "code",
   "execution_count": null,
   "metadata": {},
   "outputs": [],
   "source": [
    "run_all(\"W0831+0140\", \"R_SPECIAL\", star_coords=(1010, 404))"
   ]
  },
  {
   "cell_type": "markdown",
   "metadata": {},
   "source": [
    "## W0116-0505"
   ]
  },
  {
   "cell_type": "markdown",
   "metadata": {},
   "source": [
    "#### $R_{\\rm SPECIAL}$"
   ]
  },
  {
   "cell_type": "code",
   "execution_count": null,
   "metadata": {},
   "outputs": [],
   "source": [
    "run_all(\"W0116-0505\", \"R_SPECIAL\", star_coords=(1398, 413))#, only_seeing_fit=True, show_seeing_plots=True)#, centroid_box_size=5, phot_force_new=True)#, pdata_force_new=True)"
   ]
  },
  {
   "cell_type": "markdown",
   "metadata": {},
   "source": [
    "#### $I_{\\rm BESS}$"
   ]
  },
  {
   "cell_type": "code",
   "execution_count": null,
   "metadata": {},
   "outputs": [],
   "source": [
    "special_ob_pairs = list()\n",
    "special_ob_pairs.append([[3564862, 3565005],[60201, 60148]])\n",
    "special_ob_pairs.append([[3564862, 3565005, 3564862], [60201, 60148, 60148]])\n",
    "\n",
    "run_all(\"W0116-0505\", \"I_BESS\", star_coords=(1398, 413), special_ob_pairs=special_ob_pairs)#, only_seeing_fit=True, show_seeing_plots=True)#"
   ]
  },
  {
   "cell_type": "markdown",
   "metadata": {},
   "source": [
    "#### $v_{\\rm HIGH}$"
   ]
  },
  {
   "cell_type": "code",
   "execution_count": null,
   "metadata": {},
   "outputs": [],
   "source": [
    "#The images are not good for creating the masks. Instead, we will use the i-band images obtained closest in time to generate the masks. \n",
    "aux = PolData(\"W0116-0505\",bband=\"I_BESS\")\n",
    "filenames_for_masks = aux.list_of_filenames(ob_ids=[3564862],mjds=[60146])\n",
    "\n",
    "run_all(\"W0116-0505\", \"v_HIGH\", star_coords=(1398, 413), pdata_filenames_for_masks=filenames_for_masks)#, only_seeing_fit=True, show_seeing_plots=True, phot_force_new=True, pdata_force_new=True)#"
   ]
  }
 ],
 "metadata": {
  "kernelspec": {
   "display_name": "stenv",
   "language": "python",
   "name": "python3"
  },
  "language_info": {
   "codemirror_mode": {
    "name": "ipython",
    "version": 3
   },
   "file_extension": ".py",
   "mimetype": "text/x-python",
   "name": "python",
   "nbconvert_exporter": "python",
   "pygments_lexer": "ipython3",
   "version": "3.11.3"
  }
 },
 "nbformat": 4,
 "nbformat_minor": 2
}
