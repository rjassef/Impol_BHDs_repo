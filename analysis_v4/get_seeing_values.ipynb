{
 "cells": [
  {
   "cell_type": "code",
   "execution_count": 1,
   "metadata": {},
   "outputs": [],
   "source": [
    "import numpy as np\n",
    "\n",
    "from pol_analysis.polData import PolData\n",
    "from pol_analysis.runPhot import RunPhot"
   ]
  },
  {
   "cell_type": "code",
   "execution_count": 2,
   "metadata": {},
   "outputs": [],
   "source": [
    "def run_all(obj, band, star_coords, stddev_0_vals=None, show_seeing_plots=False, pdata_force_new=False, phot_force_new=False, centroid_box_size=5, pdata_filenames_for_masks=None):\n",
    "\n",
    "    #Star coords for PSF measurements\n",
    "    star_ex_ref, star_ey_ref = star_coords\n",
    "\n",
    "    #Create the data object. This will run the mask creation and the cosmic ray rejection.  \n",
    "    bhd = PolData(obj, band, filenames_for_mask_creation=pdata_filenames_for_masks, force_new=pdata_force_new)\n",
    "\n",
    "    #Create the photometry object and run the common steps. \n",
    "    phot = RunPhot(bhd, force_new=phot_force_new)\n",
    "    phot.subtract_background(box_size=(25,25))\n",
    "    phot.get_source_positions(box_size=centroid_box_size)\n",
    "\n",
    "    #Get the seeing. \n",
    "    fnames = bhd.list_of_filenames(ob_ids=None, mjds=None)\n",
    "    if stddev_0_vals is not None:\n",
    "        stddev_0 = stddev_0_vals\n",
    "    else:\n",
    "        stddev_0 = np.ones(len(fnames))*1.1\n",
    "    phot.find_seeing(star_ex_ref, star_ey_ref, stddev_0=stddev_0, show_plots=show_seeing_plots, ob_ids=None, mjds=None)\n",
    "\n",
    "    output_lines = list()\n",
    "    for i, fname in enumerate(fnames):\n",
    "        output_lines.append(\"{} {} {:.4f} {}\\n\".format(obj, band, phot.seeing[i], fname))\n",
    "\n",
    "    return output_lines\n",
    "\n"
   ]
  },
  {
   "cell_type": "code",
   "execution_count": 3,
   "metadata": {},
   "outputs": [],
   "source": [
    "objects = [\n",
    "    \"W0019-1046\",\n",
    "    \"W0116-0505\",\n",
    "    \"W0204-0506\",\n",
    "    \"W0220+0137\",\n",
    "    \"W0831+0140\",\n",
    "]\n",
    "bands = dict()\n",
    "for obj in objects:\n",
    "    bands[obj] = [\"R_SPECIAL\"]\n",
    "    if obj==\"W0116-0505\":\n",
    "        bands[obj].extend([\"I_BESS\",\"v_HIGH\"])"
   ]
  },
  {
   "cell_type": "code",
   "execution_count": 4,
   "metadata": {},
   "outputs": [],
   "source": [
    "star_coords = dict()\n",
    "cat = open(\"reference_stars.txt\")\n",
    "for line in cat:\n",
    "    x = line.split()\n",
    "    star_coords[x[0]] = (float(x[1]), float(x[2]))\n",
    "cat.close()\n",
    "# star_coords = {\n",
    "#     \"W0019-1046\": (1470.5,  84.0),\n",
    "#     \"W0204-0506\": (1086.5, 222.5),\n",
    "#     \"W0220+0137\": (1600.0, 262.0),\n",
    "#     \"W0831+0140\": (1010.0, 404.0),\n",
    "#     \"W0116-0505\": (1398.0, 413.0),\n",
    "# }"
   ]
  },
  {
   "cell_type": "code",
   "execution_count": 5,
   "metadata": {},
   "outputs": [
    {
     "name": "stderr",
     "output_type": "stream",
     "text": [
      "mkdir: work: File exists\n"
     ]
    },
    {
     "name": "stdout",
     "output_type": "stream",
     "text": [
      "W0019-1046 R_SPECIAL 1.1393 science_reduced_img.W0019-1046.60201.R_SPECIAL.chip1.1.fits\n",
      "W0019-1046 R_SPECIAL 1.0648 science_reduced_img.W0019-1046.60201.R_SPECIAL.chip1.2.fits\n",
      "W0019-1046 R_SPECIAL 1.0875 science_reduced_img.W0019-1046.60201.R_SPECIAL.chip1.3.fits\n",
      "W0019-1046 R_SPECIAL 1.2529 science_reduced_img.W0019-1046.60201.R_SPECIAL.chip1.4.fits\n",
      "W0019-1046 R_SPECIAL 1.2532 science_reduced_img.W0019-1046.60201.R_SPECIAL.chip1.5.fits\n",
      "W0019-1046 R_SPECIAL 1.1635 science_reduced_img.W0019-1046.60201.R_SPECIAL.chip1.6.fits\n",
      "W0019-1046 R_SPECIAL 1.0762 science_reduced_img.W0019-1046.60201.R_SPECIAL.chip1.7.fits\n",
      "W0019-1046 R_SPECIAL 1.5288 science_reduced_img.W0019-1046.60201.R_SPECIAL.chip1.8.fits\n",
      "W0019-1046 R_SPECIAL 0.9790 science_reduced_img.W0019-1046.60202.R_SPECIAL.chip1.1.fits\n",
      "W0019-1046 R_SPECIAL 0.9779 science_reduced_img.W0019-1046.60202.R_SPECIAL.chip1.2.fits\n",
      "W0019-1046 R_SPECIAL 0.7208 science_reduced_img.W0019-1046.60202.R_SPECIAL.chip1.3.fits\n",
      "W0019-1046 R_SPECIAL 0.8021 science_reduced_img.W0019-1046.60202.R_SPECIAL.chip1.4.fits\n",
      "W0019-1046 R_SPECIAL 0.8734 science_reduced_img.W0019-1046.60202.R_SPECIAL.chip1.5.fits\n",
      "W0019-1046 R_SPECIAL 0.8250 science_reduced_img.W0019-1046.60202.R_SPECIAL.chip1.6.fits\n",
      "W0019-1046 R_SPECIAL 0.8064 science_reduced_img.W0019-1046.60202.R_SPECIAL.chip1.7.fits\n",
      "W0019-1046 R_SPECIAL 0.8506 science_reduced_img.W0019-1046.60202.R_SPECIAL.chip1.8.fits\n"
     ]
    },
    {
     "name": "stderr",
     "output_type": "stream",
     "text": [
      "mkdir: work: File exists\n"
     ]
    },
    {
     "name": "stdout",
     "output_type": "stream",
     "text": [
      "W0116-0505 R_SPECIAL 0.9501 science_reduced_img.W0116-0505.59137.R_SPECIAL.chip1.1.fits\n",
      "W0116-0505 R_SPECIAL 0.8715 science_reduced_img.W0116-0505.59137.R_SPECIAL.chip1.2.fits\n",
      "W0116-0505 R_SPECIAL 0.8937 science_reduced_img.W0116-0505.59137.R_SPECIAL.chip1.3.fits\n",
      "W0116-0505 R_SPECIAL 0.9702 science_reduced_img.W0116-0505.59137.R_SPECIAL.chip1.4.fits\n",
      "W0116-0505 R_SPECIAL 0.8732 science_reduced_img.W0116-0505.59137.R_SPECIAL.chip1.5.fits\n",
      "W0116-0505 R_SPECIAL 0.9155 science_reduced_img.W0116-0505.59137.R_SPECIAL.chip1.6.fits\n",
      "W0116-0505 R_SPECIAL 0.9759 science_reduced_img.W0116-0505.59137.R_SPECIAL.chip1.7.fits\n",
      "W0116-0505 R_SPECIAL 1.1039 science_reduced_img.W0116-0505.59137.R_SPECIAL.chip1.8.fits\n",
      "W0116-0505 R_SPECIAL 1.0803 science_reduced_img.W0116-0505.59136.R_SPECIAL.chip1.1.fits\n",
      "W0116-0505 R_SPECIAL 1.0116 science_reduced_img.W0116-0505.59136.R_SPECIAL.chip1.2.fits\n",
      "W0116-0505 R_SPECIAL 0.9377 science_reduced_img.W0116-0505.59136.R_SPECIAL.chip1.3.fits\n",
      "W0116-0505 R_SPECIAL 0.8555 science_reduced_img.W0116-0505.59136.R_SPECIAL.chip1.4.fits\n",
      "W0116-0505 R_SPECIAL 0.8825 science_reduced_img.W0116-0505.59136.R_SPECIAL.chip1.5.fits\n",
      "W0116-0505 R_SPECIAL 0.8221 science_reduced_img.W0116-0505.59136.R_SPECIAL.chip1.6.fits\n",
      "W0116-0505 R_SPECIAL 0.8727 science_reduced_img.W0116-0505.59136.R_SPECIAL.chip1.7.fits\n",
      "W0116-0505 R_SPECIAL 0.9187 science_reduced_img.W0116-0505.59136.R_SPECIAL.chip1.8.fits\n",
      "W0116-0505 R_SPECIAL 0.7507 science_reduced_img.W0116-0505.59135.R_SPECIAL.chip1.1.fits\n",
      "W0116-0505 R_SPECIAL 0.8581 science_reduced_img.W0116-0505.59135.R_SPECIAL.chip1.2.fits\n",
      "W0116-0505 R_SPECIAL 1.0048 science_reduced_img.W0116-0505.59135.R_SPECIAL.chip1.3.fits\n",
      "W0116-0505 R_SPECIAL 0.8142 science_reduced_img.W0116-0505.59135.R_SPECIAL.chip1.4.fits\n",
      "W0116-0505 R_SPECIAL 0.7601 science_reduced_img.W0116-0505.59135.R_SPECIAL.chip1.5.fits\n",
      "W0116-0505 R_SPECIAL 0.8918 science_reduced_img.W0116-0505.59135.R_SPECIAL.chip1.6.fits\n",
      "W0116-0505 R_SPECIAL 0.8051 science_reduced_img.W0116-0505.59135.R_SPECIAL.chip1.7.fits\n",
      "W0116-0505 R_SPECIAL 0.7478 science_reduced_img.W0116-0505.59135.R_SPECIAL.chip1.8.fits\n",
      "W0116-0505 R_SPECIAL 0.9963 science_reduced_img.W0116-0505.59136.R_SPECIAL.chip1.10.fits\n",
      "W0116-0505 R_SPECIAL 1.0208 science_reduced_img.W0116-0505.59136.R_SPECIAL.chip1.11.fits\n",
      "W0116-0505 R_SPECIAL 0.9781 science_reduced_img.W0116-0505.59136.R_SPECIAL.chip1.12.fits\n",
      "W0116-0505 R_SPECIAL 0.8830 science_reduced_img.W0116-0505.59136.R_SPECIAL.chip1.13.fits\n",
      "W0116-0505 R_SPECIAL 0.8730 science_reduced_img.W0116-0505.59136.R_SPECIAL.chip1.14.fits\n",
      "W0116-0505 R_SPECIAL 0.8847 science_reduced_img.W0116-0505.59136.R_SPECIAL.chip1.15.fits\n",
      "W0116-0505 R_SPECIAL 1.1112 science_reduced_img.W0116-0505.59136.R_SPECIAL.chip1.16.fits\n",
      "W0116-0505 R_SPECIAL 0.9663 science_reduced_img.W0116-0505.59136.R_SPECIAL.chip1.9.fits\n"
     ]
    },
    {
     "name": "stderr",
     "output_type": "stream",
     "text": [
      "mkdir: work: File exists\n"
     ]
    },
    {
     "name": "stdout",
     "output_type": "stream",
     "text": [
      "W0116-0505 I_BESS 0.5851 science_reduced_img.W0116-0505.60146.I_BESS.chip1.1.fits\n",
      "W0116-0505 I_BESS 0.5085 science_reduced_img.W0116-0505.60146.I_BESS.chip1.10.fits\n",
      "W0116-0505 I_BESS 0.5198 science_reduced_img.W0116-0505.60146.I_BESS.chip1.11.fits\n",
      "W0116-0505 I_BESS 0.4919 science_reduced_img.W0116-0505.60146.I_BESS.chip1.12.fits\n",
      "W0116-0505 I_BESS 0.5335 science_reduced_img.W0116-0505.60146.I_BESS.chip1.2.fits\n",
      "W0116-0505 I_BESS 0.4835 science_reduced_img.W0116-0505.60146.I_BESS.chip1.3.fits\n",
      "W0116-0505 I_BESS 0.5075 science_reduced_img.W0116-0505.60146.I_BESS.chip1.4.fits\n",
      "W0116-0505 I_BESS 0.5074 science_reduced_img.W0116-0505.60146.I_BESS.chip1.5.fits\n",
      "W0116-0505 I_BESS 0.5290 science_reduced_img.W0116-0505.60146.I_BESS.chip1.6.fits\n",
      "W0116-0505 I_BESS 0.5470 science_reduced_img.W0116-0505.60146.I_BESS.chip1.7.fits\n",
      "W0116-0505 I_BESS 0.5881 science_reduced_img.W0116-0505.60146.I_BESS.chip1.8.fits\n",
      "W0116-0505 I_BESS 0.5079 science_reduced_img.W0116-0505.60146.I_BESS.chip1.9.fits\n",
      "W0116-0505 I_BESS 0.9549 science_reduced_img.W0116-0505.60148.I_BESS.chip1.13.fits\n",
      "W0116-0505 I_BESS 1.0440 science_reduced_img.W0116-0505.60148.I_BESS.chip1.14.fits\n",
      "W0116-0505 I_BESS 0.7638 science_reduced_img.W0116-0505.60148.I_BESS.chip1.15.fits\n",
      "W0116-0505 I_BESS 0.6483 science_reduced_img.W0116-0505.60148.I_BESS.chip1.16.fits\n",
      "W0116-0505 I_BESS 0.6390 science_reduced_img.W0116-0505.60148.I_BESS.chip1.17.fits\n",
      "W0116-0505 I_BESS 0.7758 science_reduced_img.W0116-0505.60148.I_BESS.chip1.18.fits\n",
      "W0116-0505 I_BESS 0.8484 science_reduced_img.W0116-0505.60148.I_BESS.chip1.19.fits\n",
      "W0116-0505 I_BESS 0.8415 science_reduced_img.W0116-0505.60148.I_BESS.chip1.20.fits\n",
      "W0116-0505 I_BESS 0.6665 science_reduced_img.W0116-0505.60148.I_BESS.chip1.21.fits\n",
      "W0116-0505 I_BESS 0.7232 science_reduced_img.W0116-0505.60148.I_BESS.chip1.22.fits\n",
      "W0116-0505 I_BESS 0.6561 science_reduced_img.W0116-0505.60148.I_BESS.chip1.23.fits\n",
      "W0116-0505 I_BESS 0.6503 science_reduced_img.W0116-0505.60148.I_BESS.chip1.24.fits\n",
      "W0116-0505 I_BESS 1.1799 science_reduced_img.W0116-0505.60201.I_BESS.chip1.1.fits\n",
      "W0116-0505 I_BESS 1.0503 science_reduced_img.W0116-0505.60201.I_BESS.chip1.10.fits\n",
      "W0116-0505 I_BESS 0.9561 science_reduced_img.W0116-0505.60201.I_BESS.chip1.11.fits\n",
      "W0116-0505 I_BESS 0.9529 science_reduced_img.W0116-0505.60201.I_BESS.chip1.12.fits\n",
      "W0116-0505 I_BESS 1.3587 science_reduced_img.W0116-0505.60201.I_BESS.chip1.2.fits\n",
      "W0116-0505 I_BESS 1.2987 science_reduced_img.W0116-0505.60201.I_BESS.chip1.3.fits\n",
      "W0116-0505 I_BESS 1.1392 science_reduced_img.W0116-0505.60201.I_BESS.chip1.4.fits\n",
      "W0116-0505 I_BESS 1.0228 science_reduced_img.W0116-0505.60201.I_BESS.chip1.5.fits\n",
      "W0116-0505 I_BESS 1.1132 science_reduced_img.W0116-0505.60201.I_BESS.chip1.6.fits\n",
      "W0116-0505 I_BESS 1.0717 science_reduced_img.W0116-0505.60201.I_BESS.chip1.7.fits\n",
      "W0116-0505 I_BESS 1.1570 science_reduced_img.W0116-0505.60201.I_BESS.chip1.8.fits\n",
      "W0116-0505 I_BESS 1.0562 science_reduced_img.W0116-0505.60201.I_BESS.chip1.9.fits\n",
      "W0116-0505 I_BESS 0.7742 science_reduced_img.W0116-0505.60148.I_BESS.chip1.1.fits\n",
      "W0116-0505 I_BESS 0.6827 science_reduced_img.W0116-0505.60148.I_BESS.chip1.10.fits\n",
      "W0116-0505 I_BESS 0.6054 science_reduced_img.W0116-0505.60148.I_BESS.chip1.11.fits\n",
      "W0116-0505 I_BESS 1.0118 science_reduced_img.W0116-0505.60148.I_BESS.chip1.12.fits\n",
      "W0116-0505 I_BESS 0.8281 science_reduced_img.W0116-0505.60148.I_BESS.chip1.2.fits\n",
      "W0116-0505 I_BESS 1.0223 science_reduced_img.W0116-0505.60148.I_BESS.chip1.3.fits\n",
      "W0116-0505 I_BESS 1.1927 science_reduced_img.W0116-0505.60148.I_BESS.chip1.4.fits\n",
      "W0116-0505 I_BESS 0.8673 science_reduced_img.W0116-0505.60148.I_BESS.chip1.5.fits\n",
      "W0116-0505 I_BESS 0.8320 science_reduced_img.W0116-0505.60148.I_BESS.chip1.6.fits\n",
      "W0116-0505 I_BESS 0.7476 science_reduced_img.W0116-0505.60148.I_BESS.chip1.7.fits\n",
      "W0116-0505 I_BESS 0.8915 science_reduced_img.W0116-0505.60148.I_BESS.chip1.8.fits\n",
      "W0116-0505 I_BESS 0.8972 science_reduced_img.W0116-0505.60148.I_BESS.chip1.9.fits\n",
      "W0116-0505 v_HIGH 0.6962 science_reduced_img.W0116-0505.60143.v_HIGH.chip1.1.fits\n",
      "W0116-0505 v_HIGH 0.7666 science_reduced_img.W0116-0505.60143.v_HIGH.chip1.2.fits\n",
      "W0116-0505 v_HIGH 0.9605 science_reduced_img.W0116-0505.60143.v_HIGH.chip1.3.fits\n",
      "W0116-0505 v_HIGH 0.7234 science_reduced_img.W0116-0505.60143.v_HIGH.chip1.4.fits\n",
      "W0116-0505 v_HIGH 0.7135 science_reduced_img.W0116-0505.60143.v_HIGH.chip1.5.fits\n",
      "W0116-0505 v_HIGH 0.7504 science_reduced_img.W0116-0505.60143.v_HIGH.chip1.6.fits\n",
      "W0116-0505 v_HIGH 0.6759 science_reduced_img.W0116-0505.60143.v_HIGH.chip1.7.fits\n",
      "W0116-0505 v_HIGH 0.7446 science_reduced_img.W0116-0505.60143.v_HIGH.chip1.8.fits\n"
     ]
    },
    {
     "name": "stderr",
     "output_type": "stream",
     "text": [
      "mkdir: work: File exists\n",
      "mkdir: work: File exists\n"
     ]
    },
    {
     "name": "stdout",
     "output_type": "stream",
     "text": [
      "W0204-0506 R_SPECIAL 0.7984 science_reduced_img.W0204-0506.60209.R_SPECIAL.chip1.1.fits\n",
      "W0204-0506 R_SPECIAL 0.7869 science_reduced_img.W0204-0506.60209.R_SPECIAL.chip1.2.fits\n",
      "W0204-0506 R_SPECIAL 0.8596 science_reduced_img.W0204-0506.60209.R_SPECIAL.chip1.3.fits\n",
      "W0204-0506 R_SPECIAL 0.7554 science_reduced_img.W0204-0506.60209.R_SPECIAL.chip1.4.fits\n",
      "W0204-0506 R_SPECIAL 0.7250 science_reduced_img.W0204-0506.60209.R_SPECIAL.chip1.5.fits\n",
      "W0204-0506 R_SPECIAL 0.6901 science_reduced_img.W0204-0506.60209.R_SPECIAL.chip1.6.fits\n",
      "W0204-0506 R_SPECIAL 0.6931 science_reduced_img.W0204-0506.60209.R_SPECIAL.chip1.7.fits\n",
      "W0204-0506 R_SPECIAL 0.7996 science_reduced_img.W0204-0506.60209.R_SPECIAL.chip1.8.fits\n",
      "W0204-0506 R_SPECIAL 0.5905 science_reduced_img.W0204-0506.60207.R_SPECIAL.chip1.1.fits\n",
      "W0204-0506 R_SPECIAL 0.5577 science_reduced_img.W0204-0506.60207.R_SPECIAL.chip1.2.fits\n",
      "W0204-0506 R_SPECIAL 0.5426 science_reduced_img.W0204-0506.60207.R_SPECIAL.chip1.3.fits\n",
      "W0204-0506 R_SPECIAL 0.6746 science_reduced_img.W0204-0506.60207.R_SPECIAL.chip1.4.fits\n",
      "W0204-0506 R_SPECIAL 0.5794 science_reduced_img.W0204-0506.60207.R_SPECIAL.chip1.5.fits\n",
      "W0204-0506 R_SPECIAL 0.6617 science_reduced_img.W0204-0506.60207.R_SPECIAL.chip1.6.fits\n",
      "W0204-0506 R_SPECIAL 0.6794 science_reduced_img.W0204-0506.60207.R_SPECIAL.chip1.7.fits\n",
      "W0204-0506 R_SPECIAL 0.6724 science_reduced_img.W0204-0506.60207.R_SPECIAL.chip1.8.fits\n"
     ]
    },
    {
     "name": "stderr",
     "output_type": "stream",
     "text": [
      "mkdir: work: File exists\n"
     ]
    },
    {
     "name": "stdout",
     "output_type": "stream",
     "text": [
      "W0220+0137 R_SPECIAL 0.9896 science_reduced_img.W0220+0137.60201.R_SPECIAL.chip1.1.fits\n",
      "W0220+0137 R_SPECIAL 0.8604 science_reduced_img.W0220+0137.60201.R_SPECIAL.chip1.2.fits\n",
      "W0220+0137 R_SPECIAL 0.8704 science_reduced_img.W0220+0137.60201.R_SPECIAL.chip1.3.fits\n",
      "W0220+0137 R_SPECIAL 1.1060 science_reduced_img.W0220+0137.60201.R_SPECIAL.chip1.4.fits\n",
      "W0220+0137 R_SPECIAL 0.9939 science_reduced_img.W0220+0137.60201.R_SPECIAL.chip1.5.fits\n",
      "W0220+0137 R_SPECIAL 0.8645 science_reduced_img.W0220+0137.60201.R_SPECIAL.chip1.6.fits\n",
      "W0220+0137 R_SPECIAL 0.8585 science_reduced_img.W0220+0137.60201.R_SPECIAL.chip1.7.fits\n",
      "W0220+0137 R_SPECIAL 0.8930 science_reduced_img.W0220+0137.60201.R_SPECIAL.chip1.8.fits\n",
      "W0220+0137 R_SPECIAL 0.5598 science_reduced_img.W0220+0137.60207.R_SPECIAL.chip1.1.fits\n",
      "W0220+0137 R_SPECIAL 0.5400 science_reduced_img.W0220+0137.60207.R_SPECIAL.chip1.2.fits\n",
      "W0220+0137 R_SPECIAL 0.5127 science_reduced_img.W0220+0137.60207.R_SPECIAL.chip1.3.fits\n",
      "W0220+0137 R_SPECIAL 0.5452 science_reduced_img.W0220+0137.60207.R_SPECIAL.chip1.4.fits\n",
      "W0220+0137 R_SPECIAL 0.5466 science_reduced_img.W0220+0137.60207.R_SPECIAL.chip1.5.fits\n",
      "W0220+0137 R_SPECIAL 0.5741 science_reduced_img.W0220+0137.60207.R_SPECIAL.chip1.6.fits\n",
      "W0220+0137 R_SPECIAL 0.6527 science_reduced_img.W0220+0137.60207.R_SPECIAL.chip1.7.fits\n",
      "W0220+0137 R_SPECIAL 0.6754 science_reduced_img.W0220+0137.60207.R_SPECIAL.chip1.8.fits\n",
      "W0831+0140 R_SPECIAL 0.8101 science_reduced_img.W0831+0140.60290.R_SPECIAL.chip1.1.fits\n",
      "W0831+0140 R_SPECIAL 0.8094 science_reduced_img.W0831+0140.60290.R_SPECIAL.chip1.2.fits\n",
      "W0831+0140 R_SPECIAL 0.8568 science_reduced_img.W0831+0140.60290.R_SPECIAL.chip1.3.fits\n",
      "W0831+0140 R_SPECIAL 0.7456 science_reduced_img.W0831+0140.60290.R_SPECIAL.chip1.4.fits\n",
      "W0831+0140 R_SPECIAL 0.8138 science_reduced_img.W0831+0140.60290.R_SPECIAL.chip1.5.fits\n",
      "W0831+0140 R_SPECIAL 0.7702 science_reduced_img.W0831+0140.60290.R_SPECIAL.chip1.6.fits\n",
      "W0831+0140 R_SPECIAL 0.7745 science_reduced_img.W0831+0140.60290.R_SPECIAL.chip1.7.fits\n",
      "W0831+0140 R_SPECIAL 0.9103 science_reduced_img.W0831+0140.60290.R_SPECIAL.chip1.8.fits\n",
      "W0831+0140 R_SPECIAL 0.6116 science_reduced_img.W0831+0140.60291.R_SPECIAL.chip1.1.fits\n",
      "W0831+0140 R_SPECIAL 0.6311 science_reduced_img.W0831+0140.60291.R_SPECIAL.chip1.2.fits\n",
      "W0831+0140 R_SPECIAL 0.6164 science_reduced_img.W0831+0140.60291.R_SPECIAL.chip1.3.fits\n",
      "W0831+0140 R_SPECIAL 0.6073 science_reduced_img.W0831+0140.60291.R_SPECIAL.chip1.4.fits\n",
      "W0831+0140 R_SPECIAL 0.6304 science_reduced_img.W0831+0140.60291.R_SPECIAL.chip1.5.fits\n",
      "W0831+0140 R_SPECIAL 0.6963 science_reduced_img.W0831+0140.60291.R_SPECIAL.chip1.6.fits\n",
      "W0831+0140 R_SPECIAL 0.6820 science_reduced_img.W0831+0140.60291.R_SPECIAL.chip1.7.fits\n",
      "W0831+0140 R_SPECIAL 0.7117 science_reduced_img.W0831+0140.60291.R_SPECIAL.chip1.8.fits\n"
     ]
    },
    {
     "name": "stderr",
     "output_type": "stream",
     "text": [
      "mkdir: work: File exists\n"
     ]
    }
   ],
   "source": [
    "#run_all(\"W0019-1046\", \"R_SPECIAL\", star_coords=(1145, 37.5))\n",
    "cato = open(\"All_seeing_values.txt\", \"w\")\n",
    "for obj in objects:\n",
    "    for band in bands[obj]:\n",
    "        output_lines = run_all(obj, band, star_coords=star_coords[obj])\n",
    "        for output_line in output_lines:\n",
    "            cato.write(output_line)\n",
    "            print(output_line[:-1])\n",
    "cato.close()"
   ]
  }
 ],
 "metadata": {
  "kernelspec": {
   "display_name": "stenv",
   "language": "python",
   "name": "python3"
  },
  "language_info": {
   "codemirror_mode": {
    "name": "ipython",
    "version": 3
   },
   "file_extension": ".py",
   "mimetype": "text/x-python",
   "name": "python",
   "nbconvert_exporter": "python",
   "pygments_lexer": "ipython3",
   "version": "3.11.3"
  }
 },
 "nbformat": 4,
 "nbformat_minor": 2
}
