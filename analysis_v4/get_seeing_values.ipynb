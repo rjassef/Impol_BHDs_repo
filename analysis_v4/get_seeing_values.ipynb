{
 "cells": [
  {
   "cell_type": "code",
   "execution_count": 1,
   "metadata": {},
   "outputs": [],
   "source": [
    "import numpy as np\n",
    "\n",
    "from pol_analysis.polData import PolData\n",
    "from pol_analysis.runPhot import RunPhot"
   ]
  },
  {
   "cell_type": "code",
   "execution_count": 2,
   "metadata": {},
   "outputs": [],
   "source": [
    "def run_all(obj, band, star_coords, stddev_0_vals=None, show_seeing_plots=False, pdata_force_new=False, phot_force_new=False, centroid_box_size=5, pdata_filenames_for_masks=None):\n",
    "\n",
    "    #Star coords for PSF measurements\n",
    "    star_ex_ref, star_ey_ref = star_coords\n",
    "\n",
    "    #Create the data object. This will run the mask creation and the cosmic ray rejection.  \n",
    "    bhd = PolData(obj, band, filenames_for_mask_creation=pdata_filenames_for_masks, force_new=pdata_force_new)\n",
    "\n",
    "    #Create the photometry object and run the common steps. \n",
    "    phot = RunPhot(bhd, force_new=phot_force_new)\n",
    "    phot.subtract_background(box_size=(25,25))\n",
    "    phot.get_source_positions(box_size=centroid_box_size)\n",
    "\n",
    "    #Get the seeing. \n",
    "    fnames = bhd.list_of_filenames(ob_ids=None, mjds=None)\n",
    "    if stddev_0_vals is not None:\n",
    "        stddev_0 = stddev_0_vals\n",
    "    else:\n",
    "        stddev_0 = np.ones(len(fnames))*1.1\n",
    "    phot.find_seeing(star_ex_ref, star_ey_ref, stddev_0=stddev_0, show_plots=show_seeing_plots, ob_ids=None, mjds=None)\n",
    "\n",
    "    output_lines = list()\n",
    "    for i, fname in enumerate(fnames):\n",
    "        output_lines.append(\"{} {} {:.2f} {}\\n\".format(obj, band, phot.seeing[i], fname))\n",
    "\n",
    "    return output_lines\n",
    "\n"
   ]
  },
  {
   "cell_type": "code",
   "execution_count": 3,
   "metadata": {},
   "outputs": [],
   "source": [
    "objects = [\n",
    "    \"W0019-1046\",\n",
    "    \"W0116-0505\",\n",
    "    \"W0204-0506\",\n",
    "    \"W0220+0137\",\n",
    "    \"W0831+0140\",\n",
    "]\n",
    "bands = dict()\n",
    "for obj in objects:\n",
    "    bands[obj] = [\"R_SPECIAL\"]\n",
    "    if obj==\"W0116-0505\":\n",
    "        bands[obj].extend([\"I_BESS\",\"v_HIGH\"])"
   ]
  },
  {
   "cell_type": "code",
   "execution_count": 4,
   "metadata": {},
   "outputs": [],
   "source": [
    "star_coords = dict()\n",
    "cat = open(\"reference_stars.txt\")\n",
    "for line in cat:\n",
    "    x = line.split()\n",
    "    star_coords[x[0]] = (float(x[1]), float(x[2]))\n",
    "cat.close()\n",
    "# star_coords = {\n",
    "#     \"W0019-1046\": (1470.5,  84.0),\n",
    "#     \"W0204-0506\": (1086.5, 222.5),\n",
    "#     \"W0220+0137\": (1600.0, 262.0),\n",
    "#     \"W0831+0140\": (1010.0, 404.0),\n",
    "#     \"W0116-0505\": (1398.0, 413.0),\n",
    "# }"
   ]
  },
  {
   "cell_type": "code",
   "execution_count": 8,
   "metadata": {},
   "outputs": [
    {
     "name": "stderr",
     "output_type": "stream",
     "text": [
      "mkdir: work: File exists\n"
     ]
    },
    {
     "name": "stdout",
     "output_type": "stream",
     "text": [
      "W0019-1046 R_SPECIAL 1.14 science_reduced_img.W0019-1046.60201.R_SPECIAL.chip1.1.fits\n",
      "W0019-1046 R_SPECIAL 1.06 science_reduced_img.W0019-1046.60201.R_SPECIAL.chip1.2.fits\n",
      "W0019-1046 R_SPECIAL 1.09 science_reduced_img.W0019-1046.60201.R_SPECIAL.chip1.3.fits\n",
      "W0019-1046 R_SPECIAL 1.25 science_reduced_img.W0019-1046.60201.R_SPECIAL.chip1.4.fits\n",
      "W0019-1046 R_SPECIAL 1.25 science_reduced_img.W0019-1046.60201.R_SPECIAL.chip1.5.fits\n",
      "W0019-1046 R_SPECIAL 1.16 science_reduced_img.W0019-1046.60201.R_SPECIAL.chip1.6.fits\n",
      "W0019-1046 R_SPECIAL 1.08 science_reduced_img.W0019-1046.60201.R_SPECIAL.chip1.7.fits\n",
      "W0019-1046 R_SPECIAL 1.53 science_reduced_img.W0019-1046.60201.R_SPECIAL.chip1.8.fits\n",
      "W0019-1046 R_SPECIAL 0.98 science_reduced_img.W0019-1046.60202.R_SPECIAL.chip1.1.fits\n",
      "W0019-1046 R_SPECIAL 0.98 science_reduced_img.W0019-1046.60202.R_SPECIAL.chip1.2.fits\n",
      "W0019-1046 R_SPECIAL 0.72 science_reduced_img.W0019-1046.60202.R_SPECIAL.chip1.3.fits\n",
      "W0019-1046 R_SPECIAL 0.80 science_reduced_img.W0019-1046.60202.R_SPECIAL.chip1.4.fits\n",
      "W0019-1046 R_SPECIAL 0.87 science_reduced_img.W0019-1046.60202.R_SPECIAL.chip1.5.fits\n",
      "W0019-1046 R_SPECIAL 0.83 science_reduced_img.W0019-1046.60202.R_SPECIAL.chip1.6.fits\n",
      "W0019-1046 R_SPECIAL 0.81 science_reduced_img.W0019-1046.60202.R_SPECIAL.chip1.7.fits\n",
      "W0019-1046 R_SPECIAL 0.85 science_reduced_img.W0019-1046.60202.R_SPECIAL.chip1.8.fits\n"
     ]
    },
    {
     "name": "stderr",
     "output_type": "stream",
     "text": [
      "mkdir: work: File exists\n"
     ]
    },
    {
     "name": "stdout",
     "output_type": "stream",
     "text": [
      "W0116-0505 R_SPECIAL 0.95 science_reduced_img.W0116-0505.59137.R_SPECIAL.chip1.1.fits\n",
      "W0116-0505 R_SPECIAL 0.87 science_reduced_img.W0116-0505.59137.R_SPECIAL.chip1.2.fits\n",
      "W0116-0505 R_SPECIAL 0.89 science_reduced_img.W0116-0505.59137.R_SPECIAL.chip1.3.fits\n",
      "W0116-0505 R_SPECIAL 0.97 science_reduced_img.W0116-0505.59137.R_SPECIAL.chip1.4.fits\n",
      "W0116-0505 R_SPECIAL 0.87 science_reduced_img.W0116-0505.59137.R_SPECIAL.chip1.5.fits\n",
      "W0116-0505 R_SPECIAL 0.92 science_reduced_img.W0116-0505.59137.R_SPECIAL.chip1.6.fits\n",
      "W0116-0505 R_SPECIAL 0.98 science_reduced_img.W0116-0505.59137.R_SPECIAL.chip1.7.fits\n",
      "W0116-0505 R_SPECIAL 1.10 science_reduced_img.W0116-0505.59137.R_SPECIAL.chip1.8.fits\n",
      "W0116-0505 R_SPECIAL 1.08 science_reduced_img.W0116-0505.59136.R_SPECIAL.chip1.1.fits\n",
      "W0116-0505 R_SPECIAL 1.01 science_reduced_img.W0116-0505.59136.R_SPECIAL.chip1.2.fits\n",
      "W0116-0505 R_SPECIAL 0.94 science_reduced_img.W0116-0505.59136.R_SPECIAL.chip1.3.fits\n",
      "W0116-0505 R_SPECIAL 0.86 science_reduced_img.W0116-0505.59136.R_SPECIAL.chip1.4.fits\n",
      "W0116-0505 R_SPECIAL 0.88 science_reduced_img.W0116-0505.59136.R_SPECIAL.chip1.5.fits\n",
      "W0116-0505 R_SPECIAL 0.82 science_reduced_img.W0116-0505.59136.R_SPECIAL.chip1.6.fits\n",
      "W0116-0505 R_SPECIAL 0.87 science_reduced_img.W0116-0505.59136.R_SPECIAL.chip1.7.fits\n",
      "W0116-0505 R_SPECIAL 0.92 science_reduced_img.W0116-0505.59136.R_SPECIAL.chip1.8.fits\n",
      "W0116-0505 R_SPECIAL 0.75 science_reduced_img.W0116-0505.59135.R_SPECIAL.chip1.1.fits\n",
      "W0116-0505 R_SPECIAL 0.86 science_reduced_img.W0116-0505.59135.R_SPECIAL.chip1.2.fits\n",
      "W0116-0505 R_SPECIAL 1.00 science_reduced_img.W0116-0505.59135.R_SPECIAL.chip1.3.fits\n",
      "W0116-0505 R_SPECIAL 0.81 science_reduced_img.W0116-0505.59135.R_SPECIAL.chip1.4.fits\n",
      "W0116-0505 R_SPECIAL 0.76 science_reduced_img.W0116-0505.59135.R_SPECIAL.chip1.5.fits\n",
      "W0116-0505 R_SPECIAL 0.89 science_reduced_img.W0116-0505.59135.R_SPECIAL.chip1.6.fits\n",
      "W0116-0505 R_SPECIAL 0.81 science_reduced_img.W0116-0505.59135.R_SPECIAL.chip1.7.fits\n",
      "W0116-0505 R_SPECIAL 0.75 science_reduced_img.W0116-0505.59135.R_SPECIAL.chip1.8.fits\n",
      "W0116-0505 R_SPECIAL 1.00 science_reduced_img.W0116-0505.59136.R_SPECIAL.chip1.10.fits\n",
      "W0116-0505 R_SPECIAL 1.02 science_reduced_img.W0116-0505.59136.R_SPECIAL.chip1.11.fits\n",
      "W0116-0505 R_SPECIAL 0.98 science_reduced_img.W0116-0505.59136.R_SPECIAL.chip1.12.fits\n",
      "W0116-0505 R_SPECIAL 0.88 science_reduced_img.W0116-0505.59136.R_SPECIAL.chip1.13.fits\n",
      "W0116-0505 R_SPECIAL 0.87 science_reduced_img.W0116-0505.59136.R_SPECIAL.chip1.14.fits\n",
      "W0116-0505 R_SPECIAL 0.88 science_reduced_img.W0116-0505.59136.R_SPECIAL.chip1.15.fits\n",
      "W0116-0505 R_SPECIAL 1.11 science_reduced_img.W0116-0505.59136.R_SPECIAL.chip1.16.fits\n",
      "W0116-0505 R_SPECIAL 0.97 science_reduced_img.W0116-0505.59136.R_SPECIAL.chip1.9.fits\n"
     ]
    },
    {
     "name": "stderr",
     "output_type": "stream",
     "text": [
      "mkdir: work: File exists\n"
     ]
    },
    {
     "name": "stdout",
     "output_type": "stream",
     "text": [
      "W0116-0505 I_BESS 0.59 science_reduced_img.W0116-0505.60146.I_BESS.chip1.1.fits\n",
      "W0116-0505 I_BESS 0.51 science_reduced_img.W0116-0505.60146.I_BESS.chip1.10.fits\n",
      "W0116-0505 I_BESS 0.52 science_reduced_img.W0116-0505.60146.I_BESS.chip1.11.fits\n",
      "W0116-0505 I_BESS 0.49 science_reduced_img.W0116-0505.60146.I_BESS.chip1.12.fits\n",
      "W0116-0505 I_BESS 0.53 science_reduced_img.W0116-0505.60146.I_BESS.chip1.2.fits\n",
      "W0116-0505 I_BESS 0.48 science_reduced_img.W0116-0505.60146.I_BESS.chip1.3.fits\n",
      "W0116-0505 I_BESS 0.51 science_reduced_img.W0116-0505.60146.I_BESS.chip1.4.fits\n",
      "W0116-0505 I_BESS 0.51 science_reduced_img.W0116-0505.60146.I_BESS.chip1.5.fits\n",
      "W0116-0505 I_BESS 0.53 science_reduced_img.W0116-0505.60146.I_BESS.chip1.6.fits\n",
      "W0116-0505 I_BESS 0.55 science_reduced_img.W0116-0505.60146.I_BESS.chip1.7.fits\n",
      "W0116-0505 I_BESS 0.59 science_reduced_img.W0116-0505.60146.I_BESS.chip1.8.fits\n",
      "W0116-0505 I_BESS 0.51 science_reduced_img.W0116-0505.60146.I_BESS.chip1.9.fits\n",
      "W0116-0505 I_BESS 0.95 science_reduced_img.W0116-0505.60148.I_BESS.chip1.13.fits\n",
      "W0116-0505 I_BESS 1.04 science_reduced_img.W0116-0505.60148.I_BESS.chip1.14.fits\n",
      "W0116-0505 I_BESS 0.76 science_reduced_img.W0116-0505.60148.I_BESS.chip1.15.fits\n",
      "W0116-0505 I_BESS 0.65 science_reduced_img.W0116-0505.60148.I_BESS.chip1.16.fits\n",
      "W0116-0505 I_BESS 0.64 science_reduced_img.W0116-0505.60148.I_BESS.chip1.17.fits\n",
      "W0116-0505 I_BESS 0.78 science_reduced_img.W0116-0505.60148.I_BESS.chip1.18.fits\n",
      "W0116-0505 I_BESS 0.85 science_reduced_img.W0116-0505.60148.I_BESS.chip1.19.fits\n",
      "W0116-0505 I_BESS 0.84 science_reduced_img.W0116-0505.60148.I_BESS.chip1.20.fits\n",
      "W0116-0505 I_BESS 0.67 science_reduced_img.W0116-0505.60148.I_BESS.chip1.21.fits\n",
      "W0116-0505 I_BESS 0.72 science_reduced_img.W0116-0505.60148.I_BESS.chip1.22.fits\n",
      "W0116-0505 I_BESS 0.66 science_reduced_img.W0116-0505.60148.I_BESS.chip1.23.fits\n",
      "W0116-0505 I_BESS 0.65 science_reduced_img.W0116-0505.60148.I_BESS.chip1.24.fits\n",
      "W0116-0505 I_BESS 1.18 science_reduced_img.W0116-0505.60201.I_BESS.chip1.1.fits\n",
      "W0116-0505 I_BESS 1.05 science_reduced_img.W0116-0505.60201.I_BESS.chip1.10.fits\n",
      "W0116-0505 I_BESS 0.96 science_reduced_img.W0116-0505.60201.I_BESS.chip1.11.fits\n",
      "W0116-0505 I_BESS 0.95 science_reduced_img.W0116-0505.60201.I_BESS.chip1.12.fits\n",
      "W0116-0505 I_BESS 1.36 science_reduced_img.W0116-0505.60201.I_BESS.chip1.2.fits\n",
      "W0116-0505 I_BESS 1.30 science_reduced_img.W0116-0505.60201.I_BESS.chip1.3.fits\n",
      "W0116-0505 I_BESS 1.14 science_reduced_img.W0116-0505.60201.I_BESS.chip1.4.fits\n",
      "W0116-0505 I_BESS 1.02 science_reduced_img.W0116-0505.60201.I_BESS.chip1.5.fits\n",
      "W0116-0505 I_BESS 1.11 science_reduced_img.W0116-0505.60201.I_BESS.chip1.6.fits\n",
      "W0116-0505 I_BESS 1.07 science_reduced_img.W0116-0505.60201.I_BESS.chip1.7.fits\n",
      "W0116-0505 I_BESS 1.16 science_reduced_img.W0116-0505.60201.I_BESS.chip1.8.fits\n",
      "W0116-0505 I_BESS 1.06 science_reduced_img.W0116-0505.60201.I_BESS.chip1.9.fits\n",
      "W0116-0505 I_BESS 0.77 science_reduced_img.W0116-0505.60148.I_BESS.chip1.1.fits\n",
      "W0116-0505 I_BESS 0.68 science_reduced_img.W0116-0505.60148.I_BESS.chip1.10.fits\n",
      "W0116-0505 I_BESS 0.61 science_reduced_img.W0116-0505.60148.I_BESS.chip1.11.fits\n",
      "W0116-0505 I_BESS 1.01 science_reduced_img.W0116-0505.60148.I_BESS.chip1.12.fits\n",
      "W0116-0505 I_BESS 0.83 science_reduced_img.W0116-0505.60148.I_BESS.chip1.2.fits\n",
      "W0116-0505 I_BESS 1.02 science_reduced_img.W0116-0505.60148.I_BESS.chip1.3.fits\n",
      "W0116-0505 I_BESS 1.19 science_reduced_img.W0116-0505.60148.I_BESS.chip1.4.fits\n",
      "W0116-0505 I_BESS 0.87 science_reduced_img.W0116-0505.60148.I_BESS.chip1.5.fits\n",
      "W0116-0505 I_BESS 0.83 science_reduced_img.W0116-0505.60148.I_BESS.chip1.6.fits\n",
      "W0116-0505 I_BESS 0.75 science_reduced_img.W0116-0505.60148.I_BESS.chip1.7.fits\n",
      "W0116-0505 I_BESS 0.89 science_reduced_img.W0116-0505.60148.I_BESS.chip1.8.fits\n",
      "W0116-0505 I_BESS 0.90 science_reduced_img.W0116-0505.60148.I_BESS.chip1.9.fits\n",
      "W0116-0505 v_HIGH 0.70 science_reduced_img.W0116-0505.60143.v_HIGH.chip1.1.fits\n",
      "W0116-0505 v_HIGH 0.77 science_reduced_img.W0116-0505.60143.v_HIGH.chip1.2.fits\n",
      "W0116-0505 v_HIGH 0.96 science_reduced_img.W0116-0505.60143.v_HIGH.chip1.3.fits\n",
      "W0116-0505 v_HIGH 0.72 science_reduced_img.W0116-0505.60143.v_HIGH.chip1.4.fits\n",
      "W0116-0505 v_HIGH 0.71 science_reduced_img.W0116-0505.60143.v_HIGH.chip1.5.fits\n",
      "W0116-0505 v_HIGH 0.75 science_reduced_img.W0116-0505.60143.v_HIGH.chip1.6.fits\n",
      "W0116-0505 v_HIGH 0.68 science_reduced_img.W0116-0505.60143.v_HIGH.chip1.7.fits\n",
      "W0116-0505 v_HIGH 0.74 science_reduced_img.W0116-0505.60143.v_HIGH.chip1.8.fits\n"
     ]
    },
    {
     "name": "stderr",
     "output_type": "stream",
     "text": [
      "mkdir: work: File exists\n",
      "mkdir: work: File exists\n"
     ]
    },
    {
     "name": "stdout",
     "output_type": "stream",
     "text": [
      "W0204-0506 R_SPECIAL 0.80 science_reduced_img.W0204-0506.60209.R_SPECIAL.chip1.1.fits\n",
      "W0204-0506 R_SPECIAL 0.79 science_reduced_img.W0204-0506.60209.R_SPECIAL.chip1.2.fits\n",
      "W0204-0506 R_SPECIAL 0.86 science_reduced_img.W0204-0506.60209.R_SPECIAL.chip1.3.fits\n",
      "W0204-0506 R_SPECIAL 0.76 science_reduced_img.W0204-0506.60209.R_SPECIAL.chip1.4.fits\n",
      "W0204-0506 R_SPECIAL 0.73 science_reduced_img.W0204-0506.60209.R_SPECIAL.chip1.5.fits\n",
      "W0204-0506 R_SPECIAL 0.69 science_reduced_img.W0204-0506.60209.R_SPECIAL.chip1.6.fits\n",
      "W0204-0506 R_SPECIAL 0.69 science_reduced_img.W0204-0506.60209.R_SPECIAL.chip1.7.fits\n",
      "W0204-0506 R_SPECIAL 0.80 science_reduced_img.W0204-0506.60209.R_SPECIAL.chip1.8.fits\n",
      "W0204-0506 R_SPECIAL 0.59 science_reduced_img.W0204-0506.60207.R_SPECIAL.chip1.1.fits\n",
      "W0204-0506 R_SPECIAL 0.56 science_reduced_img.W0204-0506.60207.R_SPECIAL.chip1.2.fits\n",
      "W0204-0506 R_SPECIAL 0.54 science_reduced_img.W0204-0506.60207.R_SPECIAL.chip1.3.fits\n",
      "W0204-0506 R_SPECIAL 0.67 science_reduced_img.W0204-0506.60207.R_SPECIAL.chip1.4.fits\n",
      "W0204-0506 R_SPECIAL 0.58 science_reduced_img.W0204-0506.60207.R_SPECIAL.chip1.5.fits\n",
      "W0204-0506 R_SPECIAL 0.66 science_reduced_img.W0204-0506.60207.R_SPECIAL.chip1.6.fits\n",
      "W0204-0506 R_SPECIAL 0.68 science_reduced_img.W0204-0506.60207.R_SPECIAL.chip1.7.fits\n",
      "W0204-0506 R_SPECIAL 0.67 science_reduced_img.W0204-0506.60207.R_SPECIAL.chip1.8.fits\n",
      "W0220+0137 R_SPECIAL 0.99 science_reduced_img.W0220+0137.60201.R_SPECIAL.chip1.1.fits\n",
      "W0220+0137 R_SPECIAL 0.86 science_reduced_img.W0220+0137.60201.R_SPECIAL.chip1.2.fits\n",
      "W0220+0137 R_SPECIAL 0.87 science_reduced_img.W0220+0137.60201.R_SPECIAL.chip1.3.fits\n",
      "W0220+0137 R_SPECIAL 1.11 science_reduced_img.W0220+0137.60201.R_SPECIAL.chip1.4.fits\n",
      "W0220+0137 R_SPECIAL 0.99 science_reduced_img.W0220+0137.60201.R_SPECIAL.chip1.5.fits\n",
      "W0220+0137 R_SPECIAL 0.86 science_reduced_img.W0220+0137.60201.R_SPECIAL.chip1.6.fits\n",
      "W0220+0137 R_SPECIAL 0.86 science_reduced_img.W0220+0137.60201.R_SPECIAL.chip1.7.fits\n",
      "W0220+0137 R_SPECIAL 0.89 science_reduced_img.W0220+0137.60201.R_SPECIAL.chip1.8.fits\n",
      "W0220+0137 R_SPECIAL 0.56 science_reduced_img.W0220+0137.60207.R_SPECIAL.chip1.1.fits\n",
      "W0220+0137 R_SPECIAL 0.54 science_reduced_img.W0220+0137.60207.R_SPECIAL.chip1.2.fits\n",
      "W0220+0137 R_SPECIAL 0.51 science_reduced_img.W0220+0137.60207.R_SPECIAL.chip1.3.fits\n",
      "W0220+0137 R_SPECIAL 0.55 science_reduced_img.W0220+0137.60207.R_SPECIAL.chip1.4.fits\n",
      "W0220+0137 R_SPECIAL 0.55 science_reduced_img.W0220+0137.60207.R_SPECIAL.chip1.5.fits\n",
      "W0220+0137 R_SPECIAL 0.57 science_reduced_img.W0220+0137.60207.R_SPECIAL.chip1.6.fits\n",
      "W0220+0137 R_SPECIAL 0.65 science_reduced_img.W0220+0137.60207.R_SPECIAL.chip1.7.fits\n",
      "W0220+0137 R_SPECIAL 0.68 science_reduced_img.W0220+0137.60207.R_SPECIAL.chip1.8.fits\n"
     ]
    },
    {
     "name": "stderr",
     "output_type": "stream",
     "text": [
      "mkdir: work: File exists\n",
      "mkdir: work: File exists\n"
     ]
    },
    {
     "name": "stdout",
     "output_type": "stream",
     "text": [
      "W0831+0140 R_SPECIAL 0.81 science_reduced_img.W0831+0140.60290.R_SPECIAL.chip1.1.fits\n",
      "W0831+0140 R_SPECIAL 0.81 science_reduced_img.W0831+0140.60290.R_SPECIAL.chip1.2.fits\n",
      "W0831+0140 R_SPECIAL 0.86 science_reduced_img.W0831+0140.60290.R_SPECIAL.chip1.3.fits\n",
      "W0831+0140 R_SPECIAL 0.75 science_reduced_img.W0831+0140.60290.R_SPECIAL.chip1.4.fits\n",
      "W0831+0140 R_SPECIAL 0.81 science_reduced_img.W0831+0140.60290.R_SPECIAL.chip1.5.fits\n",
      "W0831+0140 R_SPECIAL 0.77 science_reduced_img.W0831+0140.60290.R_SPECIAL.chip1.6.fits\n",
      "W0831+0140 R_SPECIAL 0.77 science_reduced_img.W0831+0140.60290.R_SPECIAL.chip1.7.fits\n",
      "W0831+0140 R_SPECIAL 0.91 science_reduced_img.W0831+0140.60290.R_SPECIAL.chip1.8.fits\n",
      "W0831+0140 R_SPECIAL 0.61 science_reduced_img.W0831+0140.60291.R_SPECIAL.chip1.1.fits\n",
      "W0831+0140 R_SPECIAL 0.63 science_reduced_img.W0831+0140.60291.R_SPECIAL.chip1.2.fits\n",
      "W0831+0140 R_SPECIAL 0.62 science_reduced_img.W0831+0140.60291.R_SPECIAL.chip1.3.fits\n",
      "W0831+0140 R_SPECIAL 0.61 science_reduced_img.W0831+0140.60291.R_SPECIAL.chip1.4.fits\n",
      "W0831+0140 R_SPECIAL 0.63 science_reduced_img.W0831+0140.60291.R_SPECIAL.chip1.5.fits\n",
      "W0831+0140 R_SPECIAL 0.70 science_reduced_img.W0831+0140.60291.R_SPECIAL.chip1.6.fits\n",
      "W0831+0140 R_SPECIAL 0.68 science_reduced_img.W0831+0140.60291.R_SPECIAL.chip1.7.fits\n",
      "W0831+0140 R_SPECIAL 0.71 science_reduced_img.W0831+0140.60291.R_SPECIAL.chip1.8.fits\n"
     ]
    }
   ],
   "source": [
    "#run_all(\"W0019-1046\", \"R_SPECIAL\", star_coords=(1145, 37.5))\n",
    "cato = open(\"All_seeing_values.txt\", \"w\")\n",
    "for obj in objects:\n",
    "    for band in bands[obj]:\n",
    "        output_lines = run_all(obj, band, star_coords=star_coords[obj])\n",
    "        for output_line in output_lines:\n",
    "            cato.write(output_line)\n",
    "            print(output_line[:-1])\n",
    "cato.close()"
   ]
  }
 ],
 "metadata": {
  "kernelspec": {
   "display_name": "stenv",
   "language": "python",
   "name": "python3"
  },
  "language_info": {
   "codemirror_mode": {
    "name": "ipython",
    "version": 3
   },
   "file_extension": ".py",
   "mimetype": "text/x-python",
   "name": "python",
   "nbconvert_exporter": "python",
   "pygments_lexer": "ipython3",
   "version": "3.11.3"
  }
 },
 "nbformat": 4,
 "nbformat_minor": 2
}
