{
 "cells": [
  {
   "cell_type": "code",
   "execution_count": 1,
   "metadata": {},
   "outputs": [],
   "source": [
    "import numpy as np\n",
    "\n",
    "from pol_analysis.polData import PolData\n",
    "from pol_analysis.runPhot import RunPhot"
   ]
  },
  {
   "cell_type": "code",
   "execution_count": 2,
   "metadata": {},
   "outputs": [],
   "source": [
    "def run_all(obj, band, star_coords, stddev_0_vals=None, show_seeing_plots=False, pdata_force_new=False, phot_force_new=False, centroid_box_size=5, pdata_filenames_for_masks=None):\n",
    "\n",
    "    #Star coords for PSF measurements\n",
    "    star_ex_ref, star_ey_ref = star_coords\n",
    "\n",
    "    #Create the data object. This will run the mask creation and the cosmic ray rejection.  \n",
    "    bhd = PolData(obj, band, filenames_for_mask_creation=pdata_filenames_for_masks, force_new=pdata_force_new)\n",
    "\n",
    "    #Create the photometry object and run the common steps. \n",
    "    phot = RunPhot(bhd, force_new=phot_force_new)\n",
    "    phot.subtract_background(box_size=(25,25))\n",
    "    phot.get_source_positions(box_size=centroid_box_size)\n",
    "\n",
    "    #Get the seeing. \n",
    "    fnames = bhd.list_of_filenames(ob_ids=None, mjds=None)\n",
    "    if stddev_0_vals is not None:\n",
    "        stddev_0 = stddev_0_vals\n",
    "    else:\n",
    "        stddev_0 = np.ones(len(fnames))*1.1\n",
    "    phot.find_seeing(star_ex_ref, star_ey_ref, stddev_0=stddev_0, show_plots=show_seeing_plots, ob_ids=None, mjds=None)\n",
    "\n",
    "    output_lines = list()\n",
    "    for i, fname in enumerate(fnames):\n",
    "        output_lines.append(\"{} {} {:.2f} {}\\n\".format(obj, band, phot.seeing[i], fname))\n",
    "\n",
    "    return output_lines\n",
    "\n"
   ]
  },
  {
   "cell_type": "code",
   "execution_count": 3,
   "metadata": {},
   "outputs": [],
   "source": [
    "objects = [\n",
    "    \"W0019-1046\",\n",
    "    \"W0116-0505\",\n",
    "    \"W0204-0506\",\n",
    "    \"W0220+0137\",\n",
    "    \"W0831+0140\",\n",
    "]\n",
    "bands = dict()\n",
    "for obj in objects:\n",
    "    bands[obj] = [\"R_SPECIAL\"]\n",
    "    if obj==\"W0116-0505\":\n",
    "        bands[obj].extend([\"I_BESS\",\"v_HIGH\"])"
   ]
  },
  {
   "cell_type": "code",
   "execution_count": 4,
   "metadata": {},
   "outputs": [],
   "source": [
    "star_coords = dict()\n",
    "cat = open(\"reference_stars.txt\")\n",
    "for line in cat:\n",
    "    x = line.split()\n",
    "    star_coords[x[0]] = (float(x[1]), float(x[2]))\n",
    "cat.close()\n",
    "# star_coords = {\n",
    "#     \"W0019-1046\": (1470.5,  84.0),\n",
    "#     \"W0204-0506\": (1086.5, 222.5),\n",
    "#     \"W0220+0137\": (1600.0, 262.0),\n",
    "#     \"W0831+0140\": (1010.0, 404.0),\n",
    "#     \"W0116-0505\": (1398.0, 413.0),\n",
    "# }"
   ]
  },
  {
   "cell_type": "code",
   "execution_count": 6,
   "metadata": {},
   "outputs": [
    {
     "name": "stderr",
     "output_type": "stream",
     "text": [
      "mkdir: work: File exists\n"
     ]
    }
   ],
   "source": [
    "#run_all(\"W0019-1046\", \"R_SPECIAL\", star_coords=(1145, 37.5))\n",
    "cato = open(\"All_seeing_values.txt\", \"w\")\n",
    "for obj in objects:\n",
    "    for band in bands[obj]:\n",
    "        output_lines = run_all(obj, band, star_coords=star_coords[obj])\n",
    "        for output_line in output_lines:\n",
    "            cato.write(output_line)\n",
    "        break\n",
    "    break\n",
    "cato.close()"
   ]
  }
 ],
 "metadata": {
  "kernelspec": {
   "display_name": "stenv",
   "language": "python",
   "name": "python3"
  },
  "language_info": {
   "codemirror_mode": {
    "name": "ipython",
    "version": 3
   },
   "file_extension": ".py",
   "mimetype": "text/x-python",
   "name": "python",
   "nbconvert_exporter": "python",
   "pygments_lexer": "ipython3",
   "version": "3.11.3"
  }
 },
 "nbformat": 4,
 "nbformat_minor": 2
}
