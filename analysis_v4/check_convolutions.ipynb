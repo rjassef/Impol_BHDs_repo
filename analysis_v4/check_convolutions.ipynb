{
 "cells": [
  {
   "cell_type": "code",
   "execution_count": null,
   "metadata": {},
   "outputs": [
    {
     "name": "stderr",
     "output_type": "stream",
     "text": [
      "<frozen importlib._bootstrap>:241: RuntimeWarning: numpy.ndarray size changed, may indicate binary incompatibility. Expected 80 from C header, got 96 from PyObject\n"
     ]
    }
   ],
   "source": [
    "import numpy as np\n",
    "import matplotlib.pyplot as plt\n",
    "from astropy.io import fits\n",
    "\n",
    "from pol_analysis.polData import PolData\n",
    "from pol_analysis.runPhot import RunPhot"
   ]
  },
  {
   "cell_type": "code",
   "execution_count": null,
   "metadata": {},
   "outputs": [],
   "source": [
    "def run_all(obj, band, star_coords, stddev_0_vals=None, bhd_coords=(1021.5, 70.), show_seeing_plots=False, pdata_force_new=False, phot_force_new=False, special_ob_pairs=None, only_seeing_fit=False, centroid_box_size=5, pdata_filenames_for_masks=None):\n",
    "\n",
    "    #Star coords for PSF measurements\n",
    "    star_ex_ref, star_ey_ref = star_coords\n",
    "\n",
    "    #BHD coords\n",
    "    bhd_ex_ref, bhd_ey_ref = bhd_coords\n",
    "\n",
    "    #Create the data object. This will run the mask creation and the cosmic ray rejection.  \n",
    "    bhd = PolData(obj, band, filenames_for_mask_creation=pdata_filenames_for_masks, force_new=pdata_force_new)\n",
    "\n",
    "    #Create the photometry object and run the common steps. \n",
    "    phot = RunPhot(bhd, force_new=phot_force_new)\n",
    "    phot.subtract_background(box_size=(25,25))\n",
    "    phot.get_source_positions(box_size=centroid_box_size)\n",
    "    #Now, go through all the OB pairs.\n",
    "    ob_combs = list()\n",
    "    for ob_pair in bhd.ob_pairs:\n",
    "        ob_combs.append([[ob_pair[0]],[ob_pair[1]]])\n",
    "    if len(bhd.ob_pairs)>1:\n",
    "        ob_combs.append([None, None])\n",
    "\n",
    "    #Add special combinations if provided. \n",
    "    if special_ob_pairs is not None:\n",
    "        ob_combs.extend(special_ob_pairs)\n",
    "\n",
    "    for k, ob_comb in enumerate(ob_combs):\n",
    "        ob_ids = ob_comb[0]\n",
    "        mjds = ob_comb[1]\n",
    "        #print(ob_ids, mjds)\n",
    "        #continue\n",
    "\n",
    "        #Get the seeing. \n",
    "        fnames = bhd.list_of_filenames(ob_ids=ob_ids, mjds=mjds)\n",
    "        if stddev_0_vals is not None:\n",
    "            stddev_0 = stddev_0_vals[k]\n",
    "        else:\n",
    "            stddev_0 = np.ones(len(fnames))*1.1\n",
    "        phot.find_seeing(star_ex_ref, star_ey_ref, stddev_0=stddev_0, show_plots=show_seeing_plots, ob_ids=ob_ids, mjds=mjds)\n",
    "        #print(phot.seeing)\n",
    "        if only_seeing_fit:\n",
    "            continue\n"
   ]
  }
 ],
 "metadata": {
  "kernelspec": {
   "display_name": "stenv",
   "language": "python",
   "name": "python3"
  },
  "language_info": {
   "codemirror_mode": {
    "name": "ipython",
    "version": 3
   },
   "file_extension": ".py",
   "mimetype": "text/x-python",
   "name": "python",
   "nbconvert_exporter": "python",
   "pygments_lexer": "ipython3",
   "version": "3.11.3"
  }
 },
 "nbformat": 4,
 "nbformat_minor": 2
}
