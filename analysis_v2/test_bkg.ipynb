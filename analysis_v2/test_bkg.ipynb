{
 "cells": [
  {
   "cell_type": "code",
   "execution_count": 1,
   "metadata": {},
   "outputs": [
    {
     "name": "stderr",
     "output_type": "stream",
     "text": [
      "/var/folders/p7/drxzchtj4yb641v79lt0tjyh0000gn/T/ipykernel_74422/3187025943.py:7: DeprecationWarning: `photutils.Background2D` is a deprecated alias for `photutils.background.Background2D` and will be removed in the future. Instead, please use `from photutils.background import Background2D` to silence this warning.\n",
      "  from photutils import Background2D, SExtractorBackground\n",
      "/var/folders/p7/drxzchtj4yb641v79lt0tjyh0000gn/T/ipykernel_74422/3187025943.py:7: DeprecationWarning: `photutils.SExtractorBackground` is a deprecated alias for `photutils.background.SExtractorBackground` and will be removed in the future. Instead, please use `from photutils.background import SExtractorBackground` to silence this warning.\n",
      "  from photutils import Background2D, SExtractorBackground\n"
     ]
    }
   ],
   "source": [
    "import numpy as np\n",
    "import re\n",
    "from astropy.io import fits\n",
    "from astropy.stats import sigma_clipped_stats, SigmaClip\n",
    "from photutils.segmentation import detect_threshold, detect_sources\n",
    "from photutils.utils import circular_footprint\n",
    "from photutils import Background2D, SExtractorBackground"
   ]
  },
  {
   "cell_type": "markdown",
   "metadata": {},
   "source": [
    "## No Source Masking"
   ]
  },
  {
   "cell_type": "markdown",
   "metadata": {},
   "source": [
    "#### (25, 25) box size"
   ]
  },
  {
   "cell_type": "code",
   "execution_count": 48,
   "metadata": {},
   "outputs": [],
   "source": [
    "box_size = (25, 25)"
   ]
  },
  {
   "cell_type": "code",
   "execution_count": 49,
   "metadata": {},
   "outputs": [],
   "source": [
    "sigma_clip = SigmaClip(sigma=3.0)\n",
    "bkg_estimator = SExtractorBackground(sigma_clip)"
   ]
  },
  {
   "cell_type": "code",
   "execution_count": 50,
   "metadata": {},
   "outputs": [],
   "source": [
    "fname = \"science_reduced_img.W0019-1046.60201.R_SPECIAL.chip1.1.crz.fits\"\n",
    "h = fits.open(\"crz/\"+fname)\n",
    "mask  = fits.getdata(\"masks/\"+re.sub(\".crz.fits\",\".mask.fits\" ,fname))\n",
    "emask = fits.getdata(\"masks/\"+re.sub(\".crz.fits\",\".emask.fits\",fname))\n",
    "omask = fits.getdata(\"masks/\"+re.sub(\".crz.fits\",\".omask.fits\",fname))"
   ]
  },
  {
   "cell_type": "code",
   "execution_count": 51,
   "metadata": {},
   "outputs": [],
   "source": [
    "ebkg = Background2D(h[0].data, box_size , filter_size=(3,3), sigma_clip=sigma_clip, bkg_estimator=bkg_estimator, coverage_mask=emask.astype(bool))\n",
    "obkg = Background2D(h[0].data, box_size, filter_size=(3,3), sigma_clip=sigma_clip, bkg_estimator=bkg_estimator, coverage_mask=omask.astype(bool))\n",
    "h[0].data -= ebkg.background*(1-emask) + obkg.background*(1-omask)"
   ]
  },
  {
   "cell_type": "code",
   "execution_count": 52,
   "metadata": {},
   "outputs": [],
   "source": [
    "h.writeto(\"test_bkg1.fits\",overwrite=True)"
   ]
  },
  {
   "cell_type": "code",
   "execution_count": 53,
   "metadata": {},
   "outputs": [],
   "source": [
    "ebkg = Background2D(h[0].data, box_size , filter_size=(15,15), sigma_clip=sigma_clip, bkg_estimator=bkg_estimator, coverage_mask=emask.astype(bool), exclude_percentile=50.0)\n",
    "obkg = Background2D(h[0].data, box_size, filter_size=(15,15), sigma_clip=sigma_clip, bkg_estimator=bkg_estimator, coverage_mask=omask.astype(bool), exclude_percentile=50.0)\n",
    "h[0].data -= ebkg.background*(1-emask) + obkg.background*(1-omask)"
   ]
  },
  {
   "cell_type": "code",
   "execution_count": 54,
   "metadata": {},
   "outputs": [],
   "source": [
    "h.writeto(\"test_bkg1.f15.fits\",overwrite=True)"
   ]
  },
  {
   "cell_type": "markdown",
   "metadata": {},
   "source": [
    "#### (50, 50) box_size"
   ]
  },
  {
   "cell_type": "code",
   "execution_count": 7,
   "metadata": {},
   "outputs": [],
   "source": [
    "box_size = (50, 50)"
   ]
  },
  {
   "cell_type": "code",
   "execution_count": 8,
   "metadata": {},
   "outputs": [],
   "source": [
    "fname = \"science_reduced_img.W0019-1046.60201.R_SPECIAL.chip1.1.crz.fits\"\n",
    "h = fits.open(\"crz/\"+fname)\n",
    "mask  = fits.getdata(\"masks/\"+re.sub(\".crz.fits\",\".mask.fits\" ,fname))\n",
    "emask = fits.getdata(\"masks/\"+re.sub(\".crz.fits\",\".emask.fits\",fname))\n",
    "omask = fits.getdata(\"masks/\"+re.sub(\".crz.fits\",\".omask.fits\",fname))"
   ]
  },
  {
   "cell_type": "code",
   "execution_count": 9,
   "metadata": {},
   "outputs": [],
   "source": [
    "ebkg = Background2D(h[0].data, box_size , filter_size=(3,3), sigma_clip=sigma_clip, bkg_estimator=bkg_estimator, coverage_mask=emask.astype(bool))\n",
    "obkg = Background2D(h[0].data, box_size, filter_size=(3,3), sigma_clip=sigma_clip, bkg_estimator=bkg_estimator, coverage_mask=omask.astype(bool))\n",
    "h[0].data -= ebkg.background*(1-emask) + obkg.background*(1-omask)"
   ]
  },
  {
   "cell_type": "code",
   "execution_count": 10,
   "metadata": {},
   "outputs": [],
   "source": [
    "h.writeto(\"test_bkg2.fits\",overwrite=True)"
   ]
  },
  {
   "cell_type": "markdown",
   "metadata": {},
   "source": [
    "## With source masking"
   ]
  },
  {
   "cell_type": "markdown",
   "metadata": {},
   "source": [
    "#### (25, 25) box_size"
   ]
  },
  {
   "cell_type": "code",
   "execution_count": 11,
   "metadata": {},
   "outputs": [],
   "source": [
    "box_size = (25, 25)"
   ]
  },
  {
   "cell_type": "code",
   "execution_count": 12,
   "metadata": {},
   "outputs": [],
   "source": [
    "fname = \"science_reduced_img.W0019-1046.60201.R_SPECIAL.chip1.1.crz.fits\"\n",
    "h = fits.open(\"crz/\"+fname)\n",
    "mask  = fits.getdata(\"masks/\"+re.sub(\".crz.fits\",\".mask.fits\" ,fname))\n",
    "emask = fits.getdata(\"masks/\"+re.sub(\".crz.fits\",\".emask.fits\",fname))\n",
    "omask = fits.getdata(\"masks/\"+re.sub(\".crz.fits\",\".omask.fits\",fname))"
   ]
  },
  {
   "cell_type": "code",
   "execution_count": 13,
   "metadata": {},
   "outputs": [],
   "source": [
    "sigma_clip = SigmaClip(sigma=3.0, maxiters=10)\n",
    "threshold = detect_threshold(h[0].data, nsigma=1.0, sigma_clip=sigma_clip)\n",
    "segment_img = detect_sources(h[0].data, threshold, npixels=5)\n",
    "footprint = circular_footprint(radius=10)\n",
    "source_mask = segment_img.make_source_mask(footprint=footprint)"
   ]
  },
  {
   "cell_type": "code",
   "execution_count": 14,
   "metadata": {},
   "outputs": [],
   "source": [
    "ebkg = Background2D(h[0].data, box_size , filter_size=(3,3), sigma_clip=sigma_clip, bkg_estimator=bkg_estimator, coverage_mask=emask.astype(bool), mask=source_mask)\n",
    "obkg = Background2D(h[0].data, box_size, filter_size=(3,3), sigma_clip=sigma_clip, bkg_estimator=bkg_estimator, coverage_mask=omask.astype(bool), mask=source_mask)\n",
    "h[0].data -= ebkg.background*(1-emask) + obkg.background*(1-omask)"
   ]
  },
  {
   "cell_type": "code",
   "execution_count": 15,
   "metadata": {},
   "outputs": [],
   "source": [
    "h.writeto(\"test_bkg3.fits\",overwrite=True)"
   ]
  },
  {
   "cell_type": "code",
   "execution_count": 16,
   "metadata": {},
   "outputs": [],
   "source": [
    "fits.writeto(\"test_bkg3.smask.fits\", source_mask.astype(int), overwrite=True)"
   ]
  },
  {
   "cell_type": "markdown",
   "metadata": {},
   "source": [
    "#### (50, 50) box_size"
   ]
  },
  {
   "cell_type": "code",
   "execution_count": 17,
   "metadata": {},
   "outputs": [],
   "source": [
    "box_size = (50,50)"
   ]
  },
  {
   "cell_type": "code",
   "execution_count": 18,
   "metadata": {},
   "outputs": [],
   "source": [
    "fname = \"science_reduced_img.W0019-1046.60201.R_SPECIAL.chip1.1.crz.fits\"\n",
    "h = fits.open(\"crz/\"+fname)\n",
    "mask  = fits.getdata(\"masks/\"+re.sub(\".crz.fits\",\".mask.fits\" ,fname))\n",
    "emask = fits.getdata(\"masks/\"+re.sub(\".crz.fits\",\".emask.fits\",fname))\n",
    "omask = fits.getdata(\"masks/\"+re.sub(\".crz.fits\",\".omask.fits\",fname))"
   ]
  },
  {
   "cell_type": "code",
   "execution_count": 19,
   "metadata": {},
   "outputs": [],
   "source": [
    "sigma_clip = SigmaClip(sigma=3.0, maxiters=10)\n",
    "threshold = detect_threshold(h[0].data, nsigma=1.0, sigma_clip=sigma_clip)\n",
    "segment_img = detect_sources(h[0].data, threshold, npixels=5)\n",
    "footprint = circular_footprint(radius=10)\n",
    "source_mask = segment_img.make_source_mask(footprint=footprint)"
   ]
  },
  {
   "cell_type": "code",
   "execution_count": 20,
   "metadata": {},
   "outputs": [],
   "source": [
    "ebkg = Background2D(h[0].data, box_size , filter_size=(3,3), sigma_clip=sigma_clip, bkg_estimator=bkg_estimator, coverage_mask=emask.astype(bool), mask=source_mask)\n",
    "obkg = Background2D(h[0].data, box_size, filter_size=(3,3), sigma_clip=sigma_clip, bkg_estimator=bkg_estimator, coverage_mask=omask.astype(bool), mask=source_mask)\n",
    "h[0].data -= ebkg.background*(1-emask) + obkg.background*(1-omask)"
   ]
  },
  {
   "cell_type": "code",
   "execution_count": 21,
   "metadata": {},
   "outputs": [],
   "source": [
    "h.writeto(\"test_bkg4.fits\",overwrite=True)"
   ]
  },
  {
   "cell_type": "code",
   "execution_count": 22,
   "metadata": {},
   "outputs": [],
   "source": [
    "fits.writeto(\"test_bkg4.smask.fits\", source_mask.astype(int), overwrite=True)"
   ]
  },
  {
   "cell_type": "markdown",
   "metadata": {},
   "source": [
    "## Iterative"
   ]
  },
  {
   "cell_type": "code",
   "execution_count": 35,
   "metadata": {},
   "outputs": [],
   "source": [
    "box_size = (25, 25)"
   ]
  },
  {
   "cell_type": "code",
   "execution_count": 36,
   "metadata": {},
   "outputs": [],
   "source": [
    "fname = \"science_reduced_img.W0019-1046.60201.R_SPECIAL.chip1.1.crz.fits\"\n",
    "h = fits.open(\"test_bkg1.fits\")\n",
    "mask  = fits.getdata(\"masks/\"+re.sub(\".crz.fits\",\".mask.fits\" ,fname))\n",
    "emask = fits.getdata(\"masks/\"+re.sub(\".crz.fits\",\".emask.fits\",fname))\n",
    "omask = fits.getdata(\"masks/\"+re.sub(\".crz.fits\",\".omask.fits\",fname))"
   ]
  },
  {
   "cell_type": "code",
   "execution_count": 37,
   "metadata": {},
   "outputs": [],
   "source": [
    "sigma_clip = SigmaClip(sigma=3.0, maxiters=10)\n",
    "threshold = detect_threshold(h[0].data, nsigma=2.0, sigma_clip=sigma_clip)\n",
    "segment_img = detect_sources(h[0].data, threshold, npixels=10)\n",
    "footprint = circular_footprint(radius=10)\n",
    "source_mask = segment_img.make_source_mask(footprint=footprint)"
   ]
  },
  {
   "cell_type": "code",
   "execution_count": 38,
   "metadata": {},
   "outputs": [],
   "source": [
    "h = fits.open(\"crz/\"+fname)\n",
    "ebkg = Background2D(h[0].data, box_size , filter_size=(3,3), sigma_clip=sigma_clip, bkg_estimator=bkg_estimator, coverage_mask=emask.astype(bool), mask=source_mask)\n",
    "obkg = Background2D(h[0].data, box_size, filter_size=(3,3), sigma_clip=sigma_clip, bkg_estimator=bkg_estimator, coverage_mask=omask.astype(bool), mask=source_mask)\n",
    "h[0].data -= ebkg.background*(1-emask) + obkg.background*(1-omask)"
   ]
  },
  {
   "cell_type": "code",
   "execution_count": 39,
   "metadata": {},
   "outputs": [],
   "source": [
    "h.writeto(\"test_bkg5.fits\",overwrite=True)"
   ]
  },
  {
   "cell_type": "code",
   "execution_count": 40,
   "metadata": {},
   "outputs": [],
   "source": [
    "fits.writeto(\"test_bkg5.smask.fits\", source_mask.astype(int), overwrite=True)"
   ]
  }
 ],
 "metadata": {
  "kernelspec": {
   "display_name": "stenv",
   "language": "python",
   "name": "python3"
  },
  "language_info": {
   "codemirror_mode": {
    "name": "ipython",
    "version": 3
   },
   "file_extension": ".py",
   "mimetype": "text/x-python",
   "name": "python",
   "nbconvert_exporter": "python",
   "pygments_lexer": "ipython3",
   "version": "3.11.3"
  }
 },
 "nbformat": 4,
 "nbformat_minor": 2
}
