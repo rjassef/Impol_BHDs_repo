{
 "cells": [
  {
   "cell_type": "code",
   "execution_count": 1,
   "metadata": {},
   "outputs": [],
   "source": [
    "import numpy as np\n",
    "\n",
    "from pol_analysis.polData import PolData\n",
    "from pol_analysis.runPhot import RunPhot\n",
    "from pol_analysis.getStokes import GetStokes"
   ]
  },
  {
   "cell_type": "code",
   "execution_count": 2,
   "metadata": {},
   "outputs": [],
   "source": [
    "w0019 = PolData(\"W0019-1046\",\"R_SPECIAL\")"
   ]
  },
  {
   "cell_type": "code",
   "execution_count": 3,
   "metadata": {},
   "outputs": [
    {
     "name": "stdout",
     "output_type": "stream",
     "text": [
      "Subtracting the background for image  science_reduced_img.W0019-1046.60201.R_SPECIAL.chip1.1.fits\n",
      "Subtracting the background for image  science_reduced_img.W0019-1046.60201.R_SPECIAL.chip1.2.fits\n",
      "Subtracting the background for image  science_reduced_img.W0019-1046.60201.R_SPECIAL.chip1.3.fits\n",
      "Subtracting the background for image  science_reduced_img.W0019-1046.60201.R_SPECIAL.chip1.4.fits\n",
      "Subtracting the background for image  science_reduced_img.W0019-1046.60201.R_SPECIAL.chip1.5.fits\n",
      "Subtracting the background for image  science_reduced_img.W0019-1046.60201.R_SPECIAL.chip1.6.fits\n",
      "Subtracting the background for image  science_reduced_img.W0019-1046.60201.R_SPECIAL.chip1.7.fits\n",
      "Subtracting the background for image  science_reduced_img.W0019-1046.60201.R_SPECIAL.chip1.8.fits\n",
      "Subtracting the background for image  science_reduced_img.W0019-1046.60202.R_SPECIAL.chip1.1.fits\n",
      "Subtracting the background for image  science_reduced_img.W0019-1046.60202.R_SPECIAL.chip1.2.fits\n",
      "Subtracting the background for image  science_reduced_img.W0019-1046.60202.R_SPECIAL.chip1.3.fits\n",
      "Subtracting the background for image  science_reduced_img.W0019-1046.60202.R_SPECIAL.chip1.4.fits\n",
      "Subtracting the background for image  science_reduced_img.W0019-1046.60202.R_SPECIAL.chip1.5.fits\n",
      "Subtracting the background for image  science_reduced_img.W0019-1046.60202.R_SPECIAL.chip1.6.fits\n",
      "Subtracting the background for image  science_reduced_img.W0019-1046.60202.R_SPECIAL.chip1.7.fits\n",
      "Subtracting the background for image  science_reduced_img.W0019-1046.60202.R_SPECIAL.chip1.8.fits\n",
      "Finding sources for image science_reduced_img.W0019-1046.60201.R_SPECIAL.chip1.1.fits\n"
     ]
    },
    {
     "name": "stderr",
     "output_type": "stream",
     "text": [
      "WARNING: nan_treatment='interpolate', however, NaN values detected post convolution. A contiguous region of NaN values, larger than the kernel size, are present in the input array. Increase the kernel size to avoid this. [astropy.convolution.convolve]\n"
     ]
    },
    {
     "name": "stdout",
     "output_type": "stream",
     "text": [
      "Could not recenter o-beam position for source 48 in file science_reduced_img.W0019-1046.60201.R_SPECIAL.chip1.1.fits. Reverting to reference position.\n",
      "Could not recenter o-beam position for source 48 in file science_reduced_img.W0019-1046.60201.R_SPECIAL.chip1.2.fits. Reverting to reference position.\n",
      "Could not recenter o-beam position for source 48 in file science_reduced_img.W0019-1046.60201.R_SPECIAL.chip1.3.fits. Reverting to reference position.\n",
      "Could not recenter o-beam position for source 48 in file science_reduced_img.W0019-1046.60201.R_SPECIAL.chip1.4.fits. Reverting to reference position.\n",
      "Could not recenter o-beam position for source 48 in file science_reduced_img.W0019-1046.60201.R_SPECIAL.chip1.5.fits. Reverting to reference position.\n",
      "Could not recenter o-beam position for source 48 in file science_reduced_img.W0019-1046.60201.R_SPECIAL.chip1.6.fits. Reverting to reference position.\n",
      "Could not recenter o-beam position for source 48 in file science_reduced_img.W0019-1046.60201.R_SPECIAL.chip1.7.fits. Reverting to reference position.\n",
      "Could not recenter o-beam position for source 48 in file science_reduced_img.W0019-1046.60201.R_SPECIAL.chip1.8.fits. Reverting to reference position.\n",
      "Could not recenter o-beam position for source 31 in file science_reduced_img.W0019-1046.60202.R_SPECIAL.chip1.1.fits. Reverting to reference position.\n",
      "Could not recenter o-beam position for source 48 in file science_reduced_img.W0019-1046.60202.R_SPECIAL.chip1.1.fits. Reverting to reference position.\n",
      "Could not recenter o-beam position for source 31 in file science_reduced_img.W0019-1046.60202.R_SPECIAL.chip1.2.fits. Reverting to reference position.\n",
      "Could not recenter o-beam position for source 48 in file science_reduced_img.W0019-1046.60202.R_SPECIAL.chip1.2.fits. Reverting to reference position.\n",
      "Could not recenter o-beam position for source 48 in file science_reduced_img.W0019-1046.60202.R_SPECIAL.chip1.3.fits. Reverting to reference position.\n",
      "Could not recenter o-beam position for source 48 in file science_reduced_img.W0019-1046.60202.R_SPECIAL.chip1.4.fits. Reverting to reference position.\n",
      "Could not recenter o-beam position for source 42 in file science_reduced_img.W0019-1046.60202.R_SPECIAL.chip1.5.fits. Reverting to reference position.\n",
      "Could not recenter o-beam position for source 48 in file science_reduced_img.W0019-1046.60202.R_SPECIAL.chip1.5.fits. Reverting to reference position.\n",
      "Could not recenter o-beam position for source 42 in file science_reduced_img.W0019-1046.60202.R_SPECIAL.chip1.6.fits. Reverting to reference position.\n",
      "Could not recenter o-beam position for source 48 in file science_reduced_img.W0019-1046.60202.R_SPECIAL.chip1.6.fits. Reverting to reference position.\n",
      "Could not recenter o-beam position for source 48 in file science_reduced_img.W0019-1046.60202.R_SPECIAL.chip1.7.fits. Reverting to reference position.\n",
      "Could not recenter o-beam position for source 48 in file science_reduced_img.W0019-1046.60202.R_SPECIAL.chip1.8.fits. Reverting to reference position.\n"
     ]
    }
   ],
   "source": [
    "phot = RunPhot(w0019, force_new=True)\n",
    "phot.subtract_background(box_size=(25,25))\n",
    "phot.get_source_positions(box_size=5)\n",
    "phot.get_phot(r_ap=1.0, resubtract_background=False)\n",
    "#phot.get_phot(resubtract_background=True)"
   ]
  },
  {
   "cell_type": "code",
   "execution_count": 4,
   "metadata": {},
   "outputs": [],
   "source": [
    "stk_obj = GetStokes(w0019)\n",
    "#stk_obj.get_pol()\n",
    "stk_obj.get_pol(ob_ids=w0019.ob_pairs['OB_ID'][0:1], mjds=w0019.ob_pairs['MJD_folder'][0:1])\n",
    "#stk_obj.get_pol(ob_ids=w0019.ob_pairs['OB_ID'][1:2], mjds=w0019.ob_pairs['MJD_folder'][1:2])"
   ]
  },
  {
   "cell_type": "code",
   "execution_count": 14,
   "metadata": {},
   "outputs": [
    {
     "data": {
      "image/png": "[encoded data removed]",
      "text/plain": [
       "<Figure size 640x480 with 1 Axes>"
      ]
     },
     "metadata": {},
     "output_type": "display_data"
    }
   ],
   "source": [
    "import matplotlib.pyplot as plt\n",
    "# plt.plot(stk_obj.epol_frac*100, stk_obj.pol_frac*100, 'k.')\n",
    "# plt.plot(stk_obj.epol_frac[6]*100, stk_obj.pol_frac[6]*100, 'bo')\n",
    "# plt.xlim([0,30])\n",
    "# plt.ylim([0,30])\n",
    "plt.plot(stk_obj.pol_frac*100, stk_obj.pol_frac/stk_obj.epol_frac, 'k.')\n",
    "plt.plot(stk_obj.pol_frac[6]*100, stk_obj.pol_frac[6]/stk_obj.epol_frac[6], 'bo')\n",
    "plt.xlim([0,30])\n",
    "plt.ylim([0,30])\n",
    "plt.show()"
   ]
  },
  {
   "cell_type": "code",
   "execution_count": 6,
   "metadata": {},
   "outputs": [
    {
     "name": "stdout",
     "output_type": "stream",
     "text": [
      " 0.60  0.15 -0.19  0.15 -0.56  0.15 1035.1   30.0    0.0   -0.0   -0.0   -0.2    0.0   -0.1   -0.0   -0.2   -0.0   -0.1   -0.0   -0.2   -0.0   -0.0   -0.0   -0.2   -0.0   -0.0   -0.1   -0.2   -0.0   -0.0   -0.0   -0.2   -0.0   -0.1   -0.0   -0.2   -0.0   -0.0 \n",
      " 0.20  0.16  0.20  0.20  0.01  0.21 1143.7   36.5    0.2    0.0    0.2   -0.2    0.2    0.1    0.2   -0.2    0.2    0.1    0.2   -0.3    0.2   -0.1    0.2   -0.3    0.3   -0.0    0.2   -0.3    0.2    0.0    0.2   -0.2    0.2    0.1    0.2   -0.3    0.2   -0.1 \n",
      " 1.16  0.47 -0.93  0.49  0.69  0.51 1704.2   37.9   -0.0    0.2   -0.1    0.1    0.0    0.2   -0.1    0.0    0.0    0.2   -0.1    0.0   -0.0    0.2   -0.1    0.0   -0.0    0.2   -0.1    0.0   -0.0    0.2   -0.1    0.0    0.0    0.2   -0.2   -0.0   -0.1    0.1 \n",
      " 1.54  0.04 -1.29  0.04  0.84  0.04 1849.9   45.5    0.2    0.8    0.1    0.3    0.2    0.8    0.1    0.2    0.1    0.8    0.1    0.3    0.2    0.7    0.1    0.3    0.2    0.7    0.1    0.2    0.1    0.8    0.1    0.2    0.1    0.8    0.1    0.3    0.1    0.7 \n",
      " 1.85  0.74 -1.47  0.76 -1.12  0.76  665.7   61.2    0.2    0.1    0.2   -0.1    0.2    0.1    0.2   -0.2    0.2    0.2    0.2   -0.2    0.2    0.1    0.3   -0.1    0.3    0.2    0.2   -0.1    0.3    0.1    0.3   -0.2    0.2    0.2    0.3   -0.1    0.3    0.0 \n",
      " 0.23  0.04 -0.12  0.03 -0.20  0.04  697.2   69.7   -0.1    0.5   -0.1    0.1   -0.0    0.5   -0.1    0.1   -0.1    0.5   -0.1    0.1   -0.1    0.4   -0.1    0.1   -0.1    0.4   -0.1    0.1   -0.1    0.4   -0.1    0.1   -0.0    0.5   -0.1    0.2   -0.1    0.4 \n",
      " 7.14  0.92  6.26  0.91 -3.43  0.93 1020.5   69.9   -0.2    0.4   -0.3    0.0   -0.2    0.3   -0.3    0.0   -0.3    0.4   -0.2    0.0   -0.3    0.4   -0.3   -0.1   -0.2    0.4   -0.3   -0.0   -0.3    0.3   -0.3    0.0   -0.2    0.3   -0.3    0.1   -0.3    0.3 \n",
      " 0.19  0.13 -0.14  0.16 -0.12  0.17  578.7   77.8    0.2    0.6    0.1    0.1    0.2    0.6    0.1    0.1    0.2    0.6    0.2    0.1    0.2    0.5    0.2    0.1    0.2    0.5    0.2    0.1    0.2    0.5    0.1    0.1    0.2    0.6    0.2    0.2    0.2    0.5 \n",
      " 0.32  0.12 -0.32  0.13 -0.02  0.13 1470.7   84.1    0.2    0.3    0.2    0.0    0.2    0.4    0.2   -0.0    0.2    0.4    0.2   -0.0    0.2    0.3    0.2   -0.0    0.2    0.3    0.2   -0.0    0.2    0.3    0.2   -0.0    0.2    0.4    0.2   -0.0    0.3    0.2 \n",
      " 0.85  0.10 -0.53  0.10  0.67  0.10 1849.9  104.9   -0.1    0.6   -0.1    0.4   -0.1    0.6   -0.1    0.4   -0.1    0.6    0.0    0.4   -0.0    0.5   -0.0    0.4   -0.1    0.6   -0.0    0.4   -0.1    0.6   -0.1    0.4   -0.1    0.6    0.1    0.3    0.0    0.5 \n",
      " 1.11  0.45 -1.09  0.48  0.18  0.50  548.9  103.6    0.2    0.5    0.2    0.5    0.1    0.5    0.1    0.5    0.1    0.5    0.1    0.5    0.1    0.5    0.1    0.4    0.1    0.5    0.2    0.4    0.1    0.4    0.1    0.4    0.1    0.5    0.1    0.4    0.1    0.5 \n",
      " 0.98  0.17 -0.15  0.16 -0.96  0.17 1415.3  108.4   -0.1    0.6   -0.1    0.5   -0.1    1.4   -0.1    0.5   -0.1    1.4   -0.2    0.3   -0.1    1.3   -0.1    0.4   -0.1    1.3   -0.2    0.4   -0.1    1.4   -0.1    0.5   -0.1    1.4   -0.2    0.2   -0.1    1.1 \n",
      " 5.18  1.99  4.77  2.11  2.01  2.26 1311.1  209.7    0.1    0.6   -0.1   -0.0   -0.2    0.7   -0.1   -0.0    0.0    0.7   -0.1   -0.1   -0.2    0.1   -0.1    0.0   -0.2    0.1   -0.2   -0.1    0.0    0.4   -0.2   -0.1   -0.1    0.1   -0.2   -0.0   -0.2    0.1 \n",
      " 0.32  0.33  0.17  0.43  0.27  0.44  827.2  214.9   -0.3   -0.2   -0.2   -0.3   -0.3   -0.2   -0.2   -0.3   -0.3   -0.2   -0.3   -0.3   -0.2   -0.1   -0.2   -0.2   -0.2   -0.2   -0.2   -0.3   -0.2   -0.2   -0.2   -0.3   -0.2   -0.2   -0.2   -0.1   -0.2   -0.1 \n",
      " 0.69  0.45 -0.07  0.53 -0.68  0.56 1196.4  220.0   -0.3    0.1   -0.3   -0.3   -0.3    0.1   -0.3   -0.2   -0.3    0.1   -0.3   -0.2   -0.4    0.1   -0.3   -0.2   -0.3    0.1   -0.3   -0.2   -0.3    0.1   -0.3   -0.3   -0.3    0.1   -0.3   -0.2   -0.2    0.1 \n",
      " 0.36  0.29 -0.21  0.38  0.29  0.37  917.5  227.5   -0.3    0.0   -0.3   -0.3   -0.3    0.1   -0.3   -0.3   -0.3    0.0   -0.3   -0.3   -0.3   -0.0   -0.3   -0.4   -0.3   -0.0   -0.3   -0.3   -0.3    0.0   -0.3   -0.3   -0.3    0.1   -0.4   -0.4   -0.3   -0.1 \n",
      " 1.44  0.86 -1.26  0.93  0.69  0.99 1592.5  228.3   -0.2    0.3   -0.2   -0.2   -0.3    0.3   -0.2   -0.2   -0.2    0.1   -0.2   -0.1   -0.2    0.1   -0.2   -0.2   -0.3    0.0   -0.3   -0.2   -0.2    0.2   -0.2   -0.2   -0.3    0.1   -0.4   -0.3   -0.3    0.1 \n",
      " 1.55  0.53 -1.26  0.57  0.90  0.61 1839.8  232.0    0.3    0.8    0.1    0.0    0.3    0.8    0.1   -0.0    0.2    0.8    0.1   -0.0    0.2    0.7    0.1   -0.0    0.3    0.7    0.1   -0.0    0.2    0.7    0.1   -0.0    0.2    0.8    0.2   -0.1    0.2    0.5 \n",
      " 0.45  0.08  0.03  0.07 -0.45  0.08 1016.2  246.1   -0.2    0.2   -0.1   -0.1   -0.2    0.2   -0.1   -0.1   -0.2    0.2   -0.1   -0.1   -0.2    0.2   -0.1   -0.1   -0.2    0.2   -0.1   -0.1   -0.2    0.2   -0.1   -0.1   -0.2    0.2   -0.1   -0.1   -0.2    0.1 \n",
      " 1.88  1.15 -1.88  1.36  0.08  1.46 1086.1  238.0   -0.1    0.1   -0.2   -0.2    0.0    0.2   -0.1   -0.1   -0.1    0.3   -0.1   -0.2    0.0    0.1   -0.2   -0.4    0.1    0.2   -0.1   -0.2   -0.0    0.2   -0.0   -0.2   -0.1    0.1   -0.1   -0.3   -0.0    0.1 \n",
      " 0.34  0.43 -0.25  0.58  0.24  0.61 1075.5  240.4   -0.2    0.1   -0.3   -0.2   -0.2    0.2   -0.4   -0.2   -0.2    0.1   -0.3   -0.3   -0.3    0.1   -0.4   -0.2   -0.2    0.1   -0.3   -0.3   -0.2    0.1   -0.3   -0.3   -0.2    0.2   -0.4   -0.3   -0.3    0.0 \n",
      " 0.97  0.61  0.54  0.72  0.80  0.73 1364.1  242.1    0.0    0.3   -0.0   -0.1    0.1    0.5   -0.0   -0.1    0.0    0.4   -0.0   -0.1    0.0    0.3   -0.0   -0.1    0.0    0.3   -0.1   -0.1   -0.0    0.3   -0.1   -0.1   -0.0    0.5   -0.1   -0.2    0.0    0.2 \n",
      " 1.31  0.39 -0.85  0.39  1.00  0.40 1813.9  245.9    0.2    0.8    0.1    0.1    0.2    0.9    0.0    0.1    0.2    0.8    0.0    0.1    0.2    0.7    0.1    0.1    0.2    0.8   -0.0    0.1    0.1    0.8    0.1    0.1    0.2    0.8    0.0    0.1    0.2    0.6 \n",
      " 0.80  0.48  0.04  0.55 -0.80  0.57  791.5  252.3   -0.3    0.1   -0.3   -0.2   -0.3    0.1   -0.4   -0.3   -0.3    0.0   -0.4   -0.3   -0.3    0.1   -0.4   -0.2   -0.3   -0.0   -0.4   -0.2   -0.3    0.1   -0.4   -0.2   -0.3    0.1   -0.3   -0.3   -0.4    0.0 \n",
      " 4.12  0.92 -3.88  0.93  1.38  0.83 1856.2  251.6   -0.0    0.7   -0.2    0.3   -0.1    0.8   -0.1    0.3   -0.1    0.7   -0.2    0.3   -0.1    0.7   -0.2    0.3   -0.2    0.7   -0.2    0.2   -0.2    0.7   -0.1    0.1   -0.2    0.7   -0.2    0.3   -0.2    0.8 \n",
      " 1.16  1.02 -1.04  1.28 -0.52  1.34  961.2  254.4   -0.0   -0.8   -0.1   -0.4   -0.2   -0.8   -0.2   -0.5   -0.1   -0.7   -0.2   -0.4   -0.1   -0.6   -0.1   -0.5   -0.1   -0.6   -0.1   -0.5   -0.1   -0.7   -0.2   -0.4   -0.1   -0.8   -0.2   -0.4   -0.1   -0.6 \n",
      " 1.89  1.01 -1.62  1.13  0.98  1.24  210.7  272.9    0.0    0.8    0.1    0.1   -0.0    0.8    0.1    0.1   -0.1    0.8    0.1    0.1   -0.1    0.7    0.1    0.1    0.1    0.8    0.1    0.1    0.1    0.8    0.1    0.1    0.1    0.8    0.2    0.3    0.1    0.6 \n",
      "13.05  0.02  4.52  0.03 -12.24  0.02  314.5  284.7    0.4    1.1    0.4    0.2    0.3    2.0    0.4    0.4    0.1    1.4    0.5    0.3   -0.3    1.3    0.6    1.0    0.3    1.8    0.3    0.4    0.5    1.2   -0.3    1.0   -1.3    1.4   -0.0    0.3   -0.7    1.2 \n",
      " 2.52  1.00  0.08  1.01  2.52  1.06  223.7  276.0    0.1    0.7    0.1    0.0    0.0    0.8    0.1   -0.0    0.1    0.8    0.1    0.0    0.1    0.6    0.1    0.0    0.1    0.7    0.1   -0.0    0.1    0.8    0.1    0.1    0.1    0.8    0.2   -0.0    0.2    0.6 \n",
      " 0.03  0.17  0.02  0.25 -0.02  0.26  491.3  280.2   -0.2    0.6   -0.1   -0.1   -0.2    0.7   -0.2   -0.1   -0.2    0.6   -0.2   -0.1   -0.2    0.5   -0.2   -0.1   -0.2    0.5   -0.2   -0.1   -0.2    0.6   -0.2   -0.1   -0.2    0.7   -0.2   -0.2   -0.2    0.4 \n",
      " 0.70  0.07 -0.28  0.07 -0.64  0.07 1449.9  288.7    0.2    1.1    0.1    0.4    0.2    1.1    0.0    0.4    0.1    1.1    0.1    0.4    0.1    1.0    0.1    0.4    0.1    1.0    0.0    0.4    0.1    1.1    0.0    0.4    0.2    1.1    0.0    0.3    0.1    0.9 \n",
      " 3.57  0.64 -3.08  0.65 -1.80  0.68 1611.0  392.2    0.3    4.8    0.0   -0.2    0.3    3.7   -0.0   -0.2    0.1    3.5   -0.0   -0.2    0.1    4.2   -0.0   -0.2    0.3    3.8   -0.1   -0.2    0.1    3.2    0.0   -0.2    0.2    2.9   -0.0   -0.2    0.1    4.0 \n",
      " 0.37  0.30  0.37  0.40  0.00  0.41 1334.9  412.3    0.3   -0.0    0.1   -0.3    0.4   -0.0    0.1   -0.3    0.4   -0.0    0.1   -0.3    0.4   -0.0    0.1   -0.3    0.3   -0.0    0.1   -0.3    0.4   -0.1    0.1   -0.3    0.4   -0.1    0.1   -0.3    0.3   -0.1 \n",
      " 0.53  0.83 -0.49  1.23 -0.21  1.20 1014.1  413.1    0.1    0.9   -0.0   -0.1   -0.0    0.9   -0.1   -0.1   -0.1    0.8   -0.1   -0.2   -0.2    0.7   -0.1   -0.2   -0.1    0.8   -0.0   -0.2   -0.1    1.0   -0.0   -0.1   -0.1    0.9   -0.1   -0.1   -0.0    0.6 \n",
      " 1.32  0.88  0.53  1.03 -1.21  1.07 1375.5  424.6    0.3    0.9    0.4    0.3    0.4    0.9    0.4    0.3    0.2    0.9    0.4    0.3    0.3    0.8    0.3    0.3    0.5    0.9    0.4    0.3    0.3    0.9    0.4    0.3    0.3    1.0    0.3    0.3    0.4    0.8 \n",
      " 4.72  0.96 -3.73  1.07  2.91  0.82  187.8  432.7    0.3    0.4    0.3    0.4    0.4    0.4    0.3    0.2    0.3    0.6    0.3    0.3    0.4    0.4    0.4    0.3    0.4    0.3    0.3    0.2    0.4    0.3    0.3    0.2    0.3    0.4    0.3    0.2    0.3    0.4 \n",
      " 0.20  0.22 -0.00  0.30 -0.20  0.30 1508.0  436.6    0.2    1.2    0.0    0.2    0.2    1.3   -0.0    0.2    0.1    1.2   -0.0    0.2    0.1    1.1   -0.0    0.2    0.1    1.2   -0.0    0.2    0.1    1.2   -0.0    0.1    0.1    1.3   -0.0    0.2    0.1    1.0 \n",
      " 0.72  0.92 -0.68  1.18  0.23  1.32  307.2  434.8   -0.2    1.1   -0.2    0.1   -0.1    1.4   -0.1    0.1   -0.2    1.0   -0.2    0.1   -0.3    0.9   -0.1    0.1   -0.4    1.0   -0.3    0.1   -0.4    0.9   -0.2    0.1   -0.1    1.1   -0.1   -0.0   -0.1    0.7 \n",
      " 0.89  1.00  0.68  1.40 -0.58  1.41 1362.5  435.2   -0.4    0.5   -0.3   -0.1   -0.3    0.8   -0.3   -0.1   -0.4    0.6   -0.2   -0.0   -0.4    0.5   -0.4   -0.1   -0.5    0.5   -0.4   -0.1   -0.4    0.5   -0.2   -0.0   -0.5    0.6   -0.3   -0.2   -0.4    0.4 \n",
      " 1.50  0.82 -1.13  0.99 -0.98  1.00 1108.1  438.0    0.0    0.7   -0.0   -0.1    0.1    0.8   -0.0   -0.1    0.1    0.7   -0.1   -0.1   -0.1    0.6   -0.0   -0.1   -0.1    0.5   -0.1   -0.1   -0.1    0.6    0.0   -0.1    0.0    0.7    0.0   -0.1   -0.1    0.5 \n",
      " 1.30  0.54 -1.29  0.57  0.16  0.56  246.8  448.9    0.0    1.1    0.1    0.0   -0.0    1.2    0.1   -0.0    0.0    1.2    0.1    0.0    0.0    1.0    0.1    0.0    0.0    1.1    0.1   -0.0   -0.0    1.1    0.1   -0.0    0.0    1.1    0.1    0.0   -0.1    0.8 \n",
      " 0.82  0.90  0.22  1.21 -0.79  1.23 1581.5  455.7   -0.1    0.9   -0.2    0.1   -0.2    0.8   -0.4    0.1   -0.3    1.0   -0.3    0.0   -0.1    1.0   -0.3    0.1   -0.3    0.8   -0.3    0.1   -0.3    1.0   -0.2    0.1   -0.3    1.0   -0.4    0.1   -0.3    0.8 \n",
      "1906.27 39159.66 -1906.26 39782.05  6.57 80.83 1666.0  571.9   -0.3   -3.0    0.0   -0.0   -0.5   -3.0   -0.1   -0.1   -0.4   -3.8    0.0    0.1   -0.2   -3.4    0.0    0.0   -0.4   -3.3    0.0   -0.0   -0.6   -3.6   -0.0    0.0   -0.6   -3.4    0.0    0.1   -0.1   -3.0 \n",
      " 0.79  0.20 -0.55  0.19  0.57  0.20  430.5  580.8    0.2    1.2    0.2    0.1    0.2    1.3    0.2    0.1    0.2    1.3    0.3    0.1    0.2    1.1    0.3    0.1    0.2    1.2    0.3    0.1    0.2    1.2    0.2    0.1    0.1    1.3    0.3    0.1    0.3    1.0 \n",
      " 1.09  0.58  0.15  0.61 -1.08  0.65 1412.2  621.9   -0.1    1.0   -0.1    0.0   -0.1    1.0   -0.0   -0.0   -0.1    1.0   -0.1    0.0   -0.1    1.0   -0.1    0.0   -0.2    1.0   -0.1    0.0   -0.1    1.0   -0.1   -0.0   -0.2    1.0   -0.1    0.0   -0.2    0.8 \n",
      " 0.98  0.11  0.37  0.11 -0.91  0.11 1543.7  626.8    0.3    1.2    0.2    0.1    0.2    1.2    0.2    0.1    0.2    1.2    0.2    0.1    0.2    1.1    0.2    0.1    0.3    1.1    0.2    0.1    0.2    1.2    0.2    0.1    0.2    1.2    0.2    0.1    0.3    1.0 \n",
      " 0.22  0.61 -0.12  0.89 -0.19  0.93  946.8  625.3    0.5    0.3    0.3   -0.2    0.6    0.5    0.2   -0.2    0.5    0.3    0.2   -0.2    0.4    0.3    0.3   -0.2    0.4    0.3    0.2   -0.3    0.4    0.3    0.2   -0.3    0.5    0.3    0.2   -0.2    0.3    0.2 \n",
      " 4.07  1.17  3.81  1.18 -1.42  1.15 1822.9  634.1   -0.2    1.0    0.1   -0.0   -0.1    1.1    0.1   -0.0    0.0    0.9    0.0   -0.1   -0.0    0.7    0.1   -0.1   -0.0    0.7    0.1   -0.0    0.2    0.4    0.1   -0.1    0.0    0.9   -0.0   -0.0    0.0    0.6 \n",
      " 4.17  1.01 -4.17  1.03 -0.03  0.99 1799.1  754.5    0.0    0.0    0.0    0.2    0.0    0.2   -0.0    0.2   -0.0    0.2   -0.0    0.3   -0.0    0.3    0.0    0.2    0.0    0.2   -0.0    0.2   -0.0    0.2    0.0    0.2    0.0    0.2   -0.0    0.3   -0.0    0.3 \n",
      " 2.10  0.42  0.73  0.41 -1.97  0.42 1308.8  770.8    0.2    0.9    0.1    0.1    0.3    0.9    0.1    0.1    0.2    1.0    0.2    0.1    0.2    0.9    0.2    0.1    0.2    0.9    0.1    0.1    0.2    1.0    0.1    0.1    0.3    1.0    0.2    0.1    0.2    0.8 \n",
      " 2.49  0.76 -2.34  0.80  0.85  0.74  368.3  771.7   -0.1    0.7   -0.2    0.4   -0.2    0.6   -0.2    0.4   -0.2    0.7   -0.2    0.4   -0.3    0.7   -0.2    0.5   -0.2    0.6   -0.2    0.4   -0.2    0.7   -0.3    0.4   -0.2    0.7   -0.3    0.3   -0.2    0.6 \n",
      " 2.11  0.90  0.33  1.03 -2.09  0.99 1817.5  773.1   -0.3    1.1   -0.2   -0.1   -0.5    1.0   -0.2   -0.1    0.0    1.1   -0.2   -0.1   -0.1    0.6   -0.3   -0.1   -0.0    0.8   -0.3   -0.2   -0.2    0.9   -0.2   -0.2   -0.1    1.0   -0.3   -0.1   -0.1    0.9 \n",
      " 2.00  0.67  1.19  0.72 -1.60  0.72  758.0  784.7    0.0    1.5   -0.1    0.1   -0.0    1.4   -0.1    0.1   -0.0    1.3   -0.2    0.1   -0.0    1.3   -0.2    0.1   -0.1    1.4   -0.1    0.2   -0.1    1.3   -0.1    0.1   -0.0    1.4   -0.1    0.1   -0.0    1.2 \n",
      " 2.72  0.93  1.75  0.99  2.09  0.98  524.1  791.7   -0.1    1.5   -0.1    0.2   -0.1    1.7   -0.1    0.2   -0.4    1.7   -0.1    0.2   -0.3    1.4   -0.1    0.2   -0.1    1.5   -0.1    0.1   -0.3    1.6   -0.0    0.2   -0.3    1.6   -0.0    0.2   -0.2    1.1 \n",
      " 1.45  0.73  1.30  0.82 -0.65  0.75 1226.9  795.7    0.1    1.0    0.0    0.2    0.2    0.9   -0.0    0.2    0.1    0.9    0.1    0.2    0.2    0.8    0.1    0.2    0.2    0.8    0.0    0.2    0.0    0.9   -0.0    0.2    0.1    0.9    0.1    0.2    0.1    0.9 \n",
      " 1.85  0.82 -1.84  0.89  0.23  0.89  280.0  797.7   -0.4    1.2    0.0    0.3   -0.4    1.1    0.0    0.3   -0.6    1.3    0.1    0.3   -0.4    1.2    0.1    0.2   -0.6    1.4    0.0    0.3   -0.4    1.2    0.0    0.3   -0.3    1.3    0.1    0.3   -0.2    1.0 \n",
      " 2.79  0.57  0.44  0.58 -2.75  0.58 1818.4  807.7   -0.3    0.9   -0.4    0.2   -0.4    0.9   -0.3    0.2   -0.4    1.0   -0.3    0.2   -0.4    0.9   -0.3    0.3   -0.4    0.8   -0.3    0.2   -0.4    1.0   -0.3    0.2   -0.3    0.9   -0.4    0.3   -0.4    0.9 \n",
      " 3.24  0.72 -2.93  0.73 -1.39  0.74 1850.6  814.2    0.5    0.8    0.1   -0.0    0.4    0.7    0.2   -0.1    0.4    0.9    0.2   -0.0    0.6    1.0    0.2   -0.0    0.8    0.9    0.1   -0.1    0.8    1.0    0.1   -0.1    0.5    0.8    0.2   -0.1    0.7    0.9 \n",
      " 0.97  0.29  0.42  0.28 -0.87  0.30 1158.8  824.2    0.2    0.6    0.1   -0.1    0.2    0.6    0.1   -0.1    0.2    0.6    0.1   -0.1    0.1    0.6    0.1   -0.1    0.2    0.6    0.1   -0.1    0.1    0.6    0.1   -0.2    0.2    0.6    0.1   -0.2    0.1    0.5 \n",
      " 0.78  0.16 -0.78  0.16 -0.03  0.17  636.3  572.2   -0.2    1.8   -0.1   -0.5   -0.2    1.8   -0.1   -0.5   -0.2    1.7   -0.2   -0.5   -0.3    1.8   -0.2   -0.5   -0.3    1.7   -0.1   -0.5   -0.1    1.8   -0.1   -0.6   -0.2    1.6   -0.2   -0.4   -0.4    2.0 \n",
      " 0.29  0.06 -0.28  0.06  0.04  0.06  616.1  578.1   -0.2    0.6   -0.1   -0.1   -0.2    0.7   -0.2   -0.1   -0.2    0.7   -0.1   -0.1   -0.2    0.6   -0.1   -0.1   -0.2    0.6   -0.1   -0.1   -0.2    0.6   -0.1   -0.1   -0.2    0.7   -0.1   -0.1   -0.2    0.5 \n"
     ]
    }
   ],
   "source": [
    "epos = [None]*8\n",
    "opos = [None]*8\n",
    "for i in range(8):\n",
    "    epos[i] = np.loadtxt(\"phot/science_reduced_img.W0019-1046.60201.R_SPECIAL.chip1.{}.epos\".format(i+1))\n",
    "    opos[i] = np.loadtxt(\"phot/science_reduced_img.W0019-1046.60201.R_SPECIAL.chip1.{}.opos\".format(i+1))\n",
    "    if i>0:\n",
    "        epos[i] -= epos[0]\n",
    "    opos[i] -= epos[0]\n",
    "    opos[i][:,1] -= 90\n",
    "for j in range(len(stk_obj.pol_frac)):\n",
    "    str = \"{:5.2f} {:5.2f} \".format(stk_obj.pol_frac[j]*100., stk_obj.epol_frac[j]*100.)\n",
    "    str += \"{:5.2f} {:5.2f} \".format(stk_obj.Q[j]*100., stk_obj.dQ[j]*100.)\n",
    "    str += \"{:5.2f} {:5.2f} \".format(stk_obj.U[j]*100., stk_obj.dU[j]*100.)\n",
    "    for i in range(len(epos)):\n",
    "        str += \"{:6.1f} {:6.1f} \".format(epos[i][j,0],epos[i][j,1])\n",
    "        str += \"{:6.1f} {:6.1f} \".format(opos[i][j,0],opos[i][j,1])\n",
    "    print(str)"
   ]
  },
  {
   "cell_type": "code",
   "execution_count": 7,
   "metadata": {},
   "outputs": [],
   "source": [
    "from astropy.io import fits\n",
    "ths = np.zeros(8)\n",
    "for i in range(8):\n",
    "\n",
    "    h = fits.open(\"../proc/reduced_images/science_reduced_img.W0019-1046.60201.R_SPECIAL.chip1.{}.fits\".format(i+1))\n",
    "    ths[i] = h[0].header[\"HIERARCH ESO INS RETA2 ROT\"]\n",
    "    h.close()\n",
    "\n",
    "    phot = np.loadtxt(\"phot/science_reduced_img.W0019-1046.60201.R_SPECIAL.chip1.{}.phot\".format(i+1))\n",
    "    if i==0:\n",
    "        fe  = np.zeros((len(ths), phot.shape[0]))\n",
    "        dfe = np.zeros(fe.shape)\n",
    "        fo  = np.zeros(fe.shape)\n",
    "        dfo = np.zeros(fe.shape)\n",
    "    fe[i]  = phot[:,0]\n",
    "    dfe[i] = phot[:,1]\n",
    "    fo[i]  = phot[:,2]\n",
    "    dfo[i] = phot[:,3]"
   ]
  },
  {
   "cell_type": "code",
   "execution_count": 8,
   "metadata": {},
   "outputs": [],
   "source": [
    "ths_unique = np.unique(ths)\n",
    "F = np.zeros((len(ths_unique), fo.shape[1]))\n",
    "dF = np.zeros(F.shape)\n",
    "for i, th in enumerate(ths_unique):\n",
    "    k = np.argwhere(ths==th)\n",
    "    fo_sum  = np.sum(fo[k], axis=0)\n",
    "    fe_sum  = np.sum(fe[k], axis=0)\n",
    "    dfo_sum = np.sum(dfo[k]**2, axis=0)**0.5\n",
    "    dfe_sum = np.sum(dfe[k]**2, axis=0)**0.5\n",
    "    F[i] = (fo_sum - fe_sum)/(fo_sum + fe_sum)\n",
    "    dF[i] = ((2*fe_sum*fo_sum)/(fo_sum+fe_sum)**2) * ((dfo_sum/fo_sum)**2 + (dfe_sum/fe_sum)**2)**0.5\n"
   ]
  },
  {
   "cell_type": "code",
   "execution_count": 9,
   "metadata": {},
   "outputs": [],
   "source": [
    "import astropy.units as u\n",
    "Q = np.zeros(F.shape[1])\n",
    "U = np.zeros(Q.shape)\n",
    "dQ = np.zeros(Q.shape)\n",
    "dU = np.zeros(Q.shape)\n",
    "for i, th in enumerate(ths_unique):\n",
    "    Q += (2/len(ths_unique)) * F[i] * np.cos(4*th*u.deg)\n",
    "    U += (2/len(ths_unique)) * F[i] * np.sin(4*th*u.deg)\n",
    "    dQ += ((2/len(ths_unique)) * np.cos(4*th*u.deg))**2 * dF[i]**2\n",
    "    dU += ((2/len(ths_unique)) * np.sin(4*th*u.deg))**2 * dF[i]**2\n",
    "dQ = dQ**0.5\n",
    "dU = dU**0.5"
   ]
  },
  {
   "cell_type": "code",
   "execution_count": 10,
   "metadata": {},
   "outputs": [],
   "source": [
    "epos_ref = np.loadtxt(\"phot/science_reduced_img.W0019-1046.60201.R_SPECIAL.chip1.1.epos\")\n",
    "Q_back = stk_obj.QU_background(epos_ref[:,0], epos_ref[:,1], \"Q\", \"1\")\n",
    "U_back = stk_obj.QU_background(epos_ref[:,0], epos_ref[:,1], \"U\", \"1\")\n",
    "Q -= Q_back\n",
    "U -= U_back\n",
    "dQ -= Q_back\n",
    "dU -= U_back"
   ]
  },
  {
   "cell_type": "code",
   "execution_count": 11,
   "metadata": {},
   "outputs": [],
   "source": [
    "P = (Q**2+U**2)**0.5\n",
    "eP = ((Q*dQ)**2 + (U*dU)**2)**0.5 / P"
   ]
  },
  {
   "cell_type": "code",
   "execution_count": 12,
   "metadata": {},
   "outputs": [
    {
     "name": "stdout",
     "output_type": "stream",
     "text": [
      " 0.60  0.12 -0.19  0.13 -0.56  0.12\n",
      " 0.20  0.15  0.20  0.15  0.01  0.22\n",
      " 1.16  0.73 -0.93  0.23  0.69  1.18\n",
      " 1.54  0.61 -1.29 -0.28  0.84  1.04\n",
      " 1.85  0.84 -1.47  0.82 -1.12  0.88\n",
      " 0.23  0.10 -0.12  0.08 -0.20  0.10\n",
      " 7.14  0.90  6.26  0.90 -3.43  0.90\n",
      " 0.19  0.28 -0.14  0.22 -0.12  0.34\n",
      " 0.32  0.03 -0.32  0.01 -0.02  0.45\n",
      " 0.85  0.88 -0.53 -0.10  0.67  1.12\n",
      " 1.11  0.52 -1.09  0.51  0.18  0.70\n",
      " 0.98  0.43 -0.15  0.09 -0.96  0.43\n",
      " 5.18  2.27  4.77  2.24  2.01  2.43\n",
      " 0.32  0.45  0.17  0.42  0.27  0.46\n",
      " 0.69  0.62 -0.07  0.57 -0.68  0.62\n",
      " 0.36  0.37 -0.21  0.36  0.29  0.37\n",
      " 1.44  1.14 -1.26  1.00  0.69  1.50\n",
      " 1.55  1.08 -1.26  0.63  0.90  1.63\n",
      " 0.45  0.08  0.03  0.09 -0.45  0.08\n",
      " 1.88  1.41 -1.88  1.41  0.08  1.45\n",
      " 0.34  0.62 -0.25  0.61  0.24  0.63\n",
      " 0.97  0.92  0.54  0.79  0.80  0.97\n",
      " 1.31  1.10 -0.85  0.49  1.00  1.39\n",
      " 0.80  0.60  0.04  0.53 -0.80  0.60\n",
      " 4.12  1.18 -3.88  1.05  1.38  1.89\n",
      " 1.16  1.30 -1.04  1.29 -0.52  1.35\n",
      " 1.89  1.22 -1.62  0.86  0.98  1.88\n",
      "13.05  0.49  4.52 -0.22 -12.24  0.52\n",
      " 2.52  1.71  0.08  0.74  2.52  1.71\n",
      " 0.03  0.38  0.02  0.09 -0.02  0.51\n",
      " 0.70  0.37 -0.28  0.19 -0.64  0.39\n",
      " 3.57  1.02 -3.08  0.95 -1.80  1.20\n",
      " 0.37  0.60  0.37  0.60  0.00  0.55\n",
      " 0.53  1.26 -0.49  1.27 -0.21  1.20\n",
      " 1.32  1.25  0.53  1.26 -1.21  1.25\n",
      " 4.72  0.98 -3.73  0.50  2.91  1.46\n",
      " 0.20  0.67 -0.00  0.62 -0.20  0.67\n",
      " 0.72  0.88 -0.68  0.73  0.23  1.71\n",
      " 0.89  1.61  0.68  1.63 -0.58  1.57\n",
      " 1.50  1.05 -1.13  1.09 -0.98  0.99\n",
      " 1.30  0.13 -1.29  0.00  0.16  1.08\n",
      " 0.82  1.70  0.22  1.60 -0.79  1.70\n",
      "1906.27 1458.70 -1906.26 1458.71  6.57 74.44\n",
      " 0.79  0.33 -0.55 -0.35  0.57  0.32\n",
      " 1.09  0.76  0.15  1.12 -1.08  0.76\n",
      " 0.98  0.47  0.37  0.74 -0.91  0.41\n",
      " 0.22  0.77 -0.12  0.91 -0.19  0.70\n",
      " 4.07  2.10  3.81  2.10 -1.42  2.06\n",
      " 4.17  2.20 -4.17  2.20 -0.03  1.67\n",
      " 2.10  0.40  0.73  0.95 -1.97  0.24\n",
      " 2.49  0.26 -2.34 -0.04  0.85  0.74\n",
      " 2.11  1.68  0.33  2.18 -2.08  1.67\n",
      " 2.00  0.38  1.19  0.46 -1.60  0.33\n",
      " 2.72  0.59  1.75  0.34  2.09  0.72\n",
      " 1.45  1.12  1.30  1.22 -0.65  0.48\n",
      " 1.85  0.18 -1.84 -0.13  0.23  0.94\n",
      " 2.78  1.25  0.44  1.85 -2.75  1.23\n",
      " 3.24  1.97 -2.93  2.07 -1.39  1.47\n",
      " 0.97  0.30  0.42  0.65 -0.87 -0.10\n",
      " 0.78  0.14 -0.78 -0.14 -0.03  0.09\n",
      " 0.29  0.27 -0.28 -0.27  0.04 -0.00\n"
     ]
    }
   ],
   "source": [
    "for i in range(len(Q)):\n",
    "    print(\"{:5.2f} {:5.2f} {:5.2f} {:5.2f} {:5.2f} {:5.2f}\".format(P[i]*100, eP[i]*100, Q[i]*100, dQ[i]*100, U[i]*100, dU[i]*100))"
   ]
  }
 ],
 "metadata": {
  "kernelspec": {
   "display_name": "stenv",
   "language": "python",
   "name": "python3"
  },
  "language_info": {
   "codemirror_mode": {
    "name": "ipython",
    "version": 3
   },
   "file_extension": ".py",
   "mimetype": "text/x-python",
   "name": "python",
   "nbconvert_exporter": "python",
   "pygments_lexer": "ipython3",
   "version": "3.11.3"
  }
 },
 "nbformat": 4,
 "nbformat_minor": 2
}
