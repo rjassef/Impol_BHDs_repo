{
 "cells": [
  {
   "cell_type": "code",
   "execution_count": 1,
   "metadata": {},
   "outputs": [],
   "source": [
    "import numpy as np\n",
    "\n",
    "from pol_analysis.polData import PolData\n",
    "from pol_analysis.runPhot import RunPhot\n",
    "from pol_analysis.getStokes import GetStokes"
   ]
  },
  {
   "cell_type": "code",
   "execution_count": 2,
   "metadata": {},
   "outputs": [],
   "source": [
    "w0019 = PolData(\"W0019-1046\",\"R_SPECIAL\")#, force_new=True)"
   ]
  },
  {
   "cell_type": "code",
   "execution_count": 3,
   "metadata": {},
   "outputs": [],
   "source": [
    "star_ex_ref = 1145\n",
    "star_ey_ref = 37.5"
   ]
  },
  {
   "cell_type": "code",
   "execution_count": 4,
   "metadata": {},
   "outputs": [
    {
     "name": "stdout",
     "output_type": "stream",
     "text": [
      "[1.11919084 1.0490138  1.06496564 1.25594511 1.21634144 1.15884546\n",
      " 1.05958439 1.49308463 0.92754894 0.94732953 0.70921153 0.77163514\n",
      " 0.82352423 0.7942171  0.79172375 0.823943  ]\n"
     ]
    }
   ],
   "source": [
    "phot = RunPhot(w0019)#, force_new=True)\n",
    "phot.subtract_background(box_size=(25,25))\n",
    "phot.get_source_positions(box_size=5)\n",
    "stddev_0 = np.ones(16) * 1.4 / 2.355\n",
    "stddev_0[8:] = 3.0 #1.5 / 2.355\n",
    "phot.find_seeing(star_ex_ref, star_ey_ref, stddev_0=stddev_0, show_plots=False)\n",
    "print(phot.seeing)\n",
    "#phot.get_phot(r_ap=1.0, resubtract_background=False, force_new=True)\n",
    "phot.get_phot(r_ap=1.0, resubtract_background=False, force_new=True, apply_convolution=True)\n",
    "#phot.get_phot(r_ap=1.0, resubtract_background=True, force_new=True, apply_convolution=True)\n",
    "#phot.get_phot(r_ap=0.5, resubtract_background=False)\n",
    "#phot.get_phot(resubtract_background=True)"
   ]
  },
  {
   "cell_type": "code",
   "execution_count": 5,
   "metadata": {},
   "outputs": [],
   "source": [
    "stk_obj = GetStokes(w0019)\n",
    "#stk_obj.get_pol()\n",
    "stk_obj.get_pol(ob_ids=w0019.ob_pairs['OB_ID'][0:1], mjds=w0019.ob_pairs['MJD_folder'][0:1])\n",
    "#stk_obj.get_pol(ob_ids=w0019.ob_pairs['OB_ID'][1:2], mjds=w0019.ob_pairs['MJD_folder'][1:2])"
   ]
  },
  {
   "cell_type": "code",
   "execution_count": 6,
   "metadata": {},
   "outputs": [
    {
     "data": {
      "image/png": "[encoded data removed]",
      "text/plain": [
       "<Figure size 640x480 with 1 Axes>"
      ]
     },
     "metadata": {},
     "output_type": "display_data"
    }
   ],
   "source": [
    "import matplotlib.pyplot as plt\n",
    "# plt.plot(stk_obj.epol_frac*100, stk_obj.pol_frac*100, 'k.')\n",
    "# plt.plot(stk_obj.epol_frac[6]*100, stk_obj.pol_frac[6]*100, 'bo')\n",
    "# plt.xlim([0,30])\n",
    "# plt.ylim([0,30])\n",
    "epos_ref = np.loadtxt(\"phot/science_reduced_img.W0019-1046.60201.R_SPECIAL.chip1.1.epos\")\n",
    "cond = (epos_ref[:,0]>210) & (epos_ref[:,0]<1840)\n",
    "plt.plot(stk_obj.pol_frac[cond]*100, stk_obj.pol_frac[cond]/stk_obj.epol_frac[cond], 'k.')\n",
    "k = np.argmin((epos_ref[:,0]-1020)**2 + (epos_ref[:,1]-70)**2)\n",
    "plt.plot(stk_obj.pol_frac[k]*100, stk_obj.pol_frac[k]/stk_obj.epol_frac[k], 'bo')\n",
    "plt.xlim([0,15])\n",
    "plt.ylim([0,15])\n",
    "plt.show()"
   ]
  },
  {
   "cell_type": "code",
   "execution_count": 7,
   "metadata": {},
   "outputs": [
    {
     "name": "stdout",
     "output_type": "stream",
     "text": [
      " 1.91  0.18 -1.01  0.18 -1.62  0.18 1035.1   29.9    0.2    0.5   -0.0   -0.2    0.0    0.4   -0.0   -0.2    0.1    0.3   -0.0   -0.2    0.1    0.4   -0.0   -0.2    0.1    0.3   -0.0   -0.2    0.1    0.4    0.0   -0.3    0.1    0.3   -0.0   -0.2    0.1    0.4 \n",
      " 7.09  1.03  6.21  1.06 -3.43  1.04 1020.5   69.9   -0.2    0.4   -0.3    0.0   -0.2    0.3   -0.3    0.0   -0.3    0.4   -0.2    0.0   -0.3    0.4   -0.3   -0.1   -0.2    0.4   -0.3   -0.0   -0.3    0.3   -0.3    0.0   -0.2    0.3   -0.3    0.1   -0.3    0.3 \n",
      " 0.37  0.08  0.09  0.09 -0.36  0.08 1016.2  246.1   -0.2    0.2   -0.1   -0.1   -0.2    0.2   -0.1   -0.1   -0.2    0.2   -0.1   -0.1   -0.2    0.2   -0.1   -0.1   -0.2    0.2   -0.1   -0.1   -0.2    0.2   -0.1   -0.1   -0.2    0.2   -0.1   -0.1   -0.2    0.1 \n",
      " 7.70  1.00 -0.68  1.03 -7.67  1.00 1611.0  392.2    0.0    0.0    0.0   -0.2    0.0   -0.2   -0.0   -0.2   -0.0   -0.2    0.0   -0.2    0.0   -0.2   -0.0   -0.2   -0.0   -0.2   -0.1   -0.2   -0.1   -0.2    0.0   -0.2    0.1    4.3   -0.0   -0.2   -0.0   -0.2 \n",
      " 0.78  0.13  0.37  0.13 -0.69  0.13 1543.8  626.9    0.2    1.1    0.2    0.1    0.2    1.2    0.1    0.1    0.2    1.2    0.2    0.1    0.2    1.0    0.2    0.1    0.2    1.1    0.1    0.1    0.2    1.1    0.1    0.0    0.2    1.2    0.2    0.1    0.2    0.9 \n",
      " 5.90  1.17 -5.14  1.18 -2.89  1.04 1799.1  754.5    0.0    0.0    0.0    0.2    0.0    0.2   -0.0    0.2   -0.0    0.2   -0.0    0.3   -0.0    0.3    0.0    0.2    0.0    0.2   -0.0    0.2   -0.0    0.2    0.0    0.2    0.0    0.2   -0.0    0.3   -0.0    0.3 \n",
      " 2.09  0.47  1.08  0.49 -1.78  0.47 1308.8  770.8    0.2    0.9    0.1    0.1    0.3    0.9    0.1    0.1    0.2    1.0    0.2    0.1    0.2    0.9    0.2    0.1    0.2    0.9    0.1    0.1    0.2    1.0    0.1    0.1    0.3    1.0    0.2    0.1    0.2    0.8 \n",
      "29.23  2.71 21.94  2.82 19.32  2.44 1306.8  209.7    0.1    1.4   -0.1    0.1    0.2    1.1   -0.0   -0.1    0.1    0.9    0.1   -0.1    0.4    0.9    0.1   -0.0    0.3    0.7    0.2   -0.0    0.3    0.7    0.1   -0.1    0.1    0.6    0.0    0.0    0.3    0.8 \n",
      "15.58  1.90  6.78  2.02 14.02  1.84 1318.4  209.8   -0.4    1.2   -0.5    0.1   -0.5    1.3   -0.3    0.0   -0.3    1.2   -0.3    0.1   -0.5    0.9   -0.3    0.0   -0.5    1.0   -0.3   -0.1   -0.4    0.7   -0.4    0.0   -0.3    0.6   -0.4   -0.0   -0.5    0.8 \n"
     ]
    }
   ],
   "source": [
    "epos = [None]*8\n",
    "opos = [None]*8\n",
    "for i in range(8):\n",
    "    epos[i] = np.loadtxt(\"phot/science_reduced_img.W0019-1046.60201.R_SPECIAL.chip1.{}.epos\".format(i+1))\n",
    "    opos[i] = np.loadtxt(\"phot/science_reduced_img.W0019-1046.60201.R_SPECIAL.chip1.{}.opos\".format(i+1))\n",
    "    if i>0:\n",
    "        epos[i] -= epos[0]\n",
    "    opos[i] -= epos[0]\n",
    "    opos[i][:,1] -= 90\n",
    "for j in range(len(stk_obj.pol_frac)):\n",
    "    if stk_obj.pol_frac[j]/stk_obj.epol_frac[j]<4. or epos[0][j,0]<210 or epos[0][j,0]>1840:\n",
    "        continue\n",
    "    str = \"{:5.2f} {:5.2f} \".format(stk_obj.pol_frac[j]*100., stk_obj.epol_frac[j]*100.)\n",
    "    str += \"{:5.2f} {:5.2f} \".format(stk_obj.Q[j]*100., stk_obj.dQ[j]*100.)\n",
    "    str += \"{:5.2f} {:5.2f} \".format(stk_obj.U[j]*100., stk_obj.dU[j]*100.)\n",
    "    for i in range(len(epos)):\n",
    "        str += \"{:6.1f} {:6.1f} \".format(epos[i][j,0],epos[i][j,1])\n",
    "        str += \"{:6.1f} {:6.1f} \".format(opos[i][j,0],opos[i][j,1])\n",
    "    print(str)"
   ]
  },
  {
   "cell_type": "code",
   "execution_count": 8,
   "metadata": {},
   "outputs": [],
   "source": [
    "from astropy.io import fits\n",
    "ths = np.zeros(8)\n",
    "for i in range(8):\n",
    "\n",
    "    h = fits.open(\"../proc/reduced_images/science_reduced_img.W0019-1046.60201.R_SPECIAL.chip1.{}.fits\".format(i+1))\n",
    "    ths[i] = h[0].header[\"HIERARCH ESO INS RETA2 ROT\"]\n",
    "    h.close()\n",
    "\n",
    "    phot = np.loadtxt(\"phot/science_reduced_img.W0019-1046.60201.R_SPECIAL.chip1.{}.phot\".format(i+1))\n",
    "    if i==0:\n",
    "        fe  = np.zeros((len(ths), phot.shape[0]))\n",
    "        dfe = np.zeros(fe.shape)\n",
    "        fo  = np.zeros(fe.shape)\n",
    "        dfo = np.zeros(fe.shape)\n",
    "    fe[i]  = phot[:,0]\n",
    "    dfe[i] = phot[:,1]\n",
    "    fo[i]  = phot[:,2]\n",
    "    dfo[i] = phot[:,3]"
   ]
  },
  {
   "cell_type": "code",
   "execution_count": 9,
   "metadata": {},
   "outputs": [],
   "source": [
    "ths_unique = np.unique(ths)\n",
    "F = np.zeros((len(ths_unique), fo.shape[1]))\n",
    "dF = np.zeros(F.shape)\n",
    "for i, th in enumerate(ths_unique):\n",
    "    k = np.argwhere(ths==th)\n",
    "    fo_sum  = np.sum(fo[k], axis=0)\n",
    "    fe_sum  = np.sum(fe[k], axis=0)\n",
    "    dfo_sum = np.sum(dfo[k]**2, axis=0)**0.5\n",
    "    dfe_sum = np.sum(dfe[k]**2, axis=0)**0.5\n",
    "    F[i] = (fo_sum - fe_sum)/(fo_sum + fe_sum)\n",
    "    dF[i] = ((2*fe_sum*fo_sum)/(fo_sum+fe_sum)**2) * ((dfo_sum/fo_sum)**2 + (dfe_sum/fe_sum)**2)**0.5\n"
   ]
  },
  {
   "cell_type": "code",
   "execution_count": 10,
   "metadata": {},
   "outputs": [],
   "source": [
    "import astropy.units as u\n",
    "Q = np.zeros(F.shape[1])\n",
    "U = np.zeros(Q.shape)\n",
    "dQ = np.zeros(Q.shape)\n",
    "dU = np.zeros(Q.shape)\n",
    "for i, th in enumerate(ths_unique):\n",
    "    Q += (2/len(ths_unique)) * F[i] * np.cos(4*th*u.deg)\n",
    "    U += (2/len(ths_unique)) * F[i] * np.sin(4*th*u.deg)\n",
    "    dQ += ((2/len(ths_unique)) * np.cos(4*th*u.deg))**2 * dF[i]**2\n",
    "    dU += ((2/len(ths_unique)) * np.sin(4*th*u.deg))**2 * dF[i]**2\n",
    "dQ = dQ**0.5\n",
    "dU = dU**0.5"
   ]
  },
  {
   "cell_type": "code",
   "execution_count": 11,
   "metadata": {},
   "outputs": [],
   "source": [
    "epos_ref = np.loadtxt(\"phot/science_reduced_img.W0019-1046.60201.R_SPECIAL.chip1.1.epos\")\n",
    "Q_back = stk_obj.QU_background(epos_ref[:,0], epos_ref[:,1], \"Q\", \"1\")\n",
    "U_back = stk_obj.QU_background(epos_ref[:,0], epos_ref[:,1], \"U\", \"1\")\n",
    "Q -= Q_back\n",
    "U -= U_back\n",
    "dQ -= Q_back\n",
    "dU -= U_back"
   ]
  },
  {
   "cell_type": "code",
   "execution_count": 12,
   "metadata": {},
   "outputs": [],
   "source": [
    "P = (Q**2+U**2)**0.5\n",
    "eP = ((Q*dQ)**2 + (U*dU)**2)**0.5 / P"
   ]
  },
  {
   "cell_type": "code",
   "execution_count": 13,
   "metadata": {},
   "outputs": [
    {
     "name": "stdout",
     "output_type": "stream",
     "text": [
      " 1.91  0.16 -1.01  0.17 -1.62  0.16\n",
      " 0.12  0.19  0.12  0.19 -0.03  0.25\n",
      " 1.20  0.59 -1.10  0.32  0.49  1.25\n",
      " 2.79  0.98 -2.06  0.96 -1.88  1.00\n",
      " 7.09  1.07  6.21  1.08 -3.43  1.04\n",
      " 0.17  0.27 -0.16  0.25 -0.06  0.37\n",
      " 0.37  0.09 -0.36  0.03 -0.06  0.47\n",
      " 0.90  0.62 -0.82  0.59  0.37  0.76\n",
      " 0.28  0.47  0.25  0.46  0.13  0.49\n",
      " 0.69  0.70 -0.19  0.66 -0.66  0.70\n",
      " 0.24  0.42  0.05  0.41  0.23  0.42\n",
      " 1.98  1.25 -1.76  1.14  0.89  1.61\n",
      " 1.82  1.18 -1.48  0.76  1.06  1.73\n",
      " 0.37  0.09  0.09  0.10 -0.36  0.09\n",
      " 1.00  1.62 -0.98  1.63  0.21  1.61\n",
      " 0.27  0.72 -0.11  0.72  0.25  0.72\n",
      " 0.82  1.04  0.42  0.92  0.70  1.09\n",
      " 1.37  1.08 -0.99  0.57  0.95  1.45\n",
      " 0.37  0.68  0.06  0.62 -0.36  0.68\n",
      " 1.64  1.52 -1.56  1.52  0.49  1.54\n",
      " 2.85  1.30 -2.58  1.07  1.21  2.05\n",
      " 2.38  1.79 -0.78  0.95  2.25  1.87\n",
      " 0.06  0.52 -0.02  0.14  0.06  0.55\n",
      " 7.70  1.55 -0.68  1.38 -7.67  1.55\n",
      " 0.31  0.63  0.29  0.64 -0.12  0.58\n",
      " 1.07  1.51 -1.05  1.52  0.23  1.39\n",
      " 1.83  1.44  1.20  1.46 -1.38  1.43\n",
      " 0.15  0.69  0.14  0.68 -0.04  0.72\n",
      " 0.64  1.69 -0.35  0.98 -0.54  1.92\n",
      " 1.05  1.23 -0.84  1.28 -0.63  1.14\n",
      " 1.17  0.16 -1.16  0.12 -0.11  1.16\n",
      " 1.33  1.87  0.75  1.85 -1.10  1.88\n",
      "2109.79 1027.20 1970.68 710.44 753.42 2195.64\n",
      " 0.90  0.33 -0.68 -0.31  0.59  0.35\n",
      " 0.90  0.88  0.27  1.23 -0.86  0.84\n",
      " 0.78  0.51  0.37  0.75 -0.69  0.42\n",
      " 0.05  0.98  0.04  1.04  0.03  0.80\n",
      " 3.43  2.29  3.24  2.30 -1.10  2.21\n",
      " 5.90  2.12 -5.14  2.23 -2.88  1.71\n",
      " 2.09  0.58  1.08  1.01 -1.78  0.29\n",
      " 2.65  0.35 -2.39  0.05  1.13  0.81\n",
      " 1.46  1.87  0.51  2.34 -1.37  1.80\n",
      " 1.60  0.56  1.39  0.59 -0.78  0.43\n",
      " 2.59  0.84  0.92  0.54  2.42  0.87\n",
      " 0.96  1.14  0.78  1.35 -0.57  0.59\n",
      " 1.77  0.64 -1.39 -0.02  1.10  1.03\n",
      " 2.36  1.43  1.06  1.91 -2.11  1.28\n",
      " 0.90  0.64  0.83  0.69 -0.34 -0.07\n",
      "29.23  2.80 21.94  2.80 19.32  2.81\n",
      "15.58  1.99  6.78  2.00 14.02  1.99\n"
     ]
    }
   ],
   "source": [
    "for i in range(len(Q)):\n",
    "    if epos_ref[i,0]<210 or epos_ref[i,0]>1840:\n",
    "        continue\n",
    "    print(\"{:5.2f} {:5.2f} {:5.2f} {:5.2f} {:5.2f} {:5.2f}\".format(P[i]*100, eP[i]*100, Q[i]*100, dQ[i]*100, U[i]*100, dU[i]*100))"
   ]
  },
  {
   "cell_type": "code",
   "execution_count": 14,
   "metadata": {},
   "outputs": [
    {
     "data": {
      "text/plain": [
       "(-0.02, 15.0)"
      ]
     },
     "execution_count": 14,
     "metadata": {},
     "output_type": "execute_result"
    },
    {
     "data": {
      "image/png": "[encoded data removed]",
      "text/plain": [
       "<Figure size 640x480 with 1 Axes>"
      ]
     },
     "metadata": {},
     "output_type": "display_data"
    }
   ],
   "source": [
    "cond = (epos_ref[:,0]>210) & (epos_ref[:,0]<1840)\n",
    "plt.plot(np.sum(fe[:,cond],axis=0), P[cond]*100, '.')\n",
    "plt.xscale('log')\n",
    "plt.ylim([-0.02,15])"
   ]
  }
 ],
 "metadata": {
  "kernelspec": {
   "display_name": "stenv",
   "language": "python",
   "name": "python3"
  },
  "language_info": {
   "codemirror_mode": {
    "name": "ipython",
    "version": 3
   },
   "file_extension": ".py",
   "mimetype": "text/x-python",
   "name": "python",
   "nbconvert_exporter": "python",
   "pygments_lexer": "ipython3",
   "version": "3.11.3"
  }
 },
 "nbformat": 4,
 "nbformat_minor": 2
}
