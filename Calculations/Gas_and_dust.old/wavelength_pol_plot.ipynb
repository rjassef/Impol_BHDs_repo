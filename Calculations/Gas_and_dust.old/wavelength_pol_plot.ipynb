{
 "cells": [
  {
   "cell_type": "code",
   "execution_count": 16,
   "metadata": {},
   "outputs": [],
   "source": [
    "import numpy as np \n",
    "from draine_dust import draine_dust\n",
    "import astropy.units as u\n",
    "from scipy.interpolate import interp1d\n",
    "import matplotlib.pyplot as plt"
   ]
  },
  {
   "cell_type": "code",
   "execution_count": 6,
   "metadata": {},
   "outputs": [],
   "source": [
    "type = 'SMC'\n",
    "dust_obj = draine_dust(5000.*u.AA, type='SMC')\n",
    "if type=='SMC':\n",
    "    p_fname = \"draine_models/callscat_init_p.out_SMC_bar\"\n",
    "    s_fname = \"draine_models/callscat_init_i.out_SMC_bar\"\n",
    "elif type=='LMC':\n",
    "    p_fname = \"draine_models/callscat_init_p.out_LMC_avg\"\n",
    "    s_fname = \"draine_models/callscat_init_i.out_LMC_avg\"\n",
    "elif type=='MW':\n",
    "    p_fname = \"draine_models/callscat_init_p.out_MW_3.1\"\n",
    "    s_fname = \"draine_models/callscat_init_i.out_MW_3.1\"\n",
    "else:\n",
    "    print(\"Unknown dust type\")"
   ]
  },
  {
   "cell_type": "code",
   "execution_count": 7,
   "metadata": {},
   "outputs": [],
   "source": [
    "wave_pfrac, theta_S_pfrac, pfrac = dust_obj.read_file(p_fname)"
   ]
  },
  {
   "cell_type": "code",
   "execution_count": 19,
   "metadata": {},
   "outputs": [
    {
     "data": {
      "text/plain": [
       "array([ 0.06  ,  0.07  ,  0.08  ,  0.09  ,  0.1   ,  0.11  ,  0.12  ,\n",
       "        0.13  ,  0.14  ,  0.15  ,  0.16  ,  0.17  ,  0.182 ,  0.222 ,\n",
       "        0.2696,  0.3354,  0.355 ,  0.4685,  0.547 ,  0.6165,  0.6492,\n",
       "        0.748 ,  0.802 ,  0.893 , 10.2   ,  9.    ,  8.    ,  5.8   ,\n",
       "        4.75  ,  3.8   ,  3.45  ,  2.19  ,  1.63  ,  1.22  ,  1.    ,\n",
       "        0.9   ])"
      ]
     },
     "execution_count": 19,
     "metadata": {},
     "output_type": "execute_result"
    }
   ],
   "source": [
    "wave_pfrac"
   ]
  },
  {
   "cell_type": "code",
   "execution_count": 11,
   "metadata": {},
   "outputs": [],
   "source": [
    "def pfrac_wave(theta):\n",
    "    k = np.argmin(np.abs(theta.to(u.deg).value-theta_S_pfrac))\n",
    "    return interp1d(wave_pfrac, pfrac[k,:])"
   ]
  },
  {
   "cell_type": "code",
   "execution_count": 18,
   "metadata": {},
   "outputs": [
    {
     "data": {
      "text/plain": [
       "[<matplotlib.lines.Line2D at 0x2add6a2e9b50>]"
      ]
     },
     "execution_count": 18,
     "metadata": {},
     "output_type": "execute_result"
    },
    {
     "data": {
      "image/png": "[encoded data removed]",
      "text/plain": [
       "<Figure size 432x288 with 1 Axes>"
      ]
     },
     "metadata": {
      "needs_background": "light"
     },
     "output_type": "display_data"
    }
   ],
   "source": [
    "pfrac_interp = pfrac_wave(90.*u.deg)\n",
    "plt.plot(wave_pfrac, pfrac_interp(wave_pfrac), 'x')"
   ]
  },
  {
   "cell_type": "code",
   "execution_count": 15,
   "metadata": {},
   "outputs": [
    {
     "data": {
      "text/plain": [
       "array([0.8552, 0.8018, 0.7542, 0.7357, 0.6719, 0.6244, 0.5908, 0.5556,\n",
       "       0.5116, 0.4178, 0.2988, 0.2116, 0.1417, 0.1095, 0.1497, 0.2095,\n",
       "       0.1951, 0.2665, 0.3014, 0.3168, 0.3273, 0.3577, 0.3801, 0.4278,\n",
       "       0.94  , 0.9245, 0.9122, 0.8935, 0.8715, 0.8114, 0.7701, 0.5423,\n",
       "       0.5235, 0.5525, 0.487 , 0.4313])"
      ]
     },
     "execution_count": 15,
     "metadata": {},
     "output_type": "execute_result"
    }
   ],
   "source": []
  }
 ],
 "metadata": {
  "kernelspec": {
   "display_name": "astroconda",
   "language": "python",
   "name": "python3"
  },
  "language_info": {
   "codemirror_mode": {
    "name": "ipython",
    "version": 3
   },
   "file_extension": ".py",
   "mimetype": "text/x-python",
   "name": "python",
   "nbconvert_exporter": "python",
   "pygments_lexer": "ipython3",
   "version": "3.7.11"
  },
  "orig_nbformat": 4
 },
 "nbformat": 4,
 "nbformat_minor": 2
}
