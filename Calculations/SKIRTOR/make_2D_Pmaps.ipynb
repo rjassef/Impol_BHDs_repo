{
 "cells": [
  {
   "cell_type": "code",
   "execution_count": 1,
   "metadata": {},
   "outputs": [],
   "source": [
    "import numpy as np\n",
    "import subprocess\n",
    "import os\n",
    "import re\n",
    "from astropy.io import fits"
   ]
  },
  {
   "cell_type": "code",
   "execution_count": 2,
   "metadata": {},
   "outputs": [],
   "source": [
    "#List of the total flux fits files. \n",
    "ls_output = subprocess.run(\"ls 2D_maps/bHDPol_mrn77_tor_oa*_con_oa*-tauV1_i*_total.fits\", shell=True, capture_output=True)\n",
    "fnames = ls_output.stdout.decode('utf8').split()"
   ]
  },
  {
   "cell_type": "code",
   "execution_count": 3,
   "metadata": {},
   "outputs": [
    {
     "name": "stderr",
     "output_type": "stream",
     "text": [
      "/var/folders/p7/drxzchtj4yb641v79lt0tjyh0000gn/T/ipykernel_40309/2946301916.py:19: RuntimeWarning: invalid value encountered in divide\n",
      "  Pf = np.where(I>0, (Q**2+U**2)**0.5/I, np.nan)\n"
     ]
    }
   ],
   "source": [
    "force_new = True\n",
    "for fname in fnames: \n",
    "\n",
    "    #Set the rest of the filenames we will need. \n",
    "    Qfname = re.sub(\"total\",\"stokesQ\",fname)\n",
    "    Ufname = re.sub(\"total\",\"stokesU\",fname)\n",
    "    Pf_fname = re.sub(\"total\",\"Pfrac\",fname)\n",
    "    Pa_fname = re.sub(\"total\",\"Pangle\",fname)\n",
    "\n",
    "    #If the P file is already calculated, skip to the next object. \n",
    "    if os.path.exists(Pf_fname) and not force_new:\n",
    "        continue\n",
    "\n",
    "    #Open the images. \n",
    "    I = fits.getdata(fname)\n",
    "    Q = fits.getdata(Qfname)\n",
    "    U = fits.getdata(Ufname)\n",
    "\n",
    "    Pf = np.where(I>0, (Q**2+U**2)**0.5/I, np.nan)\n",
    "    fits.writeto(Pf_fname, Pf, overwrite=True)\n",
    "    Pa = np.where(np.abs(Q)>0, 0.5*np.arctan2(U,Q)*180./np.pi, np.nan)\n",
    "    fits.writeto(Pa_fname, Pa, overwrite=True)\n"
   ]
  }
 ],
 "metadata": {
  "kernelspec": {
   "display_name": "stenv",
   "language": "python",
   "name": "python3"
  },
  "language_info": {
   "codemirror_mode": {
    "name": "ipython",
    "version": 3
   },
   "file_extension": ".py",
   "mimetype": "text/x-python",
   "name": "python",
   "nbconvert_exporter": "python",
   "pygments_lexer": "ipython3",
   "version": "3.11.3"
  }
 },
 "nbformat": 4,
 "nbformat_minor": 2
}
