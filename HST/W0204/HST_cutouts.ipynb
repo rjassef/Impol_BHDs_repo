{
 "cells": [
  {
   "cell_type": "code",
   "execution_count": 1,
   "metadata": {},
   "outputs": [],
   "source": [
    "import numpy as np\n",
    "import matplotlib.pyplot as plt\n",
    "from astropy.visualization import ImageNormalize, ZScaleInterval, LinearStretch\n",
    "from astropy.io import fits\n",
    "from astropy.wcs import WCS\n",
    "from astropy.coordinates import SkyCoord\n",
    "import astropy.units as u\n",
    "from astropy.nddata import Cutout2D\n",
    "from reproject import reproject_interp"
   ]
  },
  {
   "cell_type": "code",
   "execution_count": 2,
   "metadata": {},
   "outputs": [],
   "source": [
    "f160w = fits.open(\"id1j03020_drz.fits\")\n",
    "f555w = fits.open(\"id1j03010_drc_sci.ali.fits\")\n",
    "fors2 = fits.open(\"fors2.cutout.fits\")"
   ]
  },
  {
   "cell_type": "code",
   "execution_count": 3,
   "metadata": {},
   "outputs": [],
   "source": [
    "#Read the fors2 cutout WCS\n",
    "fors2_wcs = WCS(fors2[0].header)"
   ]
  },
  {
   "cell_type": "code",
   "execution_count": 4,
   "metadata": {},
   "outputs": [],
   "source": [
    "#We'll take as a reference point the central pixel of the FORS2 cutout and its coordinates. \n",
    "ref_px = int((fors2[0].header['NAXIS1']-1)/2)\n",
    "ref_py = int((fors2[0].header['NAXIS2']-1)/2)\n",
    "ref_coords = fors2_wcs.pixel_to_world(ref_px, ref_py)"
   ]
  },
  {
   "cell_type": "code",
   "execution_count": 5,
   "metadata": {},
   "outputs": [
    {
     "name": "stderr",
     "output_type": "stream",
     "text": [
      "WARNING: FITSFixedWarning: RADECSYS= 'FK5 ' \n",
      "the RADECSYS keyword is deprecated, use RADESYSa. [astropy.wcs.wcs]\n",
      "WARNING: FITSFixedWarning: 'datfix' made the change 'Set MJD-OBS to 57546.000000 from DATE-OBS'. [astropy.wcs.wcs]\n"
     ]
    }
   ],
   "source": [
    "for band in [\"F160W\", \"F555W\"]:\n",
    "    \n",
    "    if band == \"F160W\":\n",
    "        im = f160w['SCI']\n",
    "    else:\n",
    "        im = f555w[0]\n",
    "\n",
    "    #Read the WCS\n",
    "    band_wcs = WCS(im.header)\n",
    "\n",
    "    #Get the closest pixel to the reference position from the FORS2 cutout, and get its coordinates. These are the reference points we will use for the new WCS. \n",
    "    px, py = band_wcs.world_to_pixel(ref_coords)\n",
    "    px = int(np.round(px,0))\n",
    "    py = int(np.round(py,0))\n",
    "    cen_coords = band_wcs.pixel_to_world(px,py)    \n",
    "\n",
    "    #Set up the new header WCS with the updated reference points and rotated so that North is up. \n",
    "    test_header = band_wcs.to_header()\n",
    "    test_header['PC1_1'] = -band_wcs.proj_plane_pixel_scales()[0].value\n",
    "    test_header['PC1_2'] = 0.\n",
    "    test_header['PC2_1'] = 0.\n",
    "    test_header['PC2_2'] = band_wcs.proj_plane_pixel_scales()[0].value\n",
    "    test_header['CRVAL1'] = cen_coords.ra.deg\n",
    "    test_header['CRVAL2'] = cen_coords.dec.deg\n",
    "    test_header['CRPIX1'] = px+1\n",
    "    test_header['CRPIX2'] = py+1\n",
    "    test_wcs = WCS(test_header)\n",
    "\n",
    "    #Reproject the image onto the new WCS.\n",
    "    im_rep, footprint = reproject_interp(im, test_wcs, shape_out=im.data.shape)\n",
    "    fits.writeto(\"{}.reproj.fits\".format(band), im_rep, header=test_header, overwrite=True)\n",
    "\n",
    "    #Finally, make the cutout matched in angular size and center to the FORS2 one. \n",
    "    dy, dx = fors2[0].data.shape\n",
    "    dx_band_cutout = dx * fors2_wcs.proj_plane_pixel_scales()[0]/test_wcs.proj_plane_pixel_scales()[0]\n",
    "    dy_band_cutout = dy * fors2_wcs.proj_plane_pixel_scales()[1]/test_wcs.proj_plane_pixel_scales()[1]\n",
    "    dx_band_cutout = int(np.round(dx_band_cutout,0))\n",
    "    dy_band_cutout = int(np.round(dy_band_cutout,0))\n",
    "    band_cutout = Cutout2D(im_rep, cen_coords, (dy_band_cutout, dx_band_cutout), wcs=test_wcs)\n",
    "    fits.writeto(\"{}.cutout.fits\".format(band),band_cutout.data, header=band_cutout.wcs.to_header() ,overwrite=True)\n",
    "    "
   ]
  }
 ],
 "metadata": {
  "kernelspec": {
   "display_name": "stenv",
   "language": "python",
   "name": "python3"
  },
  "language_info": {
   "codemirror_mode": {
    "name": "ipython",
    "version": 3
   },
   "file_extension": ".py",
   "mimetype": "text/x-python",
   "name": "python",
   "nbconvert_exporter": "python",
   "pygments_lexer": "ipython3",
   "version": "3.11.3"
  }
 },
 "nbformat": 4,
 "nbformat_minor": 2
}
