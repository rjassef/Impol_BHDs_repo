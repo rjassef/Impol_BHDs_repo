{
 "cells": [
  {
   "cell_type": "code",
   "execution_count": 1,
   "metadata": {},
   "outputs": [],
   "source": [
    "import numpy as np\n",
    "from astropy.io import fits\n",
    "from astropy.wcs import WCS, utils\n",
    "import astropy.coordinates as coo\n",
    "import astroalign as aa\n",
    "from astropy.nddata import Cutout2D\n",
    "from reproject import reproject_interp\n",
    "\n",
    "import subprocess\n",
    "import os\n",
    "import sys\n",
    "sys.path.append(\"../../Resolved_Polarization_v3\")\n",
    "sys.path.append(\"../../analysis_v3\")\n",
    "from resolved_pol import ResolvedPol"
   ]
  },
  {
   "cell_type": "code",
   "execution_count": 2,
   "metadata": {},
   "outputs": [],
   "source": [
    "#Load the image with the worse seeing from W0204, as everything is being matched to it. \n",
    "fors2_im = fits.open(\"../../analysis_v3/bkg/science_reduced_img.W0204-0506.60209.R_SPECIAL.chip1.3.bkg.fits\")\n",
    "emask = fits.getdata(\"../../analysis_v3/masks/science_reduced_img.W0204-0506.60209.R_SPECIAL.chip1.3.emask.fits\",dtype=bool)"
   ]
  },
  {
   "cell_type": "code",
   "execution_count": 3,
   "metadata": {},
   "outputs": [],
   "source": [
    "#Load the F160W and F555W images which are already aligned to each other.\n",
    "f555w = fits.open(\"id1j03010_drc_sci.ali.fits\")\n",
    "f160w = fits.open(\"id1j03020_drz.fits\")"
   ]
  },
  {
   "cell_type": "code",
   "execution_count": 4,
   "metadata": {},
   "outputs": [],
   "source": [
    "#It is too difficult to do this automatically, so we'll just use a few stars we have selected by hand. The centroids are eye-balled, so this can certainly be improved.\n",
    "data = np.loadtxt(\"stars.txt\")\n",
    "f160w_pix = list()\n",
    "fors2_pix = list()\n",
    "for i in range(len(data)):\n",
    "    f160w_pix.append((data[i,0]-1, data[i,1]-1))\n",
    "    fors2_pix.append((data[i,2]-1, data[i,3]-1))\n",
    "f160w_pix = np.array(f160w_pix)\n",
    "fors2_pix = np.array(fors2_pix)"
   ]
  },
  {
   "cell_type": "code",
   "execution_count": 5,
   "metadata": {},
   "outputs": [
    {
     "name": "stdout",
     "output_type": "stream",
     "text": [
      "<SkyCoord (ICRS): (ra, dec) in deg\n",
      "    [(31.17419654, -5.11344987), (31.18740103, -5.10076933),\n",
      "     (31.19265921, -5.11263911)]>\n"
     ]
    }
   ],
   "source": [
    "#Now, get the WCS coordinates of the stars using the F160W image WCS. \n",
    "wcs_f160w = WCS(f160w['SCI'].header)\n",
    "f160w_sky = wcs_f160w.pixel_to_world(f160w_pix[:,0], f160w_pix[:,1])\n",
    "print(f160w_sky)"
   ]
  },
  {
   "cell_type": "code",
   "execution_count": 6,
   "metadata": {},
   "outputs": [],
   "source": [
    "#Now, let's determine the WCS of the FORS2 image. \n",
    "fors2_wcs = utils.fit_wcs_from_points((fors2_pix[:,0], fors2_pix[:,1]), f160w_sky)"
   ]
  },
  {
   "cell_type": "code",
   "execution_count": 7,
   "metadata": {},
   "outputs": [],
   "source": [
    "#The thing we know, however, is that the original image has north pointing directly up, since we know the WCS of the unprocessed image. Let's use that rotation matrix instead, we just need to shift the center. \n",
    "raw_fors2_header = fits.getheader(\"../../proc/W0204-0506/60209/IMAGE/CHIP1/R_SPECIAL/FORS2.2023-09-22T07:18:53.988.fits\")\n"
   ]
  },
  {
   "cell_type": "code",
   "execution_count": 8,
   "metadata": {},
   "outputs": [],
   "source": [
    "#Update the header\n",
    "fors2_wcs_header = fors2_wcs.to_header()\n",
    "for i in range(2):\n",
    "    for j in range(2):\n",
    "        fors2_wcs_header['PC{}_{}'.format(i+1,j+1)] = raw_fors2_header['CD{}_{}'.format(i+1,j+1)]\n",
    "fors2_im[0].header.update(fors2_wcs_header)\n",
    "fors2_wcs = WCS(fors2_wcs_header)"
   ]
  },
  {
   "cell_type": "code",
   "execution_count": 9,
   "metadata": {},
   "outputs": [],
   "source": [
    "fits.writeto(\"W0204-0506.FORS2.ebeam.fits\",np.where(emask, np.nan, fors2_im[0].data), header=fors2_im[0].header, overwrite=True)"
   ]
  },
  {
   "cell_type": "code",
   "execution_count": 10,
   "metadata": {},
   "outputs": [
    {
     "name": "stderr",
     "output_type": "stream",
     "text": [
      "mkdir: work: File exists\n"
     ]
    }
   ],
   "source": [
    "#So now we need to call the ResolvedPol object just to match exactly the default stamp size used. \n",
    "bhd = ResolvedPol(\"W0204-0506\", \"R_SPECIAL\", star_coords=(1086.5, 222.5), root_folder=os.getcwd()+\"/../../analysis_v3\")\n",
    "_ = subprocess.call(\"rm -r work stamps\", shell=True)"
   ]
  },
  {
   "cell_type": "code",
   "execution_count": 11,
   "metadata": {},
   "outputs": [],
   "source": [
    "#Using the wcs of each object, we'll figure out the coordinate positions of the edges and match the cutout. \n",
    "xc = 0.5*(bhd.ix1_z + bhd.ix2_z-1)\n",
    "yc = 0.5*(bhd.iy1_z + bhd.iy2_z-1)\n",
    "dx = bhd.ix2_z-1 - bhd.ix1_z\n",
    "dy = bhd.iy2_z-1 - bhd.iy1_z\n",
    "fors2_cutout = Cutout2D(fors2_im[0].data, (xc, yc), (dy, dx), wcs=fors2_wcs)\n",
    "fits.writeto(\"fors2.cutout.fits\",fors2_cutout.data, header=fors2_cutout.wcs.to_header() ,overwrite=True)"
   ]
  },
  {
   "cell_type": "code",
   "execution_count": 12,
   "metadata": {},
   "outputs": [],
   "source": [
    "c_f160w_cutout = fors2_wcs.pixel_to_world(xc, yc)\n",
    "dx_f160w_cutout = dx * fors2_wcs.proj_plane_pixel_scales()[0]/wcs_f160w.proj_plane_pixel_scales()[0]\n",
    "dy_f160w_cutout = dy * fors2_wcs.proj_plane_pixel_scales()[1]/wcs_f160w.proj_plane_pixel_scales()[1]\n",
    "dx_f160w_cutout = int(np.round(dx_f160w_cutout,0))\n",
    "dy_f160w_cutout = int(np.round(dy_f160w_cutout,0))\n",
    "f160w_cutout = Cutout2D(f160w['SCI'].data, c_f160w_cutout, (dy_f160w_cutout, dx_f160w_cutout), wcs=wcs_f160w)\n",
    "fits.writeto(\"f160w.cutout.fits\",f160w_cutout.data, header=f160w_cutout.wcs.to_header() ,overwrite=True)"
   ]
  },
  {
   "cell_type": "code",
   "execution_count": 13,
   "metadata": {},
   "outputs": [
    {
     "name": "stderr",
     "output_type": "stream",
     "text": [
      "WARNING: FITSFixedWarning: RADECSYS= 'FK5 ' \n",
      "the RADECSYS keyword is deprecated, use RADESYSa. [astropy.wcs.wcs]\n",
      "WARNING: FITSFixedWarning: 'datfix' made the change 'Set MJD-OBS to 57546.000000 from DATE-OBS'. [astropy.wcs.wcs]\n"
     ]
    }
   ],
   "source": [
    "wcs_f555w = WCS(f555w[0].header)\n",
    "c_f555w_cutout = fors2_wcs.pixel_to_world(xc, yc)\n",
    "dx_f555w_cutout = dx * fors2_wcs.proj_plane_pixel_scales()[0]/wcs_f555w.proj_plane_pixel_scales()[0]\n",
    "dy_f555w_cutout = dy * fors2_wcs.proj_plane_pixel_scales()[1]/wcs_f555w.proj_plane_pixel_scales()[1]\n",
    "dx_f555w_cutout = int(np.round(dx_f555w_cutout,0))\n",
    "dy_f555w_cutout = int(np.round(dy_f555w_cutout,0))\n",
    "f555w_cutout = Cutout2D(f555w[0].data, c_f555w_cutout, (dy_f555w_cutout, dx_f555w_cutout), wcs=wcs_f555w)\n",
    "fits.writeto(\"f555w.cutout.fits\",f555w_cutout.data, header=f555w_cutout.wcs.to_header() ,overwrite=True)"
   ]
  }
 ],
 "metadata": {
  "kernelspec": {
   "display_name": "stenv",
   "language": "python",
   "name": "python3"
  },
  "language_info": {
   "codemirror_mode": {
    "name": "ipython",
    "version": 3
   },
   "file_extension": ".py",
   "mimetype": "text/x-python",
   "name": "python",
   "nbconvert_exporter": "python",
   "pygments_lexer": "ipython3",
   "version": "3.11.3"
  }
 },
 "nbformat": 4,
 "nbformat_minor": 2
}
