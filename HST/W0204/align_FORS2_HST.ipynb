{
 "cells": [
  {
   "cell_type": "code",
   "execution_count": 1,
   "metadata": {},
   "outputs": [],
   "source": [
    "import numpy as np\n",
    "from astropy.io import fits\n",
    "from astropy.wcs import WCS\n",
    "import astroalign as aa\n",
    "\n",
    "import subprocess\n",
    "import os\n",
    "import sys\n",
    "sys.path.append(\"../../Resolved_Polarization_v3\")\n",
    "sys.path.append(\"../../analysis_v3\")\n",
    "from resolved_pol import ResolvedPol"
   ]
  },
  {
   "cell_type": "code",
   "execution_count": 2,
   "metadata": {},
   "outputs": [],
   "source": [
    "#Load the image with the worse seeing from W0204, as everything is being matched to it. \n",
    "fors2_im = fits.open(\"../../analysis_v3/crz/science_reduced_img.W0204-0506.60209.R_SPECIAL.chip1.3.crz.fits\")\n",
    "emask = fits.getdata(\"../../analysis_v3/masks/science_reduced_img.W0204-0506.60209.R_SPECIAL.chip1.3.emask.fits\",dtype=bool)"
   ]
  },
  {
   "cell_type": "code",
   "execution_count": 3,
   "metadata": {},
   "outputs": [],
   "source": [
    "fits.writeto(\"W0204-0506.FORS2.ebeam.fits\",np.where(emask, np.nan, fors2_im[0].data), overwrite=True)"
   ]
  },
  {
   "cell_type": "code",
   "execution_count": 4,
   "metadata": {},
   "outputs": [],
   "source": [
    "#Load the F160W and F555W images which are already aligned to each other.\n",
    "f555w = fits.open(\"id1j03010_drc_sci.ali.smoothed.fits\")\n",
    "f160w = fits.open(\"id1j03020_drz.fits\")"
   ]
  },
  {
   "cell_type": "code",
   "execution_count": 5,
   "metadata": {},
   "outputs": [],
   "source": [
    "#It is too difficult to do this automatically, so we'll just use a few stars we have selected by hand. The centroids are eye-balled, so this can certainly be improved.\n",
    "data = np.loadtxt(\"stars.txt\")\n",
    "src_f160w = list()\n",
    "dst = list()\n",
    "for i in range(len(data)):\n",
    "    src_f160w.append((data[i,0]-1, data[i,1]-1))\n",
    "    dst.append((data[i,2]-1, data[i,3]-1))\n",
    "src_f160w = np.array(src_f160w)\n",
    "dst = np.array(dst)"
   ]
  },
  {
   "cell_type": "code",
   "execution_count": 6,
   "metadata": {},
   "outputs": [
    {
     "name": "stderr",
     "output_type": "stream",
     "text": [
      "WARNING: FITSFixedWarning: RADECSYS= 'FK5 ' \n",
      "the RADECSYS keyword is deprecated, use RADESYSa. [astropy.wcs.wcs]\n",
      "WARNING: FITSFixedWarning: 'datfix' made the change 'Set MJD-OBS to 57546.000000 from DATE-OBS'. [astropy.wcs.wcs]\n"
     ]
    }
   ],
   "source": [
    "#Now, we need to get the pixel positions in the F555W image, which has a different number of pixels than the F160W image. \n",
    "WCS_F160W = WCS(f160w['SCI'].header)\n",
    "WCS_F555W = WCS(f555w[0].header)\n",
    "src_f555w = list()\n",
    "for i in range(len(src_f160w)):\n",
    "    sky = WCS_F160W.pixel_to_world(src_f160w[i][0], src_f160w[i][1])\n",
    "    x, y = WCS_F555W.world_to_pixel(sky)\n",
    "    src_f555w.append((x,y))\n",
    "src_f555w = np.array(src_f555w)"
   ]
  },
  {
   "cell_type": "code",
   "execution_count": 7,
   "metadata": {},
   "outputs": [],
   "source": [
    "#Run astroalign to match the hst image to the fors2 image using the calculated transformation.\n",
    "target_masked = np.ma.array(fors2_im[0].data, mask=emask)\n",
    "target_masked = target_masked.byteswap().newbyteorder()\n",
    "\n",
    "#F160W\n",
    "source = f160w['SCI'].data\n",
    "source = source.byteswap().newbyteorder()\n",
    "tform = aa.estimate_transform('affine',src_f160w,dst)\n",
    "registered_f160w, footprint = aa.apply_transform(tform, source, target_masked)\n",
    "\n",
    "#F555W\n",
    "source = f555w[0].data\n",
    "source = source.byteswap().newbyteorder()\n",
    "tform = aa.estimate_transform('affine',src_f555w,dst)\n",
    "registered_f555w, footprint = aa.apply_transform(tform, source, target_masked)"
   ]
  },
  {
   "cell_type": "code",
   "execution_count": 8,
   "metadata": {},
   "outputs": [
    {
     "name": "stderr",
     "output_type": "stream",
     "text": [
      "mkdir: work: File exists\n"
     ]
    }
   ],
   "source": [
    "#So now we need to call the ResolvedPol object just to match exactly the default stamp size used. \n",
    "bhd = ResolvedPol(\"W0204-0506\", \"R_SPECIAL\", star_coords=(1086.5, 222.5), root_folder=os.getcwd()+\"/../../analysis_v3\")\n",
    "_ = subprocess.call(\"rm -r work stamps\", shell=True)"
   ]
  },
  {
   "cell_type": "code",
   "execution_count": 9,
   "metadata": {},
   "outputs": [],
   "source": [
    "#Make the stamps. \n",
    "f555w_stamp = registered_f555w[bhd.iy1_z:bhd.iy2_z, bhd.ix1_z:bhd.ix2_z]\n",
    "f160w_stamp = registered_f160w[bhd.iy1_z:bhd.iy2_z, bhd.ix1_z:bhd.ix2_z]"
   ]
  },
  {
   "cell_type": "code",
   "execution_count": 10,
   "metadata": {},
   "outputs": [],
   "source": [
    "fits.writeto(\"f555w.stamp.fits\", f555w_stamp, overwrite=True)\n",
    "fits.writeto(\"f160w.stamp.fits\", f160w_stamp, overwrite=True)"
   ]
  }
 ],
 "metadata": {
  "kernelspec": {
   "display_name": "stenv",
   "language": "python",
   "name": "python3"
  },
  "language_info": {
   "codemirror_mode": {
    "name": "ipython",
    "version": 3
   },
   "file_extension": ".py",
   "mimetype": "text/x-python",
   "name": "python",
   "nbconvert_exporter": "python",
   "pygments_lexer": "ipython3",
   "version": "3.11.3"
  }
 },
 "nbformat": 4,
 "nbformat_minor": 2
}
