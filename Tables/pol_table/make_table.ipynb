{
 "cells": [
  {
   "cell_type": "code",
   "execution_count": 1,
   "metadata": {},
   "outputs": [],
   "source": [
    "import numpy as np\n",
    "from astropy.table import Table, vstack, hstack"
   ]
  },
  {
   "cell_type": "code",
   "execution_count": 2,
   "metadata": {},
   "outputs": [],
   "source": [
    "#Read the full log. \n",
    "log = Table.read(\"../../proc/log.fits\")"
   ]
  },
  {
   "cell_type": "code",
   "execution_count": 3,
   "metadata": {},
   "outputs": [],
   "source": [
    "#Separate between Hot DOGs and calibrators, as we want first all Hot DOGs and then the calibrators.\n",
    "cond = log['Program_ID']==\"60.A-9203(E)\"\n",
    "hds = log[~cond]\n",
    "cals = log[cond]"
   ]
  },
  {
   "cell_type": "code",
   "execution_count": 4,
   "metadata": {},
   "outputs": [],
   "source": [
    "#Put the target names in order. First Hot DOGs, then Cal Stars and then Zero Pol stars. As all zero pol stars have names starting WD, cals is already arange in the proper way. \n",
    "targs = np.concatenate([np.unique(hds['Target'].astype(str)), np.unique(cals['Target'].astype(str))])"
   ]
  },
  {
   "cell_type": "code",
   "execution_count": 5,
   "metadata": {},
   "outputs": [],
   "source": [
    "#Main cycle.\n",
    "for i, targ in enumerate(targs):\n",
    "    for j, filt in enumerate(np.unique(log['Filter'][log['Target']==targ])):\n",
    "        pcat_name = \"../../analysis/{}_pol_{}.dat\".format(targ,filt)\n",
    "        pcat = Table.read(pcat_name,format='ascii')\n",
    "        #Make sure the first column is a string\n",
    "        if pcat['col1'].dtype == \"int64\":\n",
    "            pcat['col1'] = pcat['col1'].astype(str)\n",
    "        #Not all tables have col6 (mean MJD)\n",
    "        if 'col6' in pcat.colnames:\n",
    "            pcat.remove_column('col6')\n",
    "        #Add the WISE ID and filter name. \n",
    "        pcat = hstack([[targ]*len(pcat), [filt]*len(pcat), pcat])\n",
    "        #If first iteration, create the table.\n",
    "        if i==0 and j==0:\n",
    "            final_table = pcat\n",
    "        else:\n",
    "            #Concatenate.\n",
    "            final_table = vstack([final_table, pcat])"
   ]
  },
  {
   "cell_type": "code",
   "execution_count": 6,
   "metadata": {},
   "outputs": [],
   "source": [
    "#Rename the columns.\n",
    "colids = [\"Target\", \"Band\", \"OB\", \"pol\", \"dpol\", \"chi\", \"dchi\"]\n",
    "for j, col in enumerate(final_table.colnames):\n",
    "    final_table.rename_column(col, colids[j])"
   ]
  },
  {
   "cell_type": "code",
   "execution_count": 7,
   "metadata": {},
   "outputs": [],
   "source": [
    "#Transform degrees of polarization into percentages.\n",
    "final_table['pol'] *= 100.\n",
    "final_table['dpol'] *= 100."
   ]
  },
  {
   "cell_type": "code",
   "execution_count": 8,
   "metadata": {},
   "outputs": [],
   "source": [
    "#We will create two ne columns that show measurement and error for pol frac and angle. \n",
    "final_table['P'] = np.zeros(len(final_table), dtype='<U18')\n",
    "final_table['\\chi'] = np.zeros(len(final_table), '<U18')\n",
    "for i in range(len(final_table)):\n",
    "    final_table['P'][i] = \"{:.2f}$\\\\pm${:.2f}\".format(final_table['pol'][i], final_table['dpol'][i])\n",
    "    final_table['\\chi'][i] = \"{:.1f}$\\\\pm${:.1f}\".format(final_table['chi'][i], final_table['dchi'][i])"
   ]
  },
  {
   "cell_type": "code",
   "execution_count": 9,
   "metadata": {},
   "outputs": [],
   "source": [
    "#Remove unneeded columns.\n",
    "for col in ['pol', 'dpol', 'chi', 'dchi']:\n",
    "    final_table.remove_column(col)"
   ]
  },
  {
   "cell_type": "code",
   "execution_count": 10,
   "metadata": {},
   "outputs": [],
   "source": [
    "#Save the table as latex.\n",
    "final_table.write(\"pol_table_aux.tex\", format='ascii.latex', overwrite=True, formats={'Target':'%020s'})"
   ]
  },
  {
   "cell_type": "code",
   "execution_count": 11,
   "metadata": {},
   "outputs": [],
   "source": [
    "#Save the table as latex.\n",
    "final_table.write(\"pol_table_aux.txt\", format='ascii.fixed_width', overwrite=True)"
   ]
  }
 ],
 "metadata": {
  "kernelspec": {
   "display_name": "stenv",
   "language": "python",
   "name": "python3"
  },
  "language_info": {
   "codemirror_mode": {
    "name": "ipython",
    "version": 3
   },
   "file_extension": ".py",
   "mimetype": "text/x-python",
   "name": "python",
   "nbconvert_exporter": "python",
   "pygments_lexer": "ipython3",
   "version": "3.11.3"
  }
 },
 "nbformat": 4,
 "nbformat_minor": 2
}
