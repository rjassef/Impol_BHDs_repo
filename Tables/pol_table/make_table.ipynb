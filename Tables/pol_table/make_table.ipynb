{
 "cells": [
  {
   "cell_type": "code",
   "execution_count": 1,
   "metadata": {},
   "outputs": [],
   "source": [
    "import numpy as np\n",
    "import re\n",
    "import subprocess\n",
    "from astropy.table import Table, vstack"
   ]
  },
  {
   "cell_type": "code",
   "execution_count": 2,
   "metadata": {},
   "outputs": [],
   "source": [
    "#Read the full log. \n",
    "log = Table.read(\"../../proc/log.fits\")"
   ]
  },
  {
   "cell_type": "code",
   "execution_count": 3,
   "metadata": {},
   "outputs": [],
   "source": [
    "#Separate between Hot DOGs and calibrators, as we want first all Hot DOGs and then the calibrators.\n",
    "hds_cond = ~(log['Program_ID']==\"60.A-9203(E)\")\n",
    "ipol_cond  = np.zeros(len(log), dtype=bool)\n",
    "zipol_cond = np.zeros(len(log), dtype=bool)\n",
    "for i, ob_name in enumerate(log['OB_Name']):\n",
    "    if ob_name[:4]==\"Zero\":\n",
    "        zipol_cond[i] = True\n",
    "    if ob_name[:4]==\"IPOL\":\n",
    "        ipol_cond[i] = True\n",
    "hds        = log[hds_cond]\n",
    "ipol_cals  = log[ipol_cond]\n",
    "zipol_cals = log[zipol_cond]\n",
    "cals = vstack([ipol_cals, zipol_cals])"
   ]
  },
  {
   "cell_type": "code",
   "execution_count": 4,
   "metadata": {},
   "outputs": [],
   "source": [
    "#Put the target names in order. First Hot DOGs, then Cal Stars and then Zero Pol stars. As all zero pol stars have names starting WD, cals is already arange in the proper way. \n",
    "targs = np.concatenate([np.unique(hds['Target'].astype(str)), np.unique(cals['Target'].astype(str))])"
   ]
  },
  {
   "cell_type": "code",
   "execution_count": 5,
   "metadata": {},
   "outputs": [],
   "source": [
    "#Main cycle. \n",
    "aux = open(\"aux.txt\",\"w\")\n",
    "aux.write(\"Target,Band,OB,pfrac,epfrac,chi,echi\\n\")\n",
    "for i, targ in enumerate(targs):\n",
    "    for j, filt in enumerate(np.unique(log['Filter'][log['Target']==targ])):\n",
    "        pcat_name = \"../../analysis_v2/{}_pol_{}.dat\".format(targ,filt)\n",
    "        try:\n",
    "            cat = open(pcat_name)\n",
    "        except FileNotFoundError:\n",
    "            continue\n",
    "        for k, line in enumerate(cat.readlines()):\n",
    "            line = re.sub(\"All\",\"Combined\",line)\n",
    "            x = line.split()\n",
    "            if len(x)>9:\n",
    "                continue\n",
    "            x[:7] = [float(ix) for ix in x[:7]]\n",
    "            row =  [targ, filt]+[x[i] for i in [7,0,1,2,3]]\n",
    "            for ir, r in enumerate(row):\n",
    "                if ir>0:\n",
    "                    aux.write(\",\")\n",
    "                aux.write(\"{}\".format(r))\n",
    "            aux.write(\"\\n\")\n",
    "aux.close()\n"
   ]
  },
  {
   "cell_type": "code",
   "execution_count": 6,
   "metadata": {},
   "outputs": [
    {
     "data": {
      "text/plain": [
       "0"
      ]
     },
     "execution_count": 6,
     "metadata": {},
     "output_type": "execute_result"
    }
   ],
   "source": [
    "tab = Table.read(\"aux.txt\",format='ascii.csv')\n",
    "subprocess.call(\"rm aux.txt\",shell=True)"
   ]
  },
  {
   "cell_type": "code",
   "execution_count": 7,
   "metadata": {},
   "outputs": [],
   "source": [
    "#We will create two ne columns that show measurement and error for pol frac and angle. \n",
    "tab['P'] = np.zeros(len(tab), dtype='<U18')\n",
    "tab['\\chi'] = np.zeros(len(tab), '<U18')\n",
    "for i in range(len(tab)):\n",
    "    tab['P'][i] = \"{:.2f}$\\\\pm${:.2f}\".format(tab['pfrac'][i], tab['epfrac'][i])\n",
    "    tab['\\chi'][i] = \"{:.1f}$\\\\pm${:.1f}\".format(tab['chi'][i], tab['echi'][i])\n",
    "tab['P'].unit = \"(%)\"\n",
    "tab['\\chi'].unit = \"(deg)\""
   ]
  },
  {
   "cell_type": "code",
   "execution_count": 8,
   "metadata": {},
   "outputs": [],
   "source": [
    "#Remove unneeded columns.\n",
    "for col in ['pfrac', 'epfrac', 'chi', 'echi']:\n",
    "    tab.remove_column(col)"
   ]
  },
  {
   "cell_type": "code",
   "execution_count": 9,
   "metadata": {},
   "outputs": [],
   "source": [
    "filt_name_dict = {\n",
    "    \"R_SPECIAL\": \"$R_{\\\\rm Special}$\",\n",
    "    \"I_BESS\": \"$I_{\\\\rm Bessel}$\",\n",
    "    \"v_HIGH\": \"$v_{\\\\rm High}$\"\n",
    "}\n",
    "\n",
    "def add_lines(tab, cato):\n",
    "    for i in range(len(tab)):\n",
    "        #Indent\n",
    "        cato.write(\"{:8s}\".format(\"\"))\n",
    "\n",
    "        #Target\n",
    "        targ_name = \"\"\n",
    "        if i==0 or tab['Target'][i]!=tab['Target'][i-1]:\n",
    "            targ_name = re.sub(\"-\",\"--\",tab['Target'][i])\n",
    "        cato.write(\"{:12s} &\".format(targ_name))\n",
    "\n",
    "        #Filter\n",
    "        filt_name = \"\"\n",
    "        if i==0 or tab['Target'][i]!=tab['Target'][i-1] or tab['Band'][i]!=tab['Band'][i-1]:\n",
    "            filt_name = filt_name_dict[tab['Band'][i]]\n",
    "        cato.write(\" {:17s} &\".format(filt_name))\n",
    "\n",
    "        #OB\n",
    "        cato.write(\" {:9} &\".format(tab['OB'][i]))\n",
    "\n",
    "        #Pol frac and Error\n",
    "        pol_val = tab['P'][i]\n",
    "        if float(tab['P'][i].split(\"$\")[0])<10.:\n",
    "            pol_val = \"\\phantom{0}\"+pol_val\n",
    "        cato.write(\" {:>24} &\".format(pol_val))\n",
    "\n",
    "        #Pol angle and Error\n",
    "        pang_val = tab['\\chi'][i]\n",
    "        if float(tab['\\chi'][i].split(\"$\")[0])<100.:\n",
    "            pang_val = \"\\phantom{0}\"+pang_val\n",
    "        cato.write(\" {:>23} \\\\\\\\\".format(pang_val))\n",
    "\n",
    "        #End the line.\n",
    "        cato.write(\"\\n\")\n",
    "    return"
   ]
  },
  {
   "cell_type": "code",
   "execution_count": 10,
   "metadata": {},
   "outputs": [],
   "source": [
    "#Now, go and edit the table. \n",
    "temp = open(\"template.tex\")\n",
    "cato = open(\"pol_table.tex\",\"w\")\n",
    "for line in temp:\n",
    "    if re.search(\"INSERT_\",line):\n",
    "        x = line.split()\n",
    "        if x[0][7:]==\"BHDS\":\n",
    "            aux_tab = tab[np.isin(tab['Target'], hds['Target'])]\n",
    "        elif x[0][7:]==\"POLSTDS\":\n",
    "            aux_tab = tab[np.isin(tab['Target'], ipol_cals['Target'])]\n",
    "        elif x[0][7:]==\"ZPOLSTDS\":\n",
    "            aux_tab = tab[np.isin(tab['Target'], zipol_cals['Target'])]\n",
    "        else:\n",
    "            print(\"Wrong object type in template.\")\n",
    "            continue\n",
    "        add_lines(aux_tab, cato)\n",
    "        continue\n",
    "    cato.write(line)\n",
    "cato.close()\n"
   ]
  }
 ],
 "metadata": {
  "kernelspec": {
   "display_name": "stenv",
   "language": "python",
   "name": "python3"
  },
  "language_info": {
   "codemirror_mode": {
    "name": "ipython",
    "version": 3
   },
   "file_extension": ".py",
   "mimetype": "text/x-python",
   "name": "python",
   "nbconvert_exporter": "python",
   "pygments_lexer": "ipython3",
   "version": "3.11.3"
  }
 },
 "nbformat": 4,
 "nbformat_minor": 2
}
