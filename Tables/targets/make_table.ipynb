{
 "cells": [
  {
   "cell_type": "code",
   "execution_count": 1,
   "metadata": {},
   "outputs": [],
   "source": [
    "import numpy as np \n",
    "import re\n",
    "from scipy.interpolate import CubicSpline\n",
    "from astropy.table import Table\n",
    "import astropy.units as u\n",
    "from astropy.cosmology import FlatLambdaCDM\n",
    "from astropy.constants import c\n",
    "from astropy.coordinates import SkyCoord\n",
    "import matplotlib.pyplot as plt"
   ]
  },
  {
   "cell_type": "code",
   "execution_count": 2,
   "metadata": {},
   "outputs": [],
   "source": [
    "cosmo = FlatLambdaCDM(H0=70, Om0=0.3)"
   ]
  },
  {
   "cell_type": "code",
   "execution_count": 3,
   "metadata": {},
   "outputs": [],
   "source": [
    "#Read all the files from the SED modeling. \n",
    "folder = \"../../SED_Modeling\"\n",
    "\n",
    "#Band information\n",
    "bands = Table.read(\"{}/bandmag.dat\".format(folder), format='ascii')\n",
    "for i, hn in enumerate(['bname', 'bcal', 'jyzero']):\n",
    "    bands.rename_column(\"col{}\".format(i+1), hn)\n",
    "bands['bname'][-2] = \"g_misc\"\n",
    "bands['bname'][-1] = \"r_misc\"\n",
    "\n",
    "#SED model parameters\n",
    "d20 = Table.read(\"{}/double.20\".format(folder), format='ascii')\n",
    "for i, hn in enumerate(['i', 'redshift', 'chi2', 'vec1', 'vec2', 'vec3', 'vec4', 'vec5']):\n",
    "    d20.rename_column(\"col{}\".format(i+1), hn)\n",
    "d22 = Table.read(\"{}/double.22\".format(folder), format='ascii')\n",
    "for i, hn in enumerate(['i', 'ebv1', 'ebv2', 'igm', 'wid']):\n",
    "    d22.rename_column(\"col{}\".format(i+1), hn)\n",
    "\n",
    "#The Pran probs\n",
    "pran = dict()\n",
    "cat = open(\"{}/f_stat/comp.sort\".format(folder))\n",
    "for line in cat:\n",
    "    x = line.split()\n",
    "    pran[x[0]] = float(x[-1])"
   ]
  },
  {
   "cell_type": "code",
   "execution_count": 4,
   "metadata": {},
   "outputs": [],
   "source": [
    "#Get the errors. \n",
    "mc_d20 = Table.read(\"{}/MC/double.20\".format(folder), format='ascii')\n",
    "for i, hn in enumerate(['i', 'redshift', 'chi2', 'vec1', 'vec2', 'vec3', 'vec4', 'vec5']):\n",
    "    mc_d20.rename_column(\"col{}\".format(i+1), hn)\n",
    "\n",
    "mc_d22 = Table.read(\"{}/MC/double.22\".format(folder), format='ascii')\n",
    "for i, hn in enumerate(['i', 'ebv1', 'ebv2', 'igm']):\n",
    "    mc_d22.rename_column(\"col{}\".format(i+1), hn)\n",
    "\n",
    "nrep = int(len(mc_d20)/len(d20))\n",
    "probs = np.array([68.3, 95.4, 99.7])\n",
    "intervals = np.concatenate([50-probs/2., 50+probs/2.])\n",
    "for col in ['vec1', 'vec5']:\n",
    "    for j in range(3):\n",
    "        d20[col+'_l{}'.format(j+1)] = 0.\n",
    "        d20[col+'_u{}'.format(j+1)] = 0.\n",
    "    for i in range(len(d20)):\n",
    "        aux = np.percentile(mc_d20[col][i*nrep:(i+1)*nrep], intervals)\n",
    "        for j in range(3):\n",
    "            d20[col+'_l{}'.format(j+1)][i] = d20[col][i] - aux[j]\n",
    "            d20[col+'_u{}'.format(j+1)][i] = aux[j+3] - d20[col][i]\n",
    "\n",
    "for col in ['ebv1', 'ebv2']:\n",
    "    for j in range(3):\n",
    "        d22[col+'_l{}'.format(j+1)] = 0.\n",
    "        d22[col+'_u{}'.format(j+1)] = 0.\n",
    "    for i in range(len(d22)):\n",
    "        aux = np.percentile(mc_d22[col][i*nrep:(i+1)*nrep], intervals)\n",
    "        for j in range(3):\n",
    "            d22[col+'_l{}'.format(j+1)][i] = d22[col][i] - aux[j]\n",
    "            d22[col+'_u{}'.format(j+1)][i] = aux[j+3] - d22[col][i]\n",
    "\n",
    "\n",
    "# for col in ['evec1_u', 'evec1_l', 'evec5_u', 'evec5_l']:\n",
    "#     d20[col] = 0.0\n",
    "# for col in ['ebv1_u', 'ebv1_l', 'ebv2_u', 'ebv2_l']:\n",
    "#     d22[col] = 0.0\n",
    "\n",
    "# nrep = int(len(mc_d20)/len(d20))\n",
    "# print(nrep)\n",
    "# for i in range(len(d20)):\n",
    "#     d20['evec1_u'][i] = np.percentile(mc_d20['vec1'][i*nrep:(i+1)*nrep], 50.+68.3/2)\n",
    "#     d20['evec1_l'][i] = np.percentile(mc_d20['vec1'][i*nrep:(i+1)*nrep], 50.-68.3/2)\n",
    "#     d20['evec5_u'][i] = np.percentile(mc_d20['vec5'][i*nrep:(i+1)*nrep], 50.+68.3/2)\n",
    "#     d20['evec5_l'][i] = np.percentile(mc_d20['vec5'][i*nrep:(i+1)*nrep], 50.-68.3/2)\n",
    "#     d22['ebv1_u'][i]  = np.percentile(mc_d22['ebv1'][i*nrep:(i+1)*nrep], 50.+68.3/2)\n",
    "#     d22['ebv1_l'][i]  = np.percentile(mc_d22['ebv1'][i*nrep:(i+1)*nrep], 50.-68.3/2)\n",
    "#     d22['ebv2_u'][i]  = np.percentile(mc_d22['ebv2'][i*nrep:(i+1)*nrep], 50.+68.3/2)\n",
    "#     d22['ebv2_l'][i]  = np.percentile(mc_d22['ebv2'][i*nrep:(i+1)*nrep], 50.-68.3/2)\n",
    "\n",
    "# d20['evec1_u'] = d20['evec1_u'] - d20['vec1']\n",
    "# d20['evec1_l'] = d20['vec1'] - d20['evec1_l']\n",
    "# d20['evec5_u'] = d20['evec5_u'] - d20['vec5']\n",
    "# d20['evec5_l'] = d20['vec5'] - d20['evec5_l']\n",
    "# d22['ebv1_u']  = d22['ebv1_u'] - d22['ebv1']\n",
    "# d22['ebv1_l']  = d22['ebv1'] - d22['ebv1_l']\n",
    "# d22['ebv2_u']  = d22['ebv2_u'] - d22['ebv2']\n",
    "# d22['ebv2_l']  = d22['ebv2'] - d22['ebv2_l']\n"
   ]
  },
  {
   "cell_type": "code",
   "execution_count": 5,
   "metadata": {},
   "outputs": [
    {
     "data": {
      "text/html": [
       "<i>Table length=5</i>\n",
       "<table id=\"table6056233104-189947\" class=\"table-striped table-bordered table-condensed\">\n",
       "<thead><tr><th>idx</th><th>i</th><th>ebv1</th><th>ebv2</th><th>igm</th><th>wid</th><th>ebv1_l1</th><th>ebv1_u1</th><th>ebv1_l2</th><th>ebv1_u2</th><th>ebv1_l3</th><th>ebv1_u3</th><th>ebv2_l1</th><th>ebv2_u1</th><th>ebv2_l2</th><th>ebv2_u2</th><th>ebv2_l3</th><th>ebv2_u3</th></tr></thead>\n",
       "<tr><td>0</td><td>1</td><td>5.011872</td><td>0.03162278</td><td>1.4</td><td>W0019-1046</td><td>0.17481897550000003</td><td>0.3859552284999994</td><td>0.5645996330000003</td><td>0.6798098489999997</td><td>1.0308000000000002</td><td>1.1205602204999972</td><td>0.03162278</td><td>0.04781004</td><td>0.03162278</td><td>0.06837722</td><td>0.03162278</td><td>0.06837722</td></tr>\n",
       "<tr><td>1</td><td>2</td><td>4.323613</td><td>0.0</td><td>0.4451524</td><td>W0116-0505</td><td>0.8971678034999999</td><td>1.3336057595000002</td><td>1.481822868</td><td>3.621427833000002</td><td>1.8117269999999999</td><td>5.676387</td><td>0.0</td><td>0.0</td><td>0.0</td><td>0.01258925</td><td>0.0</td><td>0.025312945514999987</td></tr>\n",
       "<tr><td>2</td><td>3</td><td>10.0</td><td>0.1</td><td>0.0</td><td>W0204-0506</td><td>2.5524693459999996</td><td>0.9504600649999997</td><td>3.6904269999999997</td><td>3.0247805700000026</td><td>3.830915861000001</td><td>5.182598579999999</td><td>0.08004738</td><td>0.0</td><td>0.1</td><td>0.0</td><td>0.1</td><td>0.0</td></tr>\n",
       "<tr><td>3</td><td>4</td><td>7.570073</td><td>0.0</td><td>0.3727581</td><td>W0220+0137</td><td>1.1282074739999999</td><td>0.8158223910000002</td><td>1.5841577650000014</td><td>1.7900650150000006</td><td>2.5582009999999995</td><td>2.441922879999999</td><td>0.0</td><td>0.0</td><td>0.0</td><td>0.00023000000000024558</td><td>0.0</td><td>0.014223979519999885</td></tr>\n",
       "<tr><td>4</td><td>5</td><td>3.162278</td><td>0.01584893</td><td>1.4</td><td>W0831+0140</td><td>0.0</td><td>0.4685333974999999</td><td>0.4129325890000004</td><td>0.818794</td><td>0.6503920000000001</td><td>1.2633451869999948</td><td>0.01584893</td><td>0.015773850000000002</td><td>0.01584893</td><td>0.034269789999999994</td><td>0.01584893</td><td>0.047246800000000005</td></tr>\n",
       "</table><style>table.dataTable {clear: both; width: auto !important; margin: 0 !important;}\n",
       ".dataTables_info, .dataTables_length, .dataTables_filter, .dataTables_paginate{\n",
       "display: inline-block; margin-right: 1em; }\n",
       ".paginate_button { margin-right: 5px; }\n",
       "</style>\n",
       "<script>\n",
       "\n",
       "var astropy_sort_num = function(a, b) {\n",
       "    var a_num = parseFloat(a);\n",
       "    var b_num = parseFloat(b);\n",
       "\n",
       "    if (isNaN(a_num) && isNaN(b_num))\n",
       "        return ((a < b) ? -1 : ((a > b) ? 1 : 0));\n",
       "    else if (!isNaN(a_num) && !isNaN(b_num))\n",
       "        return ((a_num < b_num) ? -1 : ((a_num > b_num) ? 1 : 0));\n",
       "    else\n",
       "        return isNaN(a_num) ? -1 : 1;\n",
       "}\n",
       "\n",
       "require.config({paths: {\n",
       "    datatables: 'https://cdn.datatables.net/1.10.12/js/jquery.dataTables.min'\n",
       "}});\n",
       "require([\"datatables\"], function(){\n",
       "    console.log(\"$('#table6056233104-189947').dataTable()\");\n",
       "    \n",
       "jQuery.extend( jQuery.fn.dataTableExt.oSort, {\n",
       "    \"optionalnum-asc\": astropy_sort_num,\n",
       "    \"optionalnum-desc\": function (a,b) { return -astropy_sort_num(a, b); }\n",
       "});\n",
       "\n",
       "    $('#table6056233104-189947').dataTable({\n",
       "        order: [],\n",
       "        pageLength: 50,\n",
       "        lengthMenu: [[10, 25, 50, 100, 500, 1000, -1], [10, 25, 50, 100, 500, 1000, 'All']],\n",
       "        pagingType: \"full_numbers\",\n",
       "        columnDefs: [{targets: [0, 1, 2, 3, 4, 6, 7, 8, 9, 10, 11, 12, 13, 14, 15, 16, 17], type: \"optionalnum\"}]\n",
       "    });\n",
       "});\n",
       "</script>\n"
      ],
      "text/plain": [
       "<IPython.core.display.HTML object>"
      ]
     },
     "execution_count": 5,
     "metadata": {},
     "output_type": "execute_result"
    }
   ],
   "source": [
    "d22.show_in_notebook()"
   ]
  },
  {
   "cell_type": "code",
   "execution_count": 6,
   "metadata": {},
   "outputs": [],
   "source": [
    "#Read the photometry\n",
    "d21_raw = np.loadtxt(\"{}/double.21\".format(folder))\n",
    "nchan = len(bands)\n",
    "d21 = Table()\n",
    "d21['wid'] = d22['wid']\n",
    "for k, bname in enumerate(bands['bname']):\n",
    "    d21[bname] = d21_raw[k::nchan, 1] * u.Jy\n",
    "    d21[bname+\" mod\"] = d21_raw[k::nchan, 2] * u.Jy\n",
    "    d21[bname+\" err\"] = d21_raw[k::nchan, 3] * u.Jy"
   ]
  },
  {
   "cell_type": "code",
   "execution_count": 7,
   "metadata": {},
   "outputs": [],
   "source": [
    "dbase = Table.read(\"{}/dbase.fits\".format(folder))\n",
    "coords = dict()\n",
    "for wid in pran.keys():\n",
    "    k = np.where(dbase['Short Name']==wid)[0][0]\n",
    "    coords[wid] = SkyCoord(ra=dbase['ra'][k]*u.deg, dec=dbase['dec'][k]*u.deg)"
   ]
  },
  {
   "cell_type": "code",
   "execution_count": 8,
   "metadata": {},
   "outputs": [
    {
     "data": {
      "text/plain": [
       "'01:16:01.411584 -05:05:04.09308'"
      ]
     },
     "execution_count": 8,
     "metadata": {},
     "output_type": "execute_result"
    }
   ],
   "source": [
    "coords['W0116-0505'].to_string(style='hmsdms', sep=\":\")"
   ]
  },
  {
   "cell_type": "code",
   "execution_count": 9,
   "metadata": {},
   "outputs": [],
   "source": [
    "#We now want to get the 6um luminosities of the unreddened best-fit quasar templates. \n",
    "seds = np.loadtxt(\"{}/agn_spec.dat\".format(folder), skiprows=1)\n",
    "agn_sed = CubicSpline(seds[:,0], seds[:,2])"
   ]
  },
  {
   "cell_type": "code",
   "execution_count": 10,
   "metadata": {},
   "outputs": [],
   "source": [
    "# #Calculate the 6um luminosities for each target. \n",
    "# z = d20['redshift']\n",
    "# DL = cosmo.luminosity_distance(z)\n",
    "# for j, vec in enumerate(['vec1', 'vec5']):\n",
    "#     f_nu = d20[vec]*agn_sed(6.0) * u.Jy\n",
    "#     L_nu = (4.*np.pi*DL**2)/(1+z) * f_nu\n",
    "#     L6um = (c/(6*u.micron) * L_nu).to(u.erg/u.s)\n",
    "#     d22['log L6um AGN{}'.format(j+1)] = np.log10(L6um.value)"
   ]
  },
  {
   "cell_type": "code",
   "execution_count": 19,
   "metadata": {},
   "outputs": [
    {
     "data": {
      "text/html": [
       "<i>Table length=5</i>\n",
       "<table id=\"table6056215824-769877\" class=\"table-striped table-bordered table-condensed\">\n",
       "<thead><tr><th>idx</th><th>i</th><th>redshift</th><th>chi2</th><th>vec1</th><th>vec2</th><th>vec3</th><th>vec4</th><th>vec5</th><th>vec1_l1</th><th>vec1_u1</th><th>vec1_l2</th><th>vec1_u2</th><th>vec1_l3</th><th>vec1_u3</th><th>vec5_l1</th><th>vec5_u1</th><th>vec5_l2</th><th>vec5_u2</th><th>vec5_l3</th><th>vec5_u3</th></tr></thead>\n",
       "<tr><td>0</td><td>1</td><td>1.641</td><td>5.081521</td><td>0.002470636</td><td>7.007495e-06</td><td>0.0</td><td>3.758273e-06</td><td>2.793912e-05</td><td>0.00015378803550000026</td><td>0.0001944293815000003</td><td>0.00035321141900000004</td><td>0.000398423801</td><td>0.000523776814000001</td><td>0.0005066907734999986</td><td>7.633538515e-06</td><td>1.9403237900000003e-05</td><td>1.436679121e-05</td><td>3.6533970390000014e-05</td><td>1.807547717700002e-05</td><td>4.8462069379999966e-05</td></tr>\n",
       "<tr><td>1</td><td>2</td><td>3.173</td><td>24.02249</td><td>0.004411795</td><td>3.869816e-05</td><td>0.0</td><td>0.0</td><td>3.837841e-05</td><td>0.0007490992329999995</td><td>0.0012021650480000005</td><td>0.0013007312939999995</td><td>0.0034083601850000006</td><td>0.0016182150595</td><td>0.005257226660499997</td><td>4.8986442750000015e-06</td><td>1.7974016250000045e-06</td><td>1.2959254180000011e-05</td><td>6.892268940000005e-06</td><td>2.2189424490000005e-05</td><td>1.549276497999998e-05</td></tr>\n",
       "<tr><td>2</td><td>3</td><td>2.099307</td><td>17.83592</td><td>0.003593931</td><td>0.0</td><td>2.776747e-05</td><td>0.0</td><td>4.697634e-05</td><td>0.0007605498495</td><td>0.0003742709889999994</td><td>0.001104121765</td><td>0.0010518939580000004</td><td>0.0013212229520000013</td><td>0.001917035733499997</td><td>3.1895415295e-05</td><td>5.436938725000002e-06</td><td>4.176917493900001e-05</td><td>1.2471016240000003e-05</td><td>4.697634e-05</td><td>2.1336973839999947e-05</td></tr>\n",
       "<tr><td>3</td><td>4</td><td>3.122</td><td>6.049306</td><td>0.005571716</td><td>1.533589e-05</td><td>8.421436e-07</td><td>0.0</td><td>2.792184e-05</td><td>0.0007908629340000004</td><td>0.0006765957935000004</td><td>0.001265523250000001</td><td>0.0015236620950000003</td><td>0.0018943105635000016</td><td>0.002540494962999999</td><td>1.3616681950000016e-06</td><td>7.750158050000007e-07</td><td>2.963608320000003e-06</td><td>2.5360237200000013e-06</td><td>5.411297100000004e-06</td><td>5.441989005000001e-06</td></tr>\n",
       "<tr><td>4</td><td>5</td><td>3.888</td><td>5.716598</td><td>0.005847326</td><td>1.819741e-05</td><td>0.0</td><td>1.039276e-05</td><td>3.070182e-05</td><td>0.00027461929599999994</td><td>0.0005696274595000002</td><td>0.0006392416840000003</td><td>0.0012091261</td><td>0.0010285514005000012</td><td>0.0016856274529999972</td><td>8.446900555e-06</td><td>1.667144612e-05</td><td>1.4326801799999999e-05</td><td>3.2621943179999995e-05</td><td>1.8536166935e-05</td><td>5.6868019139999866e-05</td></tr>\n",
       "</table><style>table.dataTable {clear: both; width: auto !important; margin: 0 !important;}\n",
       ".dataTables_info, .dataTables_length, .dataTables_filter, .dataTables_paginate{\n",
       "display: inline-block; margin-right: 1em; }\n",
       ".paginate_button { margin-right: 5px; }\n",
       "</style>\n",
       "<script>\n",
       "\n",
       "var astropy_sort_num = function(a, b) {\n",
       "    var a_num = parseFloat(a);\n",
       "    var b_num = parseFloat(b);\n",
       "\n",
       "    if (isNaN(a_num) && isNaN(b_num))\n",
       "        return ((a < b) ? -1 : ((a > b) ? 1 : 0));\n",
       "    else if (!isNaN(a_num) && !isNaN(b_num))\n",
       "        return ((a_num < b_num) ? -1 : ((a_num > b_num) ? 1 : 0));\n",
       "    else\n",
       "        return isNaN(a_num) ? -1 : 1;\n",
       "}\n",
       "\n",
       "require.config({paths: {\n",
       "    datatables: 'https://cdn.datatables.net/1.10.12/js/jquery.dataTables.min'\n",
       "}});\n",
       "require([\"datatables\"], function(){\n",
       "    console.log(\"$('#table6056215824-769877').dataTable()\");\n",
       "    \n",
       "jQuery.extend( jQuery.fn.dataTableExt.oSort, {\n",
       "    \"optionalnum-asc\": astropy_sort_num,\n",
       "    \"optionalnum-desc\": function (a,b) { return -astropy_sort_num(a, b); }\n",
       "});\n",
       "\n",
       "    $('#table6056215824-769877').dataTable({\n",
       "        order: [],\n",
       "        pageLength: 50,\n",
       "        lengthMenu: [[10, 25, 50, 100, 500, 1000, -1], [10, 25, 50, 100, 500, 1000, 'All']],\n",
       "        pagingType: \"full_numbers\",\n",
       "        columnDefs: [{targets: [0, 1, 2, 3, 4, 5, 6, 7, 8, 9, 10, 11, 12, 13, 14, 15, 16, 17, 18, 19, 20], type: \"optionalnum\"}]\n",
       "    });\n",
       "});\n",
       "</script>\n"
      ],
      "text/plain": [
       "<IPython.core.display.HTML object>"
      ]
     },
     "execution_count": 19,
     "metadata": {},
     "output_type": "execute_result"
    }
   ],
   "source": [
    "d20.show_in_notebook()"
   ]
  },
  {
   "cell_type": "code",
   "execution_count": 11,
   "metadata": {},
   "outputs": [
    {
     "name": "stderr",
     "output_type": "stream",
     "text": [
      "/var/folders/p7/drxzchtj4yb641v79lt0tjyh0000gn/T/ipykernel_82912/4061056990.py:10: RuntimeWarning: divide by zero encountered in log10\n",
      "  d22['log L6um AGN{}_l{}'.format(j+1,k+1)] = np.log10(L6um.value) - np.log10(L6um.value * (d20[vec]-d20[vec+\"_l{}\".format(k+1)])/d20[vec])\n"
     ]
    }
   ],
   "source": [
    "#Calculate the 6um luminosities for each target. \n",
    "z = d20['redshift']\n",
    "DL = cosmo.luminosity_distance(z)\n",
    "for j, vec in enumerate(['vec1', 'vec5']):\n",
    "    f_nu = d20[vec]*agn_sed(6.0) * u.Jy\n",
    "    L_nu = (4.*np.pi*DL**2)/(1+z) * f_nu\n",
    "    L6um = (c/(6*u.micron) * L_nu).to(u.erg/u.s)\n",
    "    d22['log L6um AGN{}'.format(j+1)] = np.log10(L6um.value)\n",
    "    for k in range(3):\n",
    "        d22['log L6um AGN{}_l{}'.format(j+1,k+1)] = np.log10(L6um.value) - np.log10(L6um.value * (d20[vec]-d20[vec+\"_l{}\".format(k+1)])/d20[vec])\n",
    "        d22['log L6um AGN{}_u{}'.format(j+1,k+1)] = np.log10(L6um.value * (d20[vec]+d20[vec+\"_u{}\".format(k+1)])/d20[vec]) - np.log10(L6um.value)"
   ]
  },
  {
   "cell_type": "code",
   "execution_count": 20,
   "metadata": {},
   "outputs": [
    {
     "data": {
      "text/html": [
       "<i>Table length=5</i>\n",
       "<table id=\"table6056233104-66801\" class=\"table-striped table-bordered table-condensed\">\n",
       "<thead><tr><th>idx</th><th>i</th><th>ebv1</th><th>ebv2</th><th>igm</th><th>wid</th><th>ebv1_l1</th><th>ebv1_u1</th><th>ebv1_l2</th><th>ebv1_u2</th><th>ebv1_l3</th><th>ebv1_u3</th><th>ebv2_l1</th><th>ebv2_u1</th><th>ebv2_l2</th><th>ebv2_u2</th><th>ebv2_l3</th><th>ebv2_u3</th><th>log L6um AGN1</th><th>log L6um AGN1_l1</th><th>log L6um AGN1_u1</th><th>log L6um AGN1_l2</th><th>log L6um AGN1_u2</th><th>log L6um AGN1_l3</th><th>log L6um AGN1_u3</th><th>log L6um AGN2</th><th>log L6um AGN2_l1</th><th>log L6um AGN2_u1</th><th>log L6um AGN2_l2</th><th>log L6um AGN2_u2</th><th>log L6um AGN2_l3</th><th>log L6um AGN2_u3</th></tr></thead>\n",
       "<tr><td>0</td><td>1</td><td>5.011872</td><td>0.03162278</td><td>1.4</td><td>W0019-1046</td><td>0.17481897550000003</td><td>0.3859552284999994</td><td>0.5645996330000003</td><td>0.6798098489999997</td><td>1.0308000000000002</td><td>1.1205602204999972</td><td>0.03162278</td><td>0.04781004</td><td>0.03162278</td><td>0.06837722</td><td>0.03162278</td><td>0.06837722</td><td>46.52965748823731</td><td>0.027911229715243735</td><td>0.03289910265189633</td><td>0.06700081483825215</td><td>0.06493083522138932</td><td>0.10347422464371903</td><td>0.08101773751746322</td><td>44.58306144593525</td><td>0.1385972922281553</td><td>0.22903716129920326</td><td>0.313558351101328</td><td>0.3631657647601969</td><td>0.45217538556531167</td><td>0.43688739653676834</td></tr>\n",
       "<tr><td>1</td><td>2</td><td>4.323613</td><td>0.0</td><td>0.4451524</td><td>W0116-0505</td><td>0.8971678034999999</td><td>1.3336057595000002</td><td>1.481822868</td><td>3.621427833000002</td><td>1.8117269999999999</td><td>5.676387</td><td>0.0</td><td>0.0</td><td>0.0</td><td>0.01258925</td><td>0.0</td><td>0.025312945514999987</td><td>47.27990372359331</td><td>0.08081447762084792</td><td>0.1046539934745141</td><td>0.15170641980627408</td><td>0.24860004722864915</td><td>0.19845422060445372</td><td>0.34076720897905943</td><td>45.21937537758478</td><td>0.059304567798285746</td><td>0.019877680918099827</td><td>0.17892585478040246</td><td>0.07173002965826214</td><td>0.37486734380151177</td><td>0.14726946986225897</td></tr>\n",
       "<tr><td>2</td><td>3</td><td>10.0</td><td>0.1</td><td>0.0</td><td>W0204-0506</td><td>2.5524693459999996</td><td>0.9504600649999997</td><td>3.6904269999999997</td><td>3.0247805700000026</td><td>3.830915861000001</td><td>5.182598579999999</td><td>0.08004738</td><td>0.0</td><td>0.1</td><td>0.0</td><td>0.1</td><td>0.0</td><td>46.88544124143789</td><td>0.1032647344514146</td><td>0.04302403563790591</td><td>0.1594036613619494</td><td>0.11149310792324485</td><td>0.19902608496552432</td><td>0.18565805463136797</td><td>45.001750683817434</td><td>0.49345120556080246</td><td>0.047562150747566534</td><td>0.9552778326809346</td><td>0.10225336811607377</td><td>inf</td><td>0.1626261760256753</td></tr>\n",
       "<tr><td>3</td><td>4</td><td>7.570073</td><td>0.0</td><td>0.3727581</td><td>W0220+0137</td><td>1.1282074739999999</td><td>0.8158223910000002</td><td>1.5841577650000014</td><td>1.7900650150000006</td><td>2.5582009999999995</td><td>2.441922879999999</td><td>0.0</td><td>0.0</td><td>0.0</td><td>0.00023000000000024558</td><td>0.0</td><td>0.014223979519999885</td><td>47.369722419587696</td><td>0.06648357521395099</td><td>0.04977372131988034</td><td>0.11189550614637511</td><td>0.10498657130446531</td><td>0.18044745779890548</td><td>0.1631502646540426</td><td>45.06967748214678</td><td>0.02171315418680564</td><td>0.011890281368181377</td><td>0.048730222307618476</td><td>0.037755405011694165</td><td>0.09355806487214835</td><td>0.07733185256503816</td></tr>\n",
       "<tr><td>4</td><td>5</td><td>3.162278</td><td>0.01584893</td><td>1.4</td><td>W0831+0140</td><td>0.0</td><td>0.4685333974999999</td><td>0.4129325890000004</td><td>0.818794</td><td>0.6503920000000001</td><td>1.2633451869999948</td><td>0.01584893</td><td>0.015773850000000002</td><td>0.01584893</td><td>0.034269789999999994</td><td>0.01584893</td><td>0.047246800000000005</td><td>47.5443374862671</td><td>0.020891120896777693</td><td>0.040371582187944455</td><td>0.05027930068524</td><td>0.08162909054943412</td><td>0.0840206948463802</td><td>0.11000797659513495</td><td>45.264544300139896</td><td>0.13973809453442243</td><td>0.18836920675757796</td><td>0.27298232980184167</td><td>0.3144025948788425</td><td>0.40202869388684803</td><td>0.45519043077602106</td></tr>\n",
       "</table><style>table.dataTable {clear: both; width: auto !important; margin: 0 !important;}\n",
       ".dataTables_info, .dataTables_length, .dataTables_filter, .dataTables_paginate{\n",
       "display: inline-block; margin-right: 1em; }\n",
       ".paginate_button { margin-right: 5px; }\n",
       "</style>\n",
       "<script>\n",
       "\n",
       "var astropy_sort_num = function(a, b) {\n",
       "    var a_num = parseFloat(a);\n",
       "    var b_num = parseFloat(b);\n",
       "\n",
       "    if (isNaN(a_num) && isNaN(b_num))\n",
       "        return ((a < b) ? -1 : ((a > b) ? 1 : 0));\n",
       "    else if (!isNaN(a_num) && !isNaN(b_num))\n",
       "        return ((a_num < b_num) ? -1 : ((a_num > b_num) ? 1 : 0));\n",
       "    else\n",
       "        return isNaN(a_num) ? -1 : 1;\n",
       "}\n",
       "\n",
       "require.config({paths: {\n",
       "    datatables: 'https://cdn.datatables.net/1.10.12/js/jquery.dataTables.min'\n",
       "}});\n",
       "require([\"datatables\"], function(){\n",
       "    console.log(\"$('#table6056233104-66801').dataTable()\");\n",
       "    \n",
       "jQuery.extend( jQuery.fn.dataTableExt.oSort, {\n",
       "    \"optionalnum-asc\": astropy_sort_num,\n",
       "    \"optionalnum-desc\": function (a,b) { return -astropy_sort_num(a, b); }\n",
       "});\n",
       "\n",
       "    $('#table6056233104-66801').dataTable({\n",
       "        order: [],\n",
       "        pageLength: 50,\n",
       "        lengthMenu: [[10, 25, 50, 100, 500, 1000, -1], [10, 25, 50, 100, 500, 1000, 'All']],\n",
       "        pagingType: \"full_numbers\",\n",
       "        columnDefs: [{targets: [0, 1, 2, 3, 4, 6, 7, 8, 9, 10, 11, 12, 13, 14, 15, 16, 17, 18, 19, 20, 21, 22, 23, 24, 25, 26, 27, 28, 29, 30, 31], type: \"optionalnum\"}]\n",
       "    });\n",
       "});\n",
       "</script>\n"
      ],
      "text/plain": [
       "<IPython.core.display.HTML object>"
      ]
     },
     "execution_count": 20,
     "metadata": {},
     "output_type": "execute_result"
    }
   ],
   "source": [
    "d22.show_in_notebook()"
   ]
  },
  {
   "cell_type": "code",
   "execution_count": 21,
   "metadata": {},
   "outputs": [
    {
     "data": {
      "text/plain": [
       "(array([127.,   0.,   0.,   0.,   0.,  10.,  10.,  10.,   0.,  12.,   1.,\n",
       "          1.,  11.,   0.,   2.,  20.,   1.,   1.,   0.,  25.,   2.,   0.,\n",
       "          0.,   1.,   0.,  36.,   0.,   1.,   0.,   2.,   0.,  43.,   1.,\n",
       "          0.,   1.,   1.,   0.,   0.,   0.,  76.,   0.,   0.,   0.,   0.,\n",
       "          0.,   0.,   0.,   0.,   0., 605.]),\n",
       " array([0.   , 0.002, 0.004, 0.006, 0.008, 0.01 , 0.012, 0.014, 0.016,\n",
       "        0.018, 0.02 , 0.022, 0.024, 0.026, 0.028, 0.03 , 0.032, 0.034,\n",
       "        0.036, 0.038, 0.04 , 0.042, 0.044, 0.046, 0.048, 0.05 , 0.052,\n",
       "        0.054, 0.056, 0.058, 0.06 , 0.062, 0.064, 0.066, 0.068, 0.07 ,\n",
       "        0.072, 0.074, 0.076, 0.078, 0.08 , 0.082, 0.084, 0.086, 0.088,\n",
       "        0.09 , 0.092, 0.094, 0.096, 0.098, 0.1  ]),\n",
       " <BarContainer object of 50 artists>)"
      ]
     },
     "execution_count": 21,
     "metadata": {},
     "output_type": "execute_result"
    },
    {
     "data": {
      "image/png": "[encoded data removed]",
      "text/plain": [
       "<Figure size 640x480 with 1 Axes>"
      ]
     },
     "metadata": {},
     "output_type": "display_data"
    }
   ],
   "source": [
    "plt.hist(mc_d22['ebv2'][2*nrep:3*nrep], bins=50)"
   ]
  },
  {
   "cell_type": "code",
   "execution_count": 17,
   "metadata": {},
   "outputs": [],
   "source": [
    "#Final table.\n",
    "wids = ['W0019$-$1046', 'W0116$-$0505', 'W0204$-$0506', 'W0220+0137', 'W0831+0140']\n",
    "k = list()\n",
    "for wid in wids:\n",
    "    k.append(np.argwhere(d22['wid']==re.sub(\"\\$\",\"\",wid))[0][0])\n",
    "\n",
    "Ftab = Table()\n",
    "Ftab['Short WISE ID'] = wids\n",
    "\n",
    "ra  = [None]*len(wids)\n",
    "dec = [None]*len(wids)\n",
    "for i, wid in enumerate(wids):\n",
    "    hmsdms1 = coords[re.sub(\"\\$\",\"\",wid)].to_string(style='hmsdms', sep=':', precision=1)\n",
    "    hmsdms2 = coords[re.sub(\"\\$\",\"\",wid)].to_string(style='hmsdms', sep=':', precision=2)\n",
    "    ra[i]  = hmsdms2.split()[0]\n",
    "    dec[i] = re.sub(\"-\",\"$-$\",hmsdms1.split()[1])\n",
    "Ftab['R.A.'] = ra\n",
    "Ftab['Dec.'] = dec\n",
    "\n",
    "Ftab['Redshift'] = d20['redshift'][k]\n",
    "Ftab['Redshift'].info.format = '7.3f'\n",
    "\n",
    "#Ftab['rmag'] = -2.5*np.log10(d21['sdssr'][k]/(3631.*u.Jy))\n",
    "#Ftab['rmag'].info.format = '5.2f'\n",
    "\n",
    "# Ftab['log L6um AGN1'] = d22['log L6um AGN1'][k]\n",
    "# Ftab['log L6um AGN1'].info.format = '5.2f'\n",
    "\n",
    "# Ftab['E(B-V) AGN1'] = d22['ebv1'][k] \n",
    "# Ftab['E(B-V) AGN1'].info.format = '5.2f'\n",
    "\n",
    "# Ftab['log L6um AGN2'] = d22['log L6um AGN2'][k]\n",
    "# Ftab['log L6um AGN2'].info.format = '5.2f'\n",
    "\n",
    "# Ftab['E(B-V) AGN2'] = d22['ebv2'][k] \n",
    "# Ftab['E(B-V) AGN2'].info.format = '5.2f'\n",
    "\n",
    "\n",
    "for cols in [('log L6um AGN1', 'log L6um AGN1'), ('E(B-V) AGN1', 'ebv1'), ('log L6um AGN2','log L6um AGN2'), ('E(B-V) AGN2','ebv2')]:\n",
    "    col1, col2 = cols\n",
    "    Ftab[col1] = \"{:28s}\".format(\" \")\n",
    "    for i in range(len(d22)):\n",
    "        Ftab[col1][i] = \"${:5.3f}^{{+{:5.3f}}}_{{-{:5.3f}}}$\".format(d22[col2][i], d22[col2+\"_u1\"][i], d22[col+\"_l1\"][i])\n",
    "\n",
    "Ftab['p_ran'] = np.zeros(len(wids))\n",
    "for i, wid in enumerate(wids):\n",
    "    Ftab['p_ran'][i] = pran[re.sub(\"\\$\",\"\",wid)]*1e2\n",
    "Ftab['p_ran'].info.format = '5.3f'\n"
   ]
  },
  {
   "cell_type": "code",
   "execution_count": 18,
   "metadata": {},
   "outputs": [],
   "source": [
    "Ftab.write(\"targets.tex\", format='latex', overwrite=True)"
   ]
  }
 ],
 "metadata": {
  "kernelspec": {
   "display_name": "stenv",
   "language": "python",
   "name": "python3"
  },
  "language_info": {
   "codemirror_mode": {
    "name": "ipython",
    "version": 3
   },
   "file_extension": ".py",
   "mimetype": "text/x-python",
   "name": "python",
   "nbconvert_exporter": "python",
   "pygments_lexer": "ipython3",
   "version": "3.11.3"
  }
 },
 "nbformat": 4,
 "nbformat_minor": 2
}
