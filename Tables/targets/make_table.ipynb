{
 "cells": [
  {
   "cell_type": "code",
   "execution_count": 1,
   "metadata": {},
   "outputs": [],
   "source": [
    "import numpy as np \n",
    "import re\n",
    "from scipy.interpolate import CubicSpline\n",
    "from astropy.table import Table\n",
    "import astropy.units as u\n",
    "from astropy.cosmology import FlatLambdaCDM\n",
    "from astropy.constants import c\n",
    "from astropy.coordinates import SkyCoord"
   ]
  },
  {
   "cell_type": "code",
   "execution_count": 2,
   "metadata": {},
   "outputs": [],
   "source": [
    "cosmo = FlatLambdaCDM(H0=70, Om0=0.3)"
   ]
  },
  {
   "cell_type": "code",
   "execution_count": 3,
   "metadata": {},
   "outputs": [],
   "source": [
    "#Read all the files from the SED modeling. \n",
    "folder = \"../../SED_Modeling\"\n",
    "\n",
    "#Band information\n",
    "bands = Table.read(\"{}/bandmag.dat\".format(folder), format='ascii')\n",
    "for i, hn in enumerate(['bname', 'bcal', 'jyzero']):\n",
    "    bands.rename_column(\"col{}\".format(i+1), hn)\n",
    "bands['bname'][-2] = \"g_misc\"\n",
    "bands['bname'][-1] = \"r_misc\"\n",
    "\n",
    "#SED model parameters\n",
    "d20 = Table.read(\"{}/double.20\".format(folder), format='ascii')\n",
    "for i, hn in enumerate(['i', 'redshift', 'chi2', 'vec1', 'vec2', 'vec3', 'vec4', 'vec5']):\n",
    "    d20.rename_column(\"col{}\".format(i+1), hn)\n",
    "d22 = Table.read(\"{}/double.22\".format(folder), format='ascii')\n",
    "for i, hn in enumerate(['i', 'ebv1', 'ebv2', 'igm', 'wid']):\n",
    "    d22.rename_column(\"col{}\".format(i+1), hn)\n",
    "\n",
    "#The Pran probs\n",
    "pran = dict()\n",
    "cat = open(\"{}/f_stat/comp.sort\".format(folder))\n",
    "for line in cat:\n",
    "    x = line.split()\n",
    "    pran[x[0]] = float(x[-1])"
   ]
  },
  {
   "cell_type": "code",
   "execution_count": 4,
   "metadata": {},
   "outputs": [],
   "source": [
    "#Read the photometry\n",
    "d21_raw = np.loadtxt(\"{}/double.21\".format(folder))\n",
    "nchan = len(bands)\n",
    "d21 = Table()\n",
    "d21['wid'] = d22['wid']\n",
    "for k, bname in enumerate(bands['bname']):\n",
    "    d21[bname] = d21_raw[k::nchan, 1] * u.Jy\n",
    "    d21[bname+\" mod\"] = d21_raw[k::nchan, 2] * u.Jy\n",
    "    d21[bname+\" err\"] = d21_raw[k::nchan, 3] * u.Jy"
   ]
  },
  {
   "cell_type": "code",
   "execution_count": 5,
   "metadata": {},
   "outputs": [],
   "source": [
    "dbase = Table.read(\"{}/dbase.fits\".format(folder))\n",
    "coords = dict()\n",
    "for wid in pran.keys():\n",
    "    k = np.where(dbase['Short Name']==wid)[0][0]\n",
    "    coords[wid] = SkyCoord(ra=dbase['ra'][k]*u.deg, dec=dbase['dec'][k]*u.deg)"
   ]
  },
  {
   "cell_type": "code",
   "execution_count": 6,
   "metadata": {},
   "outputs": [
    {
     "data": {
      "text/plain": [
       "'01:16:01.411584 -05:05:04.09308'"
      ]
     },
     "execution_count": 6,
     "metadata": {},
     "output_type": "execute_result"
    }
   ],
   "source": [
    "coords['W0116-0505'].to_string(style='hmsdms', sep=\":\")"
   ]
  },
  {
   "cell_type": "code",
   "execution_count": 7,
   "metadata": {},
   "outputs": [],
   "source": [
    "#We now want to get the 6um luminosities of the unreddened best-fit quasar templates. \n",
    "seds = np.loadtxt(\"{}/agn_spec.dat\".format(folder), skiprows=1)\n",
    "agn_sed = CubicSpline(seds[:,0], seds[:,2])"
   ]
  },
  {
   "cell_type": "code",
   "execution_count": 8,
   "metadata": {},
   "outputs": [],
   "source": [
    "#Calculate the 6um luminosities for each target. \n",
    "z = d20['redshift']\n",
    "DL = cosmo.luminosity_distance(z)\n",
    "for j, vec in enumerate(['vec1', 'vec5']):\n",
    "    f_nu = d20[vec]*agn_sed(6.0) * u.Jy\n",
    "    L_nu = (4.*np.pi*DL**2)/(1+z) * f_nu\n",
    "    L6um = (c/(6*u.micron) * L_nu).to(u.erg/u.s)\n",
    "    d22['log L6um AGN{}'.format(j+1)] = np.log10(L6um.value)"
   ]
  },
  {
   "cell_type": "code",
   "execution_count": 9,
   "metadata": {},
   "outputs": [],
   "source": [
    "#Final table.\n",
    "wids = ['W0019$-$1046', 'W0116$-$0505', 'W0204$-$0506', 'W0220+0137', 'W0831+0140']\n",
    "k = list()\n",
    "for wid in wids:\n",
    "    k.append(np.argwhere(d22['wid']==re.sub(\"\\$\",\"\",wid))[0][0])\n",
    "\n",
    "Ftab = Table()\n",
    "Ftab['Short WISE ID'] = wids\n",
    "\n",
    "ra  = [None]*len(wids)\n",
    "dec = [None]*len(wids)\n",
    "for i, wid in enumerate(wids):\n",
    "    hmsdms1 = coords[re.sub(\"\\$\",\"\",wid)].to_string(style='hmsdms', sep=':', precision=1)\n",
    "    hmsdms2 = coords[re.sub(\"\\$\",\"\",wid)].to_string(style='hmsdms', sep=':', precision=2)\n",
    "    ra[i]  = hmsdms2.split()[0]\n",
    "    dec[i] = re.sub(\"-\",\"$-$\",hmsdms1.split()[1])\n",
    "Ftab['R.A.'] = ra\n",
    "Ftab['Dec.'] = dec\n",
    "\n",
    "Ftab['Redshift'] = d20['redshift'][k]\n",
    "Ftab['Redshift'].info.format = '7.3f'\n",
    "\n",
    "#Ftab['rmag'] = -2.5*np.log10(d21['sdssr'][k]/(3631.*u.Jy))\n",
    "#Ftab['rmag'].info.format = '5.2f'\n",
    "\n",
    "Ftab['log L6um AGN1'] = d22['log L6um AGN1'][k]\n",
    "Ftab['log L6um AGN1'].info.format = '5.2f'\n",
    "\n",
    "Ftab['E(B-V) AGN1'] = d22['ebv1'][k] \n",
    "Ftab['E(B-V) AGN1'].info.format = '5.2f'\n",
    "\n",
    "Ftab['log L6um AGN2'] = d22['log L6um AGN2'][k]\n",
    "Ftab['log L6um AGN2'].info.format = '5.2f'\n",
    "\n",
    "Ftab['E(B-V) AGN2'] = d22['ebv2'][k] \n",
    "Ftab['E(B-V) AGN2'].info.format = '5.2f'\n",
    "\n",
    "Ftab['p_ran'] = np.zeros(len(wids))\n",
    "for i, wid in enumerate(wids):\n",
    "    Ftab['p_ran'][i] = pran[re.sub(\"\\$\",\"\",wid)]*1e2\n",
    "Ftab['p_ran'].info.format = '5.3f'\n"
   ]
  },
  {
   "cell_type": "code",
   "execution_count": 10,
   "metadata": {},
   "outputs": [],
   "source": [
    "Ftab.write(\"targets.tex\", format='latex', overwrite=True)"
   ]
  }
 ],
 "metadata": {
  "kernelspec": {
   "display_name": "stenv",
   "language": "python",
   "name": "python3"
  },
  "language_info": {
   "codemirror_mode": {
    "name": "ipython",
    "version": 3
   },
   "file_extension": ".py",
   "mimetype": "text/x-python",
   "name": "python",
   "nbconvert_exporter": "python",
   "pygments_lexer": "ipython3",
   "version": "3.11.3"
  }
 },
 "nbformat": 4,
 "nbformat_minor": 2
}
