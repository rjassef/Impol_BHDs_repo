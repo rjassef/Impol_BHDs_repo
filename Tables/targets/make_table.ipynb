{
 "cells": [
  {
   "cell_type": "code",
   "execution_count": 1,
   "metadata": {},
   "outputs": [],
   "source": [
    "import numpy as np \n",
    "import re\n",
    "from scipy.interpolate import CubicSpline\n",
    "from astropy.table import Table\n",
    "import astropy.units as u\n",
    "from astropy.cosmology import FlatLambdaCDM\n",
    "from astropy.constants import c\n",
    "from astropy.coordinates import SkyCoord\n",
    "import matplotlib.pyplot as plt"
   ]
  },
  {
   "cell_type": "code",
   "execution_count": 2,
   "metadata": {},
   "outputs": [],
   "source": [
    "cosmo = FlatLambdaCDM(H0=70, Om0=0.3)"
   ]
  },
  {
   "cell_type": "code",
   "execution_count": 3,
   "metadata": {},
   "outputs": [],
   "source": [
    "#Read all the files from the SED modeling. \n",
    "folder = \"../../SED_Modeling\"\n",
    "\n",
    "#Band information\n",
    "bands = Table.read(\"{}/bandmag.dat\".format(folder), format='ascii')\n",
    "for i, hn in enumerate(['bname', 'bcal', 'jyzero']):\n",
    "    bands.rename_column(\"col{}\".format(i+1), hn)\n",
    "bands['bname'][-2] = \"g_misc\"\n",
    "bands['bname'][-1] = \"r_misc\"\n",
    "\n",
    "#SED model parameters\n",
    "d20 = Table.read(\"{}/double.20\".format(folder), format='ascii')\n",
    "for i, hn in enumerate(['i', 'redshift', 'chi2', 'vec1', 'vec2', 'vec3', 'vec4', 'vec5']):\n",
    "    d20.rename_column(\"col{}\".format(i+1), hn)\n",
    "d22 = Table.read(\"{}/double.22\".format(folder), format='ascii')\n",
    "for i, hn in enumerate(['i', 'ebv1', 'ebv2', 'igm', 'wid']):\n",
    "    d22.rename_column(\"col{}\".format(i+1), hn)\n",
    "\n",
    "#The Pran probs\n",
    "pran = dict()\n",
    "cat = open(\"{}/f_stat/comp.sort\".format(folder))\n",
    "for line in cat:\n",
    "    x = line.split()\n",
    "    pran[x[0]] = float(x[-1])"
   ]
  },
  {
   "cell_type": "code",
   "execution_count": 4,
   "metadata": {},
   "outputs": [],
   "source": [
    "#Get the errors. \n",
    "mc_d20 = Table.read(\"{}/MC/double.20\".format(folder), format='ascii')\n",
    "for i, hn in enumerate(['i', 'redshift', 'chi2', 'vec1', 'vec2', 'vec3', 'vec4', 'vec5']):\n",
    "    mc_d20.rename_column(\"col{}\".format(i+1), hn)\n",
    "\n",
    "mc_d22 = Table.read(\"{}/MC/double.22\".format(folder), format='ascii')\n",
    "for i, hn in enumerate(['i', 'ebv1', 'ebv2', 'igm']):\n",
    "    mc_d22.rename_column(\"col{}\".format(i+1), hn)\n",
    "\n",
    "nrep = int(len(mc_d20)/len(d20))\n",
    "probs = np.array([68.3, 95.4, 99.7])\n",
    "intervals = np.concatenate([50-probs/2., 50+probs/2.])\n",
    "for col in ['vec1', 'vec5']:\n",
    "    for j in range(3):\n",
    "        d20[col+'_l{}'.format(j+1)] = 0.\n",
    "        d20[col+'_u{}'.format(j+1)] = 0.\n",
    "    for i in range(len(d20)):\n",
    "        aux = np.percentile(mc_d20[col][i*nrep:(i+1)*nrep], intervals)\n",
    "        for j in range(3):\n",
    "            d20[col+'_l{}'.format(j+1)][i] = d20[col][i] - aux[j]\n",
    "            d20[col+'_u{}'.format(j+1)][i] = aux[j+3] - d20[col][i]\n",
    "\n",
    "for col in ['ebv1', 'ebv2']:\n",
    "    for j in range(3):\n",
    "        d22[col+'_l{}'.format(j+1)] = 0.\n",
    "        d22[col+'_u{}'.format(j+1)] = 0.\n",
    "    for i in range(len(d22)):\n",
    "        aux = np.percentile(mc_d22[col][i*nrep:(i+1)*nrep], intervals)\n",
    "        for j in range(3):\n",
    "            d22[col+'_l{}'.format(j+1)][i] = d22[col][i] - aux[j]\n",
    "            d22[col+'_u{}'.format(j+1)][i] = aux[j+3] - d22[col][i]\n",
    "\n",
    "\n",
    "# for col in ['evec1_u', 'evec1_l', 'evec5_u', 'evec5_l']:\n",
    "#     d20[col] = 0.0\n",
    "# for col in ['ebv1_u', 'ebv1_l', 'ebv2_u', 'ebv2_l']:\n",
    "#     d22[col] = 0.0\n",
    "\n",
    "# nrep = int(len(mc_d20)/len(d20))\n",
    "# print(nrep)\n",
    "# for i in range(len(d20)):\n",
    "#     d20['evec1_u'][i] = np.percentile(mc_d20['vec1'][i*nrep:(i+1)*nrep], 50.+68.3/2)\n",
    "#     d20['evec1_l'][i] = np.percentile(mc_d20['vec1'][i*nrep:(i+1)*nrep], 50.-68.3/2)\n",
    "#     d20['evec5_u'][i] = np.percentile(mc_d20['vec5'][i*nrep:(i+1)*nrep], 50.+68.3/2)\n",
    "#     d20['evec5_l'][i] = np.percentile(mc_d20['vec5'][i*nrep:(i+1)*nrep], 50.-68.3/2)\n",
    "#     d22['ebv1_u'][i]  = np.percentile(mc_d22['ebv1'][i*nrep:(i+1)*nrep], 50.+68.3/2)\n",
    "#     d22['ebv1_l'][i]  = np.percentile(mc_d22['ebv1'][i*nrep:(i+1)*nrep], 50.-68.3/2)\n",
    "#     d22['ebv2_u'][i]  = np.percentile(mc_d22['ebv2'][i*nrep:(i+1)*nrep], 50.+68.3/2)\n",
    "#     d22['ebv2_l'][i]  = np.percentile(mc_d22['ebv2'][i*nrep:(i+1)*nrep], 50.-68.3/2)\n",
    "\n",
    "# d20['evec1_u'] = d20['evec1_u'] - d20['vec1']\n",
    "# d20['evec1_l'] = d20['vec1'] - d20['evec1_l']\n",
    "# d20['evec5_u'] = d20['evec5_u'] - d20['vec5']\n",
    "# d20['evec5_l'] = d20['vec5'] - d20['evec5_l']\n",
    "# d22['ebv1_u']  = d22['ebv1_u'] - d22['ebv1']\n",
    "# d22['ebv1_l']  = d22['ebv1'] - d22['ebv1_l']\n",
    "# d22['ebv2_u']  = d22['ebv2_u'] - d22['ebv2']\n",
    "# d22['ebv2_l']  = d22['ebv2'] - d22['ebv2_l']\n"
   ]
  },
  {
   "cell_type": "code",
   "execution_count": 5,
   "metadata": {},
   "outputs": [
    {
     "data": {
      "text/html": [
       "<i>Table length=5</i>\n",
       "<table id=\"table5717545232-27812\" class=\"table-striped table-bordered table-condensed\">\n",
       "<thead><tr><th>idx</th><th>i</th><th>ebv1</th><th>ebv2</th><th>igm</th><th>wid</th><th>ebv1_l1</th><th>ebv1_u1</th><th>ebv1_l2</th><th>ebv1_u2</th><th>ebv1_l3</th><th>ebv1_u3</th><th>ebv2_l1</th><th>ebv2_u1</th><th>ebv2_l2</th><th>ebv2_u2</th><th>ebv2_l3</th><th>ebv2_u3</th></tr></thead>\n",
       "<tr><td>0</td><td>1</td><td>5.011872</td><td>0.03162278</td><td>1.4</td><td>W0019-1046</td><td>0.14099985000000004</td><td>0.42288210149999994</td><td>0.5448948020000008</td><td>0.8577767009999997</td><td>1.0308000000000002</td><td>1.297701</td><td>0.03162278</td><td>0.04781004</td><td>0.03162278</td><td>0.06837722</td><td>0.03162278</td><td>0.06837722</td></tr>\n",
       "<tr><td>1</td><td>2</td><td>4.323613</td><td>0.0</td><td>0.4451524</td><td>W0116-0505</td><td>0.8639302015000001</td><td>1.4717886435</td><td>1.3147961890000004</td><td>3.8736991530000022</td><td>1.8117269999999999</td><td>5.854741084999928</td><td>0.0</td><td>0.0</td><td>0.0</td><td>0.01584893</td><td>0.0</td><td>0.03162278</td></tr>\n",
       "<tr><td>2</td><td>3</td><td>10.0</td><td>0.1</td><td>0.0</td><td>W0204-0506</td><td>2.056718</td><td>0.2073381350000023</td><td>3.6904269999999997</td><td>2.58925</td><td>4.27541458100001</td><td>5.848929999999999</td><td>0.08415107000000001</td><td>0.0</td><td>0.1</td><td>0.0</td><td>0.1</td><td>0.0</td></tr>\n",
       "<tr><td>3</td><td>4</td><td>7.570073</td><td>0.0</td><td>0.3727581</td><td>W0220+0137</td><td>1.0164122620000002</td><td>0.8421383755000003</td><td>1.680391815000001</td><td>1.9909794260000018</td><td>2.5582009999999995</td><td>2.6813896949999743</td><td>0.0</td><td>0.0</td><td>0.0</td><td>0.01</td><td>0.0</td><td>0.01995262</td></tr>\n",
       "<tr><td>4</td><td>5</td><td>3.162278</td><td>0.01584893</td><td>1.4</td><td>W0831+0140</td><td>0.12021254699999995</td><td>0.48095612550000055</td><td>0.6503920000000001</td><td>0.818794</td><td>0.6503920000000001</td><td>1.3459126004999997</td><td>0.01584893</td><td>0.015773850000000002</td><td>0.01584893</td><td>0.034269789999999994</td><td>0.01584893</td><td>0.06358389</td></tr>\n",
       "</table><style>table.dataTable {clear: both; width: auto !important; margin: 0 !important;}\n",
       ".dataTables_info, .dataTables_length, .dataTables_filter, .dataTables_paginate{\n",
       "display: inline-block; margin-right: 1em; }\n",
       ".paginate_button { margin-right: 5px; }\n",
       "</style>\n",
       "<script>\n",
       "\n",
       "var astropy_sort_num = function(a, b) {\n",
       "    var a_num = parseFloat(a);\n",
       "    var b_num = parseFloat(b);\n",
       "\n",
       "    if (isNaN(a_num) && isNaN(b_num))\n",
       "        return ((a < b) ? -1 : ((a > b) ? 1 : 0));\n",
       "    else if (!isNaN(a_num) && !isNaN(b_num))\n",
       "        return ((a_num < b_num) ? -1 : ((a_num > b_num) ? 1 : 0));\n",
       "    else\n",
       "        return isNaN(a_num) ? -1 : 1;\n",
       "}\n",
       "\n",
       "require.config({paths: {\n",
       "    datatables: 'https://cdn.datatables.net/1.10.12/js/jquery.dataTables.min'\n",
       "}});\n",
       "require([\"datatables\"], function(){\n",
       "    console.log(\"$('#table5717545232-27812').dataTable()\");\n",
       "    \n",
       "jQuery.extend( jQuery.fn.dataTableExt.oSort, {\n",
       "    \"optionalnum-asc\": astropy_sort_num,\n",
       "    \"optionalnum-desc\": function (a,b) { return -astropy_sort_num(a, b); }\n",
       "});\n",
       "\n",
       "    $('#table5717545232-27812').dataTable({\n",
       "        order: [],\n",
       "        pageLength: 50,\n",
       "        lengthMenu: [[10, 25, 50, 100, 500, 1000, -1], [10, 25, 50, 100, 500, 1000, 'All']],\n",
       "        pagingType: \"full_numbers\",\n",
       "        columnDefs: [{targets: [0, 1, 2, 3, 4, 6, 7, 8, 9, 10, 11, 12, 13, 14, 15, 16, 17], type: \"optionalnum\"}]\n",
       "    });\n",
       "});\n",
       "</script>\n"
      ],
      "text/plain": [
       "<IPython.core.display.HTML object>"
      ]
     },
     "execution_count": 5,
     "metadata": {},
     "output_type": "execute_result"
    }
   ],
   "source": [
    "d22.show_in_notebook()"
   ]
  },
  {
   "cell_type": "code",
   "execution_count": 6,
   "metadata": {},
   "outputs": [],
   "source": [
    "#Read the photometry\n",
    "d21_raw = np.loadtxt(\"{}/double.21\".format(folder))\n",
    "nchan = len(bands)\n",
    "d21 = Table()\n",
    "d21['wid'] = d22['wid']\n",
    "for k, bname in enumerate(bands['bname']):\n",
    "    d21[bname] = d21_raw[k::nchan, 1] * u.Jy\n",
    "    d21[bname+\" mod\"] = d21_raw[k::nchan, 2] * u.Jy\n",
    "    d21[bname+\" err\"] = d21_raw[k::nchan, 3] * u.Jy"
   ]
  },
  {
   "cell_type": "code",
   "execution_count": 7,
   "metadata": {},
   "outputs": [],
   "source": [
    "dbase = Table.read(\"{}/dbase.fits\".format(folder))\n",
    "coords = dict()\n",
    "for wid in pran.keys():\n",
    "    k = np.where(dbase['Short Name']==wid)[0][0]\n",
    "    coords[wid] = SkyCoord(ra=dbase['ra'][k]*u.deg, dec=dbase['dec'][k]*u.deg)"
   ]
  },
  {
   "cell_type": "code",
   "execution_count": 8,
   "metadata": {},
   "outputs": [
    {
     "data": {
      "text/plain": [
       "'01:16:01.411584 -05:05:04.09308'"
      ]
     },
     "execution_count": 8,
     "metadata": {},
     "output_type": "execute_result"
    }
   ],
   "source": [
    "coords['W0116-0505'].to_string(style='hmsdms', sep=\":\")"
   ]
  },
  {
   "cell_type": "code",
   "execution_count": 9,
   "metadata": {},
   "outputs": [],
   "source": [
    "#We now want to get the 6um luminosities of the unreddened best-fit quasar templates. \n",
    "seds = np.loadtxt(\"{}/agn_spec.dat\".format(folder), skiprows=1)\n",
    "agn_sed = CubicSpline(seds[:,0], seds[:,2])"
   ]
  },
  {
   "cell_type": "code",
   "execution_count": 10,
   "metadata": {},
   "outputs": [],
   "source": [
    "# #Calculate the 6um luminosities for each target. \n",
    "# z = d20['redshift']\n",
    "# DL = cosmo.luminosity_distance(z)\n",
    "# for j, vec in enumerate(['vec1', 'vec5']):\n",
    "#     f_nu = d20[vec]*agn_sed(6.0) * u.Jy\n",
    "#     L_nu = (4.*np.pi*DL**2)/(1+z) * f_nu\n",
    "#     L6um = (c/(6*u.micron) * L_nu).to(u.erg/u.s)\n",
    "#     d22['log L6um AGN{}'.format(j+1)] = np.log10(L6um.value)"
   ]
  },
  {
   "cell_type": "code",
   "execution_count": 11,
   "metadata": {},
   "outputs": [
    {
     "data": {
      "text/html": [
       "<i>Table length=5</i>\n",
       "<table id=\"table5716382224-402283\" class=\"table-striped table-bordered table-condensed\">\n",
       "<thead><tr><th>idx</th><th>i</th><th>redshift</th><th>chi2</th><th>vec1</th><th>vec2</th><th>vec3</th><th>vec4</th><th>vec5</th><th>vec1_l1</th><th>vec1_u1</th><th>vec1_l2</th><th>vec1_u2</th><th>vec1_l3</th><th>vec1_u3</th><th>vec5_l1</th><th>vec5_u1</th><th>vec5_l2</th><th>vec5_u2</th><th>vec5_l3</th><th>vec5_u3</th></tr></thead>\n",
       "<tr><td>0</td><td>1</td><td>1.641</td><td>5.081521</td><td>0.002470636</td><td>7.007495e-06</td><td>0.0</td><td>3.758273e-06</td><td>2.793912e-05</td><td>0.00014495672600000004</td><td>0.00021030723899999977</td><td>0.00030678725800000004</td><td>0.0004207122460000005</td><td>0.0005168843965000004</td><td>0.0006125039029999816</td><td>7.859589619999998e-06</td><td>1.9905227835000012e-05</td><td>1.375092389e-05</td><td>3.686418382e-05</td><td>1.9288139319000003e-05</td><td>4.863015567499957e-05</td></tr>\n",
       "<tr><td>1</td><td>2</td><td>3.173</td><td>24.02249</td><td>0.004411795</td><td>3.869816e-05</td><td>0.0</td><td>0.0</td><td>3.837841e-05</td><td>0.0007090544889999995</td><td>0.001287889304500002</td><td>0.001209945889</td><td>0.003569997600000001</td><td>0.0015891211240000001</td><td>0.0055030767924999745</td><td>4.498895544999997e-06</td><td>2.047541885000002e-06</td><td>1.2814494380000004e-05</td><td>7.466635490000005e-06</td><td>2.1734375955000034e-05</td><td>2.0353979559999968e-05</td></tr>\n",
       "<tr><td>2</td><td>3</td><td>2.099307</td><td>17.83592</td><td>0.003593931</td><td>0.0</td><td>2.776747e-05</td><td>0.0</td><td>4.697634e-05</td><td>0.0007784559130000002</td><td>0.00034741796200000053</td><td>0.0011567671220000003</td><td>0.0012159665510000006</td><td>0.001494806261500001</td><td>0.002356434606499971</td><td>3.1753156165000005e-05</td><td>5.464587689999998e-06</td><td>4.1594108950000004e-05</td><td>1.4103446939999994e-05</td><td>4.697634e-05</td><td>2.2120534429999832e-05</td></tr>\n",
       "<tr><td>3</td><td>4</td><td>3.122</td><td>6.049306</td><td>0.005571716</td><td>1.533589e-05</td><td>8.421436e-07</td><td>0.0</td><td>2.792184e-05</td><td>0.0007453685604999994</td><td>0.0007250514835000004</td><td>0.0013044490819999997</td><td>0.0016656779980000003</td><td>0.001921120264500001</td><td>0.002468571265499992</td><td>1.3148636299999978e-06</td><td>8.445419449999993e-07</td><td>2.9726564600000012e-06</td><td>3.075603220000016e-06</td><td>5.004312690000003e-06</td><td>7.594921859999814e-06</td></tr>\n",
       "<tr><td>4</td><td>5</td><td>3.888</td><td>5.716598</td><td>0.005847326</td><td>1.819741e-05</td><td>0.0</td><td>1.039276e-05</td><td>3.070182e-05</td><td>0.0002729877520000002</td><td>0.0006337925315000005</td><td>0.0007394866340000002</td><td>0.0012136039870000006</td><td>0.001175488994</td><td>0.001888996610499987</td><td>8.245521705000001e-06</td><td>1.7145428275000004e-05</td><td>1.4354663520000003e-05</td><td>3.463095247e-05</td><td>1.8291137079999998e-05</td><td>5.875637567999972e-05</td></tr>\n",
       "</table><style>table.dataTable {clear: both; width: auto !important; margin: 0 !important;}\n",
       ".dataTables_info, .dataTables_length, .dataTables_filter, .dataTables_paginate{\n",
       "display: inline-block; margin-right: 1em; }\n",
       ".paginate_button { margin-right: 5px; }\n",
       "</style>\n",
       "<script>\n",
       "\n",
       "var astropy_sort_num = function(a, b) {\n",
       "    var a_num = parseFloat(a);\n",
       "    var b_num = parseFloat(b);\n",
       "\n",
       "    if (isNaN(a_num) && isNaN(b_num))\n",
       "        return ((a < b) ? -1 : ((a > b) ? 1 : 0));\n",
       "    else if (!isNaN(a_num) && !isNaN(b_num))\n",
       "        return ((a_num < b_num) ? -1 : ((a_num > b_num) ? 1 : 0));\n",
       "    else\n",
       "        return isNaN(a_num) ? -1 : 1;\n",
       "}\n",
       "\n",
       "require.config({paths: {\n",
       "    datatables: 'https://cdn.datatables.net/1.10.12/js/jquery.dataTables.min'\n",
       "}});\n",
       "require([\"datatables\"], function(){\n",
       "    console.log(\"$('#table5716382224-402283').dataTable()\");\n",
       "    \n",
       "jQuery.extend( jQuery.fn.dataTableExt.oSort, {\n",
       "    \"optionalnum-asc\": astropy_sort_num,\n",
       "    \"optionalnum-desc\": function (a,b) { return -astropy_sort_num(a, b); }\n",
       "});\n",
       "\n",
       "    $('#table5716382224-402283').dataTable({\n",
       "        order: [],\n",
       "        pageLength: 50,\n",
       "        lengthMenu: [[10, 25, 50, 100, 500, 1000, -1], [10, 25, 50, 100, 500, 1000, 'All']],\n",
       "        pagingType: \"full_numbers\",\n",
       "        columnDefs: [{targets: [0, 1, 2, 3, 4, 5, 6, 7, 8, 9, 10, 11, 12, 13, 14, 15, 16, 17, 18, 19, 20], type: \"optionalnum\"}]\n",
       "    });\n",
       "});\n",
       "</script>\n"
      ],
      "text/plain": [
       "<IPython.core.display.HTML object>"
      ]
     },
     "execution_count": 11,
     "metadata": {},
     "output_type": "execute_result"
    }
   ],
   "source": [
    "d20.show_in_notebook()"
   ]
  },
  {
   "cell_type": "code",
   "execution_count": 12,
   "metadata": {},
   "outputs": [
    {
     "name": "stderr",
     "output_type": "stream",
     "text": [
      "/var/folders/p7/drxzchtj4yb641v79lt0tjyh0000gn/T/ipykernel_89098/4061056990.py:10: RuntimeWarning: divide by zero encountered in log10\n",
      "  d22['log L6um AGN{}_l{}'.format(j+1,k+1)] = np.log10(L6um.value) - np.log10(L6um.value * (d20[vec]-d20[vec+\"_l{}\".format(k+1)])/d20[vec])\n"
     ]
    }
   ],
   "source": [
    "#Calculate the 6um luminosities for each target. \n",
    "z = d20['redshift']\n",
    "DL = cosmo.luminosity_distance(z)\n",
    "for j, vec in enumerate(['vec1', 'vec5']):\n",
    "    f_nu = d20[vec]*agn_sed(6.0) * u.Jy\n",
    "    L_nu = (4.*np.pi*DL**2)/(1+z) * f_nu\n",
    "    L6um = (c/(6*u.micron) * L_nu).to(u.erg/u.s)\n",
    "    d22['log L6um AGN{}'.format(j+1)] = np.log10(L6um.value)\n",
    "    for k in range(3):\n",
    "        d22['log L6um AGN{}_l{}'.format(j+1,k+1)] = np.log10(L6um.value) - np.log10(L6um.value * (d20[vec]-d20[vec+\"_l{}\".format(k+1)])/d20[vec])\n",
    "        d22['log L6um AGN{}_u{}'.format(j+1,k+1)] = np.log10(L6um.value * (d20[vec]+d20[vec+\"_u{}\".format(k+1)])/d20[vec]) - np.log10(L6um.value)"
   ]
  },
  {
   "cell_type": "code",
   "execution_count": 13,
   "metadata": {},
   "outputs": [
    {
     "data": {
      "text/html": [
       "<i>Table length=5</i>\n",
       "<table id=\"table5717545232-184713\" class=\"table-striped table-bordered table-condensed\">\n",
       "<thead><tr><th>idx</th><th>i</th><th>ebv1</th><th>ebv2</th><th>igm</th><th>wid</th><th>ebv1_l1</th><th>ebv1_u1</th><th>ebv1_l2</th><th>ebv1_u2</th><th>ebv1_l3</th><th>ebv1_u3</th><th>ebv2_l1</th><th>ebv2_u1</th><th>ebv2_l2</th><th>ebv2_u2</th><th>ebv2_l3</th><th>ebv2_u3</th><th>log L6um AGN1</th><th>log L6um AGN1_l1</th><th>log L6um AGN1_u1</th><th>log L6um AGN1_l2</th><th>log L6um AGN1_u2</th><th>log L6um AGN1_l3</th><th>log L6um AGN1_u3</th><th>log L6um AGN2</th><th>log L6um AGN2_l1</th><th>log L6um AGN2_u1</th><th>log L6um AGN2_l2</th><th>log L6um AGN2_u2</th><th>log L6um AGN2_l3</th><th>log L6um AGN2_u3</th></tr></thead>\n",
       "<tr><td>0</td><td>1</td><td>5.011872</td><td>0.03162278</td><td>1.4</td><td>W0019-1046</td><td>0.14099985000000004</td><td>0.42288210149999994</td><td>0.5448948020000008</td><td>0.8577767009999997</td><td>1.0308000000000002</td><td>1.297701</td><td>0.03162278</td><td>0.04781004</td><td>0.03162278</td><td>0.06837722</td><td>0.03162278</td><td>0.06837722</td><td>46.52965748823731</td><td>0.026258942754694203</td><td>0.035478853887696005</td><td>0.05758186598529136</td><td>0.06829163775502423</td><td>0.10193941783311544</td><td>0.09618446676583403</td><td>44.58306144593525</td><td>0.1434591716827498</td><td>0.23361791610582117</td><td>0.2942855403136022</td><td>0.3653844247603075</td><td>0.5091473808257376</td><td>0.43784181580659265</td></tr>\n",
       "<tr><td>1</td><td>2</td><td>4.323613</td><td>0.0</td><td>0.4451524</td><td>W0116-0505</td><td>0.8639302015000001</td><td>1.4717886435</td><td>1.3147961890000004</td><td>3.8736991530000022</td><td>1.8117269999999999</td><td>5.854741084999928</td><td>0.0</td><td>0.0</td><td>0.0</td><td>0.01584893</td><td>0.0</td><td>0.03162278</td><td>47.27990372359331</td><td>0.07609204651090096</td><td>0.11123547737166462</td><td>0.13921446247294966</td><td>0.2574851146682562</td><td>0.19395462030689004</td><td>0.3516717786318324</td><td>45.21937537758478</td><td>0.05414980054766971</td><td>0.022573276613513826</td><td>0.17645960276712458</td><td>0.07720542984682055</td><td>0.36282838268861894</td><td>0.1847906925653362</td></tr>\n",
       "<tr><td>2</td><td>3</td><td>10.0</td><td>0.1</td><td>0.0</td><td>W0204-0506</td><td>2.056718</td><td>0.2073381350000023</td><td>3.6904269999999997</td><td>2.58925</td><td>4.27541458100001</td><td>5.848929999999999</td><td>0.08415107000000001</td><td>0.0</td><td>0.1</td><td>0.0</td><td>0.1</td><td>0.0</td><td>46.88544124143789</td><td>0.1060180460210276</td><td>0.0400751536274484</td><td>0.168685002138794</td><td>0.12656609134512564</td><td>0.23353148793129463</td><td>0.21897391595292248</td><td>45.001750683817434</td><td>0.4893736852521968</td><td>0.04779118863967824</td><td>0.9409168398490664</td><td>0.11401833627200375</td><td>inf</td><td>0.16757922547960646</td></tr>\n",
       "<tr><td>3</td><td>4</td><td>7.570073</td><td>0.0</td><td>0.3727581</td><td>W0220+0137</td><td>1.0164122620000002</td><td>0.8421383755000003</td><td>1.680391815000001</td><td>1.9909794260000018</td><td>2.5582009999999995</td><td>2.6813896949999743</td><td>0.0</td><td>0.0</td><td>0.0</td><td>0.01</td><td>0.0</td><td>0.01995262</td><td>47.369722419587696</td><td>0.06237038884994206</td><td>0.053128685122473485</td><td>0.11583916270027572</td><td>0.11359324434213391</td><td>0.1836252294397127</td><td>0.15928259403793277</td><td>45.06967748214678</td><td>0.020948510219390926</td><td>0.012941208356167522</td><td>0.04888769619397948</td><td>0.04538183901477311</td><td>0.08577627657869868</td><td>0.10448932920981235</td></tr>\n",
       "<tr><td>4</td><td>5</td><td>3.162278</td><td>0.01584893</td><td>1.4</td><td>W0831+0140</td><td>0.12021254699999995</td><td>0.48095612550000055</td><td>0.6503920000000001</td><td>0.818794</td><td>0.6503920000000001</td><td>1.3459126004999997</td><td>0.01584893</td><td>0.015773850000000002</td><td>0.01584893</td><td>0.034269789999999994</td><td>0.01584893</td><td>0.06358389</td><td>47.5443374862671</td><td>0.020763989344999345</td><td>0.04469265693582969</td><td>0.058720076402913435</td><td>0.08190459795837768</td><td>0.09746962486088506</td><td>0.12157726457132867</td><td>45.264544300139896</td><td>0.13582595260934482</td><td>0.19269284512318308</td><td>0.273721901318396</td><td>0.32796696719562846</td><td>0.39336844117614334</td><td>0.4644560132946225</td></tr>\n",
       "</table><style>table.dataTable {clear: both; width: auto !important; margin: 0 !important;}\n",
       ".dataTables_info, .dataTables_length, .dataTables_filter, .dataTables_paginate{\n",
       "display: inline-block; margin-right: 1em; }\n",
       ".paginate_button { margin-right: 5px; }\n",
       "</style>\n",
       "<script>\n",
       "\n",
       "var astropy_sort_num = function(a, b) {\n",
       "    var a_num = parseFloat(a);\n",
       "    var b_num = parseFloat(b);\n",
       "\n",
       "    if (isNaN(a_num) && isNaN(b_num))\n",
       "        return ((a < b) ? -1 : ((a > b) ? 1 : 0));\n",
       "    else if (!isNaN(a_num) && !isNaN(b_num))\n",
       "        return ((a_num < b_num) ? -1 : ((a_num > b_num) ? 1 : 0));\n",
       "    else\n",
       "        return isNaN(a_num) ? -1 : 1;\n",
       "}\n",
       "\n",
       "require.config({paths: {\n",
       "    datatables: 'https://cdn.datatables.net/1.10.12/js/jquery.dataTables.min'\n",
       "}});\n",
       "require([\"datatables\"], function(){\n",
       "    console.log(\"$('#table5717545232-184713').dataTable()\");\n",
       "    \n",
       "jQuery.extend( jQuery.fn.dataTableExt.oSort, {\n",
       "    \"optionalnum-asc\": astropy_sort_num,\n",
       "    \"optionalnum-desc\": function (a,b) { return -astropy_sort_num(a, b); }\n",
       "});\n",
       "\n",
       "    $('#table5717545232-184713').dataTable({\n",
       "        order: [],\n",
       "        pageLength: 50,\n",
       "        lengthMenu: [[10, 25, 50, 100, 500, 1000, -1], [10, 25, 50, 100, 500, 1000, 'All']],\n",
       "        pagingType: \"full_numbers\",\n",
       "        columnDefs: [{targets: [0, 1, 2, 3, 4, 6, 7, 8, 9, 10, 11, 12, 13, 14, 15, 16, 17, 18, 19, 20, 21, 22, 23, 24, 25, 26, 27, 28, 29, 30, 31], type: \"optionalnum\"}]\n",
       "    });\n",
       "});\n",
       "</script>\n"
      ],
      "text/plain": [
       "<IPython.core.display.HTML object>"
      ]
     },
     "execution_count": 13,
     "metadata": {},
     "output_type": "execute_result"
    }
   ],
   "source": [
    "d22.show_in_notebook()"
   ]
  },
  {
   "cell_type": "code",
   "execution_count": 14,
   "metadata": {},
   "outputs": [],
   "source": [
    "#Final table.\n",
    "wids = ['W0019$-$1046', 'W0116$-$0505', 'W0204$-$0506', 'W0220+0137', 'W0831+0140']\n",
    "k = list()\n",
    "for wid in wids:\n",
    "    k.append(np.argwhere(d22['wid']==re.sub(\"\\$\",\"\",wid))[0][0])\n",
    "\n",
    "Ftab = Table()\n",
    "Ftab['Short WISE ID'] = wids\n",
    "\n",
    "ra  = [None]*len(wids)\n",
    "dec = [None]*len(wids)\n",
    "for i, wid in enumerate(wids):\n",
    "    hmsdms1 = coords[re.sub(\"\\$\",\"\",wid)].to_string(style='hmsdms', sep=':', precision=1)\n",
    "    hmsdms2 = coords[re.sub(\"\\$\",\"\",wid)].to_string(style='hmsdms', sep=':', precision=2)\n",
    "    ra[i]  = hmsdms2.split()[0]\n",
    "    dec[i] = re.sub(\"-\",\"$-$\",hmsdms1.split()[1])\n",
    "Ftab['R.A.'] = ra\n",
    "Ftab['Dec.'] = dec\n",
    "\n",
    "Ftab['Redshift'] = d20['redshift'][k]\n",
    "Ftab['Redshift'].info.format = '7.3f'\n",
    "\n",
    "#Ftab['rmag'] = -2.5*np.log10(d21['sdssr'][k]/(3631.*u.Jy))\n",
    "#Ftab['rmag'].info.format = '5.2f'\n",
    "\n",
    "# Ftab['log L6um AGN1'] = d22['log L6um AGN1'][k]\n",
    "# Ftab['log L6um AGN1'].info.format = '5.2f'\n",
    "\n",
    "# Ftab['E(B-V) AGN1'] = d22['ebv1'][k] \n",
    "# Ftab['E(B-V) AGN1'].info.format = '5.2f'\n",
    "\n",
    "# Ftab['log L6um AGN2'] = d22['log L6um AGN2'][k]\n",
    "# Ftab['log L6um AGN2'].info.format = '5.2f'\n",
    "\n",
    "# Ftab['E(B-V) AGN2'] = d22['ebv2'][k] \n",
    "# Ftab['E(B-V) AGN2'].info.format = '5.2f'\n",
    "\n",
    "# We are showing things with a precision of 0.01. Errors that are formally smaller than that should be upped to 0.01 as it is most likely the gridding of the reddening parameters that is driving that. \n",
    "for cols in [('log L6um AGN1', 'log L6um AGN1'), ('E(B-V) AGN1', 'ebv1'), ('log L6um AGN2','log L6um AGN2'), ('E(B-V) AGN2','ebv2')]:\n",
    "    col1, col2 = cols\n",
    "    Ftab[col1] = \"{:28s}\".format(\" \")\n",
    "    d22[col2+\"_u1\"][d22[col2+\"_u1\"]<0.01] = 0.01\n",
    "    d22[col2+\"_l1\"][d22[col2+\"_l1\"]<0.01] = 0.01\n",
    "    for i in range(len(d22)):\n",
    "        #print(col1, i, d22[col2][i], d22[col2+\"_u1\"][i], d22[col2+\"_l1\"][i])\n",
    "        Ftab[col1][i] = \"${:5.2f}^{{+{:4.2f}}}_{{-{:4.2f}}}$\".format(d22[col2][i], d22[col2+\"_u1\"][i], d22[col2+\"_l1\"][i])\n",
    "\n",
    "Ftab['p_ran'] = np.zeros(len(wids))\n",
    "for i, wid in enumerate(wids):\n",
    "    Ftab['p_ran'][i] = pran[re.sub(\"\\$\",\"\",wid)]*1e2\n",
    "Ftab['p_ran'].info.format = '5.3f'\n"
   ]
  },
  {
   "cell_type": "code",
   "execution_count": 15,
   "metadata": {},
   "outputs": [],
   "source": [
    "Ftab.write(\"targets.tex\", format='latex', overwrite=True)"
   ]
  }
 ],
 "metadata": {
  "kernelspec": {
   "display_name": "stenv",
   "language": "python",
   "name": "python3"
  },
  "language_info": {
   "codemirror_mode": {
    "name": "ipython",
    "version": 3
   },
   "file_extension": ".py",
   "mimetype": "text/x-python",
   "name": "python",
   "nbconvert_exporter": "python",
   "pygments_lexer": "ipython3",
   "version": "3.11.3"
  }
 },
 "nbformat": 4,
 "nbformat_minor": 2
}
