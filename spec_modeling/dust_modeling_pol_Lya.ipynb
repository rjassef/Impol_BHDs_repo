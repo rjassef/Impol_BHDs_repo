{
 "cells": [
  {
   "cell_type": "code",
   "execution_count": 1,
   "metadata": {},
   "outputs": [],
   "source": [
    "import numpy as np\n",
    "import astropy.units as u\n",
    "import matplotlib.pyplot as plt\n",
    "from model_spec import model_spec\n",
    "from pol_model import load_bands, model_p, get_a_b\n",
    "from draine_dust_2D import draine_dust\n",
    "from scipy.optimize import minimize, LinearConstraint"
   ]
  },
  {
   "cell_type": "code",
   "execution_count": 2,
   "metadata": {},
   "outputs": [],
   "source": [
    "#The measured values in each band. \n",
    "p_measured = np.array([0.0973, 0.1085, 0.1466])\n",
    "p_unc = np.array([0.0037, 0.0023, 0.0041])"
   ]
  },
  {
   "cell_type": "code",
   "execution_count": 3,
   "metadata": {},
   "outputs": [],
   "source": [
    "def pol_plot(p_measured, p_unc, mod_p, spec):\n",
    "    wave = np.array([5500., 6500., 8000.]) / spec.zspec\n",
    "    plt.errorbar(wave, p_measured, yerr=p_unc, fmt='o', label='Measurements')\n",
    "    plt.plot(wave, mod_p, 'ks', label='Dust SMC')\n",
    "    plt.legend()\n",
    "    plt.xlabel('Wavelength (Angstroms)')\n",
    "    plt.ylabel('Polarization fraction')\n",
    "    plt.show()"
   ]
  },
  {
   "cell_type": "markdown",
   "metadata": {},
   "source": [
    "## Model the SDSS Spectrum"
   ]
  },
  {
   "cell_type": "code",
   "execution_count": 4,
   "metadata": {},
   "outputs": [],
   "source": [
    "spec, model = model_spec()"
   ]
  },
  {
   "cell_type": "code",
   "execution_count": 5,
   "metadata": {},
   "outputs": [],
   "source": [
    "#Assume that Lyman alpha is also polarized in the same manner as all the other emission lines. \n",
    "model.multi_line[0].pol = True\n",
    "model.multi_line[1].pol = True"
   ]
  },
  {
   "cell_type": "markdown",
   "metadata": {},
   "source": [
    "## Model the Broad-band polarizations"
   ]
  },
  {
   "cell_type": "code",
   "execution_count": 6,
   "metadata": {},
   "outputs": [],
   "source": [
    "bands = load_bands()"
   ]
  },
  {
   "cell_type": "code",
   "execution_count": 7,
   "metadata": {},
   "outputs": [],
   "source": [
    "def chi2(x, dust, spec):\n",
    "    phi = x[3]\n",
    "    theta = dust.pfrac(spec.lam_rest.to(u.um).value, phi).flatten()\n",
    "    a, b = get_a_b(theta, theta, bands, spec, model)\n",
    "    p_mod = np.zeros(3)\n",
    "    for j in range(3):\n",
    "        p_mod[j] = model_p(x[:3], a[j], b[j])\n",
    "    return np.sum(((p_measured-p_mod)/p_unc)**2)"
   ]
  },
  {
   "cell_type": "code",
   "execution_count": 8,
   "metadata": {},
   "outputs": [
    {
     "name": "stdout",
     "output_type": "stream",
     "text": [
      " message: Optimization terminated successfully\n",
      " success: True\n",
      "  status: 0\n",
      "     fun: 25.490436501117745\n",
      "       x: [ 9.668e-01  1.000e+00  9.346e+01  8.473e+01]\n",
      "     nit: 17\n",
      "     jac: [-3.854e-03 -1.822e+02  2.515e-04 -2.007e-04]\n",
      "    nfev: 93\n",
      "    njev: 17\n",
      "0.09537575157531382\n",
      "0.1118596882600887\n",
      "0.1269002689147346\n",
      " message: Optimization terminated successfully\n",
      " success: True\n",
      "  status: 0\n",
      "     fun: 2.7149629369290274e-11\n",
      "       x: [ 9.740e-01  2.265e-01  7.898e+01  1.289e+02]\n",
      "     nit: 12\n",
      "     jac: [-3.123e-04  3.627e-04  1.319e-06  2.068e-05]\n",
      "    nfev: 67\n",
      "    njev: 12\n",
      "0.09729999530462814\n",
      "0.10849998979827839\n",
      "0.1466000099295217\n",
      " message: Optimization terminated successfully\n",
      " success: True\n",
      "  status: 0\n",
      "     fun: 22.381551890369145\n",
      "       x: [ 1.000e+00  1.000e+00  8.133e+01  7.821e+01]\n",
      "     nit: 23\n",
      "     jac: [-2.158e+02 -3.451e+01 -8.163e-04  1.247e-04]\n",
      "    nfev: 121\n",
      "    njev: 23\n",
      "0.0967047658412802\n",
      "0.10970594504165736\n",
      "0.1273340324532872\n"
     ]
    }
   ],
   "source": [
    "dust_types = [\"SMC\", \"LMC\", \"MW\"]\n",
    "mod_p = np.zeros((len(dust_types),len(bands)))\n",
    "for k, dust_type in enumerate(dust_types):\n",
    "\n",
    "    dust = draine_dust(type=dust_type)\n",
    "\n",
    "    #The code has difficulties converging above and below 90 deg. So let's try both and save the best.\n",
    "    for i in range(2):\n",
    "        x0 = np.array([0.5, 1.0, 50., 60.])\n",
    "        if i==1:\n",
    "            x0[-1] = 170.\n",
    "        G = np.identity(x0.shape[0])\n",
    "        min_vals = [0., 0., 0., 0.]\n",
    "        max_vals = [1., 1., 360., 180.]\n",
    "        lincon = LinearConstraint(G, min_vals, max_vals)\n",
    "        xopt_aux = minimize(chi2, x0=x0, constraints=lincon, args=(dust, spec))\n",
    "        if i==0 or xopt_aux.fun < xopt.fun:\n",
    "            xopt = xopt_aux\n",
    "\n",
    "    print(xopt)\n",
    "\n",
    "    phi = xopt.x[3]\n",
    "    theta = dust.pfrac(spec.lam_rest.to(u.um).value, phi).flatten()\n",
    "    a, b = get_a_b(theta, theta, bands, spec, model)\n",
    "\n",
    "    for j in range(len(bands)):\n",
    "        mod_p[k,j] = model_p(xopt.x[:3], a[j], b[j])\n",
    "        print(mod_p[k,j])\n",
    "\n",
    "    #pol_plot(p_measured, p_unc, mod_p, spec)"
   ]
  },
  {
   "cell_type": "code",
   "execution_count": 9,
   "metadata": {},
   "outputs": [
    {
     "data": {
      "image/png": "[encoded data removed]",
      "text/plain": [
       "<Figure size 640x480 with 1 Axes>"
      ]
     },
     "metadata": {},
     "output_type": "display_data"
    }
   ],
   "source": [
    "wave = np.array([5500., 6500., 8000.]) / spec.zspec\n",
    "\n",
    "fig, ax = plt.subplots(1)\n",
    "\n",
    "ax.errorbar(wave, p_measured, yerr=p_unc, fmt='ko', label='Measurements')\n",
    "for k, dust_type in enumerate(dust_types):\n",
    "    ax.plot(wave, mod_p[k], 's', label=dust_type)\n",
    "ax.legend()\n",
    "ax.set_xlabel('Wavelength (Angstroms)')\n",
    "ax.set_ylabel('Polarization fraction')\n",
    "plt.show()"
   ]
  },
  {
   "cell_type": "markdown",
   "metadata": {},
   "source": [
    "### Dust for continuum and Gas for Broad Lines."
   ]
  },
  {
   "cell_type": "code",
   "execution_count": 10,
   "metadata": {},
   "outputs": [],
   "source": [
    "def chi2(x, dust, spec):\n",
    "    phi = x[3]\n",
    "    theta_A = dust.pfrac(spec.lam_rest.to(u.um).value, phi).flatten()\n",
    "    theta_B = np.ones(len(spec.lam_rest))\n",
    "    a, b = get_a_b(theta_A, theta_B, bands, spec, model)\n",
    "    p_mod = np.zeros(3)\n",
    "    for j in range(3):\n",
    "        p_mod[j] = model_p(x[:3], a[j], b[j])\n",
    "    return np.sum(((p_measured-p_mod)/p_unc)**2)"
   ]
  },
  {
   "cell_type": "code",
   "execution_count": 12,
   "metadata": {},
   "outputs": [
    {
     "name": "stdout",
     "output_type": "stream",
     "text": [
      " message: Optimization terminated successfully\n",
      " success: True\n",
      "  status: 0\n",
      "     fun: 10.749440081686163\n",
      "       x: [ 1.000e+00  4.971e-01  2.600e+02  8.692e+01]\n",
      "     nit: 27\n",
      "     jac: [-2.029e+02 -8.295e-03  6.284e-04  4.411e-06]\n",
      "    nfev: 149\n",
      "    njev: 27\n",
      "0.09716907412705074\n",
      "0.10878711797069011\n",
      "0.13316813189162588\n",
      " message: Optimization terminated successfully\n",
      " success: True\n",
      "  status: 0\n",
      "     fun: 1.1890552246517595e-08\n",
      "       x: [ 1.000e+00  8.511e-02  7.897e+01  1.282e+02]\n",
      "     nit: 21\n",
      "     jac: [ 2.013e-02 -1.834e-01 -3.690e-04 -2.063e-03]\n",
      "    nfev: 112\n",
      "    njev: 21\n",
      "0.09730030170800269\n",
      "0.10849986634625801\n",
      "0.14659982296115634\n",
      " message: Optimization terminated successfully\n",
      " success: True\n",
      "  status: 0\n",
      "     fun: 19.270616436967956\n",
      "       x: [ 1.000e+00  3.899e-01  2.834e+02  7.859e+01]\n",
      "     nit: 31\n",
      "     jac: [-2.600e+02 -3.845e-02 -5.233e-04  1.931e-04]\n",
      "    nfev: 168\n",
      "    njev: 31\n",
      "0.09710047683151635\n",
      "0.10893632758684739\n",
      "0.12861986637581532\n"
     ]
    }
   ],
   "source": [
    "dust_types = [\"SMC\", \"LMC\", \"MW\"]\n",
    "mod_p = np.zeros((len(dust_types),len(bands)))\n",
    "for k, dust_type in enumerate(dust_types):\n",
    "\n",
    "    dust = draine_dust(type=dust_type)\n",
    "\n",
    "    #The code has difficulties converging above and below 90 deg. So let's try both and save the best.\n",
    "    for i in range(2):\n",
    "        x0 = np.array([0.5, 0.9, 50., 60.])\n",
    "        if i==1:\n",
    "            x0[-1] = 170.\n",
    "        G = np.identity(x0.shape[0])\n",
    "        min_vals = [0., 0., 0., 0.]\n",
    "        max_vals = [1., 1., 360., 180.]\n",
    "        lincon = LinearConstraint(G, min_vals, max_vals)\n",
    "        xopt_aux = minimize(chi2, x0=x0, constraints=lincon, args=(dust, spec))\n",
    "        if i==0 or xopt_aux.fun < xopt.fun:\n",
    "            xopt = xopt_aux\n",
    "    print(xopt)\n",
    "\n",
    "    phi = xopt.x[3]\n",
    "    theta_A = dust.pfrac(spec.lam_rest.to(u.um).value, phi).flatten()\n",
    "    theta_B = np.ones(len(spec.lam_rest))\n",
    "    a, b = get_a_b(theta_A, theta_B, bands, spec, model)\n",
    "\n",
    "    for j in range(len(bands)):\n",
    "        mod_p[k,j] = model_p(xopt.x[:3], a[j], b[j])\n",
    "        print(mod_p[k,j])\n",
    "\n",
    "    #pol_plot(p_measured, p_unc, mod_p, spec)"
   ]
  },
  {
   "cell_type": "code",
   "execution_count": 13,
   "metadata": {},
   "outputs": [
    {
     "data": {
      "image/png": "[encoded data removed]",
      "text/plain": [
       "<Figure size 640x480 with 1 Axes>"
      ]
     },
     "metadata": {},
     "output_type": "display_data"
    }
   ],
   "source": [
    "wave = np.array([5500., 6500., 8000.]) / spec.zspec\n",
    "\n",
    "fig, ax = plt.subplots(1)\n",
    "\n",
    "ax.errorbar(wave, p_measured, yerr=p_unc, fmt='ko', label='Measurements')\n",
    "for k, dust_type in enumerate(dust_types):\n",
    "    ax.plot(wave, mod_p[k], 's', label=dust_type)\n",
    "ax.legend()\n",
    "ax.set_xlabel('Wavelength (Angstroms)')\n",
    "ax.set_ylabel('Polarization fraction')\n",
    "plt.show()"
   ]
  }
 ],
 "metadata": {
  "kernelspec": {
   "display_name": "stenv",
   "language": "python",
   "name": "python3"
  },
  "language_info": {
   "codemirror_mode": {
    "name": "ipython",
    "version": 3
   },
   "file_extension": ".py",
   "mimetype": "text/x-python",
   "name": "python",
   "nbconvert_exporter": "python",
   "pygments_lexer": "ipython3",
   "version": "3.11.3"
  }
 },
 "nbformat": 4,
 "nbformat_minor": 2
}
