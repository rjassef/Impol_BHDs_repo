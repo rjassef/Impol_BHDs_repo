{
 "cells": [
  {
   "cell_type": "code",
   "execution_count": 1,
   "metadata": {},
   "outputs": [],
   "source": [
    "import numpy as np\n",
    "import astropy.units as u\n",
    "import matplotlib.pyplot as plt\n",
    "from model_spec import model_spec\n",
    "from pol_model import load_bands, model_p, get_a_b\n",
    "from draine_dust_2D import draine_dust\n",
    "from scipy.optimize import minimize, LinearConstraint"
   ]
  },
  {
   "cell_type": "code",
   "execution_count": 2,
   "metadata": {},
   "outputs": [],
   "source": [
    "#The measured values in each band. \n",
    "p_measured = np.array([0.0973, 0.1085, 0.1466])\n",
    "p_unc = np.array([0.0037, 0.0023, 0.0041])"
   ]
  },
  {
   "cell_type": "code",
   "execution_count": 3,
   "metadata": {},
   "outputs": [],
   "source": [
    "def pol_plot(p_measured, p_unc, mod_p, spec):\n",
    "    wave = np.array([5500., 6500., 8000.]) / spec.zspec\n",
    "    plt.errorbar(wave, p_measured, yerr=p_unc, fmt='o', label='Measurements')\n",
    "    plt.plot(wave, mod_p, 'ks', label='Dust SMC')\n",
    "    plt.legend()\n",
    "    plt.xlabel('Wavelength (Angstroms)')\n",
    "    plt.ylabel('Polarization fraction')\n",
    "    plt.show()"
   ]
  },
  {
   "cell_type": "markdown",
   "metadata": {},
   "source": [
    "## Model the SDSS Spectrum"
   ]
  },
  {
   "cell_type": "code",
   "execution_count": 4,
   "metadata": {},
   "outputs": [],
   "source": [
    "spec, model = model_spec()"
   ]
  },
  {
   "cell_type": "code",
   "execution_count": 5,
   "metadata": {},
   "outputs": [],
   "source": [
    "#Assume that Lyman alpha is also polarized in the same manner as all the other emission lines. \n",
    "model.multi_line[0].pol = True\n",
    "model.multi_line[1].pol = True"
   ]
  },
  {
   "cell_type": "markdown",
   "metadata": {},
   "source": [
    "## Model the Broad-band polarizations"
   ]
  },
  {
   "cell_type": "code",
   "execution_count": 6,
   "metadata": {},
   "outputs": [],
   "source": [
    "bands = load_bands()"
   ]
  },
  {
   "cell_type": "code",
   "execution_count": 7,
   "metadata": {},
   "outputs": [],
   "source": [
    "def chi2(x, dust, spec):\n",
    "    phi = x[3]\n",
    "    theta = np.abs(dust.pfrac(spec.lam_rest.to(u.um).value, phi).flatten())\n",
    "    a, b = get_a_b(theta, theta, bands, spec, model)\n",
    "    p_mod = np.zeros(3)\n",
    "    for j in range(3):\n",
    "        p_mod[j] = model_p(x[:3], a[j], b[j])\n",
    "    return np.sum(((p_measured-p_mod)/p_unc)**2)"
   ]
  },
  {
   "cell_type": "code",
   "execution_count": 8,
   "metadata": {},
   "outputs": [
    {
     "name": "stdout",
     "output_type": "stream",
     "text": [
      " message: Optimization terminated successfully\n",
      " success: True\n",
      "  status: 0\n",
      "     fun: 11.903341926844046\n",
      "       x: [ 1.000e+00 -5.322e-11  5.365e+01  1.405e+02]\n",
      "     nit: 7\n",
      "     jac: [-2.730e+02  9.526e+00  0.000e+00 -3.099e-06]\n",
      "    nfev: 33\n",
      "    njev: 6\n",
      "0.09733229902696978\n",
      "0.10718334990756578\n",
      "0.1326506218674162\n",
      " message: Optimization terminated successfully\n",
      " success: True\n",
      "  status: 0\n",
      "     fun: 3.360515933234101e-07\n",
      "       x: [ 8.892e-01  1.707e-01  7.984e+01  1.276e+02]\n",
      "     nit: 11\n",
      "     jac: [-2.552e-02 -1.916e-02 -5.879e-05 -1.316e-03]\n",
      "    nfev: 62\n",
      "    njev: 11\n",
      "0.09730088865238094\n",
      "0.1084999764465823\n",
      "0.14659783722742561\n",
      " message: Optimization terminated successfully\n",
      " success: True\n",
      "  status: 0\n",
      "     fun: 22.381551890369145\n",
      "       x: [ 1.000e+00  1.000e+00  8.133e+01  7.821e+01]\n",
      "     nit: 23\n",
      "     jac: [-2.158e+02 -3.451e+01 -8.163e-04  1.247e-04]\n",
      "    nfev: 121\n",
      "    njev: 23\n",
      "0.0967047658412802\n",
      "0.10970594504165736\n",
      "0.1273340324532872\n"
     ]
    }
   ],
   "source": [
    "dust_types = [\"SMC\", \"LMC\", \"MW\"]\n",
    "mod_p = np.zeros((len(dust_types),len(bands)))\n",
    "for k, dust_type in enumerate(dust_types):\n",
    "\n",
    "    dust = draine_dust(type=dust_type)\n",
    "\n",
    "    #The code has difficulties converging above and below 90 deg. So let's try both and save the best.\n",
    "    for i in range(2):\n",
    "        x0 = np.array([0.5, 1.0, 50., 60.])\n",
    "        if i==1:\n",
    "            x0[-1] = 170.\n",
    "        G = np.identity(x0.shape[0])\n",
    "        min_vals = [0., 0., 0., 0.]\n",
    "        max_vals = [1., 1., 360., 180.]\n",
    "        lincon = LinearConstraint(G, min_vals, max_vals)\n",
    "        xopt_aux = minimize(chi2, x0=x0, constraints=lincon, args=(dust, spec))\n",
    "        if i==0 or xopt_aux.fun < xopt.fun:\n",
    "            xopt = xopt_aux\n",
    "\n",
    "    print(xopt)\n",
    "\n",
    "    phi = xopt.x[3]\n",
    "    theta = np.abs(dust.pfrac(spec.lam_rest.to(u.um).value, phi).flatten())\n",
    "    a, b = get_a_b(theta, theta, bands, spec, model)\n",
    "\n",
    "    for j in range(len(bands)):\n",
    "        mod_p[k,j] = model_p(xopt.x[:3], a[j], b[j])\n",
    "        print(mod_p[k,j])\n",
    "\n",
    "    #pol_plot(p_measured, p_unc, mod_p, spec)"
   ]
  },
  {
   "cell_type": "code",
   "execution_count": 9,
   "metadata": {},
   "outputs": [
    {
     "data": {
      "image/png": "[encoded data removed]",
      "text/plain": [
       "<Figure size 640x480 with 1 Axes>"
      ]
     },
     "metadata": {},
     "output_type": "display_data"
    }
   ],
   "source": [
    "wave = np.array([5500., 6500., 8000.]) / spec.zspec\n",
    "\n",
    "fig, ax = plt.subplots(1)\n",
    "\n",
    "ax.errorbar(wave, p_measured, yerr=p_unc, fmt='ko', label='Measurements')\n",
    "for k, dust_type in enumerate(dust_types):\n",
    "    ax.plot(wave, mod_p[k], 's', label=dust_type)\n",
    "ax.legend()\n",
    "ax.set_xlabel('Wavelength (Angstroms)')\n",
    "ax.set_ylabel('Polarization fraction')\n",
    "plt.show()"
   ]
  },
  {
   "cell_type": "markdown",
   "metadata": {},
   "source": [
    "### Dust for continuum and Gas for Broad Lines."
   ]
  },
  {
   "cell_type": "code",
   "execution_count": 10,
   "metadata": {},
   "outputs": [],
   "source": [
    "def chi2(x, dust, spec):\n",
    "    phi = x[3]\n",
    "    theta_A = np.abs(dust.pfrac(spec.lam_rest.to(u.um).value, phi).flatten())\n",
    "    theta_B = np.ones(len(spec.lam_rest))\n",
    "    a, b = get_a_b(theta_A, theta_B, bands, spec, model)\n",
    "    p_mod = np.zeros(3)\n",
    "    for j in range(3):\n",
    "        p_mod[j] = model_p(x[:3], a[j], b[j])\n",
    "    return np.sum(((p_measured-p_mod)/p_unc)**2)"
   ]
  },
  {
   "cell_type": "code",
   "execution_count": 11,
   "metadata": {},
   "outputs": [
    {
     "name": "stdout",
     "output_type": "stream",
     "text": [
      " message: Optimization terminated successfully\n",
      " success: True\n",
      "  status: 0\n",
      "     fun: 11.903342511475861\n",
      "       x: [ 1.000e+00 -2.528e-10  7.036e+01  1.405e+02]\n",
      "     nit: 9\n",
      "     jac: [-2.730e+02  1.173e+02  0.000e+00 -8.821e-06]\n",
      "    nfev: 42\n",
      "    njev: 8\n",
      "0.09733231488178562\n",
      "0.1071833625702602\n",
      "0.1326506177622731\n",
      " message: Optimization terminated successfully\n",
      " success: True\n",
      "  status: 0\n",
      "     fun: 1.4652535162669993e-07\n",
      "       x: [ 9.111e-01  7.636e-02  7.549e+01  1.268e+02]\n",
      "     nit: 11\n",
      "     jac: [-4.915e-02  7.464e-02  1.651e-04  1.861e-04]\n",
      "    nfev: 60\n",
      "    njev: 11\n",
      "0.09729900058685946\n",
      "0.10849984991229387\n",
      "0.1465989206267433\n",
      " message: Optimization terminated successfully\n",
      " success: True\n",
      "  status: 0\n",
      "     fun: 84.09188914565664\n",
      "       x: [ 1.000e+00 -1.423e-09  3.423e+02  4.806e+01]\n",
      "     nit: 11\n",
      "     jac: [-2.513e+02  8.211e+02  0.000e+00  5.436e-04]\n",
      "    nfev: 38\n",
      "    njev: 7\n",
      "0.1113191897059734\n",
      "0.10796955230098143\n",
      "0.11237484531854981\n"
     ]
    }
   ],
   "source": [
    "dust_types = [\"SMC\", \"LMC\", \"MW\"]\n",
    "mod_p = np.zeros((len(dust_types),len(bands)))\n",
    "for k, dust_type in enumerate(dust_types):\n",
    "\n",
    "    dust = draine_dust(type=dust_type)\n",
    "\n",
    "    #The code has difficulties converging above and below 90 deg. So let's try both and save the best.\n",
    "    for i in range(2):\n",
    "        x0 = np.array([0.5, 1.0, 50., 60.])\n",
    "        if i==1:\n",
    "            x0[-1] = 170.\n",
    "        G = np.identity(x0.shape[0])\n",
    "        min_vals = [0., 0., 0., 0.]\n",
    "        max_vals = [1., 1., 360., 180.]\n",
    "        lincon = LinearConstraint(G, min_vals, max_vals)\n",
    "        xopt_aux = minimize(chi2, x0=x0, constraints=lincon, args=(dust, spec))\n",
    "        if i==0 or xopt_aux.fun < xopt.fun:\n",
    "            xopt = xopt_aux\n",
    "    print(xopt)\n",
    "\n",
    "    phi = xopt.x[3]\n",
    "    theta_A = np.abs(dust.pfrac(spec.lam_rest.to(u.um).value, phi).flatten())\n",
    "    theta_B = np.ones(len(spec.lam_rest))\n",
    "    a, b = np.abs(get_a_b(theta_A, theta_B, bands, spec, model))\n",
    "\n",
    "    for j in range(len(bands)):\n",
    "        mod_p[k,j] = model_p(xopt.x[:3], a[j], b[j])\n",
    "        print(mod_p[k,j])\n",
    "\n",
    "    #pol_plot(p_measured, p_unc, mod_p, spec)"
   ]
  },
  {
   "cell_type": "code",
   "execution_count": 12,
   "metadata": {},
   "outputs": [
    {
     "data": {
      "image/png": "[encoded data removed]",
      "text/plain": [
       "<Figure size 640x480 with 1 Axes>"
      ]
     },
     "metadata": {},
     "output_type": "display_data"
    }
   ],
   "source": [
    "wave = np.array([5500., 6500., 8000.]) / spec.zspec\n",
    "\n",
    "fig, ax = plt.subplots(1)\n",
    "\n",
    "ax.errorbar(wave, p_measured, yerr=p_unc, fmt='ko', label='Measurements')\n",
    "for k, dust_type in enumerate(dust_types):\n",
    "    ax.plot(wave, mod_p[k], 's', label=dust_type)\n",
    "ax.legend()\n",
    "ax.set_xlabel('Wavelength (Angstroms)')\n",
    "ax.set_ylabel('Polarization fraction')\n",
    "plt.show()"
   ]
  }
 ],
 "metadata": {
  "kernelspec": {
   "display_name": "stenv",
   "language": "python",
   "name": "python3"
  },
  "language_info": {
   "codemirror_mode": {
    "name": "ipython",
    "version": 3
   },
   "file_extension": ".py",
   "mimetype": "text/x-python",
   "name": "python",
   "nbconvert_exporter": "python",
   "pygments_lexer": "ipython3",
   "version": "3.11.3"
  }
 },
 "nbformat": 4,
 "nbformat_minor": 2
}
