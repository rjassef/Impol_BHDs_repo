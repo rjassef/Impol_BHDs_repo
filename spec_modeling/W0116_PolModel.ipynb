{
 "cells": [
  {
   "cell_type": "code",
   "execution_count": 1,
   "metadata": {},
   "outputs": [],
   "source": [
    "import numpy as np\n",
    "import astropy.units as u\n",
    "import matplotlib.pyplot as plt\n",
    "\n",
    "from polModel import PolModel\n",
    "from draine_dust_2D import draine_dust\n",
    "from model_spec import model_spec"
   ]
  },
  {
   "cell_type": "code",
   "execution_count": 2,
   "metadata": {},
   "outputs": [],
   "source": [
    "#General plotting function\n",
    "def pol_plot(mod_p, spec):\n",
    "\n",
    "    data = np.loadtxt(\"pol_measurements.dat\", usecols=[1,2])\n",
    "    p_measured = data[:,0]\n",
    "    p_unc = data[:,1]\n",
    "\n",
    "    wave = np.array([5500., 6500., 8000.]) / spec.zspec\n",
    "\n",
    "    fig, ax = plt.subplots(1)\n",
    "\n",
    "    ax.errorbar(wave, p_measured, yerr=p_unc, fmt='ko', label='Measurements')\n",
    "    for scat_type in mod_p.keys():\n",
    "        ax.plot(wave, mod_p[scat_type], 's', label=scat_type)\n",
    "\n",
    "    ax.legend()\n",
    "    ax.set_xlabel('Wavelength (Angstroms)')\n",
    "    ax.set_ylabel('Polarization fraction')\n",
    "    plt.show()"
   ]
  },
  {
   "cell_type": "markdown",
   "metadata": {},
   "source": [
    "## Model the SDSS Spectrum"
   ]
  },
  {
   "cell_type": "code",
   "execution_count": 3,
   "metadata": {},
   "outputs": [],
   "source": [
    "spec, model = model_spec()"
   ]
  },
  {
   "cell_type": "markdown",
   "metadata": {},
   "source": [
    "### Pure Gas Models."
   ]
  },
  {
   "cell_type": "code",
   "execution_count": 4,
   "metadata": {},
   "outputs": [],
   "source": [
    "#Define the object\n",
    "class Gas_Gas(object):\n",
    "    def get_theta(self, lam_rest):\n",
    "        return np.ones(len(lam_rest))\n",
    "    def get_theta_A(self, x, lam_rest):\n",
    "        return self.get_theta(lam_rest)\n",
    "    def get_theta_B(self, x, lam_rest):\n",
    "        return self.get_theta(lam_rest)"
   ]
  },
  {
   "cell_type": "code",
   "execution_count": 5,
   "metadata": {},
   "outputs": [
    {
     "name": "stdout",
     "output_type": "stream",
     "text": [
      " message: Optimization terminated successfully\n",
      " success: True\n",
      "  status: 0\n",
      "     fun: 2.7602727778586817e-08\n",
      "       x: [ 1.365e-01  3.558e-01  5.178e+01]\n",
      "     nit: 11\n",
      "     jac: [ 8.844e-02 -1.360e-03 -1.440e-06]\n",
      "    nfev: 51\n",
      "    njev: 11\n"
     ]
    }
   ],
   "source": [
    "#Set the objects\n",
    "scat_obj = Gas_Gas()\n",
    "pol_model = PolModel(spec, model)\n",
    "\n",
    "#Run the fits\n",
    "x0 = np.array([0.15, 0.15, 45.])\n",
    "min_vals = np.array([0., 0., 0.])\n",
    "max_vals = np.array([1., 1., 90.])\n",
    "pol_model.fit_pol(scat_obj, x0, min_vals, max_vals)\n",
    "print(pol_model.xopt)"
   ]
  },
  {
   "cell_type": "code",
   "execution_count": 6,
   "metadata": {},
   "outputs": [],
   "source": [
    "xopt_all = dict()\n",
    "mod_p_all = dict()\n",
    "xopt_all[\"Gas\"] = pol_model.xopt\n",
    "mod_p_all[\"Gas\"] = pol_model.mod_p"
   ]
  },
  {
   "cell_type": "code",
   "execution_count": 7,
   "metadata": {},
   "outputs": [
    {
     "data": {
      "image/png": "[encoded data removed]",
      "text/plain": [
       "<Figure size 640x480 with 1 Axes>"
      ]
     },
     "metadata": {},
     "output_type": "display_data"
    }
   ],
   "source": [
    "pol_plot(mod_p_all, spec)"
   ]
  },
  {
   "cell_type": "markdown",
   "metadata": {},
   "source": [
    "### Pure Dust Models."
   ]
  },
  {
   "cell_type": "code",
   "execution_count": 8,
   "metadata": {},
   "outputs": [],
   "source": [
    "#Define the object.\n",
    "class Dust_Dust(object):\n",
    "\n",
    "    def __init__(self, dust_type):\n",
    "        #Load the dust model. \n",
    "        self.dust = draine_dust(dust_type)\n",
    "        return\n",
    "\n",
    "    def get_theta(self, x, lam_rest):\n",
    "        phi = x[3]\n",
    "        return self.dust.pfrac(lam_rest.to(u.um).value, phi).flatten()\n",
    "    \n",
    "    def get_theta_A(self, x, lam_rest):\n",
    "        return self.get_theta(x, lam_rest)\n",
    "    \n",
    "    def get_theta_B(self, x, lam_rest):\n",
    "        return self.get_theta(x, lam_rest)\n",
    "\n"
   ]
  },
  {
   "cell_type": "code",
   "execution_count": 9,
   "metadata": {},
   "outputs": [],
   "source": [
    "dust_types = [\"SMC\", \"LMC\", \"MW\"]"
   ]
  },
  {
   "cell_type": "code",
   "execution_count": 10,
   "metadata": {},
   "outputs": [
    {
     "name": "stdout",
     "output_type": "stream",
     "text": [
      " message: Optimization terminated successfully\n",
      " success: True\n",
      "  status: 0\n",
      "     fun: 33.164857121768435\n",
      "       x: [ 9.624e-01  1.000e+00  8.220e+01  8.203e+01]\n",
      "     nit: 19\n",
      "     jac: [ 3.273e-02 -7.554e+01 -1.224e-03  6.008e-05]\n",
      "    nfev: 102\n",
      "    njev: 18\n",
      " message: Optimization terminated successfully\n",
      " success: True\n",
      "  status: 0\n",
      "     fun: 12.413731638025636\n",
      "       x: [ 1.000e+00  3.982e-01  9.000e+01  1.277e+02]\n",
      "     nit: 25\n",
      "     jac: [-7.878e+01 -3.418e-03 -1.788e-05 -4.470e-05]\n",
      "    nfev: 132\n",
      "    njev: 25\n",
      " message: Optimization terminated successfully\n",
      " success: True\n",
      "  status: 0\n",
      "     fun: 22.326723818711272\n",
      "       x: [ 1.000e+00  1.000e+00  7.952e+01  7.671e+01]\n",
      "     nit: 24\n",
      "     jac: [-9.080e+01 -3.884e+01 -2.074e-05  2.146e-05]\n",
      "    nfev: 127\n",
      "    njev: 24\n"
     ]
    }
   ],
   "source": [
    "for dust_type in dust_types:\n",
    "    #Set the objects\n",
    "    scat_obj = Dust_Dust(dust_type)\n",
    "\n",
    "    #Run the fits. Attempt a start with scattering angle < 90. and > 90.\n",
    "    x0 = np.array([0.9, 0.3, 70., 90.])\n",
    "    min_vals = np.array([0., 0., 0., 0.])\n",
    "    max_vals = np.array([1., 1., 90., 180.])\n",
    "    for i in range(2):\n",
    "        if i==0:\n",
    "            x0[-1] = 60.\n",
    "        else:\n",
    "            x0[-1] = 170.\n",
    "        pol_model_aux = PolModel(spec, model)\n",
    "        pol_model_aux.fit_pol(scat_obj, x0, min_vals, max_vals)\n",
    "        if i==0 or pol_model_aux.xopt.fun < pol_model.xopt.fun:\n",
    "            pol_model = pol_model_aux\n",
    "\n",
    "    print(pol_model.xopt)\n",
    "\n",
    "    #Save the results.\n",
    "    xopt_all[\"DD_\"+dust_type] = pol_model.xopt\n",
    "    mod_p_all[\"DD_\"+dust_type] = pol_model.mod_p\n",
    "\n"
   ]
  },
  {
   "cell_type": "code",
   "execution_count": 11,
   "metadata": {},
   "outputs": [
    {
     "data": {
      "image/png": "[encoded data removed]",
      "text/plain": [
       "<Figure size 640x480 with 1 Axes>"
      ]
     },
     "metadata": {},
     "output_type": "display_data"
    }
   ],
   "source": [
    "pol_plot(mod_p_all, spec)"
   ]
  },
  {
   "cell_type": "markdown",
   "metadata": {},
   "source": [
    "### Dust for continuum, Gas for emission lines."
   ]
  },
  {
   "cell_type": "code",
   "execution_count": 12,
   "metadata": {},
   "outputs": [],
   "source": [
    "class Dust_Gas(Dust_Dust):\n",
    "\n",
    "    def __init__(self, dust_type):\n",
    "        #Load the dust model. \n",
    "        self.dust = draine_dust(dust_type)\n",
    "        return\n",
    "\n",
    "    def get_theta_A(self, x, lam_rest):\n",
    "        phi = x[3]\n",
    "        return self.dust.pfrac(lam_rest.to(u.um).value, phi).flatten()\n",
    "    \n",
    "    def get_theta_B(self, x, lam_rest):\n",
    "        return np.ones(len(spec.lam_rest))"
   ]
  },
  {
   "cell_type": "code",
   "execution_count": 13,
   "metadata": {},
   "outputs": [
    {
     "name": "stdout",
     "output_type": "stream",
     "text": [
      " message: Optimization terminated successfully\n",
      " success: True\n",
      "  status: 0\n",
      "     fun: 25.08979049501672\n",
      "       x: [ 1.000e+00  4.804e-01  9.000e+01  9.077e+01]\n",
      "     nit: 66\n",
      "     jac: [-1.682e+02  8.232e-02 -9.537e-06 -1.523e-04]\n",
      "    nfev: 349\n",
      "    njev: 66\n",
      " message: Optimization terminated successfully\n",
      " success: True\n",
      "  status: 0\n",
      "     fun: 0.9938686949693745\n",
      "       x: [ 1.000e+00  1.386e-01  5.442e-03  1.481e+02]\n",
      "     nit: 60\n",
      "     jac: [-1.110e+01 -3.289e-02  4.746e-06  4.725e-05]\n",
      "    nfev: 318\n",
      "    njev: 60\n",
      " message: Optimization terminated successfully\n",
      " success: True\n",
      "  status: 0\n",
      "     fun: 26.59660972666478\n",
      "       x: [ 1.000e+00  3.341e-01  9.000e+01  7.838e+01]\n",
      "     nit: 47\n",
      "     jac: [-2.332e+02  3.986e-02  0.000e+00 -1.969e-04]\n",
      "    nfev: 249\n",
      "    njev: 47\n"
     ]
    }
   ],
   "source": [
    "for dust_type in dust_types:\n",
    "    #Set the objects\n",
    "    scat_obj = Dust_Gas(dust_type)\n",
    "\n",
    "    #Run the fits. Attempt a start with scattering angle < 90. and > 90.\n",
    "    x0 = np.array([0.9, 0.5, 70., 90.])\n",
    "    min_vals = np.array([0., 0., 0., 0.])\n",
    "    max_vals = np.array([1., 1., 90., 180.])\n",
    "    for i in range(2):\n",
    "        if i==0:\n",
    "            x0[-1] = 60.\n",
    "        else:\n",
    "            x0[-1] = 170.\n",
    "        pol_model_aux = PolModel(spec, model)\n",
    "        pol_model_aux.fit_pol(scat_obj, x0, min_vals, max_vals)\n",
    "        if i==0 or pol_model_aux.xopt.fun < pol_model.xopt.fun:\n",
    "            pol_model = pol_model_aux\n",
    "\n",
    "    print(pol_model.xopt)\n",
    "\n",
    "    #Save the results.\n",
    "    xopt_all[\"DG_\"+dust_type] = pol_model.xopt\n",
    "    mod_p_all[\"DG_\"+dust_type] = pol_model.mod_p\n",
    "\n"
   ]
  },
  {
   "cell_type": "code",
   "execution_count": 14,
   "metadata": {},
   "outputs": [
    {
     "data": {
      "image/png": "[encoded data removed]",
      "text/plain": [
       "<Figure size 640x480 with 1 Axes>"
      ]
     },
     "metadata": {},
     "output_type": "display_data"
    }
   ],
   "source": [
    "pol_plot(mod_p_all, spec)"
   ]
  }
 ],
 "metadata": {
  "kernelspec": {
   "display_name": "stenv",
   "language": "python",
   "name": "python3"
  },
  "language_info": {
   "codemirror_mode": {
    "name": "ipython",
    "version": 3
   },
   "file_extension": ".py",
   "mimetype": "text/x-python",
   "name": "python",
   "nbconvert_exporter": "python",
   "pygments_lexer": "ipython3",
   "version": "3.11.3"
  }
 },
 "nbformat": 4,
 "nbformat_minor": 2
}
