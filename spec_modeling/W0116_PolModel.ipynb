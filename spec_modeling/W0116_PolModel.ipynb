{
 "cells": [
  {
   "cell_type": "code",
   "execution_count": 1,
   "metadata": {},
   "outputs": [],
   "source": [
    "import numpy as np\n",
    "import astropy.units as u\n",
    "import matplotlib.pyplot as plt\n",
    "\n",
    "from polModel import PolModel\n",
    "from draine_dust_2D import draine_dust\n",
    "from model_spec import model_spec"
   ]
  },
  {
   "cell_type": "code",
   "execution_count": 2,
   "metadata": {},
   "outputs": [],
   "source": [
    "#General plotting function\n",
    "def pol_plot(mod_p, spec):\n",
    "\n",
    "    data = np.loadtxt(\"pol_measurements.dat\", usecols=[1,2])\n",
    "    p_measured = data[:,0]\n",
    "    p_unc = data[:,1]\n",
    "\n",
    "    wave = np.array([5500., 6500., 8000.]) / spec.zspec\n",
    "\n",
    "    fig, ax = plt.subplots(1)\n",
    "\n",
    "    ax.errorbar(wave, p_measured, yerr=p_unc, fmt='ko', label='Measurements')\n",
    "    for scat_type in mod_p.keys():\n",
    "        ax.plot(wave, mod_p[scat_type], 's', label=scat_type)\n",
    "\n",
    "    ax.legend()\n",
    "    ax.set_xlabel('Wavelength (Angstroms)')\n",
    "    ax.set_ylabel('Polarization fraction')\n",
    "    plt.show()"
   ]
  },
  {
   "cell_type": "markdown",
   "metadata": {},
   "source": [
    "## Model the SDSS Spectrum"
   ]
  },
  {
   "cell_type": "code",
   "execution_count": 3,
   "metadata": {},
   "outputs": [],
   "source": [
    "spec, model = model_spec()"
   ]
  },
  {
   "cell_type": "markdown",
   "metadata": {},
   "source": [
    "### Pure Gas Models."
   ]
  },
  {
   "cell_type": "code",
   "execution_count": 4,
   "metadata": {},
   "outputs": [],
   "source": [
    "#Define the object\n",
    "class Gas_Gas(object):\n",
    "    def get_theta(self, lam_rest):\n",
    "        return np.ones(len(lam_rest))\n",
    "    def get_theta_A(self, x, lam_rest):\n",
    "        return self.get_theta(lam_rest)\n",
    "    def get_theta_B(self, x, lam_rest):\n",
    "        return self.get_theta(lam_rest)"
   ]
  },
  {
   "cell_type": "code",
   "execution_count": 5,
   "metadata": {},
   "outputs": [
    {
     "name": "stdout",
     "output_type": "stream",
     "text": [
      " message: Optimization terminated successfully\n",
      " success: True\n",
      "  status: 0\n",
      "     fun: 2.1129775751895208e-08\n",
      "       x: [ 1.148e-01  3.204e-01  4.478e+01]\n",
      "     nit: 15\n",
      "     jac: [-7.613e-02 -2.179e-04  5.111e-05]\n",
      "    nfev: 68\n",
      "    njev: 15\n"
     ]
    }
   ],
   "source": [
    "#Set the objects\n",
    "scat_obj = Gas_Gas()\n",
    "pol_model = PolModel(spec, model)\n",
    "\n",
    "#Run the fits\n",
    "x0 = np.array([0.15, 0.15, 45.])\n",
    "min_vals = np.array([0., 0., 0.])\n",
    "max_vals = np.array([1., 1., 90.])\n",
    "pol_model.fit_pol(scat_obj, x0, min_vals, max_vals)\n",
    "print(pol_model.xopt)"
   ]
  },
  {
   "cell_type": "code",
   "execution_count": 6,
   "metadata": {},
   "outputs": [],
   "source": [
    "xopt_all = dict()\n",
    "mod_p_all = dict()\n",
    "xopt_all[\"Gas\"] = pol_model.xopt\n",
    "mod_p_all[\"Gas\"] = pol_model.mod_p"
   ]
  },
  {
   "cell_type": "code",
   "execution_count": 7,
   "metadata": {},
   "outputs": [
    {
     "data": {
      "image/png": "[encoded data removed]",
      "text/plain": [
       "<Figure size 640x480 with 1 Axes>"
      ]
     },
     "metadata": {},
     "output_type": "display_data"
    }
   ],
   "source": [
    "pol_plot(mod_p_all, spec)"
   ]
  },
  {
   "cell_type": "markdown",
   "metadata": {},
   "source": [
    "### Pure Dust Models."
   ]
  },
  {
   "cell_type": "code",
   "execution_count": 8,
   "metadata": {},
   "outputs": [],
   "source": [
    "#Define the object.\n",
    "class Dust_Dust(object):\n",
    "\n",
    "    def __init__(self, dust_type):\n",
    "        #Load the dust model. \n",
    "        self.dust = draine_dust(dust_type)\n",
    "        return\n",
    "\n",
    "    def get_theta(self, x, lam_rest):\n",
    "        phi = x[3]\n",
    "        return self.dust.pfrac(lam_rest.to(u.um).value, phi).flatten()\n",
    "    \n",
    "    def get_theta_A(self, x, lam_rest):\n",
    "        return self.get_theta(x, lam_rest)\n",
    "    \n",
    "    def get_theta_B(self, x, lam_rest):\n",
    "        return self.get_theta(x, lam_rest)\n",
    "\n"
   ]
  },
  {
   "cell_type": "code",
   "execution_count": 9,
   "metadata": {},
   "outputs": [],
   "source": [
    "dust_types = [\"SMC\", \"LMC\", \"MW\"]"
   ]
  },
  {
   "cell_type": "code",
   "execution_count": 10,
   "metadata": {},
   "outputs": [
    {
     "name": "stdout",
     "output_type": "stream",
     "text": [
      " message: Optimization terminated successfully\n",
      " success: True\n",
      "  status: 0\n",
      "     fun: 8.512303737907138e-09\n",
      "       x: [ 8.791e-01  9.935e-01  7.558e+01  7.864e+01]\n",
      "     nit: 18\n",
      "     jac: [-6.930e-02  2.376e-02  2.007e-03 -3.696e-04]\n",
      "    nfev: 98\n",
      "    njev: 18\n",
      " message: Optimization terminated successfully\n",
      " success: True\n",
      "  status: 0\n",
      "     fun: 164.85736854477204\n",
      "       x: [ 1.000e+00  6.947e-01  9.000e+01  6.331e+01]\n",
      "     nit: 21\n",
      "     jac: [-5.319e+02 -8.535e-03 -9.537e-06 -1.507e-04]\n",
      "    nfev: 111\n",
      "    njev: 20\n",
      " message: Optimization terminated successfully\n",
      " success: True\n",
      "  status: 0\n",
      "     fun: 6.026318985723632e-08\n",
      "       x: [ 9.608e-01  6.193e-01  7.782e+01  6.155e+01]\n",
      "     nit: 19\n",
      "     jac: [-2.692e-02  5.003e-03  7.786e-05 -1.190e-04]\n",
      "    nfev: 102\n",
      "    njev: 19\n"
     ]
    }
   ],
   "source": [
    "for dust_type in dust_types:\n",
    "    #Set the objects\n",
    "    scat_obj = Dust_Dust(dust_type)\n",
    "\n",
    "    #Run the fits. Attempt a start with scattering angle < 90. and > 90.\n",
    "    x0 = np.array([0.9, 0.3, 70., 90.])\n",
    "    min_vals = np.array([0., 0., 0., 0.])\n",
    "    max_vals = np.array([1., 1., 90., 180.])\n",
    "    for i in range(2):\n",
    "        if i==0:\n",
    "            x0[-1] = 60.\n",
    "        else:\n",
    "            x0[-1] = 170.\n",
    "        pol_model_aux = PolModel(spec, model)\n",
    "        pol_model_aux.fit_pol(scat_obj, x0, min_vals, max_vals)\n",
    "        if i==0 or pol_model_aux.xopt.fun < pol_model.xopt.fun:\n",
    "            pol_model = pol_model_aux\n",
    "\n",
    "    print(pol_model.xopt)\n",
    "\n",
    "    #Save the results.\n",
    "    xopt_all[\"DD_\"+dust_type] = pol_model.xopt\n",
    "    mod_p_all[\"DD_\"+dust_type] = pol_model.mod_p\n",
    "\n"
   ]
  },
  {
   "cell_type": "code",
   "execution_count": 11,
   "metadata": {},
   "outputs": [
    {
     "data": {
      "image/png": "[encoded data removed]",
      "text/plain": [
       "<Figure size 640x480 with 1 Axes>"
      ]
     },
     "metadata": {},
     "output_type": "display_data"
    }
   ],
   "source": [
    "pol_plot(mod_p_all, spec)"
   ]
  },
  {
   "cell_type": "markdown",
   "metadata": {},
   "source": [
    "### Dust for continuum, Gas for emission lines."
   ]
  },
  {
   "cell_type": "code",
   "execution_count": 12,
   "metadata": {},
   "outputs": [],
   "source": [
    "class Dust_Gas(Dust_Dust):\n",
    "\n",
    "    def __init__(self, dust_type):\n",
    "        #Load the dust model. \n",
    "        self.dust = draine_dust(dust_type)\n",
    "        return\n",
    "\n",
    "    def get_theta_A(self, x, lam_rest):\n",
    "        phi = x[3]\n",
    "        return self.dust.pfrac(lam_rest.to(u.um).value, phi).flatten()\n",
    "    \n",
    "    def get_theta_B(self, x, lam_rest):\n",
    "        return np.ones(len(spec.lam_rest))"
   ]
  },
  {
   "cell_type": "code",
   "execution_count": 13,
   "metadata": {},
   "outputs": [
    {
     "name": "stdout",
     "output_type": "stream",
     "text": [
      " message: Optimization terminated successfully\n",
      " success: True\n",
      "  status: 0\n",
      "     fun: 9.20736036360571\n",
      "       x: [ 1.000e+00  4.304e-01  9.000e+01  1.075e+02]\n",
      "     nit: 74\n",
      "     jac: [-1.523e+01  6.286e-03 -1.514e-05  5.332e-04]\n",
      "    nfev: 398\n",
      "    njev: 74\n",
      " message: Optimization terminated successfully\n",
      " success: True\n",
      "  status: 0\n",
      "     fun: 152.3509681138094\n",
      "       x: [ 1.000e+00  1.088e-01  9.000e+01  1.276e+02]\n",
      "     nit: 27\n",
      "     jac: [-4.865e+02 -9.190e-03 -1.526e-05 -1.564e-04]\n",
      "    nfev: 152\n",
      "    njev: 27\n",
      " message: Optimization terminated successfully\n",
      " success: True\n",
      "  status: 0\n",
      "     fun: 11.251755404159852\n",
      "       x: [ 1.000e+00  7.596e-02  8.994e+01  5.289e+01]\n",
      "     nit: 71\n",
      "     jac: [-7.682e+00 -4.918e-02 -8.345e-06  6.317e-04]\n",
      "    nfev: 378\n",
      "    njev: 71\n"
     ]
    }
   ],
   "source": [
    "for dust_type in dust_types:\n",
    "    #Set the objects\n",
    "    scat_obj = Dust_Gas(dust_type)\n",
    "\n",
    "    #Run the fits. Attempt a start with scattering angle < 90. and > 90.\n",
    "    x0 = np.array([0.9, 0.5, 70., 90.])\n",
    "    min_vals = np.array([0., 0., 0., 0.])\n",
    "    max_vals = np.array([1., 1., 90., 180.])\n",
    "    for i in range(2):\n",
    "        if i==0:\n",
    "            x0[-1] = 60.\n",
    "        else:\n",
    "            x0[-1] = 170.\n",
    "        pol_model_aux = PolModel(spec, model)\n",
    "        pol_model_aux.fit_pol(scat_obj, x0, min_vals, max_vals)\n",
    "        if i==0 or pol_model_aux.xopt.fun < pol_model.xopt.fun:\n",
    "            pol_model = pol_model_aux\n",
    "\n",
    "    print(pol_model.xopt)\n",
    "\n",
    "    #Save the results.\n",
    "    xopt_all[\"DG_\"+dust_type] = pol_model.xopt\n",
    "    mod_p_all[\"DG_\"+dust_type] = pol_model.mod_p\n",
    "\n"
   ]
  },
  {
   "cell_type": "code",
   "execution_count": 14,
   "metadata": {},
   "outputs": [
    {
     "data": {
      "image/png": "[encoded data removed]",
      "text/plain": [
       "<Figure size 640x480 with 1 Axes>"
      ]
     },
     "metadata": {},
     "output_type": "display_data"
    }
   ],
   "source": [
    "pol_plot(mod_p_all, spec)"
   ]
  }
 ],
 "metadata": {
  "kernelspec": {
   "display_name": "stenv",
   "language": "python",
   "name": "python3"
  },
  "language_info": {
   "codemirror_mode": {
    "name": "ipython",
    "version": 3
   },
   "file_extension": ".py",
   "mimetype": "text/x-python",
   "name": "python",
   "nbconvert_exporter": "python",
   "pygments_lexer": "ipython3",
   "version": "3.11.3"
  }
 },
 "nbformat": 4,
 "nbformat_minor": 2
}
