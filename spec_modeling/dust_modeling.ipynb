{
 "cells": [
  {
   "cell_type": "code",
   "execution_count": 1,
   "metadata": {},
   "outputs": [],
   "source": [
    "import numpy as np\n",
    "import astropy.units as u\n",
    "import matplotlib.pyplot as plt\n",
    "from model_spec import model_spec\n",
    "from pol_model import load_bands, model_p, get_a_b\n",
    "from draine_dust_2D import draine_dust\n",
    "from scipy.optimize import minimize, LinearConstraint"
   ]
  },
  {
   "cell_type": "code",
   "execution_count": 2,
   "metadata": {},
   "outputs": [],
   "source": [
    "#The measured values in each band. \n",
    "p_measured = np.array([0.0973, 0.1085, 0.1466])\n",
    "p_unc = np.array([0.0037, 0.0023, 0.0041])"
   ]
  },
  {
   "cell_type": "code",
   "execution_count": 3,
   "metadata": {},
   "outputs": [],
   "source": [
    "def pol_plot(p_measured, p_unc, mod_p, spec):\n",
    "    wave = np.array([5500., 6500., 8000.]) / spec.zspec\n",
    "    plt.errorbar(wave, p_measured, yerr=p_unc, fmt='o', label='Measurements')\n",
    "    plt.plot(wave, mod_p, 'ks', label='Dust SMC')\n",
    "    plt.legend()\n",
    "    plt.xlabel('Wavelength (Angstroms)')\n",
    "    plt.ylabel('Polarization fraction')\n",
    "    plt.show()"
   ]
  },
  {
   "cell_type": "markdown",
   "metadata": {},
   "source": [
    "## Model the SDSS Spectrum"
   ]
  },
  {
   "cell_type": "code",
   "execution_count": 4,
   "metadata": {},
   "outputs": [],
   "source": [
    "spec, model = model_spec()"
   ]
  },
  {
   "cell_type": "markdown",
   "metadata": {},
   "source": [
    "## Model the Broad-band polarizations"
   ]
  },
  {
   "cell_type": "code",
   "execution_count": 5,
   "metadata": {},
   "outputs": [],
   "source": [
    "bands = load_bands()"
   ]
  },
  {
   "cell_type": "code",
   "execution_count": 6,
   "metadata": {},
   "outputs": [],
   "source": [
    "def chi2(x, dust, spec):\n",
    "    phi = x[3]\n",
    "    theta = dust.pfrac(spec.lam_rest.to(u.um).value, phi).flatten()\n",
    "    a, b = get_a_b(theta, theta, bands, spec, model)\n",
    "    p_mod = np.zeros(3)\n",
    "    for j in range(3):\n",
    "        p_mod[j] = model_p(x[:3], a[j], b[j])\n",
    "    return np.sum(((p_measured-p_mod)/p_unc)**2)"
   ]
  },
  {
   "cell_type": "code",
   "execution_count": 7,
   "metadata": {},
   "outputs": [
    {
     "name": "stdout",
     "output_type": "stream",
     "text": [
      " message: Optimization terminated successfully\n",
      " success: True\n",
      "  status: 0\n",
      "     fun: 33.16486653131156\n",
      "       x: [ 9.625e-01  1.000e+00  9.780e+01  8.203e+01]\n",
      "     nit: 14\n",
      "     jac: [ 9.763e-03 -7.552e+01  2.775e-04  1.030e-04]\n",
      "    nfev: 76\n",
      "    njev: 14\n",
      "[0.08908801 0.         0.        ]\n",
      "[0. 0. 0.]\n",
      "[0. 0. 0.]\n",
      " message: Optimization terminated successfully\n",
      " success: True\n",
      "  status: 0\n",
      "     fun: 553.4647087279523\n",
      "       x: [ 1.000e+00  1.000e+00  8.034e+01  7.278e+01]\n",
      "     nit: 23\n",
      "     jac: [-4.792e+02 -1.169e+00  1.907e-04 -3.281e-04]\n",
      "    nfev: 122\n",
      "    njev: 23\n",
      "[0.08908801 0.11548834 0.12872524]\n",
      "[0.09476382 0.11161063 0.        ]\n",
      "[0. 0. 0.]\n",
      " message: Optimization terminated successfully\n",
      " success: True\n",
      "  status: 0\n",
      "     fun: 22.32672394920548\n",
      "       x: [ 1.000e+00  1.000e+00  7.952e+01  7.671e+01]\n",
      "     nit: 19\n",
      "     jac: [-9.080e+01 -3.885e+01 -7.963e-05  9.966e-05]\n",
      "    nfev: 103\n",
      "    njev: 19\n",
      "[0.08908801 0.11548834 0.12872524]\n",
      "[0.09476382 0.11161063 0.05034463]\n",
      "[0.09121569 0.11320795 0.13049337]\n"
     ]
    }
   ],
   "source": [
    "dust_types = [\"SMC\", \"LMC\", \"MW\"]\n",
    "mod_p = np.zeros((len(dust_types),len(bands)))\n",
    "for k, dust_type in enumerate(dust_types):\n",
    "\n",
    "    dust = draine_dust(type=dust_type)\n",
    "    x0 = np.array([0.5, 1.0, 50., 90.])\n",
    "    G = np.identity(x0.shape[0])\n",
    "    min_vals = [0., 0., 0., 0.]\n",
    "    max_vals = [1., 1., 360., 180.]\n",
    "    lincon = LinearConstraint(G, min_vals, max_vals)\n",
    "    xopt = minimize(chi2, x0=x0, constraints=lincon, args=(dust, spec))\n",
    "    print(xopt)\n",
    "\n",
    "    phi = xopt.x[3]\n",
    "    theta = dust.pfrac(spec.lam_rest.to(u.um).value, phi).flatten()\n",
    "    a, b = get_a_b(theta, theta, bands, spec, model)\n",
    "\n",
    "    for j in range(len(bands)):\n",
    "        mod_p[k,j] = model_p(xopt.x[:3], a[j], b[j])\n",
    "        print(mod_p[j])\n",
    "\n",
    "    #pol_plot(p_measured, p_unc, mod_p, spec)"
   ]
  },
  {
   "cell_type": "code",
   "execution_count": 8,
   "metadata": {},
   "outputs": [
    {
     "data": {
      "image/png": "[encoded data removed]",
      "text/plain": [
       "<Figure size 640x480 with 1 Axes>"
      ]
     },
     "metadata": {},
     "output_type": "display_data"
    }
   ],
   "source": [
    "wave = np.array([5500., 6500., 8000.]) / spec.zspec\n",
    "\n",
    "fig, ax = plt.subplots(1)\n",
    "\n",
    "ax.errorbar(wave, p_measured, yerr=p_unc, fmt='ko', label='Measurements')\n",
    "for k, dust_type in enumerate(dust_types):\n",
    "    ax.plot(wave, mod_p[k], 's', label=dust_type)\n",
    "ax.legend()\n",
    "ax.set_xlabel('Wavelength (Angstroms)')\n",
    "ax.set_ylabel('Polarization fraction')\n",
    "plt.show()"
   ]
  },
  {
   "cell_type": "markdown",
   "metadata": {},
   "source": [
    "### Dust for continuum and Gas for Broad Lines."
   ]
  },
  {
   "cell_type": "code",
   "execution_count": 9,
   "metadata": {},
   "outputs": [],
   "source": [
    "def chi2(x, dust, spec):\n",
    "    phi = x[3]\n",
    "    theta_A = dust.pfrac(spec.lam_rest.to(u.um).value, phi).flatten()\n",
    "    theta_B = np.ones(len(spec.lam_rest))\n",
    "    a, b = get_a_b(theta_A, theta_B, bands, spec, model)\n",
    "    p_mod = np.zeros(3)\n",
    "    for j in range(3):\n",
    "        p_mod[j] = model_p(x[:3], a[j], b[j])\n",
    "    return np.sum(((p_measured-p_mod)/p_unc)**2)"
   ]
  },
  {
   "cell_type": "code",
   "execution_count": 10,
   "metadata": {},
   "outputs": [
    {
     "name": "stdout",
     "output_type": "stream",
     "text": [
      " message: Optimization terminated successfully\n",
      " success: True\n",
      "  status: 0\n",
      "     fun: 25.0897904840653\n",
      "       x: [ 1.000e+00  4.804e-01  9.001e+01  9.077e+01]\n",
      "     nit: 93\n",
      "     jac: [-1.679e+02 -1.954e-01  3.028e-05  2.923e-04]\n",
      "    nfev: 504\n",
      "    njev: 93\n",
      "0.11050067586984422\n",
      "0.10329589765856173\n",
      "0.13556700034676844\n",
      " message: Optimization terminated successfully\n",
      " success: True\n",
      "  status: 0\n",
      "     fun: 622.9119214060642\n",
      "       x: [ 1.000e+00  2.657e-02  8.986e+01  4.867e+01]\n",
      "     nit: 68\n",
      "     jac: [-4.785e+02 -2.948e-02 -7.629e-06  1.945e-03]\n",
      "    nfev: 357\n",
      "    njev: 67\n",
      "0.11754533330949349\n",
      "0.10157366657032188\n",
      "0.047527212344255276\n",
      " message: Optimization terminated successfully\n",
      " success: True\n",
      "  status: 0\n",
      "     fun: 84.0918900061063\n",
      "       x: [ 1.000e+00  2.963e-13  1.510e+02  4.806e+01]\n",
      "     nit: 15\n",
      "     jac: [-2.513e+02  2.325e+02  0.000e+00  3.595e-04]\n",
      "    nfev: 84\n",
      "    njev: 15\n",
      "0.11131909940923518\n",
      "0.1079694664389298\n",
      "0.11237480391997273\n"
     ]
    }
   ],
   "source": [
    "dust_types = [\"SMC\", \"LMC\", \"MW\"]\n",
    "mod_p = np.zeros((len(dust_types),len(bands)))\n",
    "for k, dust_type in enumerate(dust_types):\n",
    "\n",
    "    dust = draine_dust(type=dust_type)\n",
    "    x0 = np.array([0.5, 1.0, 50., 90.])\n",
    "    G = np.identity(x0.shape[0])\n",
    "    min_vals = [0., 0., 0., 0.]\n",
    "    max_vals = [1., 1., 360., 180.]\n",
    "    lincon = LinearConstraint(G, min_vals, max_vals)\n",
    "    xopt = minimize(chi2, x0=x0, constraints=lincon, args=(dust, spec))\n",
    "    print(xopt)\n",
    "\n",
    "    phi = xopt.x[3]\n",
    "    theta_A = dust.pfrac(spec.lam_rest.to(u.um).value, phi).flatten()\n",
    "    theta_B = np.ones(len(spec.lam_rest))\n",
    "    a, b = get_a_b(theta_A, theta_B, bands, spec, model)\n",
    "\n",
    "    for j in range(len(bands)):\n",
    "        mod_p[k,j] = model_p(xopt.x[:3], a[j], b[j])\n",
    "        print(mod_p[k,j])\n",
    "\n",
    "    #pol_plot(p_measured, p_unc, mod_p, spec)"
   ]
  },
  {
   "cell_type": "code",
   "execution_count": 11,
   "metadata": {},
   "outputs": [
    {
     "data": {
      "image/png": "[encoded data removed]",
      "text/plain": [
       "<Figure size 640x480 with 1 Axes>"
      ]
     },
     "metadata": {},
     "output_type": "display_data"
    }
   ],
   "source": [
    "wave = np.array([5500., 6500., 8000.]) / spec.zspec\n",
    "\n",
    "fig, ax = plt.subplots(1)\n",
    "\n",
    "ax.errorbar(wave, p_measured, yerr=p_unc, fmt='ko', label='Measurements')\n",
    "for k, dust_type in enumerate(dust_types):\n",
    "    ax.plot(wave, mod_p[k], 's', label=dust_type)\n",
    "ax.legend()\n",
    "ax.set_xlabel('Wavelength (Angstroms)')\n",
    "ax.set_ylabel('Polarization fraction')\n",
    "plt.show()"
   ]
  }
 ],
 "metadata": {
  "kernelspec": {
   "display_name": "stenv",
   "language": "python",
   "name": "python3"
  },
  "language_info": {
   "codemirror_mode": {
    "name": "ipython",
    "version": 3
   },
   "file_extension": ".py",
   "mimetype": "text/x-python",
   "name": "python",
   "nbconvert_exporter": "python",
   "pygments_lexer": "ipython3",
   "version": "3.11.3"
  }
 },
 "nbformat": 4,
 "nbformat_minor": 2
}
