{
 "cells": [
  {
   "cell_type": "code",
   "execution_count": 1,
   "metadata": {},
   "outputs": [],
   "source": [
    "import numpy as np\n",
    "import astropy.units as u\n",
    "import matplotlib.pyplot as plt\n",
    "from model_spec import model_spec\n",
    "from pol_model import load_bands, model_p, get_a_b\n",
    "from draine_dust_2D import draine_dust\n",
    "from scipy.optimize import minimize, LinearConstraint"
   ]
  },
  {
   "cell_type": "code",
   "execution_count": 2,
   "metadata": {},
   "outputs": [],
   "source": [
    "#The measured values in each band. \n",
    "p_measured = np.array([0.0973, 0.1085, 0.1466])\n",
    "p_unc = np.array([0.0037, 0.0023, 0.0041])"
   ]
  },
  {
   "cell_type": "code",
   "execution_count": 3,
   "metadata": {},
   "outputs": [],
   "source": [
    "def pol_plot(p_measured, p_unc, mod_p, spec):\n",
    "    wave = np.array([5500., 6500., 8000.]) / spec.zspec\n",
    "    plt.errorbar(wave, p_measured, yerr=p_unc, fmt='o', label='Measurements')\n",
    "    plt.plot(wave, mod_p, 'ks', label='Dust SMC')\n",
    "    plt.legend()\n",
    "    plt.xlabel('Wavelength (Angstroms)')\n",
    "    plt.ylabel('Polarization fraction')\n",
    "    plt.show()"
   ]
  },
  {
   "cell_type": "markdown",
   "metadata": {},
   "source": [
    "## Model the SDSS Spectrum"
   ]
  },
  {
   "cell_type": "code",
   "execution_count": 4,
   "metadata": {},
   "outputs": [],
   "source": [
    "spec, model = model_spec()"
   ]
  },
  {
   "cell_type": "markdown",
   "metadata": {},
   "source": [
    "## Model the Broad-band polarizations"
   ]
  },
  {
   "cell_type": "code",
   "execution_count": 5,
   "metadata": {},
   "outputs": [],
   "source": [
    "bands = load_bands()"
   ]
  },
  {
   "cell_type": "code",
   "execution_count": 6,
   "metadata": {},
   "outputs": [],
   "source": [
    "def chi2(x, dust, spec):\n",
    "    phi = x[3]\n",
    "    theta = np.abs(dust.pfrac(spec.lam_rest.to(u.um).value, phi).flatten())\n",
    "    a, b = get_a_b(theta, theta, bands, spec, model)\n",
    "    p_mod = np.zeros(3)\n",
    "    for j in range(3):\n",
    "        p_mod[j] = model_p(x[:3], a[j], b[j])\n",
    "    return np.sum(((p_measured-p_mod)/p_unc)**2)"
   ]
  },
  {
   "cell_type": "code",
   "execution_count": 7,
   "metadata": {},
   "outputs": [
    {
     "name": "stdout",
     "output_type": "stream",
     "text": [
      " message: Optimization terminated successfully\n",
      " success: True\n",
      "  status: 0\n",
      "     fun: 11.903342351730014\n",
      "       x: [ 1.000e+00 -6.378e-11  7.152e+01  1.405e+02]\n",
      "     nit: 6\n",
      "     jac: [-2.730e+02  2.332e+01  0.000e+00 -1.550e-06]\n",
      "    nfev: 34\n",
      "    njev: 6\n",
      "0.09733231378265292\n",
      "0.10718336174303737\n",
      "0.13265061810351014\n",
      " message: Optimization terminated successfully\n",
      " success: True\n",
      "  status: 0\n",
      "     fun: 2.134684896762206\n",
      "       x: [ 1.000e+00  5.863e-01  9.000e+01  1.237e+02]\n",
      "     nit: 28\n",
      "     jac: [-4.305e+01 -9.952e-04 -2.980e-08 -1.257e-04]\n",
      "    nfev: 148\n",
      "    njev: 28\n",
      "0.1013974674063298\n",
      "0.10639809684802477\n",
      "0.14549119649546352\n",
      " message: Optimization terminated successfully\n",
      " success: True\n",
      "  status: 0\n",
      "     fun: 22.32672396051136\n",
      "       x: [ 1.000e+00  1.000e+00  7.952e+01  7.671e+01]\n",
      "     nit: 14\n",
      "     jac: [-9.082e+01 -3.884e+01  2.747e-04 -4.578e-05]\n",
      "    nfev: 74\n",
      "    njev: 14\n",
      "0.09121524893187144\n",
      "0.11320770893795903\n",
      "0.1304933437662589\n"
     ]
    }
   ],
   "source": [
    "dust_types = [\"SMC\", \"LMC\", \"MW\"]\n",
    "mod_p = np.zeros((len(dust_types),len(bands)))\n",
    "for k, dust_type in enumerate(dust_types):\n",
    "\n",
    "    dust = draine_dust(type=dust_type)\n",
    "    #The code has difficulties converging above and below 90 deg. So let's try both and save the best.\n",
    "    for i in range(2):\n",
    "        x0 = np.array([0.9, 0.1, 70., 60.])\n",
    "        if i==1:\n",
    "            x0[-1] = 150.\n",
    "        G = np.identity(x0.shape[0])\n",
    "        min_vals = [0., 0., 0., 0.]\n",
    "        max_vals = [1., 1., 360., 180.]\n",
    "        lincon = LinearConstraint(G, min_vals, max_vals)\n",
    "        xopt_aux = minimize(chi2, x0=x0, constraints=lincon, args=(dust, spec))\n",
    "        if i==0 or xopt_aux.fun < xopt.fun:\n",
    "            xopt = xopt_aux\n",
    "    print(xopt)\n",
    "\n",
    "    phi = xopt.x[3]\n",
    "    theta = np.abs(dust.pfrac(spec.lam_rest.to(u.um).value, phi).flatten())\n",
    "    a, b = get_a_b(theta, theta, bands, spec, model)\n",
    "\n",
    "    for j in range(len(bands)):\n",
    "        mod_p[k,j] = model_p(xopt.x[:3], a[j], b[j])\n",
    "        print(mod_p[k,j])\n",
    "\n",
    "    #pol_plot(p_measured, p_unc, mod_p, spec)"
   ]
  },
  {
   "cell_type": "code",
   "execution_count": 8,
   "metadata": {},
   "outputs": [
    {
     "data": {
      "image/png": "[encoded data removed]",
      "text/plain": [
       "<Figure size 640x480 with 1 Axes>"
      ]
     },
     "metadata": {},
     "output_type": "display_data"
    }
   ],
   "source": [
    "wave = np.array([5500., 6500., 8000.]) / spec.zspec\n",
    "\n",
    "fig, ax = plt.subplots(1)\n",
    "\n",
    "ax.errorbar(wave, p_measured, yerr=p_unc, fmt='ko', label='Measurements')\n",
    "for k, dust_type in enumerate(dust_types):\n",
    "    ax.plot(wave, mod_p[k], 's', label=dust_type)\n",
    "ax.legend()\n",
    "ax.set_xlabel('Wavelength (Angstroms)')\n",
    "ax.set_ylabel('Polarization fraction')\n",
    "plt.show()"
   ]
  },
  {
   "cell_type": "markdown",
   "metadata": {},
   "source": [
    "### Dust for continuum and Gas for Broad Lines."
   ]
  },
  {
   "cell_type": "code",
   "execution_count": 9,
   "metadata": {},
   "outputs": [],
   "source": [
    "def chi2(x, dust, spec):\n",
    "    phi = x[3]\n",
    "    theta_A = np.abs(dust.pfrac(spec.lam_rest.to(u.um).value, phi).flatten())\n",
    "    theta_B = np.ones(len(spec.lam_rest))\n",
    "    a, b = get_a_b(theta_A, theta_B, bands, spec, model)\n",
    "    p_mod = np.zeros(3)\n",
    "    for j in range(3):\n",
    "        p_mod[j] = model_p(x[:3], a[j], b[j])\n",
    "    return np.sum(((p_measured-p_mod)/p_unc)**2)"
   ]
  },
  {
   "cell_type": "code",
   "execution_count": 10,
   "metadata": {},
   "outputs": [
    {
     "name": "stdout",
     "output_type": "stream",
     "text": [
      " message: Optimization terminated successfully\n",
      " success: True\n",
      "  status: 0\n",
      "     fun: 10.516663601076607\n",
      "       x: [ 1.000e+00  2.035e-02  1.519e-01  1.417e+02]\n",
      "     nit: 53\n",
      "     jac: [-2.051e+02 -4.281e-02  8.702e-06  1.316e-03]\n",
      "    nfev: 276\n",
      "    njev: 53\n",
      "0.09791571761946473\n",
      "0.10842111790274774\n",
      "0.13332220522829155\n",
      " message: Optimization terminated successfully\n",
      " success: True\n",
      "  status: 0\n",
      "     fun: 6.942020881787825e-07\n",
      "       x: [ 1.000e+00  1.414e-01  4.738e+00  1.492e+02]\n",
      "     nit: 58\n",
      "     jac: [-3.008e-02 -5.935e-02  4.045e-05  6.953e-04]\n",
      "    nfev: 307\n",
      "    njev: 58\n",
      "0.09730102641152893\n",
      "0.10849819586261583\n",
      "0.14659981888471482\n",
      " message: Optimization terminated successfully\n",
      " success: True\n",
      "  status: 0\n",
      "     fun: 26.596609848995328\n",
      "       x: [ 1.000e+00  3.341e-01  8.999e+01  7.838e+01]\n",
      "     nit: 44\n",
      "     jac: [-2.331e+02 -5.719e-02 -3.624e-05  2.816e-04]\n",
      "    nfev: 231\n",
      "    njev: 44\n",
      "0.10843879216063354\n",
      "0.10418674823094023\n",
      "0.13125003426045848\n"
     ]
    }
   ],
   "source": [
    "dust_types = [\"SMC\", \"LMC\", \"MW\"]\n",
    "mod_p = np.zeros((len(dust_types),len(bands)))\n",
    "for k, dust_type in enumerate(dust_types):\n",
    "\n",
    "    dust = draine_dust(type=dust_type)\n",
    "\n",
    "    #The code has difficulties converging above and below 90 deg. So let's try both and save the best.\n",
    "    for i in range(2):\n",
    "        x0 = np.array([0.9, 0.3, 70., 60.])\n",
    "        if i==1:\n",
    "            x0[-1] = 150.\n",
    "        G = np.identity(x0.shape[0])\n",
    "        min_vals = [0., 0., 0., 0.]\n",
    "        max_vals = [1., 1., 360., 180.]\n",
    "        lincon = LinearConstraint(G, min_vals, max_vals)\n",
    "        xopt_aux = minimize(chi2, x0=x0, constraints=lincon, args=(dust, spec))\n",
    "        if i==0 or xopt_aux.fun < xopt.fun:\n",
    "            xopt = xopt_aux\n",
    "    print(xopt)\n",
    "\n",
    "    phi = xopt.x[3]\n",
    "    theta_A = np.abs(dust.pfrac(spec.lam_rest.to(u.um).value, phi).flatten())\n",
    "    theta_B = np.ones(len(spec.lam_rest))\n",
    "    a, b = get_a_b(theta_A, theta_B, bands, spec, model)\n",
    "\n",
    "    for j in range(len(bands)):\n",
    "        mod_p[k,j] = model_p(xopt.x[:3], a[j], b[j])\n",
    "        print(mod_p[k,j])\n",
    "\n",
    "    #pol_plot(p_measured, p_unc, mod_p, spec)"
   ]
  },
  {
   "cell_type": "code",
   "execution_count": 11,
   "metadata": {},
   "outputs": [
    {
     "data": {
      "image/png": "[encoded data removed]",
      "text/plain": [
       "<Figure size 640x480 with 1 Axes>"
      ]
     },
     "metadata": {},
     "output_type": "display_data"
    }
   ],
   "source": [
    "wave = np.array([5500., 6500., 8000.]) / spec.zspec\n",
    "\n",
    "fig, ax = plt.subplots(1)\n",
    "\n",
    "ax.errorbar(wave, p_measured, yerr=p_unc, fmt='ko', label='Measurements')\n",
    "for k, dust_type in enumerate(dust_types):\n",
    "    ax.plot(wave, mod_p[k], 's', label=dust_type)\n",
    "ax.legend()\n",
    "ax.set_xlabel('Wavelength (Angstroms)')\n",
    "ax.set_ylabel('Polarization fraction')\n",
    "plt.show()"
   ]
  }
 ],
 "metadata": {
  "kernelspec": {
   "display_name": "stenv",
   "language": "python",
   "name": "python3"
  },
  "language_info": {
   "codemirror_mode": {
    "name": "ipython",
    "version": 3
   },
   "file_extension": ".py",
   "mimetype": "text/x-python",
   "name": "python",
   "nbconvert_exporter": "python",
   "pygments_lexer": "ipython3",
   "version": "3.11.3"
  }
 },
 "nbformat": 4,
 "nbformat_minor": 2
}
