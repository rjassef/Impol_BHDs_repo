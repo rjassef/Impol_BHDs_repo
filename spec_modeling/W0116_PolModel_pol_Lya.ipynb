{
 "cells": [
  {
   "cell_type": "code",
   "execution_count": 1,
   "metadata": {},
   "outputs": [],
   "source": [
    "import numpy as np\n",
    "import astropy.units as u\n",
    "import matplotlib.pyplot as plt\n",
    "\n",
    "from polModel import PolModel\n",
    "from draine_dust_2D import draine_dust\n",
    "from model_spec import model_spec"
   ]
  },
  {
   "cell_type": "code",
   "execution_count": 2,
   "metadata": {},
   "outputs": [],
   "source": [
    "#General plotting function\n",
    "def pol_plot(mod_p, spec):\n",
    "\n",
    "    data = np.loadtxt(\"pol_measurements.dat\", usecols=[1,2])\n",
    "    p_measured = data[:,0]\n",
    "    p_unc = data[:,1]\n",
    "\n",
    "    wave = np.array([5500., 6500., 8000.]) / spec.zspec\n",
    "\n",
    "    fig, ax = plt.subplots(1)\n",
    "\n",
    "    ax.errorbar(wave, p_measured, yerr=p_unc, fmt='ko', label='Measurements')\n",
    "    for scat_type in mod_p.keys():\n",
    "        ax.plot(wave, mod_p[scat_type], 's', label=scat_type)\n",
    "\n",
    "    ax.legend()\n",
    "    ax.set_xlabel('Wavelength (Angstroms)')\n",
    "    ax.set_ylabel('Polarization fraction')\n",
    "    plt.show()"
   ]
  },
  {
   "cell_type": "markdown",
   "metadata": {},
   "source": [
    "## Model the SDSS Spectrum"
   ]
  },
  {
   "cell_type": "code",
   "execution_count": 3,
   "metadata": {},
   "outputs": [],
   "source": [
    "spec, model = model_spec()"
   ]
  },
  {
   "cell_type": "code",
   "execution_count": 4,
   "metadata": {},
   "outputs": [],
   "source": [
    "#Assume that Lyman alpha is also polarized in the same manner as all the other emission lines. \n",
    "model.multi_line[0].pol = True\n",
    "model.multi_line[1].pol = True"
   ]
  },
  {
   "cell_type": "markdown",
   "metadata": {},
   "source": [
    "### Pure Gas Models."
   ]
  },
  {
   "cell_type": "code",
   "execution_count": 5,
   "metadata": {},
   "outputs": [],
   "source": [
    "#Define the object\n",
    "class Gas_Gas(object):\n",
    "    def get_theta(self, lam_rest):\n",
    "        return np.ones(len(lam_rest))\n",
    "    def get_theta_A(self, x, lam_rest):\n",
    "        return self.get_theta(lam_rest)\n",
    "    def get_theta_B(self, x, lam_rest):\n",
    "        return self.get_theta(lam_rest)"
   ]
  },
  {
   "cell_type": "code",
   "execution_count": 6,
   "metadata": {},
   "outputs": [
    {
     "name": "stdout",
     "output_type": "stream",
     "text": [
      " message: Optimization terminated successfully\n",
      " success: True\n",
      "  status: 0\n",
      "     fun: 21.26549452884097\n",
      "       x: [ 1.187e-01  9.799e-02  1.486e-04]\n",
      "     nit: 15\n",
      "     jac: [ 3.735e-01 -1.148e-01  5.436e-05]\n",
      "    nfev: 65\n",
      "    njev: 15\n"
     ]
    }
   ],
   "source": [
    "#Set the objects\n",
    "scat_obj = Gas_Gas()\n",
    "pol_model = PolModel(spec, model)\n",
    "\n",
    "#Run the fits\n",
    "x0 = np.array([0.15, 0.15, 45.])\n",
    "min_vals = np.array([0., 0., 0.])\n",
    "max_vals = np.array([1., 1., 90.])\n",
    "pol_model.fit_pol(scat_obj, x0, min_vals, max_vals)\n",
    "print(pol_model.xopt)"
   ]
  },
  {
   "cell_type": "code",
   "execution_count": 7,
   "metadata": {},
   "outputs": [],
   "source": [
    "xopt_all = dict()\n",
    "mod_p_all = dict()\n",
    "xopt_all[\"Gas\"] = pol_model.xopt\n",
    "mod_p_all[\"Gas\"] = pol_model.mod_p"
   ]
  },
  {
   "cell_type": "code",
   "execution_count": 8,
   "metadata": {},
   "outputs": [
    {
     "data": {
      "image/png": "[encoded data removed]",
      "text/plain": [
       "<Figure size 640x480 with 1 Axes>"
      ]
     },
     "metadata": {},
     "output_type": "display_data"
    }
   ],
   "source": [
    "pol_plot(mod_p_all, spec)"
   ]
  },
  {
   "cell_type": "markdown",
   "metadata": {},
   "source": [
    "### Pure Dust Models."
   ]
  },
  {
   "cell_type": "code",
   "execution_count": 9,
   "metadata": {},
   "outputs": [],
   "source": [
    "#Define the object.\n",
    "class Dust_Dust(object):\n",
    "\n",
    "    def __init__(self, dust_type):\n",
    "        #Load the dust model. \n",
    "        self.dust = draine_dust(dust_type)\n",
    "        return\n",
    "\n",
    "    def get_theta(self, x, lam_rest):\n",
    "        phi = x[3]\n",
    "        return self.dust.pfrac(lam_rest.to(u.um).value, phi).flatten()\n",
    "    \n",
    "    def get_theta_A(self, x, lam_rest):\n",
    "        return self.get_theta(x, lam_rest)\n",
    "    \n",
    "    def get_theta_B(self, x, lam_rest):\n",
    "        return self.get_theta(x, lam_rest)\n",
    "\n"
   ]
  },
  {
   "cell_type": "code",
   "execution_count": 10,
   "metadata": {},
   "outputs": [],
   "source": [
    "dust_types = [\"SMC\", \"LMC\", \"MW\"]"
   ]
  },
  {
   "cell_type": "code",
   "execution_count": 11,
   "metadata": {},
   "outputs": [
    {
     "name": "stdout",
     "output_type": "stream",
     "text": [
      " message: Optimization terminated successfully\n",
      " success: True\n",
      "  status: 0\n",
      "     fun: 2.3049987206585774e-08\n",
      "       x: [ 9.590e-01  9.596e-01  8.260e+01  7.688e+01]\n",
      "     nit: 32\n",
      "     jac: [ 2.700e-02 -7.350e-03 -1.868e-04  2.773e-04]\n",
      "    nfev: 173\n",
      "    njev: 32\n",
      " message: Optimization terminated successfully\n",
      " success: True\n",
      "  status: 0\n",
      "     fun: 195.1923104166832\n",
      "       x: [ 1.000e+00  6.679e-01  7.276e+01  6.032e+01]\n",
      "     nit: 33\n",
      "     jac: [-4.167e+02  8.755e-04 -1.640e-04  3.510e-04]\n",
      "    nfev: 181\n",
      "    njev: 32\n",
      " message: Optimization terminated successfully\n",
      " success: True\n",
      "  status: 0\n",
      "     fun: 7.926012923664e-09\n",
      "       x: [ 1.000e+00  5.959e-01  6.721e+01  5.498e+01]\n",
      "     nit: 32\n",
      "     jac: [-2.597e-04 -1.535e-03  1.561e-05  3.815e-05]\n",
      "    nfev: 169\n",
      "    njev: 32\n"
     ]
    }
   ],
   "source": [
    "for dust_type in dust_types:\n",
    "    #Set the objects\n",
    "    scat_obj = Dust_Dust(dust_type)\n",
    "\n",
    "    #Run the fits. Attempt a start with scattering angle < 90. and > 90.\n",
    "    x0 = np.array([0.5, 0.5, 70., 90.])\n",
    "    min_vals = np.array([0., 0., 0., 0.])\n",
    "    max_vals = np.array([1., 1., 90., 180.])\n",
    "    for i in range(2):\n",
    "        if i==0:\n",
    "            x0[-1] = 60.\n",
    "        else:\n",
    "            x0[-1] = 170.\n",
    "        pol_model_aux = PolModel(spec, model)\n",
    "        pol_model_aux.fit_pol(scat_obj, x0, min_vals, max_vals)\n",
    "        if i==0 or pol_model_aux.xopt.fun < pol_model.xopt.fun:\n",
    "            pol_model = pol_model_aux\n",
    "\n",
    "    print(pol_model.xopt)\n",
    "\n",
    "    #Save the results.\n",
    "    xopt_all[\"DD_\"+dust_type] = pol_model.xopt\n",
    "    mod_p_all[\"DD_\"+dust_type] = pol_model.mod_p\n",
    "\n"
   ]
  },
  {
   "cell_type": "code",
   "execution_count": 12,
   "metadata": {},
   "outputs": [
    {
     "data": {
      "image/png": "[encoded data removed]",
      "text/plain": [
       "<Figure size 640x480 with 1 Axes>"
      ]
     },
     "metadata": {},
     "output_type": "display_data"
    }
   ],
   "source": [
    "pol_plot(mod_p_all, spec)"
   ]
  },
  {
   "cell_type": "markdown",
   "metadata": {},
   "source": [
    "### Dust for continuum, Gas for emission lines."
   ]
  },
  {
   "cell_type": "code",
   "execution_count": 13,
   "metadata": {},
   "outputs": [],
   "source": [
    "class Dust_Gas(Dust_Dust):\n",
    "\n",
    "    def __init__(self, dust_type):\n",
    "        #Load the dust model. \n",
    "        self.dust = draine_dust(dust_type)\n",
    "        return\n",
    "\n",
    "    def get_theta_A(self, x, lam_rest):\n",
    "        phi = x[3]\n",
    "        return self.dust.pfrac(lam_rest.to(u.um).value, phi).flatten()\n",
    "    \n",
    "    def get_theta_B(self, x, lam_rest):\n",
    "        return np.ones(len(spec.lam_rest))"
   ]
  },
  {
   "cell_type": "code",
   "execution_count": 15,
   "metadata": {},
   "outputs": [
    {
     "name": "stdout",
     "output_type": "stream",
     "text": [
      " message: Optimization terminated successfully\n",
      " success: True\n",
      "  status: 0\n",
      "     fun: 716.3608774682575\n",
      "       x: [ 1.000e+00  1.450e-09  7.259e+01  1.413e+02]\n",
      "     nit: 6\n",
      "     jac: [-7.857e+02  1.165e+03  0.000e+00  6.104e-04]\n",
      "    nfev: 43\n",
      "    njev: 6\n",
      " message: Optimization terminated successfully\n",
      " success: True\n",
      "  status: 0\n",
      "     fun: 132.8732151795853\n",
      "       x: [ 1.000e+00  7.811e-02  9.000e+01  1.277e+02]\n",
      "     nit: 17\n",
      "     jac: [-4.738e+02  1.157e-01  0.000e+00  3.017e-03]\n",
      "    nfev: 92\n",
      "    njev: 17\n",
      " message: Optimization terminated successfully\n",
      " success: True\n",
      "  status: 0\n",
      "     fun: 360.4159988919648\n",
      "       x: [ 1.000e+00  2.739e-02  9.000e+01  1.273e+02]\n",
      "     nit: 14\n",
      "     jac: [-6.697e+02 -4.731e-02  0.000e+00 -5.150e-04]\n",
      "    nfev: 85\n",
      "    njev: 14\n"
     ]
    }
   ],
   "source": [
    "for dust_type in dust_types:\n",
    "    #Set the objects\n",
    "    scat_obj = Dust_Gas(dust_type)\n",
    "\n",
    "    #Run the fits. Attempt a start with scattering angle < 90. and > 90.\n",
    "    x0 = np.array([0.9, 0.9, 50., 90.])\n",
    "    min_vals = np.array([0., 0., 0., 0.])\n",
    "    max_vals = np.array([1., 1., 90., 180.])\n",
    "    for i in range(2):\n",
    "        if i==0:\n",
    "            x0[-1] = 60.\n",
    "        else:\n",
    "            x0[-1] = 170.\n",
    "        pol_model_aux = PolModel(spec, model)\n",
    "        pol_model_aux.fit_pol(scat_obj, x0, min_vals, max_vals)\n",
    "        if i==0 or pol_model_aux.xopt.fun < pol_model.xopt.fun:\n",
    "            pol_model = pol_model_aux\n",
    "\n",
    "    print(pol_model.xopt)\n",
    "\n",
    "    #Save the results.\n",
    "    xopt_all[\"DG_\"+dust_type] = pol_model.xopt\n",
    "    mod_p_all[\"DG_\"+dust_type] = pol_model.mod_p\n",
    "\n"
   ]
  },
  {
   "cell_type": "code",
   "execution_count": 16,
   "metadata": {},
   "outputs": [
    {
     "data": {
      "image/png": "[encoded data removed]",
      "text/plain": [
       "<Figure size 640x480 with 1 Axes>"
      ]
     },
     "metadata": {},
     "output_type": "display_data"
    }
   ],
   "source": [
    "pol_plot(mod_p_all, spec)"
   ]
  }
 ],
 "metadata": {
  "kernelspec": {
   "display_name": "stenv",
   "language": "python",
   "name": "python3"
  },
  "language_info": {
   "codemirror_mode": {
    "name": "ipython",
    "version": 3
   },
   "file_extension": ".py",
   "mimetype": "text/x-python",
   "name": "python",
   "nbconvert_exporter": "python",
   "pygments_lexer": "ipython3",
   "version": "3.11.3"
  }
 },
 "nbformat": 4,
 "nbformat_minor": 2
}
