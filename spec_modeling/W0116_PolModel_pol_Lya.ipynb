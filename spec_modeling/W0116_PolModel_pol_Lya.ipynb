{
 "cells": [
  {
   "cell_type": "code",
   "execution_count": 1,
   "metadata": {},
   "outputs": [],
   "source": [
    "import numpy as np\n",
    "import astropy.units as u\n",
    "import matplotlib.pyplot as plt\n",
    "\n",
    "from polModel import PolModel\n",
    "from draine_dust_2D import draine_dust\n",
    "from model_spec import model_spec"
   ]
  },
  {
   "cell_type": "code",
   "execution_count": 2,
   "metadata": {},
   "outputs": [],
   "source": [
    "#General plotting function\n",
    "def pol_plot(mod_p, spec):\n",
    "\n",
    "    data = np.loadtxt(\"pol_measurements.dat\", usecols=[1,2])\n",
    "    p_measured = data[:,0]\n",
    "    p_unc = data[:,1]\n",
    "\n",
    "    wave = np.array([5500., 6500., 8000.]) / spec.zspec\n",
    "\n",
    "    fig, ax = plt.subplots(1)\n",
    "\n",
    "    ax.errorbar(wave, p_measured, yerr=p_unc, fmt='ko', label='Measurements')\n",
    "    for scat_type in mod_p.keys():\n",
    "        ax.plot(wave, mod_p[scat_type], 's', label=scat_type)\n",
    "\n",
    "    ax.legend()\n",
    "    ax.set_xlabel('Wavelength (Angstroms)')\n",
    "    ax.set_ylabel('Polarization fraction')\n",
    "    plt.show()"
   ]
  },
  {
   "cell_type": "markdown",
   "metadata": {},
   "source": [
    "## Model the SDSS Spectrum"
   ]
  },
  {
   "cell_type": "code",
   "execution_count": 3,
   "metadata": {},
   "outputs": [],
   "source": [
    "spec, model = model_spec()"
   ]
  },
  {
   "cell_type": "code",
   "execution_count": 4,
   "metadata": {},
   "outputs": [],
   "source": [
    "#Assume that Lyman alpha is also polarized in the same manner as all the other emission lines. \n",
    "model.multi_line[0].pol = True\n",
    "model.multi_line[1].pol = True"
   ]
  },
  {
   "cell_type": "markdown",
   "metadata": {},
   "source": [
    "### Pure Gas Models."
   ]
  },
  {
   "cell_type": "code",
   "execution_count": 5,
   "metadata": {},
   "outputs": [],
   "source": [
    "#Define the object\n",
    "class Gas_Gas(object):\n",
    "    def get_theta(self, lam_rest):\n",
    "        return np.ones(len(lam_rest))\n",
    "    def get_theta_A(self, x, lam_rest):\n",
    "        return self.get_theta(lam_rest)\n",
    "    def get_theta_B(self, x, lam_rest):\n",
    "        return self.get_theta(lam_rest)"
   ]
  },
  {
   "cell_type": "code",
   "execution_count": 6,
   "metadata": {},
   "outputs": [
    {
     "name": "stdout",
     "output_type": "stream",
     "text": [
      " message: Optimization terminated successfully\n",
      " success: True\n",
      "  status: 0\n",
      "     fun: 1.9837659510877281\n",
      "       x: [ 1.373e-01  7.227e-02  3.649e-04]\n",
      "     nit: 18\n",
      "     jac: [-1.897e-02 -1.343e-02  6.557e-07]\n",
      "    nfev: 78\n",
      "    njev: 18\n"
     ]
    }
   ],
   "source": [
    "#Set the objects\n",
    "scat_obj = Gas_Gas()\n",
    "pol_model = PolModel(spec, model)\n",
    "\n",
    "#Run the fits\n",
    "x0 = np.array([0.15, 0.15, 45.])\n",
    "min_vals = np.array([0., 0., 0.])\n",
    "max_vals = np.array([1., 1., 90.])\n",
    "pol_model.fit_pol(scat_obj, x0, min_vals, max_vals)\n",
    "print(pol_model.xopt)"
   ]
  },
  {
   "cell_type": "code",
   "execution_count": 7,
   "metadata": {},
   "outputs": [],
   "source": [
    "xopt_all = dict()\n",
    "mod_p_all = dict()\n",
    "xopt_all[\"Gas\"] = pol_model.xopt\n",
    "mod_p_all[\"Gas\"] = pol_model.mod_p"
   ]
  },
  {
   "cell_type": "code",
   "execution_count": 8,
   "metadata": {},
   "outputs": [
    {
     "data": {
      "image/png": "[encoded data removed]",
      "text/plain": [
       "<Figure size 640x480 with 1 Axes>"
      ]
     },
     "metadata": {},
     "output_type": "display_data"
    }
   ],
   "source": [
    "pol_plot(mod_p_all, spec)"
   ]
  },
  {
   "cell_type": "markdown",
   "metadata": {},
   "source": [
    "### Pure Dust Models."
   ]
  },
  {
   "cell_type": "code",
   "execution_count": 9,
   "metadata": {},
   "outputs": [],
   "source": [
    "#Define the object.\n",
    "class Dust_Dust(object):\n",
    "\n",
    "    def __init__(self, dust_type):\n",
    "        #Load the dust model. \n",
    "        self.dust = draine_dust(dust_type)\n",
    "        return\n",
    "\n",
    "    def get_theta(self, x, lam_rest):\n",
    "        phi = x[3]\n",
    "        return self.dust.pfrac(lam_rest.to(u.um).value, phi).flatten()\n",
    "    \n",
    "    def get_theta_A(self, x, lam_rest):\n",
    "        return self.get_theta(x, lam_rest)\n",
    "    \n",
    "    def get_theta_B(self, x, lam_rest):\n",
    "        return self.get_theta(x, lam_rest)\n",
    "\n"
   ]
  },
  {
   "cell_type": "code",
   "execution_count": 10,
   "metadata": {},
   "outputs": [],
   "source": [
    "dust_types = [\"SMC\", \"LMC\", \"MW\"]"
   ]
  },
  {
   "cell_type": "code",
   "execution_count": 11,
   "metadata": {},
   "outputs": [
    {
     "name": "stdout",
     "output_type": "stream",
     "text": [
      " message: Optimization terminated successfully\n",
      " success: True\n",
      "  status: 0\n",
      "     fun: 25.490436562628837\n",
      "       x: [ 9.667e-01  1.000e+00  8.654e+01  8.473e+01]\n",
      "     nit: 18\n",
      "     jac: [-3.787e-02 -1.822e+02  7.427e-04 -5.729e-04]\n",
      "    nfev: 96\n",
      "    njev: 18\n",
      " message: Optimization terminated successfully\n",
      " success: True\n",
      "  status: 0\n",
      "     fun: 1.3047160627673292e-08\n",
      "       x: [ 9.856e-01  3.302e-01  7.059e+01  1.286e+02]\n",
      "     nit: 12\n",
      "     jac: [-9.950e-03  4.485e-03  5.471e-05  3.943e-04]\n",
      "    nfev: 69\n",
      "    njev: 12\n",
      " message: Optimization terminated successfully\n",
      " success: True\n",
      "  status: 0\n",
      "     fun: 22.38155184708699\n",
      "       x: [ 1.000e+00  1.000e+00  8.133e+01  7.821e+01]\n",
      "     nit: 42\n",
      "     jac: [-2.158e+02 -3.452e+01 -3.238e-04 -5.317e-05]\n",
      "    nfev: 222\n",
      "    njev: 42\n"
     ]
    }
   ],
   "source": [
    "for dust_type in dust_types:\n",
    "    #Set the objects\n",
    "    scat_obj = Dust_Dust(dust_type)\n",
    "\n",
    "    #Run the fits. Attempt a start with scattering angle < 90. and > 90.\n",
    "    x0 = np.array([0.5, 0.5, 70., 90.])\n",
    "    min_vals = np.array([0., 0., 0., 0.])\n",
    "    max_vals = np.array([1., 1., 90., 180.])\n",
    "    for i in range(2):\n",
    "        if i==0:\n",
    "            x0[-1] = 60.\n",
    "        else:\n",
    "            x0[-1] = 170.\n",
    "        pol_model_aux = PolModel(spec, model)\n",
    "        pol_model_aux.fit_pol(scat_obj, x0, min_vals, max_vals)\n",
    "        if i==0 or pol_model_aux.xopt.fun < pol_model.xopt.fun:\n",
    "            pol_model = pol_model_aux\n",
    "\n",
    "    print(pol_model.xopt)\n",
    "\n",
    "    #Save the results.\n",
    "    xopt_all[\"DD_\"+dust_type] = pol_model.xopt\n",
    "    mod_p_all[\"DD_\"+dust_type] = pol_model.mod_p\n",
    "\n"
   ]
  },
  {
   "cell_type": "code",
   "execution_count": 12,
   "metadata": {},
   "outputs": [
    {
     "data": {
      "image/png": "[encoded data removed]",
      "text/plain": [
       "<Figure size 640x480 with 1 Axes>"
      ]
     },
     "metadata": {},
     "output_type": "display_data"
    }
   ],
   "source": [
    "pol_plot(mod_p_all, spec)"
   ]
  },
  {
   "cell_type": "markdown",
   "metadata": {},
   "source": [
    "### Dust for continuum, Gas for emission lines."
   ]
  },
  {
   "cell_type": "code",
   "execution_count": 13,
   "metadata": {},
   "outputs": [],
   "source": [
    "class Dust_Gas(Dust_Dust):\n",
    "\n",
    "    def __init__(self, dust_type):\n",
    "        #Load the dust model. \n",
    "        self.dust = draine_dust(dust_type)\n",
    "        return\n",
    "\n",
    "    def get_theta_A(self, x, lam_rest):\n",
    "        phi = x[3]\n",
    "        return self.dust.pfrac(lam_rest.to(u.um).value, phi).flatten()\n",
    "    \n",
    "    def get_theta_B(self, x, lam_rest):\n",
    "        return np.ones(len(spec.lam_rest))"
   ]
  },
  {
   "cell_type": "code",
   "execution_count": 14,
   "metadata": {},
   "outputs": [
    {
     "name": "stdout",
     "output_type": "stream",
     "text": [
      " message: Optimization terminated successfully\n",
      " success: True\n",
      "  status: 0\n",
      "     fun: 10.74944015551948\n",
      "       x: [ 1.000e+00  4.971e-01  7.998e+01  8.692e+01]\n",
      "     nit: 26\n",
      "     jac: [-2.028e+02  2.723e-02 -1.410e-03  1.954e-04]\n",
      "    nfev: 144\n",
      "    njev: 26\n",
      " message: Optimization terminated successfully\n",
      " success: True\n",
      "  status: 0\n",
      "     fun: 1.0185790215008137e-09\n",
      "       x: [ 9.960e-01  7.426e-02  8.998e+01  1.283e+02]\n",
      "     nit: 12\n",
      "     jac: [ 1.138e-03 -2.783e-03 -6.612e-09 -1.102e-04]\n",
      "    nfev: 65\n",
      "    njev: 12\n",
      " message: Optimization terminated successfully\n",
      " success: True\n",
      "  status: 0\n",
      "     fun: 19.27061638182384\n",
      "       x: [ 1.000e+00  3.899e-01  7.656e+01  7.859e+01]\n",
      "     nit: 39\n",
      "     jac: [-2.600e+02 -3.521e-03  1.788e-05  9.036e-05]\n",
      "    nfev: 209\n",
      "    njev: 39\n"
     ]
    }
   ],
   "source": [
    "for dust_type in dust_types:\n",
    "    #Set the objects\n",
    "    scat_obj = Dust_Gas(dust_type)\n",
    "\n",
    "    #Run the fits. Attempt a start with scattering angle < 90. and > 90.\n",
    "    x0 = np.array([0.5, 0.9, 50., 90.])\n",
    "    min_vals = np.array([0., 0., 0., 0.])\n",
    "    max_vals = np.array([1., 1., 90., 180.])\n",
    "    for i in range(2):\n",
    "        if i==0:\n",
    "            x0[-1] = 60.\n",
    "        else:\n",
    "            x0[-1] = 170.\n",
    "        pol_model_aux = PolModel(spec, model)\n",
    "        pol_model_aux.fit_pol(scat_obj, x0, min_vals, max_vals)\n",
    "        if i==0 or pol_model_aux.xopt.fun < pol_model.xopt.fun:\n",
    "            pol_model = pol_model_aux\n",
    "\n",
    "    print(pol_model.xopt)\n",
    "\n",
    "    #Save the results.\n",
    "    xopt_all[\"DG_\"+dust_type] = pol_model.xopt\n",
    "    mod_p_all[\"DG_\"+dust_type] = pol_model.mod_p\n",
    "\n"
   ]
  },
  {
   "cell_type": "code",
   "execution_count": 15,
   "metadata": {},
   "outputs": [
    {
     "data": {
      "image/png": "[encoded data removed]",
      "text/plain": [
       "<Figure size 640x480 with 1 Axes>"
      ]
     },
     "metadata": {},
     "output_type": "display_data"
    }
   ],
   "source": [
    "pol_plot(mod_p_all, spec)"
   ]
  }
 ],
 "metadata": {
  "kernelspec": {
   "display_name": "stenv",
   "language": "python",
   "name": "python3"
  },
  "language_info": {
   "codemirror_mode": {
    "name": "ipython",
    "version": 3
   },
   "file_extension": ".py",
   "mimetype": "text/x-python",
   "name": "python",
   "nbconvert_exporter": "python",
   "pygments_lexer": "ipython3",
   "version": "3.11.3"
  }
 },
 "nbformat": 4,
 "nbformat_minor": 2
}
