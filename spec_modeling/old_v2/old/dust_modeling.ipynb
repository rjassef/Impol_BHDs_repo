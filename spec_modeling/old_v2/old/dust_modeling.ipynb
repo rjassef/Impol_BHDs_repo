{
 "cells": [
  {
   "cell_type": "code",
   "execution_count": 1,
   "metadata": {},
   "outputs": [],
   "source": [
    "import numpy as np\n",
    "import astropy.units as u\n",
    "import matplotlib.pyplot as plt\n",
    "from model_spec import model_spec\n",
    "from pol_model import load_bands, model_p, get_a_b\n",
    "from draine_dust_2D import draine_dust\n",
    "from scipy.optimize import minimize, LinearConstraint"
   ]
  },
  {
   "cell_type": "code",
   "execution_count": 2,
   "metadata": {},
   "outputs": [],
   "source": [
    "#The measured values in each band. \n",
    "p_measured = np.array([0.0973, 0.1085, 0.1466])\n",
    "p_unc = np.array([0.0037, 0.0023, 0.0041])"
   ]
  },
  {
   "cell_type": "code",
   "execution_count": 3,
   "metadata": {},
   "outputs": [],
   "source": [
    "def pol_plot(p_measured, p_unc, mod_p, spec):\n",
    "    wave = np.array([5500., 6500., 8000.]) / spec.zspec\n",
    "    plt.errorbar(wave, p_measured, yerr=p_unc, fmt='o', label='Measurements')\n",
    "    plt.plot(wave, mod_p, 'ks', label='Dust SMC')\n",
    "    plt.legend()\n",
    "    plt.xlabel('Wavelength (Angstroms)')\n",
    "    plt.ylabel('Polarization fraction')\n",
    "    plt.show()"
   ]
  },
  {
   "cell_type": "markdown",
   "metadata": {},
   "source": [
    "## Model the SDSS Spectrum"
   ]
  },
  {
   "cell_type": "code",
   "execution_count": 4,
   "metadata": {},
   "outputs": [],
   "source": [
    "spec, model = model_spec()"
   ]
  },
  {
   "cell_type": "markdown",
   "metadata": {},
   "source": [
    "## Model the Broad-band polarizations"
   ]
  },
  {
   "cell_type": "code",
   "execution_count": 5,
   "metadata": {},
   "outputs": [],
   "source": [
    "bands = load_bands()"
   ]
  },
  {
   "cell_type": "code",
   "execution_count": 6,
   "metadata": {},
   "outputs": [],
   "source": [
    "def chi2(x, dust, spec):\n",
    "    phi = x[3]\n",
    "    theta = dust.pfrac(spec.lam_rest.to(u.um).value, phi).flatten()\n",
    "    a, b = get_a_b(theta, theta, bands, spec, model)\n",
    "    p_mod = np.zeros(3)\n",
    "    for j in range(3):\n",
    "        p_mod[j] = model_p(x[:3], a[j], b[j])\n",
    "    return np.sum(((p_measured-p_mod)/p_unc)**2)"
   ]
  },
  {
   "cell_type": "code",
   "execution_count": 7,
   "metadata": {},
   "outputs": [
    {
     "name": "stdout",
     "output_type": "stream",
     "text": [
      " message: Optimization terminated successfully\n",
      " success: True\n",
      "  status: 0\n",
      "     fun: 33.16486654273035\n",
      "       x: [ 9.625e-01  1.000e+00  8.220e+01  8.203e+01]\n",
      "     nit: 15\n",
      "     jac: [-3.349e-02 -7.549e+01  4.778e-04 -1.869e-04]\n",
      "    nfev: 79\n",
      "    njev: 15\n",
      "0.08908666636151122\n",
      "0.11548819704527652\n",
      "0.1287258260798382\n",
      " message: Optimization terminated successfully\n",
      " success: True\n",
      "  status: 0\n",
      "     fun: 12.413731613768567\n",
      "       x: [ 1.000e+00  3.982e-01  9.000e+01  1.277e+02]\n",
      "     nit: 26\n",
      "     jac: [-7.878e+01 -6.389e-03 -9.298e-06 -2.856e-04]\n",
      "    nfev: 140\n",
      "    njev: 26\n",
      "0.10736830156516874\n",
      "0.10354643092070334\n",
      "0.14410447894537465\n",
      " message: Optimization terminated successfully\n",
      " success: True\n",
      "  status: 0\n",
      "     fun: 22.32672396051136\n",
      "       x: [ 1.000e+00  1.000e+00  7.952e+01  7.671e+01]\n",
      "     nit: 14\n",
      "     jac: [-9.082e+01 -3.884e+01  2.747e-04 -4.578e-05]\n",
      "    nfev: 74\n",
      "    njev: 14\n",
      "0.09121524893187144\n",
      "0.11320770893795903\n",
      "0.1304933437662589\n"
     ]
    }
   ],
   "source": [
    "dust_types = [\"SMC\", \"LMC\", \"MW\"]\n",
    "mod_p = np.zeros((len(dust_types),len(bands)))\n",
    "for k, dust_type in enumerate(dust_types):\n",
    "\n",
    "    dust = draine_dust(type=dust_type)\n",
    "    #The code has difficulties converging above and below 90 deg. So let's try both and save the best.\n",
    "    for i in range(2):\n",
    "        x0 = np.array([0.9, 0.1, 70., 60.])\n",
    "        if i==1:\n",
    "            x0[-1] = 150.\n",
    "        G = np.identity(x0.shape[0])\n",
    "        min_vals = [0., 0., 0., 0.]\n",
    "        max_vals = [1., 1., 360., 180.]\n",
    "        lincon = LinearConstraint(G, min_vals, max_vals)\n",
    "        xopt_aux = minimize(chi2, x0=x0, constraints=lincon, args=(dust, spec))\n",
    "        if i==0 or xopt_aux.fun < xopt.fun:\n",
    "            xopt = xopt_aux\n",
    "    print(xopt)\n",
    "\n",
    "    phi = xopt.x[3]\n",
    "    theta = dust.pfrac(spec.lam_rest.to(u.um).value, phi).flatten()\n",
    "    a, b = get_a_b(theta, theta, bands, spec, model)\n",
    "\n",
    "    for j in range(len(bands)):\n",
    "        mod_p[k,j] = model_p(xopt.x[:3], a[j], b[j])\n",
    "        print(mod_p[k,j])\n",
    "\n",
    "    #pol_plot(p_measured, p_unc, mod_p, spec)"
   ]
  },
  {
   "cell_type": "code",
   "execution_count": 8,
   "metadata": {},
   "outputs": [
    {
     "data": {
      "image/png": "[encoded data removed]",
      "text/plain": [
       "<Figure size 640x480 with 1 Axes>"
      ]
     },
     "metadata": {},
     "output_type": "display_data"
    }
   ],
   "source": [
    "wave = np.array([5500., 6500., 8000.]) / spec.zspec\n",
    "\n",
    "fig, ax = plt.subplots(1)\n",
    "\n",
    "ax.errorbar(wave, p_measured, yerr=p_unc, fmt='ko', label='Measurements')\n",
    "for k, dust_type in enumerate(dust_types):\n",
    "    ax.plot(wave, mod_p[k], 's', label=dust_type)\n",
    "ax.legend()\n",
    "ax.set_xlabel('Wavelength (Angstroms)')\n",
    "ax.set_ylabel('Polarization fraction')\n",
    "plt.show()"
   ]
  },
  {
   "cell_type": "markdown",
   "metadata": {},
   "source": [
    "### Dust for continuum and Gas for Broad Lines."
   ]
  },
  {
   "cell_type": "code",
   "execution_count": 9,
   "metadata": {},
   "outputs": [],
   "source": [
    "def chi2(x, dust, spec):\n",
    "    phi = x[3]\n",
    "    theta_A = dust.pfrac(spec.lam_rest.to(u.um).value, phi).flatten()\n",
    "    theta_B = np.ones(len(spec.lam_rest))\n",
    "    a, b = get_a_b(theta_A, theta_B, bands, spec, model)\n",
    "    p_mod = np.zeros(3)\n",
    "    for j in range(3):\n",
    "        p_mod[j] = model_p(x[:3], a[j], b[j])\n",
    "    return np.sum(((p_measured-p_mod)/p_unc)**2)"
   ]
  },
  {
   "cell_type": "code",
   "execution_count": 10,
   "metadata": {},
   "outputs": [
    {
     "name": "stdout",
     "output_type": "stream",
     "text": [
      " message: Optimization terminated successfully\n",
      " success: True\n",
      "  status: 0\n",
      "     fun: 25.089790386321095\n",
      "       x: [ 1.000e+00  4.804e-01  9.000e+01  9.077e+01]\n",
      "     nit: 37\n",
      "     jac: [-1.681e+02 -4.292e-02 -5.484e-06  1.783e-04]\n",
      "    nfev: 194\n",
      "    njev: 37\n",
      "0.11050063334560009\n",
      "0.10329612311423769\n",
      "0.13556660003234008\n",
      " message: Optimization terminated successfully\n",
      " success: True\n",
      "  status: 0\n",
      "     fun: 0.993868753357584\n",
      "       x: [ 1.000e+00  1.386e-01  8.285e-03  1.481e+02]\n",
      "     nit: 42\n",
      "     jac: [-1.111e+01 -2.697e-02  6.527e-06  1.685e-03]\n",
      "    nfev: 221\n",
      "    njev: 42\n",
      "0.10038304747432693\n",
      "0.10725544275809147\n",
      "0.14626312467296954\n",
      " message: Optimization terminated successfully\n",
      " success: True\n",
      "  status: 0\n",
      "     fun: 26.59660996679009\n",
      "       x: [ 1.000e+00  3.341e-01  8.999e+01  7.838e+01]\n",
      "     nit: 44\n",
      "     jac: [-2.332e+02  6.145e-02 -5.150e-05 -2.923e-04]\n",
      "    nfev: 233\n",
      "    njev: 44\n",
      "0.10843787395827141\n",
      "0.10418584932057949\n",
      "0.13125001881181417\n"
     ]
    }
   ],
   "source": [
    "dust_types = [\"SMC\", \"LMC\", \"MW\"]\n",
    "mod_p = np.zeros((len(dust_types),len(bands)))\n",
    "for k, dust_type in enumerate(dust_types):\n",
    "\n",
    "    dust = draine_dust(type=dust_type)\n",
    "\n",
    "    #The code has difficulties converging above and below 90 deg. So let's try both and save the best.\n",
    "    for i in range(2):\n",
    "        x0 = np.array([0.9, 0.3, 70., 60.])\n",
    "        if i==1:\n",
    "            x0[-1] = 150.\n",
    "        G = np.identity(x0.shape[0])\n",
    "        min_vals = [0., 0., 0., 0.]\n",
    "        max_vals = [1., 1., 360., 180.]\n",
    "        lincon = LinearConstraint(G, min_vals, max_vals)\n",
    "        xopt_aux = minimize(chi2, x0=x0, constraints=lincon, args=(dust, spec))\n",
    "        if i==0 or xopt_aux.fun < xopt.fun:\n",
    "            xopt = xopt_aux\n",
    "    print(xopt)\n",
    "\n",
    "    phi = xopt.x[3]\n",
    "    theta_A = dust.pfrac(spec.lam_rest.to(u.um).value, phi).flatten()\n",
    "    theta_B = np.ones(len(spec.lam_rest))\n",
    "    a, b = get_a_b(theta_A, theta_B, bands, spec, model)\n",
    "\n",
    "    for j in range(len(bands)):\n",
    "        mod_p[k,j] = model_p(xopt.x[:3], a[j], b[j])\n",
    "        print(mod_p[k,j])\n",
    "\n",
    "    #pol_plot(p_measured, p_unc, mod_p, spec)"
   ]
  },
  {
   "cell_type": "code",
   "execution_count": 11,
   "metadata": {},
   "outputs": [
    {
     "data": {
      "image/png": "[encoded data removed]",
      "text/plain": [
       "<Figure size 640x480 with 1 Axes>"
      ]
     },
     "metadata": {},
     "output_type": "display_data"
    }
   ],
   "source": [
    "wave = np.array([5500., 6500., 8000.]) / spec.zspec\n",
    "\n",
    "fig, ax = plt.subplots(1)\n",
    "\n",
    "ax.errorbar(wave, p_measured, yerr=p_unc, fmt='ko', label='Measurements')\n",
    "for k, dust_type in enumerate(dust_types):\n",
    "    ax.plot(wave, mod_p[k], 's', label=dust_type)\n",
    "ax.legend()\n",
    "ax.set_xlabel('Wavelength (Angstroms)')\n",
    "ax.set_ylabel('Polarization fraction')\n",
    "plt.show()"
   ]
  }
 ],
 "metadata": {
  "kernelspec": {
   "display_name": "stenv",
   "language": "python",
   "name": "python3"
  },
  "language_info": {
   "codemirror_mode": {
    "name": "ipython",
    "version": 3
   },
   "file_extension": ".py",
   "mimetype": "text/x-python",
   "name": "python",
   "nbconvert_exporter": "python",
   "pygments_lexer": "ipython3",
   "version": "3.11.3"
  }
 },
 "nbformat": 4,
 "nbformat_minor": 2
}
