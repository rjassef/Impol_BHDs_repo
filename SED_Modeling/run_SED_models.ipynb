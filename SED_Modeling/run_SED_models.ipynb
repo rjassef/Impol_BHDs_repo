{
 "cells": [
  {
   "cell_type": "code",
   "execution_count": 16,
   "metadata": {},
   "outputs": [],
   "source": [
    "import numpy as np\n",
    "from astropy.table import Table\n",
    "import subprocess\n",
    "import os"
   ]
  },
  {
   "cell_type": "code",
   "execution_count": 2,
   "metadata": {},
   "outputs": [],
   "source": [
    "#Read the full database\n",
    "dbase = Table.read(\"dbase.fits\")"
   ]
  },
  {
   "cell_type": "code",
   "execution_count": 3,
   "metadata": {},
   "outputs": [],
   "source": [
    "#Set objects we want to focus on\n",
    "wids = [\n",
    "    \"W0019-1046\",\n",
    "    \"W0116-0505\",\n",
    "    \"W0204-0506\",\n",
    "    \"W0220+0137\",\n",
    "    \"W0831+0140\",\n",
    "]\n",
    "wids = np.array(wids, dtype=bytes)"
   ]
  },
  {
   "cell_type": "code",
   "execution_count": 4,
   "metadata": {},
   "outputs": [],
   "source": [
    "#Limit the database to only the objects of interest. \n",
    "dbase = dbase[np.isin(dbase['Short Name'],wids)]"
   ]
  },
  {
   "cell_type": "code",
   "execution_count": 5,
   "metadata": {},
   "outputs": [],
   "source": [
    "phot = Table()\n",
    "phot['WID'] = dbase['Short Name']"
   ]
  },
  {
   "cell_type": "code",
   "execution_count": 6,
   "metadata": {},
   "outputs": [],
   "source": [
    "phot['zspec'] = np.where(dbase['zspec refined'].mask, dbase['zspec'], dbase['zspec refined'])"
   ]
  },
  {
   "cell_type": "code",
   "execution_count": 7,
   "metadata": {},
   "outputs": [],
   "source": [
    "#Set the bands we want in the form we need them. \n",
    "cols = [\n",
    "    'w1mpro (CatWISE)',\n",
    "    'w1sigmpro (CatWISE)',\n",
    "    'w2mpro (CatWISE)',\n",
    "    'w2sigmpro (CatWISE)',\n",
    "    'w3mpro',\n",
    "    'w3sigmpro',\n",
    "    'w4mpro',\n",
    "    'w4sigmpro',\n",
    "    # 'gMeanPSFMag (PS1)',\n",
    "    # 'gMeanPSFMagErr (PS1)',\n",
    "    # 'rMeanPSFMag (PS1)',\n",
    "    # 'rMeanPSFMagErr (PS1)',\n",
    "    # 'iMeanPSFMag (PS1)',\n",
    "    # 'iMeanPSFMagErr (PS1)',\n",
    "    # 'zMeanPSFMag (PS1)',\n",
    "    # 'zMeanPSFMagErr (PS1)',\n",
    "    # 'yMeanPSFMag (PS1)',\n",
    "    # 'yMeanPSFMagErr',\n",
    "    'gm (Legacy DR10)',\n",
    "    'gm_e (Legacy DR10)',\n",
    "    'rm (Legacy DR10)',\n",
    "    'rm_e (Legacy DR10)',\n",
    "    'im (Legacy DR10)',\n",
    "    'im_e (Legacy DR10)',\n",
    "    'zm (Legacy DR10)',\n",
    "    'zm_e (Legacy DR10)',\n",
    "    # 'ypetromag (VHS DR5)',\n",
    "    # 'ypetromagerr (VHS DR5)',\n",
    "    # 'jpetromag (VHS DR5)',\n",
    "    # 'jpetromagerr (VHS DR5)',\n",
    "    # 'hpetromag (VHS DR5)',\n",
    "    # 'hpetromagerr (VHS DR5)',\n",
    "    # 'kspetromag (VHS DR5)',\n",
    "    # 'kspetromagerr (VHS DR5)',\n",
    "    # 'ypetromag (UKIDSS DR11)',\n",
    "    # 'ypetromagerr (UKIDSS DR11)',\n",
    "    # 'jpetromag (UKIDSS DR11)',\n",
    "    # 'jpetromagerr (UKIDSS DR11)',\n",
    "    # 'hpetromag (UKIDSS DR11)',\n",
    "    # 'hpetromagerr (UKIDSS DR11)',\n",
    "    # 'kpetromag (UKIDSS DR11)',\n",
    "    # 'kpetromagerr (UKIDSS DR11)',\n",
    "    'targeted r mag',\n",
    "    'targeted r magerr',\n",
    "    'targeted g mag',\n",
    "    'targeted g magerr',\n",
    "    'targeted J mag',\n",
    "    'targeted J magerr',\n",
    "    'targeted H mag',\n",
    "    'targeted H magerr',\n",
    "    'targeted KS mag',\n",
    "    'targeted KS magerr',\n",
    "    'i1mag',\n",
    "    'i1magerr',\n",
    "    'i2mag',\n",
    "    'i2magerr',\n",
    "]\n",
    "for col in cols:\n",
    "    phot[col] = dbase[col]\n",
    "    phot[col].fill_value = -99."
   ]
  },
  {
   "cell_type": "code",
   "execution_count": 8,
   "metadata": {},
   "outputs": [],
   "source": [
    "#Save the photometry file. \n",
    "phot.filled().write(\"phot.dat\", format='ascii.no_header', overwrite=True)"
   ]
  },
  {
   "cell_type": "code",
   "execution_count": 11,
   "metadata": {},
   "outputs": [],
   "source": [
    "#Save the number of bands we are using. \n",
    "cato = open(\"nchan.txt\",\"w\")\n",
    "cato.write(\"{}\\n\".format(len(cols[::2])))\n",
    "cato.close()"
   ]
  },
  {
   "cell_type": "code",
   "execution_count": 12,
   "metadata": {},
   "outputs": [],
   "source": [
    "filters = {\n",
    "    'w1mpro (CatWISE)'       : {\"bname\":\"real_wise_band_1\",\"norm\":1,\"zp\":306.681},\n",
    "    'w2mpro (CatWISE)'       : {\"bname\":\"real_wise_band_2\",\"norm\":1,\"zp\":170.663},\n",
    "    'w3mpro'                 : {\"bname\":\"real_wise_band_3\",\"norm\":1,\"zp\":29.0448},\n",
    "    'w4mpro'                 : {\"bname\":\"real_wise_band_4\",\"norm\":1,\"zp\":8.2839},\n",
    "    'gMeanPSFMag (PS1)'      : {\"bname\":\"gp1\",\"norm\":3,\"zp\":3631},\n",
    "    'rMeanPSFMag (PS1)'      : {\"bname\":\"rp1\",\"norm\":3,\"zp\":3631},\n",
    "    'iMeanPSFMag (PS1)'      : {\"bname\":\"ip1\",\"norm\":3,\"zp\":3631},\n",
    "    'zMeanPSFMag (PS1)'      : {\"bname\":\"zp1\",\"norm\":3,\"zp\":3631},\n",
    "    'yMeanPSFMag (PS1)'      : {\"bname\":\"yp1\",\"norm\":3,\"zp\":3631},\n",
    "    'gm (Legacy DR10)'       : {\"bname\":\"DECAM_g\",\"norm\":3,\"zp\":3631},\n",
    "    'rm (Legacy DR10)'       : {\"bname\":\"DECAM_r\",\"norm\":3,\"zp\":3631},\n",
    "    'im (Legacy DR10)'       : {\"bname\":\"DECAM_i\",\"norm\":3,\"zp\":3631},\n",
    "    'zm (Legacy DR10)'       : {\"bname\":\"DECAM_z\",\"norm\":3,\"zp\":3631},\n",
    "    'ypetromag (VHS DR5)'    : {\"bname\":\"vistaY\" ,\"norm\":3,\"zp\":3631},\n",
    "    'jpetromag (VHS DR5)'    : {\"bname\":\"vistaJ\" ,\"norm\":3,\"zp\":3631},\n",
    "    'hpetromag (VHS DR5)'    : {\"bname\":\"vistaH\" ,\"norm\":3,\"zp\":3631},\n",
    "    'kspetromag (VHS DR5)'   : {\"bname\":\"vistaKs\" ,\"norm\":3,\"zp\":3631},\n",
    "    'ypetromag (UKIDSS DR11)': {\"bname\":\"ukidssy\" ,\"norm\":3,\"zp\":3631},\n",
    "    'jpetromag (UKIDSS DR11)': {\"bname\":\"ukidssj\" ,\"norm\":3,\"zp\":3631},\n",
    "    'hpetromag (UKIDSS DR11)': {\"bname\":\"ukidssh\" ,\"norm\":3,\"zp\":3631},\n",
    "    'kpetromag (UKIDSS DR11)': {\"bname\":\"ukidssk\" ,\"norm\":3,\"zp\":3631},\n",
    "    'targeted r mag'         : {\"bname\":\"sdssr\",\"norm\":3,\"zp\":3631},\n",
    "    'targeted g mag'         : {\"bname\":\"sdssg\",\"norm\":3,\"zp\":3631},\n",
    "    'targeted J mag'         : {\"bname\":\"jband\",\"norm\":1,\"zp\":1631.00},\n",
    "    'targeted H mag'         : {\"bname\":\"hband\",\"norm\":1,\"zp\":1024.00},\n",
    "    'targeted KS mag'        : {\"bname\":\"kband\",\"norm\":1,\"zp\":675.70},\n",
    "    'i1mag'                  : {\"bname\":\"IRAC_ch1_total_response\",\"norm\":2,\"zp\":277.50},\n",
    "    'i2mag'                  : {\"bname\":\"IRAC_ch2_total_response\",\"norm\":2,\"zp\":179.50},\n",
    "}"
   ]
  },
  {
   "cell_type": "code",
   "execution_count": 13,
   "metadata": {},
   "outputs": [],
   "source": [
    "#Write the bandmag.dat file. \n",
    "cato = open(\"bandmag.dat\",\"w\")\n",
    "cato.write(\"##\\n\")\n",
    "cato.write(\"#Filter Name                   Norm       Zero Point\\n\")\n",
    "cato.write(\"##\\n\")\n",
    "for col in cols[::2]:\n",
    "    filt = filters[col]\n",
    "    cato.write(\"{:30s} {} {:18.3f}\\n\".format(filt['bname'], filt['norm'], filt['zp']))\n",
    "cato.close()"
   ]
  },
  {
   "cell_type": "code",
   "execution_count": 14,
   "metadata": {},
   "outputs": [
    {
     "name": "stdout",
     "output_type": "stream",
     "text": [
      "gfortran -ffixed-line-length-none -std=legacy  -o single single.f kca_agn_logred.f my_nnls_2.f\n"
     ]
    },
    {
     "name": "stderr",
     "output_type": "stream",
     "text": [
      "my_nnls_2.f:709:43:\n",
      "\n",
      "  709 |       CALL H12(1,NPP1,NPP1+1,M,A(1,J),1,UP,DUMMY,1,1,0)\n",
      "      |                                           1\n",
      "Warning: Rank mismatch in argument 'c' at (1) (rank-1 and scalar)\n",
      "-macosx_version_min has been renamed to -macos_version_min\n",
      "ld: warning: ignoring duplicate libraries: '-lemutls_w', '-lgcc'\n"
     ]
    },
    {
     "name": "stdout",
     "output_type": "stream",
     "text": [
      " Reading Filters and Setting Normalizations\n",
      " setting up           15  bands \n",
      " corfac            1   5.6649139083033955        3.2916844579120621     \n",
      " corfac            2   5.8982764137547319        4.5427003364803635     \n",
      " corfac            3   4.6550266769077489        10.565650389253411     \n",
      " corfac            4   18.793446753997685        21.915713028010327     \n",
      " corfac            5   6.2468062108215445       0.47529740823795252     \n",
      " corfac            6   5.4651757988877243       0.63743696121429927     \n",
      " corfac            7   5.8243417152457546       0.77782794190173410     \n",
      " corfac            8   7.4780167010060339       0.91387936007753645     \n",
      " corfac            9   7.8830776602735648       0.61404817823967395     \n",
      " corfac           10   7.0018738511324639       0.46259038179778089     \n",
      " corfac           11   7.6531843169079092        1.2285286846915080     \n",
      " corfac           12   6.5848238789418021        1.6389542143490212     \n",
      " corfac           13   8.2802521621269012        2.1521756687260822     \n",
      " corfac           14   11.115880324175206        3.5505565742932546     \n",
      " corfac           15   9.5938459525973556        4.4930322066763804     \n",
      " done setting up bands \n",
      " Reading Templates \n",
      " Normalizing Templates to 10**10 L_sun\n",
      " alpha(           1 ) =    277.16226956473207     \n",
      " alpha(           2 ) =    1363.6879140955218     \n",
      " alpha(           3 ) =    1471.3376651311860     \n",
      " alpha(           4 ) =    716.26662017163790     \n",
      " alpha(           5 ) =    277.16226956473207     \n"
     ]
    },
    {
     "name": "stderr",
     "output_type": "stream",
     "text": [
      " W0019-1046                     9\n",
      " W0116-0505                    11\n",
      " W0204-0506                    12\n",
      " W0220+0137                    12\n",
      " W0831+0140                    11\n",
      "Note: The following floating-point exceptions are signalling: IEEE_INVALID_FLAG IEEE_DIVIDE_BY_ZERO IEEE_UNDERFLOW_FLAG\n"
     ]
    },
    {
     "data": {
      "text/plain": [
       "0"
      ]
     },
     "execution_count": 14,
     "metadata": {},
     "output_type": "execute_result"
    }
   ],
   "source": [
    "subprocess.call(\"make single\", shell=True)\n",
    "subprocess.call(\"./single\")"
   ]
  },
  {
   "cell_type": "code",
   "execution_count": 15,
   "metadata": {},
   "outputs": [
    {
     "name": "stdout",
     "output_type": "stream",
     "text": [
      "gfortran -ffixed-line-length-none -std=legacy  -o double double.f kca_agn_logred.f my_nnls_2.f\n"
     ]
    },
    {
     "name": "stderr",
     "output_type": "stream",
     "text": [
      "my_nnls_2.f:709:43:\n",
      "\n",
      "  709 |       CALL H12(1,NPP1,NPP1+1,M,A(1,J),1,UP,DUMMY,1,1,0)\n",
      "      |                                           1\n",
      "Warning: Rank mismatch in argument 'c' at (1) (rank-1 and scalar)\n",
      "-macosx_version_min has been renamed to -macos_version_min\n",
      "ld: warning: ignoring duplicate libraries: '-lemutls_w', '-lgcc'\n"
     ]
    },
    {
     "name": "stdout",
     "output_type": "stream",
     "text": [
      " Reading Filters and Setting Normalizations\n",
      " setting up           15  bands \n",
      " corfac            1   5.6649139083033955        3.2916844579120621     \n",
      " corfac            2   5.8982764137547319        4.5427003364803635     \n",
      " corfac            3   4.6550266769077489        10.565650389253411     \n",
      " corfac            4   18.793446753997685        21.915713028010327     \n",
      " corfac            5   6.2468062108215445       0.47529740823795252     \n",
      " corfac            6   5.4651757988877243       0.63743696121429927     \n",
      " corfac            7   5.8243417152457546       0.77782794190173410     \n",
      " corfac            8   7.4780167010060339       0.91387936007753645     \n",
      " corfac            9   7.8830776602735648       0.61404817823967395     \n",
      " corfac           10   7.0018738511324639       0.46259038179778089     \n",
      " corfac           11   7.6531843169079092        1.2285286846915080     \n",
      " corfac           12   6.5848238789418021        1.6389542143490212     \n",
      " corfac           13   8.2802521621269012        2.1521756687260822     \n",
      " corfac           14   11.115880324175206        3.5505565742932546     \n",
      " corfac           15   9.5938459525973556        4.4930322066763804     \n",
      " done setting up bands \n",
      " Reading Templates \n",
      " Normalizing Templates to 10**10 L_sun\n",
      " alpha(           1 ) =    277.16226956473207     \n",
      " alpha(           2 ) =    1363.6879140955218     \n",
      " alpha(           3 ) =    1471.3376651311860     \n",
      " alpha(           4 ) =    716.26662017163790     \n",
      " alpha(           5 ) =    277.16226956473207     \n"
     ]
    },
    {
     "name": "stderr",
     "output_type": "stream",
     "text": [
      " W0019-1046                     9\n",
      " W0116-0505                    11\n",
      " W0204-0506                    12\n",
      " W0220+0137                    12\n",
      " W0831+0140                    11\n",
      "Note: The following floating-point exceptions are signalling: IEEE_INVALID_FLAG IEEE_DIVIDE_BY_ZERO IEEE_UNDERFLOW_FLAG\n"
     ]
    },
    {
     "data": {
      "text/plain": [
       "0"
      ]
     },
     "execution_count": 15,
     "metadata": {},
     "output_type": "execute_result"
    }
   ],
   "source": [
    "subprocess.call(\"make double\", shell=True)\n",
    "subprocess.call(\"./double\")"
   ]
  },
  {
   "cell_type": "code",
   "execution_count": 24,
   "metadata": {},
   "outputs": [],
   "source": [
    "os.chdir(\"f_stat\")\n",
    "subprocess.call(\"python compare.py\", shell=True)\n",
    "os.chdir(\"..\")"
   ]
  }
 ],
 "metadata": {
  "kernelspec": {
   "display_name": "stenv",
   "language": "python",
   "name": "python3"
  },
  "language_info": {
   "codemirror_mode": {
    "name": "ipython",
    "version": 3
   },
   "file_extension": ".py",
   "mimetype": "text/x-python",
   "name": "python",
   "nbconvert_exporter": "python",
   "pygments_lexer": "ipython3",
   "version": "3.11.3"
  }
 },
 "nbformat": 4,
 "nbformat_minor": 2
}
