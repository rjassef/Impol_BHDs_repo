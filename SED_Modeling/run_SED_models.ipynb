{
 "cells": [
  {
   "cell_type": "code",
   "execution_count": 1,
   "metadata": {},
   "outputs": [],
   "source": [
    "import numpy as np\n",
    "from astropy.table import Table\n",
    "import subprocess\n",
    "import os\n",
    "from astroquery.sdss import SDSS\n",
    "from astropy.coordinates import SkyCoord\n",
    "import astropy.units as u"
   ]
  },
  {
   "cell_type": "code",
   "execution_count": 2,
   "metadata": {},
   "outputs": [],
   "source": [
    "#Read the full database\n",
    "dbase = Table.read(\"dbase.fits\")"
   ]
  },
  {
   "cell_type": "code",
   "execution_count": 3,
   "metadata": {},
   "outputs": [],
   "source": [
    "#Set objects we want to focus on\n",
    "wids = [\n",
    "    \"W0019-1046\",\n",
    "    \"W0116-0505\",\n",
    "    \"W0204-0506\",\n",
    "    \"W0220+0137\",\n",
    "    \"W0831+0140\",\n",
    "]\n",
    "wids = np.array(wids, dtype=bytes)"
   ]
  },
  {
   "cell_type": "code",
   "execution_count": 4,
   "metadata": {},
   "outputs": [],
   "source": [
    "#Limit the database to only the objects of interest. \n",
    "dbase = dbase[np.isin(dbase['Short Name'],wids)]"
   ]
  },
  {
   "cell_type": "code",
   "execution_count": 5,
   "metadata": {},
   "outputs": [],
   "source": [
    "#Convert VHS photometry from Vega to AB using the values in http://casu.ast.cam.ac.uk/surveys-projects/vista/technical/filter-set\n",
    "AB_Vega_corr = {\"y\":0.600,\"j\":0.916,\"h\":1.366,\"ks\":1.827}\n",
    "for band in [\"y\",\"j\",\"h\",\"ks\"]:\n",
    "    dbase[band+\"petromag (VHS DR5)\"] += AB_Vega_corr[band]"
   ]
  },
  {
   "cell_type": "code",
   "execution_count": 6,
   "metadata": {},
   "outputs": [],
   "source": [
    "#Convert UKIDSS from Vega to AB using the values in Table 7 of Hewett et al. (2006, MNRAS, 367, 454) \n",
    "AB_Vega_corr = {\"y\":0.634,\"j\":0.938,\"h\":1.379,\"k\":1.900}\n",
    "for band in [\"y\",\"j\",\"h\",\"k\"]:\n",
    "    dbase[band+\"petromag (UKIDSS DR11)\"] += AB_Vega_corr[band]"
   ]
  },
  {
   "cell_type": "code",
   "execution_count": 7,
   "metadata": {},
   "outputs": [],
   "source": [
    "phot = Table()\n",
    "phot['WID'] = dbase['Short Name']"
   ]
  },
  {
   "cell_type": "code",
   "execution_count": 8,
   "metadata": {},
   "outputs": [],
   "source": [
    "phot['zspec'] = np.where(dbase['zspec refined'].mask, dbase['zspec'], dbase['zspec refined'])\n",
    "#If we have a non-optical redshift use that instead. \n",
    "phot['zspec'][~dbase['zspec_nopt'].mask] = dbase['zspec_nopt'][~dbase['zspec_nopt'].mask]"
   ]
  },
  {
   "cell_type": "code",
   "execution_count": 9,
   "metadata": {},
   "outputs": [],
   "source": [
    "#Set the bands we want in the form we need them. \n",
    "cols = [\n",
    "    'w1mpro (CatWISE)',\n",
    "    'w1sigmpro (CatWISE)',\n",
    "    'w2mpro (CatWISE)',\n",
    "    'w2sigmpro (CatWISE)',\n",
    "    'w3mpro',\n",
    "    'w3sigmpro',\n",
    "    'w4mpro',\n",
    "    'w4sigmpro',\n",
    "    # 'gMeanPSFMag (PS1)',\n",
    "    # 'gMeanPSFMagErr (PS1)',\n",
    "    # 'rMeanPSFMag (PS1)',\n",
    "    # 'rMeanPSFMagErr (PS1)',\n",
    "    # 'iMeanPSFMag (PS1)',\n",
    "    # 'iMeanPSFMagErr (PS1)',\n",
    "    # 'zMeanPSFMag (PS1)',\n",
    "    # 'zMeanPSFMagErr (PS1)',\n",
    "    # 'yMeanPSFMag (PS1)',\n",
    "    # 'yMeanPSFMagErr',\n",
    "    # 'gm (Legacy DR10)',\n",
    "    # 'gm_e (Legacy DR10)',\n",
    "    # 'rm (Legacy DR10)',\n",
    "    # 'rm_e (Legacy DR10)',\n",
    "    # 'im (Legacy DR10)',\n",
    "    # 'im_e (Legacy DR10)',\n",
    "    # 'zm (Legacy DR10)',\n",
    "    # 'zm_e (Legacy DR10)',\n",
    "    'ypetromag (VHS DR5)',\n",
    "    'ypetromagerr (VHS DR5)',\n",
    "    'jpetromag (VHS DR5)',\n",
    "    'jpetromagerr (VHS DR5)',\n",
    "    'hpetromag (VHS DR5)',\n",
    "    'hpetromagerr (VHS DR5)',\n",
    "    'kspetromag (VHS DR5)',\n",
    "    'kspetromagerr (VHS DR5)',\n",
    "    'ypetromag (UKIDSS DR11)',\n",
    "    'ypetromagerr (UKIDSS DR11)',\n",
    "    'jpetromag (UKIDSS DR11)',\n",
    "    'jpetromagerr (UKIDSS DR11)',\n",
    "    'hpetromag (UKIDSS DR11)',\n",
    "    'hpetromagerr (UKIDSS DR11)',\n",
    "    'kpetromag (UKIDSS DR11)',\n",
    "    'kpetromagerr (UKIDSS DR11)',\n",
    "    'targeted r mag',\n",
    "    'targeted r magerr',\n",
    "    'targeted g mag',\n",
    "    'targeted g magerr',\n",
    "    'targeted J mag',\n",
    "    'targeted J magerr',\n",
    "    'targeted H mag',\n",
    "    'targeted H magerr',\n",
    "    'targeted KS mag',\n",
    "    'targeted KS magerr',\n",
    "    'i1mag',\n",
    "    'i1magerr',\n",
    "    'i2mag',\n",
    "    'i2magerr',\n",
    "]\n",
    "for col in cols:\n",
    "    phot[col] = dbase[col]\n",
    "    phot[col].fill_value = -99."
   ]
  },
  {
   "cell_type": "code",
   "execution_count": 10,
   "metadata": {},
   "outputs": [],
   "source": [
    "#Add SDSS photometry. \n",
    "photoobj_fields = [\n",
    "    'ra',\n",
    "    'dec',\n",
    "    'objid',\n",
    "    'run',\n",
    "    'rerun',\n",
    "    'camcol',\n",
    "    'field',\n",
    "    'u',\n",
    "    'Err_u',\n",
    "    'g',\n",
    "    'Err_g',\n",
    "    'r',\n",
    "    'Err_r',\n",
    "    'i',\n",
    "    'Err_i',\n",
    "    'z',\n",
    "    'Err_z',\n",
    "    'mjd',\n",
    "]\n",
    "bhd_c = SkyCoord(ra=dbase['ra']*u.deg, dec=dbase['dec']*u.deg)\n",
    "xid = SDSS.query_crossid(bhd_c, radius='1.5 arcsec', data_release=18, photoobj_fields=photoobj_fields, spectro=False)"
   ]
  },
  {
   "cell_type": "code",
   "execution_count": 11,
   "metadata": {},
   "outputs": [
    {
     "data": {
      "text/html": [
       "<i>Table length=5</i>\n",
       "<table id=\"table4812363024-77237\" class=\"table-striped table-bordered table-condensed\">\n",
       "<thead><tr><th>idx</th><th>name</th><th>ra</th><th>dec</th><th>objid</th><th>run</th><th>rerun</th><th>camcol</th><th>field</th><th>u</th><th>Err_u</th><th>g</th><th>Err_g</th><th>r</th><th>Err_r</th><th>i</th><th>Err_i</th><th>z</th><th>Err_z</th><th>mjd</th><th>type</th></tr></thead>\n",
       "<tr><td>0</td><td>obj_0</td><td>4.8619706504028</td><td>-10.7758643109812</td><td>1237652629100691717</td><td>1666</td><td>301</td><td>2</td><td>224</td><td>22.30112</td><td>0.383742</td><td>22.0817</td><td>0.1355587</td><td>21.98974</td><td>0.1762975</td><td>21.77306</td><td>0.2220604</td><td>21.21562</td><td>0.516012</td><td>51792</td><td>GALAXY</td></tr>\n",
       "<tr><td>1</td><td>obj_1</td><td>19.0059557982554</td><td>-5.08442448812927</td><td>1237679322854326868</td><td>7881</td><td>301</td><td>3</td><td>148</td><td>23.57158</td><td>0.6852992</td><td>21.4612</td><td>0.0539205</td><td>21.38975</td><td>0.05434495</td><td>21.74447</td><td>0.09403163</td><td>21.37522</td><td>0.2567134</td><td>54830</td><td>STAR</td></tr>\n",
       "<tr><td>2</td><td>obj_2</td><td>31.1920725190906</td><td>-5.1112871057984</td><td>1237679253596275430</td><td>7865</td><td>301</td><td>2</td><td>122</td><td>23.00033</td><td>0.600696</td><td>22.65626</td><td>0.1662882</td><td>22.48925</td><td>0.2340006</td><td>21.79878</td><td>0.1752908</td><td>22.03948</td><td>0.6588346</td><td>54822</td><td>GALAXY</td></tr>\n",
       "<tr><td>3</td><td>obj_3</td><td>35.217145393166</td><td>1.61976337640961</td><td>1237678437551244102</td><td>7675</td><td>301</td><td>2</td><td>103</td><td>23.46645</td><td>0.5877249</td><td>21.77853</td><td>0.05916739</td><td>21.84585</td><td>0.08617316</td><td>22.06462</td><td>0.1318762</td><td>21.62065</td><td>0.2711797</td><td>54715</td><td>STAR</td></tr>\n",
       "<tr><td>4</td><td>obj_4</td><td>127.971863713442</td><td>1.66970537198585</td><td>1237653665249231950</td><td>1907</td><td>301</td><td>4</td><td>36</td><td>26.25483</td><td>0.5037822</td><td>23.38177</td><td>0.3257467</td><td>21.7997</td><td>0.1305126</td><td>21.66239</td><td>0.1698755</td><td>21.45549</td><td>0.6501953</td><td>51878</td><td>GALAXY</td></tr>\n",
       "</table><style>table.dataTable {clear: both; width: auto !important; margin: 0 !important;}\n",
       ".dataTables_info, .dataTables_length, .dataTables_filter, .dataTables_paginate{\n",
       "display: inline-block; margin-right: 1em; }\n",
       ".paginate_button { margin-right: 5px; }\n",
       "</style>\n",
       "<script>\n",
       "\n",
       "var astropy_sort_num = function(a, b) {\n",
       "    var a_num = parseFloat(a);\n",
       "    var b_num = parseFloat(b);\n",
       "\n",
       "    if (isNaN(a_num) && isNaN(b_num))\n",
       "        return ((a < b) ? -1 : ((a > b) ? 1 : 0));\n",
       "    else if (!isNaN(a_num) && !isNaN(b_num))\n",
       "        return ((a_num < b_num) ? -1 : ((a_num > b_num) ? 1 : 0));\n",
       "    else\n",
       "        return isNaN(a_num) ? -1 : 1;\n",
       "}\n",
       "\n",
       "require.config({paths: {\n",
       "    datatables: 'https://cdn.datatables.net/1.10.12/js/jquery.dataTables.min'\n",
       "}});\n",
       "require([\"datatables\"], function(){\n",
       "    console.log(\"$('#table4812363024-77237').dataTable()\");\n",
       "    \n",
       "jQuery.extend( jQuery.fn.dataTableExt.oSort, {\n",
       "    \"optionalnum-asc\": astropy_sort_num,\n",
       "    \"optionalnum-desc\": function (a,b) { return -astropy_sort_num(a, b); }\n",
       "});\n",
       "\n",
       "    $('#table4812363024-77237').dataTable({\n",
       "        order: [],\n",
       "        pageLength: 50,\n",
       "        lengthMenu: [[10, 25, 50, 100, 500, 1000, -1], [10, 25, 50, 100, 500, 1000, 'All']],\n",
       "        pagingType: \"full_numbers\",\n",
       "        columnDefs: [{targets: [0, 2, 3, 4, 5, 6, 7, 8, 9, 10, 11, 12, 13, 14, 15, 16, 17, 18, 19], type: \"optionalnum\"}]\n",
       "    });\n",
       "});\n",
       "</script>\n"
      ],
      "text/plain": [
       "<IPython.core.display.HTML object>"
      ]
     },
     "execution_count": 11,
     "metadata": {},
     "output_type": "execute_result"
    }
   ],
   "source": [
    "xid.show_in_notebook()"
   ]
  },
  {
   "cell_type": "code",
   "execution_count": 12,
   "metadata": {},
   "outputs": [],
   "source": [
    "#Add to the photometric table. \n",
    "for band in [\"u\",\"g\",\"r\",\"i\",\"z\"]:\n",
    "    phot['{} (SDSS DR18)'.format(band)] = xid[band]\n",
    "    phot['{}_err (SDSS DR18)'.format(band)] = xid['Err_'+band]\n",
    "    cols.extend(['{} (SDSS DR18)'.format(band), '{}_err (SDSS DR18)'.format(band)])"
   ]
  },
  {
   "cell_type": "code",
   "execution_count": 13,
   "metadata": {},
   "outputs": [],
   "source": [
    "#Save the photometry file. \n",
    "phot.filled().write(\"phot.dat\", format='ascii.no_header', overwrite=True)"
   ]
  },
  {
   "cell_type": "code",
   "execution_count": 14,
   "metadata": {},
   "outputs": [],
   "source": [
    "#Save the number of bands we are using. \n",
    "cato = open(\"nchan.txt\",\"w\")\n",
    "cato.write(\"{}\\n\".format(len(cols[::2])))\n",
    "cato.close()"
   ]
  },
  {
   "cell_type": "code",
   "execution_count": 15,
   "metadata": {},
   "outputs": [],
   "source": [
    "filters = {\n",
    "    'w1mpro (CatWISE)'       : {\"bname\":\"real_wise_band_1\",\"norm\":1,\"zp\":306.681},\n",
    "    'w2mpro (CatWISE)'       : {\"bname\":\"real_wise_band_2\",\"norm\":1,\"zp\":170.663},\n",
    "    'w3mpro'                 : {\"bname\":\"real_wise_band_3\",\"norm\":1,\"zp\":29.0448},\n",
    "    'w4mpro'                 : {\"bname\":\"real_wise_band_4\",\"norm\":1,\"zp\":8.2839},\n",
    "    'gMeanPSFMag (PS1)'      : {\"bname\":\"gp1\",\"norm\":3,\"zp\":3631},\n",
    "    'rMeanPSFMag (PS1)'      : {\"bname\":\"rp1\",\"norm\":3,\"zp\":3631},\n",
    "    'iMeanPSFMag (PS1)'      : {\"bname\":\"ip1\",\"norm\":3,\"zp\":3631},\n",
    "    'zMeanPSFMag (PS1)'      : {\"bname\":\"zp1\",\"norm\":3,\"zp\":3631},\n",
    "    'yMeanPSFMag (PS1)'      : {\"bname\":\"yp1\",\"norm\":3,\"zp\":3631},\n",
    "    'gm (Legacy DR10)'       : {\"bname\":\"DECAM_g\",\"norm\":3,\"zp\":3631},\n",
    "    'rm (Legacy DR10)'       : {\"bname\":\"DECAM_r\",\"norm\":3,\"zp\":3631},\n",
    "    'im (Legacy DR10)'       : {\"bname\":\"DECAM_i\",\"norm\":3,\"zp\":3631},\n",
    "    'zm (Legacy DR10)'       : {\"bname\":\"DECAM_z\",\"norm\":3,\"zp\":3631},\n",
    "    'ypetromag (VHS DR5)'    : {\"bname\":\"vistaY\" ,\"norm\":3,\"zp\":3631},\n",
    "    'jpetromag (VHS DR5)'    : {\"bname\":\"vistaJ\" ,\"norm\":3,\"zp\":3631},\n",
    "    'hpetromag (VHS DR5)'    : {\"bname\":\"vistaH\" ,\"norm\":3,\"zp\":3631},\n",
    "    'kspetromag (VHS DR5)'   : {\"bname\":\"vistaKs\" ,\"norm\":3,\"zp\":3631},\n",
    "    'ypetromag (UKIDSS DR11)': {\"bname\":\"ukidssy\" ,\"norm\":3,\"zp\":3631},\n",
    "    'jpetromag (UKIDSS DR11)': {\"bname\":\"ukidssj\" ,\"norm\":3,\"zp\":3631},\n",
    "    'hpetromag (UKIDSS DR11)': {\"bname\":\"ukidssh\" ,\"norm\":3,\"zp\":3631},\n",
    "    'kpetromag (UKIDSS DR11)': {\"bname\":\"ukidssk\" ,\"norm\":3,\"zp\":3631},\n",
    "    'targeted r mag'         : {\"bname\":\"sdssr\",\"norm\":3,\"zp\":3631},\n",
    "    'targeted g mag'         : {\"bname\":\"sdssg\",\"norm\":3,\"zp\":3631},\n",
    "    'targeted J mag'         : {\"bname\":\"jband\",\"norm\":1,\"zp\":1631.00},\n",
    "    'targeted H mag'         : {\"bname\":\"hband\",\"norm\":1,\"zp\":1024.00},\n",
    "    'targeted KS mag'        : {\"bname\":\"kband\",\"norm\":1,\"zp\":675.70},\n",
    "    'i1mag'                  : {\"bname\":\"IRAC_ch1_total_response\",\"norm\":2,\"zp\":277.50},\n",
    "    'i2mag'                  : {\"bname\":\"IRAC_ch2_total_response\",\"norm\":2,\"zp\":179.50},\n",
    "    'u (SDSS DR18)'          : {\"bname\":\"sdssu\",\"norm\":3,\"zp\":3631.},\n",
    "    'g (SDSS DR18)'          : {\"bname\":\"sdssg\",\"norm\":3,\"zp\":3631.},\n",
    "    'r (SDSS DR18)'          : {\"bname\":\"sdssr\",\"norm\":3,\"zp\":3631.},\n",
    "    'i (SDSS DR18)'          : {\"bname\":\"sdssi\",\"norm\":3,\"zp\":3631.},\n",
    "    'z (SDSS DR18)'          : {\"bname\":\"sdssz\",\"norm\":3,\"zp\":3631.},\n",
    "}"
   ]
  },
  {
   "cell_type": "code",
   "execution_count": 16,
   "metadata": {},
   "outputs": [],
   "source": [
    "#Write the bandmag.dat file. \n",
    "cato = open(\"bandmag.dat\",\"w\")\n",
    "cato.write(\"##\\n\")\n",
    "cato.write(\"#Filter Name                   Norm       Zero Point\\n\")\n",
    "cato.write(\"##\\n\")\n",
    "for col in cols[::2]:\n",
    "    filt = filters[col]\n",
    "    cato.write(\"{:30s} {} {:18.3f}\\n\".format(filt['bname'], filt['norm'], filt['zp']))\n",
    "cato.close()"
   ]
  },
  {
   "cell_type": "code",
   "execution_count": 17,
   "metadata": {},
   "outputs": [
    {
     "name": "stdout",
     "output_type": "stream",
     "text": [
      "gfortran -ffixed-line-length-none -std=legacy  -o single single.f kca_agn_logred.f my_nnls_2.f\n"
     ]
    },
    {
     "name": "stderr",
     "output_type": "stream",
     "text": [
      "my_nnls_2.f:709:43:\n",
      "\n",
      "  709 |       CALL H12(1,NPP1,NPP1+1,M,A(1,J),1,UP,DUMMY,1,1,0)\n",
      "      |                                           1\n",
      "Warning: Rank mismatch in argument 'c' at (1) (rank-1 and scalar)\n",
      "-macosx_version_min has been renamed to -macos_version_min\n",
      "ld: warning: ignoring duplicate libraries: '-lemutls_w', '-lgcc'\n"
     ]
    },
    {
     "name": "stdout",
     "output_type": "stream",
     "text": [
      " Reading Filters and Setting Normalizations\n",
      " setting up           24  bands \n",
      " corfac            1   5.6649139083033955        3.2916844579120621     \n",
      " corfac            2   5.8982764137547319        4.5427003364803635     \n",
      " corfac            3   4.6550266769077489        10.565650389253411     \n",
      " corfac            4   18.793446753997685        21.915713028010327     \n",
      " corfac            5  0.13505979666561796        1.0233348001986966     \n",
      " corfac            6   8.6256448618938678E-002   1.2534744183920743     \n",
      " corfac            7   6.0684997044566251E-002   1.6374135228454443     \n",
      " corfac            8   7.4343378607146474E-002   2.1363434728906494     \n",
      " corfac            9   55.017765649992683        1.0300409041343779     \n",
      " corfac           10   39.648644104962962        1.2474238038790908     \n",
      " corfac           11   22.149156435654518        1.6290120067928586     \n",
      " corfac           12   28.236630086972653        2.1985281057296850     \n",
      " corfac           13   7.8830776602735648       0.61404817823967395     \n",
      " corfac           14   7.0018738511324639       0.46259038179778089     \n",
      " corfac           15   7.6531843169079092        1.2285286846915080     \n",
      " corfac           16   6.5848238789418021        1.6389542143490212     \n",
      " corfac           17   8.2802521621269012        2.1521756687260822     \n",
      " corfac           18   11.115880324175206        3.5505565742932546     \n",
      " corfac           19   9.5938459525973556        4.4930322066763804     \n",
      " corfac           20   22.684384289442328       0.34959271125749874     \n",
      " corfac           21   7.0018738511324639       0.46259038179778089     \n",
      " corfac           22   7.8830776602735648       0.61404817823967395     \n",
      " corfac           23   11.341114860213773       0.74711551424258160     \n",
      " corfac           24   68.372459388567094       0.88977913435739997     \n",
      " done setting up bands \n",
      " Reading Templates \n",
      " Normalizing Templates to 10**10 L_sun\n",
      " alpha(           1 ) =    277.16226956473207     \n",
      " alpha(           2 ) =    1363.6879140955218     \n",
      " alpha(           3 ) =    1471.3376651311860     \n",
      " alpha(           4 ) =    716.26662017163790     \n",
      " alpha(           5 ) =    277.16226956473207     \n"
     ]
    },
    {
     "name": "stderr",
     "output_type": "stream",
     "text": [
      " W0019-1046                    10\n",
      " W0116-0505                    15\n",
      " W0204-0506                    15\n",
      " W0220+0137                    13\n",
      " W0831+0140                    12\n",
      "Note: The following floating-point exceptions are signalling: IEEE_INVALID_FLAG IEEE_DIVIDE_BY_ZERO IEEE_UNDERFLOW_FLAG\n"
     ]
    },
    {
     "data": {
      "text/plain": [
       "0"
      ]
     },
     "execution_count": 17,
     "metadata": {},
     "output_type": "execute_result"
    }
   ],
   "source": [
    "subprocess.call(\"make single\", shell=True)\n",
    "subprocess.call(\"./single\")"
   ]
  },
  {
   "cell_type": "code",
   "execution_count": 18,
   "metadata": {},
   "outputs": [
    {
     "name": "stdout",
     "output_type": "stream",
     "text": [
      "gfortran -ffixed-line-length-none -std=legacy  -o double double.f kca_agn_logred.f my_nnls_2.f\n"
     ]
    },
    {
     "name": "stderr",
     "output_type": "stream",
     "text": [
      "my_nnls_2.f:709:43:\n",
      "\n",
      "  709 |       CALL H12(1,NPP1,NPP1+1,M,A(1,J),1,UP,DUMMY,1,1,0)\n",
      "      |                                           1\n",
      "Warning: Rank mismatch in argument 'c' at (1) (rank-1 and scalar)\n",
      "-macosx_version_min has been renamed to -macos_version_min\n",
      "ld: warning: ignoring duplicate libraries: '-lemutls_w', '-lgcc'\n"
     ]
    },
    {
     "name": "stdout",
     "output_type": "stream",
     "text": [
      " Reading Filters and Setting Normalizations\n",
      " setting up           24  bands \n",
      " corfac            1   5.6649139083033955        3.2916844579120621     \n",
      " corfac            2   5.8982764137547319        4.5427003364803635     \n",
      " corfac            3   4.6550266769077489        10.565650389253411     \n",
      " corfac            4   18.793446753997685        21.915713028010327     \n",
      " corfac            5  0.13505979666561796        1.0233348001986966     \n",
      " corfac            6   8.6256448618938678E-002   1.2534744183920743     \n",
      " corfac            7   6.0684997044566251E-002   1.6374135228454443     \n",
      " corfac            8   7.4343378607146474E-002   2.1363434728906494     \n",
      " corfac            9   55.017765649992683        1.0300409041343779     \n",
      " corfac           10   39.648644104962962        1.2474238038790908     \n",
      " corfac           11   22.149156435654518        1.6290120067928586     \n",
      " corfac           12   28.236630086972653        2.1985281057296850     \n",
      " corfac           13   7.8830776602735648       0.61404817823967395     \n",
      " corfac           14   7.0018738511324639       0.46259038179778089     \n",
      " corfac           15   7.6531843169079092        1.2285286846915080     \n",
      " corfac           16   6.5848238789418021        1.6389542143490212     \n",
      " corfac           17   8.2802521621269012        2.1521756687260822     \n",
      " corfac           18   11.115880324175206        3.5505565742932546     \n",
      " corfac           19   9.5938459525973556        4.4930322066763804     \n",
      " corfac           20   22.684384289442328       0.34959271125749874     \n",
      " corfac           21   7.0018738511324639       0.46259038179778089     \n",
      " corfac           22   7.8830776602735648       0.61404817823967395     \n",
      " corfac           23   11.341114860213773       0.74711551424258160     \n",
      " corfac           24   68.372459388567094       0.88977913435739997     \n",
      " done setting up bands \n",
      " Reading Templates \n",
      " Normalizing Templates to 10**10 L_sun\n",
      " alpha(           1 ) =    277.16226956473207     \n",
      " alpha(           2 ) =    1363.6879140955218     \n",
      " alpha(           3 ) =    1471.3376651311860     \n",
      " alpha(           4 ) =    716.26662017163790     \n",
      " alpha(           5 ) =    277.16226956473207     \n"
     ]
    },
    {
     "name": "stderr",
     "output_type": "stream",
     "text": [
      " W0019-1046                    10\n",
      " W0116-0505                    15\n",
      " W0204-0506                    15\n",
      " W0220+0137                    13\n",
      " W0831+0140                    12\n",
      "Note: The following floating-point exceptions are signalling: IEEE_INVALID_FLAG IEEE_DIVIDE_BY_ZERO IEEE_UNDERFLOW_FLAG\n"
     ]
    },
    {
     "data": {
      "text/plain": [
       "0"
      ]
     },
     "execution_count": 18,
     "metadata": {},
     "output_type": "execute_result"
    }
   ],
   "source": [
    "subprocess.call(\"make double\", shell=True)\n",
    "subprocess.call(\"./double\")"
   ]
  },
  {
   "cell_type": "code",
   "execution_count": 19,
   "metadata": {},
   "outputs": [],
   "source": [
    "os.chdir(\"f_stat\")\n",
    "subprocess.call(\"python compare.py\", shell=True)\n",
    "os.chdir(\"..\")"
   ]
  },
  {
   "cell_type": "code",
   "execution_count": 20,
   "metadata": {},
   "outputs": [
    {
     "data": {
      "text/plain": [
       "<SkyCoord (ICRS): (ra, dec) in deg\n",
       "    [(  4.8619973, -10.7759146), ( 19.0058816,  -5.0844703),\n",
       "     ( 31.1921967,  -5.1113429), ( 35.2171736,   1.6198881),\n",
       "     (127.9718723,   1.6696591)]>"
      ]
     },
     "execution_count": 20,
     "metadata": {},
     "output_type": "execute_result"
    }
   ],
   "source": [
    "bhd_c"
   ]
  }
 ],
 "metadata": {
  "kernelspec": {
   "display_name": "stenv",
   "language": "python",
   "name": "python3"
  },
  "language_info": {
   "codemirror_mode": {
    "name": "ipython",
    "version": 3
   },
   "file_extension": ".py",
   "mimetype": "text/x-python",
   "name": "python",
   "nbconvert_exporter": "python",
   "pygments_lexer": "ipython3",
   "version": "3.11.3"
  }
 },
 "nbformat": 4,
 "nbformat_minor": 2
}
