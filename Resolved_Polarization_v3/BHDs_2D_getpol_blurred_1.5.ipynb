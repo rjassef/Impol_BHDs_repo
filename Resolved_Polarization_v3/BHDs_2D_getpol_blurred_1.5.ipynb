{
 "cells": [
  {
   "cell_type": "code",
   "execution_count": 3,
   "metadata": {},
   "outputs": [],
   "source": [
    "import numpy as np\n",
    "from resolved_pol import ResolvedPol"
   ]
  },
  {
   "cell_type": "code",
   "execution_count": 4,
   "metadata": {},
   "outputs": [],
   "source": [
    "#no_processing = True\n",
    "no_processing = False\n",
    "stamps_folder=\"stamps_blurred_1.5\"\n",
    "blurr_PSF_FWHM=1.5"
   ]
  },
  {
   "cell_type": "markdown",
   "metadata": {},
   "source": [
    "## W0019-1046"
   ]
  },
  {
   "cell_type": "code",
   "execution_count": 5,
   "metadata": {},
   "outputs": [
    {
     "name": "stderr",
     "output_type": "stream",
     "text": [
      "mkdir: work: File exists\n"
     ]
    },
    {
     "name": "stdout",
     "output_type": "stream",
     "text": [
      "\n",
      "#######\n",
      "3565057.60201\n",
      "#######\n",
      "\n",
      "Matching to image science_reduced_img.W0019-1046.60201.R_SPECIAL.chip1.8.fits.\n",
      "\n",
      "#######\n",
      "3565577.60202\n",
      "#######\n",
      "\n",
      "Matching to image science_reduced_img.W0019-1046.60202.R_SPECIAL.chip1.1.fits.\n",
      "\n",
      "#######\n",
      "All\n",
      "#######\n",
      "\n",
      "Matching to image science_reduced_img.W0019-1046.60201.R_SPECIAL.chip1.8.fits.\n"
     ]
    }
   ],
   "source": [
    "bhd = ResolvedPol(\"W0019-1046\", \"R_SPECIAL\", star_coords=(1470.5, 84),stamps_folder=stamps_folder)\n",
    "bhd.get_pol(no_processing=no_processing, blurr_PSF_FWHM=blurr_PSF_FWHM, show_diagnostics=False)"
   ]
  },
  {
   "cell_type": "markdown",
   "metadata": {},
   "source": [
    "## W0204-0506"
   ]
  },
  {
   "cell_type": "code",
   "execution_count": 7,
   "metadata": {},
   "outputs": [
    {
     "name": "stderr",
     "output_type": "stream",
     "text": [
      "mkdir: stamps_blurred_1.5: File exists\n",
      "mkdir: work: File exists\n"
     ]
    },
    {
     "name": "stdout",
     "output_type": "stream",
     "text": [
      "\n",
      "#######\n",
      "3565504.60209\n",
      "#######\n",
      "\n",
      "Matching to image science_reduced_img.W0204-0506.60209.R_SPECIAL.chip1.3.fits.\n",
      "\n",
      "#######\n",
      "3565580.60207\n",
      "#######\n",
      "\n",
      "Matching to image science_reduced_img.W0204-0506.60207.R_SPECIAL.chip1.7.fits.\n",
      "\n",
      "#######\n",
      "All\n",
      "#######\n",
      "\n",
      "Matching to image science_reduced_img.W0204-0506.60209.R_SPECIAL.chip1.3.fits.\n"
     ]
    }
   ],
   "source": [
    "bhd = ResolvedPol(\"W0204-0506\", \"R_SPECIAL\", star_coords=(1086.5, 222.5),stamps_folder=stamps_folder)\n",
    "bhd.get_pol(no_processing=no_processing, blurr_PSF_FWHM=blurr_PSF_FWHM, show_diagnostics=False)"
   ]
  },
  {
   "cell_type": "markdown",
   "metadata": {},
   "source": [
    "## W0220+0137"
   ]
  },
  {
   "cell_type": "code",
   "execution_count": 8,
   "metadata": {},
   "outputs": [
    {
     "name": "stderr",
     "output_type": "stream",
     "text": [
      "mkdir: stamps_blurred_1.5: File exists\n",
      "mkdir: work: File exists\n"
     ]
    },
    {
     "name": "stdout",
     "output_type": "stream",
     "text": [
      "\n",
      "#######\n",
      "3565583.60201\n",
      "#######\n",
      "\n",
      "Matching to image science_reduced_img.W0220+0137.60201.R_SPECIAL.chip1.4.fits.\n",
      "\n",
      "#######\n",
      "3565623.60207\n",
      "#######\n",
      "\n",
      "Matching to image science_reduced_img.W0220+0137.60207.R_SPECIAL.chip1.8.fits.\n",
      "\n",
      "#######\n",
      "All\n",
      "#######\n",
      "\n",
      "Matching to image science_reduced_img.W0220+0137.60201.R_SPECIAL.chip1.4.fits.\n"
     ]
    }
   ],
   "source": [
    "bhd = ResolvedPol(\"W0220+0137\", \"R_SPECIAL\", star_coords=(1600, 262),stamps_folder=stamps_folder)\n",
    "bhd.get_pol(no_processing=no_processing, blurr_PSF_FWHM=blurr_PSF_FWHM, show_diagnostics=False)"
   ]
  },
  {
   "cell_type": "markdown",
   "metadata": {},
   "source": [
    "## W0831+0140"
   ]
  },
  {
   "cell_type": "code",
   "execution_count": 9,
   "metadata": {},
   "outputs": [
    {
     "name": "stderr",
     "output_type": "stream",
     "text": [
      "mkdir: stamps_blurred_1.5: File exists\n",
      "mkdir: work: File exists\n"
     ]
    },
    {
     "name": "stdout",
     "output_type": "stream",
     "text": [
      "\n",
      "#######\n",
      "3565626.60290\n",
      "#######\n",
      "\n",
      "Matching to image science_reduced_img.W0831+0140.60290.R_SPECIAL.chip1.8.fits.\n",
      "\n",
      "#######\n",
      "3565639.60291\n",
      "#######\n",
      "\n",
      "Matching to image science_reduced_img.W0831+0140.60291.R_SPECIAL.chip1.8.fits.\n",
      "\n",
      "#######\n",
      "All\n",
      "#######\n",
      "\n",
      "Matching to image science_reduced_img.W0831+0140.60290.R_SPECIAL.chip1.8.fits.\n"
     ]
    }
   ],
   "source": [
    "bhd = ResolvedPol(\"W0831+0140\", \"R_SPECIAL\", star_coords=(1010, 404),stamps_folder=stamps_folder)\n",
    "bhd.get_pol(no_processing=no_processing, blurr_PSF_FWHM=blurr_PSF_FWHM, show_diagnostics=False)"
   ]
  },
  {
   "cell_type": "markdown",
   "metadata": {},
   "source": [
    "## W0116-0505"
   ]
  },
  {
   "cell_type": "markdown",
   "metadata": {},
   "source": [
    "#### $R_{\\rm SPECIAL}$"
   ]
  },
  {
   "cell_type": "code",
   "execution_count": 10,
   "metadata": {},
   "outputs": [
    {
     "name": "stderr",
     "output_type": "stream",
     "text": [
      "mkdir: stamps_blurred_1.5: File exists\n",
      "mkdir: work: File exists\n"
     ]
    },
    {
     "name": "stdout",
     "output_type": "stream",
     "text": [
      "\n",
      "#######\n",
      "2886622.59137\n",
      "#######\n",
      "\n",
      "Matching to image science_reduced_img.W0116-0505.59137.R_SPECIAL.chip1.8.fits.\n",
      "\n",
      "#######\n",
      "2886765.59136\n",
      "#######\n",
      "\n",
      "Matching to image science_reduced_img.W0116-0505.59136.R_SPECIAL.chip1.1.fits.\n",
      "\n",
      "#######\n",
      "2886768.59135\n",
      "#######\n",
      "\n",
      "Matching to image science_reduced_img.W0116-0505.59135.R_SPECIAL.chip1.3.fits.\n",
      "\n",
      "#######\n",
      "2886772.59136\n",
      "#######\n",
      "\n",
      "Matching to image science_reduced_img.W0116-0505.59136.R_SPECIAL.chip1.16.fits.\n",
      "\n",
      "#######\n",
      "All\n",
      "#######\n",
      "\n",
      "Matching to image science_reduced_img.W0116-0505.59137.R_SPECIAL.chip1.8.fits.\n"
     ]
    }
   ],
   "source": [
    "bhd = ResolvedPol(\"W0116-0505\", \"R_SPECIAL\", star_coords=(1398, 413),stamps_folder=stamps_folder)\n",
    "bhd.get_pol(no_processing=no_processing, blurr_PSF_FWHM=blurr_PSF_FWHM, show_diagnostics=False)"
   ]
  },
  {
   "cell_type": "markdown",
   "metadata": {},
   "source": [
    "#### $I_{\\rm BESS}$"
   ]
  },
  {
   "cell_type": "code",
   "execution_count": 11,
   "metadata": {},
   "outputs": [
    {
     "name": "stderr",
     "output_type": "stream",
     "text": [
      "mkdir: stamps_blurred_1.5: File exists\n",
      "mkdir: work: File exists\n"
     ]
    },
    {
     "name": "stdout",
     "output_type": "stream",
     "text": [
      "\n",
      "#######\n",
      "3564862.60146\n",
      "#######\n",
      "\n",
      "Matching to image science_reduced_img.W0116-0505.60146.I_BESS.chip1.8.fits.\n",
      "\n",
      "#######\n",
      "3564862.60148\n",
      "#######\n",
      "\n",
      "Matching to image science_reduced_img.W0116-0505.60148.I_BESS.chip1.14.fits.\n",
      "\n",
      "#######\n",
      "3564862.60201\n",
      "#######\n",
      "\n",
      "Matching to image science_reduced_img.W0116-0505.60201.I_BESS.chip1.2.fits.\n",
      "\n",
      "#######\n",
      "3565005.60148\n",
      "#######\n",
      "\n",
      "Matching to image science_reduced_img.W0116-0505.60148.I_BESS.chip1.4.fits.\n",
      "\n",
      "#######\n",
      "All\n",
      "#######\n",
      "\n",
      "Matching to image science_reduced_img.W0116-0505.60201.I_BESS.chip1.2.fits.\n"
     ]
    }
   ],
   "source": [
    "bhd = ResolvedPol(\"W0116-0505\", \"I_BESS\", star_coords=(1398, 413),stamps_folder=stamps_folder)\n",
    "bhd.get_pol(no_processing=no_processing, blurr_PSF_FWHM=blurr_PSF_FWHM, show_diagnostics=False)"
   ]
  },
  {
   "cell_type": "markdown",
   "metadata": {},
   "source": [
    "#### $v_{\\rm High}$"
   ]
  },
  {
   "cell_type": "code",
   "execution_count": 12,
   "metadata": {},
   "outputs": [
    {
     "name": "stderr",
     "output_type": "stream",
     "text": [
      "mkdir: stamps_blurred_1.5: File exists\n",
      "mkdir: work: File exists\n"
     ]
    },
    {
     "name": "stdout",
     "output_type": "stream",
     "text": [
      "\n",
      "#######\n",
      "3564847.60143\n",
      "#######\n",
      "\n",
      "Matching to image science_reduced_img.W0116-0505.60143.v_HIGH.chip1.3.fits.\n"
     ]
    }
   ],
   "source": [
    "bhd = ResolvedPol(\"W0116-0505\", \"v_HIGH\", star_coords=(1398, 413),stamps_folder=stamps_folder)\n",
    "bhd.get_pol(no_processing=no_processing, blurr_PSF_FWHM=blurr_PSF_FWHM, show_diagnostics=False)"
   ]
  }
 ],
 "metadata": {
  "kernelspec": {
   "display_name": "stenv",
   "language": "python",
   "name": "python3"
  },
  "language_info": {
   "codemirror_mode": {
    "name": "ipython",
    "version": 3
   },
   "file_extension": ".py",
   "mimetype": "text/x-python",
   "name": "python",
   "nbconvert_exporter": "python",
   "pygments_lexer": "ipython3",
   "version": "3.11.3"
  }
 },
 "nbformat": 4,
 "nbformat_minor": 2
}
