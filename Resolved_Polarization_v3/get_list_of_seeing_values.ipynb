{
 "cells": [
  {
   "cell_type": "code",
   "execution_count": 1,
   "metadata": {},
   "outputs": [],
   "source": [
    "import numpy as np\n",
    "from resolved_pol import ResolvedPol"
   ]
  },
  {
   "cell_type": "code",
   "execution_count": 2,
   "metadata": {},
   "outputs": [],
   "source": [
    "no_processing = True\n",
    "#no_processing = False\n",
    "stamps_folder=\"stamps_blurred_1.0\"\n",
    "blurr_PSF_FWHM=1.0"
   ]
  },
  {
   "cell_type": "code",
   "execution_count": 3,
   "metadata": {},
   "outputs": [],
   "source": [
    "objects = [\n",
    "    \"W0019-1046\",\n",
    "    \"W0116-0505\",\n",
    "    \"W0204-0506\",\n",
    "    \"W0220+0137\",\n",
    "    \"W0831+0140\",\n",
    "]\n",
    "bands = dict()\n",
    "for obj in objects:\n",
    "    bands[obj] = [\"R_SPECIAL\"]\n",
    "    if obj==\"W0116-0505\":\n",
    "        bands[obj].extend([\"I_BESS\",\"v_HIGH\"])"
   ]
  },
  {
   "cell_type": "code",
   "execution_count": 4,
   "metadata": {},
   "outputs": [],
   "source": [
    "star_coords = {\n",
    "    \"W0019-1046\": (1470.5,  84.0),\n",
    "    \"W0204-0506\": (1086.5, 222.5),\n",
    "    \"W0220+0137\": (1600.0, 262.0),\n",
    "    \"W0831+0140\": (1010.0, 404.0),\n",
    "    \"W0116-0505\": (1398.0, 413.0),\n",
    "}"
   ]
  },
  {
   "cell_type": "code",
   "execution_count": 5,
   "metadata": {},
   "outputs": [
    {
     "name": "stderr",
     "output_type": "stream",
     "text": [
      "mkdir: stamps: File exists\n",
      "mkdir: work: File exists\n",
      "mkdir: stamps: File exists\n",
      "mkdir: work: File exists\n",
      "mkdir: stamps: File exists\n",
      "mkdir: work: File exists\n",
      "mkdir: stamps: File exists\n",
      "mkdir: work: File exists\n",
      "mkdir: stamps: File exists\n",
      "mkdir: work: File exists\n",
      "mkdir: stamps: File exists\n",
      "mkdir: work: File exists\n",
      "mkdir: stamps: File exists\n",
      "mkdir: work: File exists\n"
     ]
    }
   ],
   "source": [
    "cato = open(\"All_seeing_values.txt\",\"w\")\n",
    "for obj in objects:\n",
    "    for band in bands[obj]:\n",
    "        bhd = ResolvedPol(obj, band, star_coords=star_coords[obj])\n",
    "        for key in bhd.seeing.keys():\n",
    "            cato.write(\"{} {:.2f} {}\\n\".format(obj, bhd.seeing[key], key))\n",
    "cato.close()"
   ]
  }
 ],
 "metadata": {
  "kernelspec": {
   "display_name": "stenv",
   "language": "python",
   "name": "python3"
  },
  "language_info": {
   "codemirror_mode": {
    "name": "ipython",
    "version": 3
   },
   "file_extension": ".py",
   "mimetype": "text/x-python",
   "name": "python",
   "nbconvert_exporter": "python",
   "pygments_lexer": "ipython3",
   "version": "3.11.3"
  }
 },
 "nbformat": 4,
 "nbformat_minor": 2
}
